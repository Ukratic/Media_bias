{
 "cells": [
  {
   "cell_type": "code",
   "execution_count": 3,
   "metadata": {},
   "outputs": [],
   "source": [
    "import pandas as pd\n",
    "import numpy as np\n",
    "\n",
    "from sklearn.feature_extraction.text import CountVectorizer\n",
    "from sklearn.decomposition import LatentDirichletAllocation"
   ]
  },
  {
   "cell_type": "code",
   "execution_count": 4,
   "metadata": {},
   "outputs": [
    {
     "data": {
      "text/html": [
       "<div>\n",
       "<style scoped>\n",
       "    .dataframe tbody tr th:only-of-type {\n",
       "        vertical-align: middle;\n",
       "    }\n",
       "\n",
       "    .dataframe tbody tr th {\n",
       "        vertical-align: top;\n",
       "    }\n",
       "\n",
       "    .dataframe thead th {\n",
       "        text-align: right;\n",
       "    }\n",
       "</style>\n",
       "<table border=\"1\" class=\"dataframe\">\n",
       "  <thead>\n",
       "    <tr style=\"text-align: right;\">\n",
       "      <th></th>\n",
       "      <th>Date</th>\n",
       "      <th>Journal</th>\n",
       "      <th>Article</th>\n",
       "    </tr>\n",
       "  </thead>\n",
       "  <tbody>\n",
       "    <tr>\n",
       "      <th>0</th>\n",
       "      <td>23/02/2022</td>\n",
       "      <td>Le Monde</td>\n",
       "      <td>Présidentielle 2022 : sur fond de crise ukrain...</td>\n",
       "    </tr>\n",
       "    <tr>\n",
       "      <th>1</th>\n",
       "      <td>23/02/2022</td>\n",
       "      <td>Le Monde</td>\n",
       "      <td>Retour au septennat, législatives à mi-mandat,...</td>\n",
       "    </tr>\n",
       "    <tr>\n",
       "      <th>2</th>\n",
       "      <td>23/02/2022</td>\n",
       "      <td>Le Monde</td>\n",
       "      <td>Jean-Pierre Chevènement va apporter son soutie...</td>\n",
       "    </tr>\n",
       "    <tr>\n",
       "      <th>3</th>\n",
       "      <td>23/02/2022</td>\n",
       "      <td>Le Monde</td>\n",
       "      <td>Marine Le Pen peine encore à trouver ses parra...</td>\n",
       "    </tr>\n",
       "    <tr>\n",
       "      <th>4</th>\n",
       "      <td>23/02/2022</td>\n",
       "      <td>Le Monde</td>\n",
       "      <td>Sibyle Veil : « J’ai choisi de nommer Adèle Va...</td>\n",
       "    </tr>\n",
       "  </tbody>\n",
       "</table>\n",
       "</div>"
      ],
      "text/plain": [
       "         Date   Journal                                            Article\n",
       "0  23/02/2022  Le Monde  Présidentielle 2022 : sur fond de crise ukrain...\n",
       "1  23/02/2022  Le Monde  Retour au septennat, législatives à mi-mandat,...\n",
       "2  23/02/2022  Le Monde  Jean-Pierre Chevènement va apporter son soutie...\n",
       "3  23/02/2022  Le Monde  Marine Le Pen peine encore à trouver ses parra...\n",
       "4  23/02/2022  Le Monde  Sibyle Veil : « J’ai choisi de nommer Adèle Va..."
      ]
     },
     "execution_count": 4,
     "metadata": {},
     "output_type": "execute_result"
    }
   ],
   "source": [
    "data = pd.read_csv(\"scraping/full.csv\", sep=\";\", encoding=\"ANSI\")\n",
    "data.head()"
   ]
  },
  {
   "cell_type": "code",
   "execution_count": 3,
   "metadata": {},
   "outputs": [
    {
     "data": {
      "text/plain": [
       "array(['Le Monde', 'Le Figaro', 'C News', '20 minutes', 'Les Echos',\n",
       "       'France Info', 'Nouvel Obs', \"L'Express\", 'BFM TV', 'Marianne',\n",
       "       'La Croix', 'Le Point', 'Valeurs Actuelles', 'Libération',\n",
       "       \"L'Humanité\", nan], dtype=object)"
      ]
     },
     "execution_count": 3,
     "metadata": {},
     "output_type": "execute_result"
    }
   ],
   "source": [
    "# 15 journals\n",
    "data['Journal'].unique()"
   ]
  },
  {
   "cell_type": "code",
   "execution_count": 5,
   "metadata": {},
   "outputs": [
    {
     "data": {
      "text/html": [
       "<div>\n",
       "<style scoped>\n",
       "    .dataframe tbody tr th:only-of-type {\n",
       "        vertical-align: middle;\n",
       "    }\n",
       "\n",
       "    .dataframe tbody tr th {\n",
       "        vertical-align: top;\n",
       "    }\n",
       "\n",
       "    .dataframe thead th {\n",
       "        text-align: right;\n",
       "    }\n",
       "</style>\n",
       "<table border=\"1\" class=\"dataframe\">\n",
       "  <thead>\n",
       "    <tr style=\"text-align: right;\">\n",
       "      <th></th>\n",
       "      <th>Date</th>\n",
       "      <th>Journal</th>\n",
       "      <th>Article</th>\n",
       "    </tr>\n",
       "  </thead>\n",
       "  <tbody>\n",
       "    <tr>\n",
       "      <th>count</th>\n",
       "      <td>56281</td>\n",
       "      <td>56281</td>\n",
       "      <td>56281</td>\n",
       "    </tr>\n",
       "    <tr>\n",
       "      <th>unique</th>\n",
       "      <td>NaN</td>\n",
       "      <td>15</td>\n",
       "      <td>55946</td>\n",
       "    </tr>\n",
       "    <tr>\n",
       "      <th>top</th>\n",
       "      <td>NaN</td>\n",
       "      <td>France Info</td>\n",
       "      <td>Elon Musk rachète Twitter pour 44 milliards de...</td>\n",
       "    </tr>\n",
       "    <tr>\n",
       "      <th>freq</th>\n",
       "      <td>NaN</td>\n",
       "      <td>11483</td>\n",
       "      <td>5</td>\n",
       "    </tr>\n",
       "    <tr>\n",
       "      <th>mean</th>\n",
       "      <td>2022-03-24 07:29:28.049608448</td>\n",
       "      <td>NaN</td>\n",
       "      <td>NaN</td>\n",
       "    </tr>\n",
       "    <tr>\n",
       "      <th>min</th>\n",
       "      <td>2022-02-23 00:00:00</td>\n",
       "      <td>NaN</td>\n",
       "      <td>NaN</td>\n",
       "    </tr>\n",
       "    <tr>\n",
       "      <th>25%</th>\n",
       "      <td>2022-03-09 00:00:00</td>\n",
       "      <td>NaN</td>\n",
       "      <td>NaN</td>\n",
       "    </tr>\n",
       "    <tr>\n",
       "      <th>50%</th>\n",
       "      <td>2022-03-24 00:00:00</td>\n",
       "      <td>NaN</td>\n",
       "      <td>NaN</td>\n",
       "    </tr>\n",
       "    <tr>\n",
       "      <th>75%</th>\n",
       "      <td>2022-04-09 00:00:00</td>\n",
       "      <td>NaN</td>\n",
       "      <td>NaN</td>\n",
       "    </tr>\n",
       "    <tr>\n",
       "      <th>max</th>\n",
       "      <td>2022-04-25 00:00:00</td>\n",
       "      <td>NaN</td>\n",
       "      <td>NaN</td>\n",
       "    </tr>\n",
       "  </tbody>\n",
       "</table>\n",
       "</div>"
      ],
      "text/plain": [
       "                                 Date      Journal  \\\n",
       "count                           56281        56281   \n",
       "unique                            NaN           15   \n",
       "top                               NaN  France Info   \n",
       "freq                              NaN        11483   \n",
       "mean    2022-03-24 07:29:28.049608448          NaN   \n",
       "min               2022-02-23 00:00:00          NaN   \n",
       "25%               2022-03-09 00:00:00          NaN   \n",
       "50%               2022-03-24 00:00:00          NaN   \n",
       "75%               2022-04-09 00:00:00          NaN   \n",
       "max               2022-04-25 00:00:00          NaN   \n",
       "\n",
       "                                                  Article  \n",
       "count                                               56281  \n",
       "unique                                              55946  \n",
       "top     Elon Musk rachète Twitter pour 44 milliards de...  \n",
       "freq                                                    5  \n",
       "mean                                                  NaN  \n",
       "min                                                   NaN  \n",
       "25%                                                   NaN  \n",
       "50%                                                   NaN  \n",
       "75%                                                   NaN  \n",
       "max                                                   NaN  "
      ]
     },
     "execution_count": 5,
     "metadata": {},
     "output_type": "execute_result"
    }
   ],
   "source": [
    "# formatting datetime & dropping duplicates (ads, some headlines at several locations on websites)\n",
    "data['Date'] = pd.to_datetime(data['Date'],infer_datetime_format=True)\n",
    "data.dropna(how='any',inplace=True)\n",
    "data.drop_duplicates(inplace=True,keep='first',subset=['Journal', 'Article'])\n",
    "\n",
    "data.describe(include='all',datetime_is_numeric=True)"
   ]
  },
  {
   "cell_type": "code",
   "execution_count": 6,
   "metadata": {},
   "outputs": [
    {
     "data": {
      "text/html": [
       "<div>\n",
       "<style scoped>\n",
       "    .dataframe tbody tr th:only-of-type {\n",
       "        vertical-align: middle;\n",
       "    }\n",
       "\n",
       "    .dataframe tbody tr th {\n",
       "        vertical-align: top;\n",
       "    }\n",
       "\n",
       "    .dataframe thead th {\n",
       "        text-align: right;\n",
       "    }\n",
       "</style>\n",
       "<table border=\"1\" class=\"dataframe\">\n",
       "  <thead>\n",
       "    <tr style=\"text-align: right;\">\n",
       "      <th></th>\n",
       "      <th>Date</th>\n",
       "      <th>Journal</th>\n",
       "      <th>Article</th>\n",
       "      <th>clean_articles</th>\n",
       "    </tr>\n",
       "  </thead>\n",
       "  <tbody>\n",
       "    <tr>\n",
       "      <th>0</th>\n",
       "      <td>2022-02-23</td>\n",
       "      <td>Le Monde</td>\n",
       "      <td>Présidentielle 2022 : sur fond de crise ukrain...</td>\n",
       "      <td>présidentielle 2022 sur fond de crise ukrainie...</td>\n",
       "    </tr>\n",
       "    <tr>\n",
       "      <th>1</th>\n",
       "      <td>2022-02-23</td>\n",
       "      <td>Le Monde</td>\n",
       "      <td>Retour au septennat, législatives à mi-mandat,...</td>\n",
       "      <td>retour au septennat législatives à mi mandat p...</td>\n",
       "    </tr>\n",
       "    <tr>\n",
       "      <th>2</th>\n",
       "      <td>2022-02-23</td>\n",
       "      <td>Le Monde</td>\n",
       "      <td>Jean-Pierre Chevènement va apporter son soutie...</td>\n",
       "      <td>jean pierre chevènement va apporter son soutie...</td>\n",
       "    </tr>\n",
       "    <tr>\n",
       "      <th>3</th>\n",
       "      <td>2022-02-23</td>\n",
       "      <td>Le Monde</td>\n",
       "      <td>Marine Le Pen peine encore à trouver ses parra...</td>\n",
       "      <td>marine le pen peine encore à trouver ses parra...</td>\n",
       "    </tr>\n",
       "    <tr>\n",
       "      <th>4</th>\n",
       "      <td>2022-02-23</td>\n",
       "      <td>Le Monde</td>\n",
       "      <td>Sibyle Veil : « J’ai choisi de nommer Adèle Va...</td>\n",
       "      <td>sibyle veil j ai choisi de nommer adèle van re...</td>\n",
       "    </tr>\n",
       "  </tbody>\n",
       "</table>\n",
       "</div>"
      ],
      "text/plain": [
       "        Date   Journal                                            Article  \\\n",
       "0 2022-02-23  Le Monde  Présidentielle 2022 : sur fond de crise ukrain...   \n",
       "1 2022-02-23  Le Monde  Retour au septennat, législatives à mi-mandat,...   \n",
       "2 2022-02-23  Le Monde  Jean-Pierre Chevènement va apporter son soutie...   \n",
       "3 2022-02-23  Le Monde  Marine Le Pen peine encore à trouver ses parra...   \n",
       "4 2022-02-23  Le Monde  Sibyle Veil : « J’ai choisi de nommer Adèle Va...   \n",
       "\n",
       "                                      clean_articles  \n",
       "0  présidentielle 2022 sur fond de crise ukrainie...  \n",
       "1  retour au septennat législatives à mi mandat p...  \n",
       "2  jean pierre chevènement va apporter son soutie...  \n",
       "3  marine le pen peine encore à trouver ses parra...  \n",
       "4  sibyle veil j ai choisi de nommer adèle van re...  "
      ]
     },
     "metadata": {},
     "output_type": "display_data"
    },
    {
     "name": "stdout",
     "output_type": "stream",
     "text": [
      "Max length of sequence : 203\n"
     ]
    }
   ],
   "source": [
    "# removing punctuation but keeping special french characters, lowering\n",
    "data['clean_articles'] = data['Article'].str.replace(r\"[\\W_]+\", \" \",regex=True)\n",
    "data['clean_articles'] = data['clean_articles'].fillna('').apply(lambda x: x.lower())\n",
    "display(data.head())\n",
    "text_max_length = data.Article.map(lambda x: len(x)).max()\n",
    "print(f'Max length of sequence : {text_max_length}')"
   ]
  },
  {
   "cell_type": "code",
   "execution_count": 7,
   "metadata": {},
   "outputs": [],
   "source": [
    "import fr_core_news_md\n",
    "from spacy.lang.fr.stop_words import STOP_WORDS\n",
    "\n",
    "STOP_WORDS |= {\"l\", \"j\", \"d\"}\n",
    "# appending stopwords not taken into account because of our text preprocessing (removing apostrophes)"
   ]
  },
  {
   "cell_type": "code",
   "execution_count": 8,
   "metadata": {},
   "outputs": [
    {
     "data": {
      "text/html": [
       "<div>\n",
       "<style scoped>\n",
       "    .dataframe tbody tr th:only-of-type {\n",
       "        vertical-align: middle;\n",
       "    }\n",
       "\n",
       "    .dataframe tbody tr th {\n",
       "        vertical-align: top;\n",
       "    }\n",
       "\n",
       "    .dataframe thead th {\n",
       "        text-align: right;\n",
       "    }\n",
       "</style>\n",
       "<table border=\"1\" class=\"dataframe\">\n",
       "  <thead>\n",
       "    <tr style=\"text-align: right;\">\n",
       "      <th></th>\n",
       "      <th>Date</th>\n",
       "      <th>Journal</th>\n",
       "      <th>Article</th>\n",
       "      <th>clean_articles</th>\n",
       "      <th>token_lemma</th>\n",
       "    </tr>\n",
       "  </thead>\n",
       "  <tbody>\n",
       "    <tr>\n",
       "      <th>0</th>\n",
       "      <td>2022-02-23</td>\n",
       "      <td>Le Monde</td>\n",
       "      <td>Présidentielle 2022 : sur fond de crise ukrain...</td>\n",
       "      <td>présidentielle 2022 sur fond de crise ukrainie...</td>\n",
       "      <td>présidentiel 2022 fond crise ukrainien hidalgo...</td>\n",
       "    </tr>\n",
       "    <tr>\n",
       "      <th>1</th>\n",
       "      <td>2022-02-23</td>\n",
       "      <td>Le Monde</td>\n",
       "      <td>Retour au septennat, législatives à mi-mandat,...</td>\n",
       "      <td>retour au septennat législatives à mi mandat p...</td>\n",
       "      <td>septennat législatif mi mandat prérogative ely...</td>\n",
       "    </tr>\n",
       "    <tr>\n",
       "      <th>2</th>\n",
       "      <td>2022-02-23</td>\n",
       "      <td>Le Monde</td>\n",
       "      <td>Jean-Pierre Chevènement va apporter son soutie...</td>\n",
       "      <td>jean pierre chevènement va apporter son soutie...</td>\n",
       "      <td>jean pierre chevènement apporter soutien emman...</td>\n",
       "    </tr>\n",
       "    <tr>\n",
       "      <th>3</th>\n",
       "      <td>2022-02-23</td>\n",
       "      <td>Le Monde</td>\n",
       "      <td>Marine Le Pen peine encore à trouver ses parra...</td>\n",
       "      <td>marine le pen peine encore à trouver ses parra...</td>\n",
       "      <td>marine pen peine trouver parrainage</td>\n",
       "    </tr>\n",
       "    <tr>\n",
       "      <th>4</th>\n",
       "      <td>2022-02-23</td>\n",
       "      <td>Le Monde</td>\n",
       "      <td>Sibyle Veil : « J’ai choisi de nommer Adèle Va...</td>\n",
       "      <td>sibyle veil j ai choisi de nommer adèle van re...</td>\n",
       "      <td>sibyl veil choisir nommer adèle van reeth remp...</td>\n",
       "    </tr>\n",
       "  </tbody>\n",
       "</table>\n",
       "</div>"
      ],
      "text/plain": [
       "        Date   Journal                                            Article  \\\n",
       "0 2022-02-23  Le Monde  Présidentielle 2022 : sur fond de crise ukrain...   \n",
       "1 2022-02-23  Le Monde  Retour au septennat, législatives à mi-mandat,...   \n",
       "2 2022-02-23  Le Monde  Jean-Pierre Chevènement va apporter son soutie...   \n",
       "3 2022-02-23  Le Monde  Marine Le Pen peine encore à trouver ses parra...   \n",
       "4 2022-02-23  Le Monde  Sibyle Veil : « J’ai choisi de nommer Adèle Va...   \n",
       "\n",
       "                                      clean_articles  \\\n",
       "0  présidentielle 2022 sur fond de crise ukrainie...   \n",
       "1  retour au septennat législatives à mi mandat p...   \n",
       "2  jean pierre chevènement va apporter son soutie...   \n",
       "3  marine le pen peine encore à trouver ses parra...   \n",
       "4  sibyle veil j ai choisi de nommer adèle van re...   \n",
       "\n",
       "                                         token_lemma  \n",
       "0  présidentiel 2022 fond crise ukrainien hidalgo...  \n",
       "1  septennat législatif mi mandat prérogative ely...  \n",
       "2  jean pierre chevènement apporter soutien emman...  \n",
       "3                marine pen peine trouver parrainage  \n",
       "4  sibyl veil choisir nommer adèle van reeth remp...  "
      ]
     },
     "execution_count": 8,
     "metadata": {},
     "output_type": "execute_result"
    }
   ],
   "source": [
    "# lemmatizing and removing stopwords\n",
    "nlp = fr_core_news_md.load()\n",
    "data['token_lemma'] = data['clean_articles'].apply(lambda x: \" \".join([token.lemma_ for token in nlp(x) \\\n",
    "                    if (token.lemma_ not in STOP_WORDS) & (token.text not in STOP_WORDS)]))\n",
    "\n",
    "data.head()"
   ]
  },
  {
   "cell_type": "code",
   "execution_count": 7,
   "metadata": {},
   "outputs": [
    {
     "name": "stdout",
     "output_type": "stream",
     "text": [
      "  (0, 164216)\t1\n",
      "  (0, 2077)\t1\n",
      "  (0, 83244)\t1\n",
      "  (0, 52608)\t1\n",
      "  (0, 211820)\t1\n",
      "  (0, 96725)\t1\n",
      "  (0, 107196)\t1\n",
      "  (0, 218596)\t1\n",
      "  (0, 55074)\t1\n",
      "  (0, 135272)\t1\n",
      "  (0, 164232)\t1\n",
      "  (0, 2504)\t1\n",
      "  (0, 83255)\t1\n",
      "  (0, 52719)\t1\n",
      "  (0, 212078)\t1\n",
      "  (0, 96780)\t1\n",
      "  (0, 107314)\t1\n",
      "  (0, 218620)\t1\n",
      "  (0, 55101)\t1\n"
     ]
    }
   ],
   "source": [
    "# vectorizing for LDA\n",
    "vectorizer = CountVectorizer(analyzer = 'word', ngram_range = (1, 2))\n",
    "vectors = []\n",
    "\n",
    "for index, row in data.iterrows():\n",
    "    vectors.append(row['token_lemma'])\n",
    "\n",
    "vectorised = vectorizer.fit_transform(vectors)\n",
    "print(vectorised[0])"
   ]
  },
  {
   "cell_type": "code",
   "execution_count": 8,
   "metadata": {},
   "outputs": [
    {
     "data": {
      "text/html": [
       "<div>\n",
       "<style scoped>\n",
       "    .dataframe tbody tr th:only-of-type {\n",
       "        vertical-align: middle;\n",
       "    }\n",
       "\n",
       "    .dataframe tbody tr th {\n",
       "        vertical-align: top;\n",
       "    }\n",
       "\n",
       "    .dataframe thead th {\n",
       "        text-align: right;\n",
       "    }\n",
       "</style>\n",
       "<table border=\"1\" class=\"dataframe\">\n",
       "  <thead>\n",
       "    <tr style=\"text-align: right;\">\n",
       "      <th></th>\n",
       "      <th>Date</th>\n",
       "      <th>Journal</th>\n",
       "      <th>Article</th>\n",
       "      <th>clean_articles</th>\n",
       "      <th>token_lemma</th>\n",
       "      <th>Dominant_topic</th>\n",
       "    </tr>\n",
       "  </thead>\n",
       "  <tbody>\n",
       "    <tr>\n",
       "      <th>0</th>\n",
       "      <td>2022-02-23</td>\n",
       "      <td>Le Monde</td>\n",
       "      <td>Présidentielle 2022 : sur fond de crise ukrain...</td>\n",
       "      <td>présidentielle 2022 sur fond de crise ukrainie...</td>\n",
       "      <td>présidentiel 2022 fond crise ukrainien hidalgo...</td>\n",
       "      <td>14.0</td>\n",
       "    </tr>\n",
       "    <tr>\n",
       "      <th>1</th>\n",
       "      <td>2022-02-23</td>\n",
       "      <td>Le Monde</td>\n",
       "      <td>Retour au septennat, législatives à mi-mandat,...</td>\n",
       "      <td>retour au septennat législatives à mi mandat p...</td>\n",
       "      <td>septennat législatif mi mandat prérogative ely...</td>\n",
       "      <td>9.0</td>\n",
       "    </tr>\n",
       "    <tr>\n",
       "      <th>2</th>\n",
       "      <td>2022-02-23</td>\n",
       "      <td>Le Monde</td>\n",
       "      <td>Jean-Pierre Chevènement va apporter son soutie...</td>\n",
       "      <td>jean pierre chevènement va apporter son soutie...</td>\n",
       "      <td>jean pierre chevènement apporter soutien emman...</td>\n",
       "      <td>2.0</td>\n",
       "    </tr>\n",
       "  </tbody>\n",
       "</table>\n",
       "</div>"
      ],
      "text/plain": [
       "        Date   Journal                                            Article  \\\n",
       "0 2022-02-23  Le Monde  Présidentielle 2022 : sur fond de crise ukrain...   \n",
       "1 2022-02-23  Le Monde  Retour au septennat, législatives à mi-mandat,...   \n",
       "2 2022-02-23  Le Monde  Jean-Pierre Chevènement va apporter son soutie...   \n",
       "\n",
       "                                      clean_articles  \\\n",
       "0  présidentielle 2022 sur fond de crise ukrainie...   \n",
       "1  retour au septennat législatives à mi mandat p...   \n",
       "2  jean pierre chevènement va apporter son soutie...   \n",
       "\n",
       "                                         token_lemma  Dominant_topic  \n",
       "0  présidentiel 2022 fond crise ukrainien hidalgo...            14.0  \n",
       "1  septennat législatif mi mandat prérogative ely...             9.0  \n",
       "2  jean pierre chevènement apporter soutien emman...             2.0  "
      ]
     },
     "metadata": {},
     "output_type": "display_data"
    }
   ],
   "source": [
    "# initializing LDA Model with 14 topics\n",
    "lda_model = LatentDirichletAllocation(n_components = 14, random_state = 1, evaluate_every = -1,n_jobs = -1)\n",
    "lda_output = lda_model.fit_transform(vectorised)\n",
    "\n",
    "topic_names = [\"Topic\" + str(i) for i in range(1, lda_model.n_components + 1)]\n",
    "df_topics = pd.DataFrame(np.round(lda_output, 2), columns = topic_names)\n",
    "\n",
    "# get dominant topic for each article\n",
    "dominant_topic = (np.argmax(df_topics.values, axis=1)+1)\n",
    "df_topics['Dominant_topic'] = dominant_topic\n",
    "\n",
    "# join to original dataframe\n",
    "data = pd.merge(data, df_topics['Dominant_topic'], left_index = True, right_index = True, how = 'outer')\n",
    "display(data.head(3))"
   ]
  },
  {
   "cell_type": "code",
   "execution_count": 23,
   "metadata": {},
   "outputs": [
    {
     "data": {
      "text/plain": [
       "9.0     14.916224\n",
       "2.0     12.432260\n",
       "11.0     7.883655\n",
       "7.0      7.290205\n",
       "12.0     6.853112\n",
       "6.0      6.096196\n",
       "3.0      6.035785\n",
       "8.0      6.009133\n",
       "5.0      5.930954\n",
       "4.0      5.906078\n",
       "1.0      5.861658\n",
       "10.0     5.126064\n",
       "13.0     4.914625\n",
       "14.0     4.744052\n",
       "Name: Dominant_topic, dtype: float64"
      ]
     },
     "execution_count": 23,
     "metadata": {},
     "output_type": "execute_result"
    }
   ],
   "source": [
    "topic_count = data['Dominant_topic'].value_counts()\n",
    "topic_count/sum(topic_count)*100\n",
    "# topic distribution"
   ]
  },
  {
   "cell_type": "code",
   "execution_count": 9,
   "metadata": {},
   "outputs": [],
   "source": [
    "from bertopic import BERTopic"
   ]
  },
  {
   "cell_type": "code",
   "execution_count": 10,
   "metadata": {},
   "outputs": [],
   "source": [
    "doc = data['token_lemma'].dropna().unique().tolist()"
   ]
  },
  {
   "cell_type": "code",
   "execution_count": 11,
   "metadata": {},
   "outputs": [
    {
     "data": {
      "text/plain": [
       "['présidentiel 2022 fond crise ukrainien hidalgo jadot viser danger mélenchon',\n",
       " 'septennat législatif mi mandat prérogative elysée limiter cese auditionner candidat élection présidentiel',\n",
       " 'jean pierre chevènement apporter soutien emmanuel macron',\n",
       " 'marine pen peine trouver parrainage',\n",
       " 'sibyl veil choisir nommer adèle van reeth remplacer laurence bloch tête france inter']"
      ]
     },
     "execution_count": 11,
     "metadata": {},
     "output_type": "execute_result"
    }
   ],
   "source": [
    "doc[:5]"
   ]
  },
  {
   "cell_type": "code",
   "execution_count": 12,
   "metadata": {},
   "outputs": [],
   "source": [
    "# avoid umap pynndescent conflicts with numpy >= 1.21\n",
    "import numba\n",
    "@numba.njit(fastmath=True)\n",
    "def correct_alternative_cosine(ds):\n",
    "    result = np.empty_like(ds)\n",
    "    for i in range(ds.shape[0]):\n",
    "        result[i] = 1.0 - np.power(2.0, ds[i])\n",
    "    return result\n",
    "\n",
    "import pynndescent\n",
    "pynn_dist_fns_fda = pynndescent.distances.fast_distance_alternatives\n",
    "pynn_dist_fns_fda[\"cosine\"][\"correction\"] = correct_alternative_cosine\n",
    "pynn_dist_fns_fda[\"dot\"][\"correction\"] = correct_alternative_cosine"
   ]
  },
  {
   "cell_type": "code",
   "execution_count": 13,
   "metadata": {},
   "outputs": [
    {
     "data": {
      "application/vnd.jupyter.widget-view+json": {
       "model_id": "67c2d9f7e6e44085a3022366b4361ec4",
       "version_major": 2,
       "version_minor": 0
      },
      "text/plain": [
       "Batches:   0%|          | 0/1716 [00:00<?, ?it/s]"
      ]
     },
     "metadata": {},
     "output_type": "display_data"
    },
    {
     "name": "stderr",
     "output_type": "stream",
     "text": [
      "2022-12-09 16:38:01,025 - BERTopic - Transformed documents to Embeddings\n",
      "2022-12-09 16:39:01,272 - BERTopic - Reduced dimensionality\n",
      "2022-12-09 16:39:06,581 - BERTopic - Clustered reduced embeddings\n"
     ]
    }
   ],
   "source": [
    "topic_model = BERTopic(verbose=True)\n",
    "topics, probs = topic_model.fit_transform(doc)"
   ]
  },
  {
   "cell_type": "code",
   "execution_count": 27,
   "metadata": {},
   "outputs": [
    {
     "name": "stderr",
     "output_type": "stream",
     "text": [
      "100%|██████████| 592/592 [00:05<00:00, 108.54it/s]\n"
     ]
    }
   ],
   "source": [
    "from scipy.cluster import hierarchy as sch\n",
    "\n",
    "# Hierarchical topics\n",
    "linkage_function = lambda x: sch.linkage(x, 'complete', optimal_ordering=True)\n",
    "hierarchical_topics = topic_model.hierarchical_topics(doc, linkage_function=linkage_function)"
   ]
  },
  {
   "cell_type": "code",
   "execution_count": 28,
   "metadata": {},
   "outputs": [
    {
     "data": {
      "application/vnd.plotly.v1+json": {
       "config": {
        "plotlyServerURL": "https://plot.ly"
       },
       "data": [
        {
         "hoverinfo": "text",
         "marker": {
          "color": "rgb(61,153,112)"
         },
         "mode": "lines",
         "text": [
          "dimanche_13h15_20h30_jt_avril",
          "",
          "",
          "dimanche_jt_mars_20h_20"
         ],
         "type": "scatter",
         "x": [
          0,
          0.9362990676309325,
          0.9362990676309325,
          0
         ],
         "xaxis": "x",
         "y": [
          -5,
          -5,
          -15,
          -15
         ],
         "yaxis": "y"
        },
        {
         "hoverinfo": "text",
         "marker": {
          "color": "rgb(255,65,54)"
         },
         "mode": "lines",
         "text": [
          "samedi_jt_12_mars_26",
          "",
          "",
          "samedi_jt_avril_16_23"
         ],
         "type": "scatter",
         "x": [
          0,
          0.5791870989280657,
          0.5791870989280657,
          0
         ],
         "xaxis": "x",
         "y": [
          -35,
          -35,
          -45,
          -45
         ],
         "yaxis": "y"
        },
        {
         "hoverinfo": "text",
         "marker": {
          "color": "rgb(0,116,217)"
         },
         "mode": "lines",
         "text": [
          "fvrier_jt_26_20h_25",
          "",
          "",
          "samedi_jt_12_13h_avril"
         ],
         "type": "scatter",
         "x": [
          0,
          1.0735729335813422,
          1.0735729335813422,
          0.5791870989280657
         ],
         "xaxis": "x",
         "y": [
          -25,
          -25,
          -40,
          -40
         ],
         "yaxis": "y"
        },
        {
         "hoverinfo": "text",
         "marker": {
          "color": "rgb(35,205,205)"
         },
         "mode": "lines",
         "text": [
          "mercredi_jt_mars_info_8h",
          "",
          "",
          "mercredi_avril_jt_20_17h"
         ],
         "type": "scatter",
         "x": [
          0,
          0.6823574792954545,
          0.6823574792954545,
          0
         ],
         "xaxis": "x",
         "y": [
          -55,
          -55,
          -65,
          -65
         ],
         "yaxis": "y"
        },
        {
         "hoverinfo": "text",
         "marker": {
          "color": "rgb(133,20,75)"
         },
         "mode": "lines",
         "text": [
          "vendredi_jt_avril_8h_22",
          "",
          "",
          "vendredi_jt_mars_17h_18"
         ],
         "type": "scatter",
         "x": [
          0,
          0.6526035941705569,
          0.6526035941705569,
          0
         ],
         "xaxis": "x",
         "y": [
          -75,
          -75,
          -85,
          -85
         ],
         "yaxis": "y"
        },
        {
         "hoverinfo": "text",
         "marker": {
          "color": "rgb(255,220,0)"
         },
         "mode": "lines",
         "text": [
          "lundi_jt_mars_21_28",
          "",
          "",
          "lundi_avril_jt_20h_18h"
         ],
         "type": "scatter",
         "x": [
          0,
          0.7677808776663168,
          0.7677808776663168,
          0
         ],
         "xaxis": "x",
         "y": [
          -95,
          -95,
          -105,
          -105
         ],
         "yaxis": "y"
        },
        {
         "hoverinfo": "text",
         "marker": {
          "color": "rgb(0,116,217)"
         },
         "mode": "lines",
         "text": [
          "vendredi_jt_8h_avril_13h",
          "",
          "",
          "lundi_jt_20h_avril_13h"
         ],
         "type": "scatter",
         "x": [
          0.6526035941705569,
          1.228821768191645,
          1.228821768191645,
          0.7677808776663168
         ],
         "xaxis": "x",
         "y": [
          -80,
          -80,
          -100,
          -100
         ],
         "yaxis": "y"
        },
        {
         "hoverinfo": "text",
         "marker": {
          "color": "rgb(0,116,217)"
         },
         "mode": "lines",
         "text": [
          "mercredi_jt_20_8h_avril",
          "",
          "",
          "lundi_jt_20h_avril_13h"
         ],
         "type": "scatter",
         "x": [
          0.6823574792954545,
          1.3940847379813623,
          1.3940847379813623,
          1.228821768191645
         ],
         "xaxis": "x",
         "y": [
          -60,
          -60,
          -90,
          -90
         ],
         "yaxis": "y"
        },
        {
         "hoverinfo": "text",
         "marker": {
          "color": "rgb(40,35,35)"
         },
         "mode": "lines",
         "text": [
          "mardi_jt_avril_12_8h",
          "",
          "",
          "mardi_jt_mars_29_8h"
         ],
         "type": "scatter",
         "x": [
          0,
          0.5709564698631587,
          0.5709564698631587,
          0
         ],
         "xaxis": "x",
         "y": [
          -115,
          -115,
          -125,
          -125
         ],
         "yaxis": "y"
        },
        {
         "hoverinfo": "text",
         "marker": {
          "color": "rgb(0,116,217)"
         },
         "mode": "lines",
         "text": [
          "mardi_jt_avril_12_8h",
          "",
          "",
          "mardi_jt_8h_mars_13h"
         ],
         "type": "scatter",
         "x": [
          1.3940847379813623,
          1.444968206014255,
          1.444968206014255,
          0.5709564698631587
         ],
         "xaxis": "x",
         "y": [
          -75,
          -75,
          -120,
          -120
         ],
         "yaxis": "y"
        },
        {
         "hoverinfo": "text",
         "marker": {
          "color": "rgb(0,116,217)"
         },
         "mode": "lines",
         "text": [
          "samedi_jt_fvrier_13h_20h",
          "",
          "",
          "mardi_jt_8h_mars_13h"
         ],
         "type": "scatter",
         "x": [
          1.0735729335813422,
          1.503784692522158,
          1.503784692522158,
          1.444968206014255
         ],
         "xaxis": "x",
         "y": [
          -32.5,
          -32.5,
          -97.5,
          -97.5
         ],
         "yaxis": "y"
        },
        {
         "hoverinfo": "text",
         "marker": {
          "color": "rgb(61,153,112)"
         },
         "mode": "lines",
         "text": [
          "jeudi_jt_avril_21_14",
          "",
          "",
          "jeudi_jt_31_mars_8h"
         ],
         "type": "scatter",
         "x": [
          0,
          0.7016686124197373,
          0.7016686124197373,
          0
         ],
         "xaxis": "x",
         "y": [
          -135,
          -135,
          -145,
          -145
         ],
         "yaxis": "y"
        },
        {
         "hoverinfo": "text",
         "marker": {
          "color": "rgb(0,116,217)"
         },
         "mode": "lines",
         "text": [
          "jt_13h_20h_8h_avril",
          "",
          "",
          "jeudi_jt_31_mars_8h"
         ],
         "type": "scatter",
         "x": [
          1.503784692522158,
          1.5245616816594334,
          1.5245616816594334,
          0.7016686124197373
         ],
         "xaxis": "x",
         "y": [
          -65,
          -65,
          -140,
          -140
         ],
         "yaxis": "y"
        },
        {
         "hoverinfo": "text",
         "marker": {
          "color": "rgb(0,116,217)"
         },
         "mode": "lines",
         "text": [
          "dimanche_jt_13h15_20h30_20h",
          "",
          "",
          "jt_13h_8h_20h_mars"
         ],
         "type": "scatter",
         "x": [
          0.9362990676309325,
          1.6433414447751247,
          1.6433414447751247,
          1.5245616816594334
         ],
         "xaxis": "x",
         "y": [
          -10,
          -10,
          -102.5,
          -102.5
         ],
         "yaxis": "y"
        },
        {
         "hoverinfo": "text",
         "marker": {
          "color": "rgb(255,65,54)"
         },
         "mode": "lines",
         "text": [
          "aramburu_suspect_assassinat_federico_lok",
          "",
          "",
          "rugbyman_aramburu_federico_martin_assassinat"
         ],
         "type": "scatter",
         "x": [
          0,
          0.5838033949336665,
          0.5838033949336665,
          0
         ],
         "xaxis": "x",
         "y": [
          -155,
          -155,
          -165,
          -165
         ],
         "yaxis": "y"
        },
        {
         "hoverinfo": "text",
         "marker": {
          "color": "rgb(255,65,54)"
         },
         "mode": "lines",
         "text": [
          "aramburu_federico_rugbyman_assassinat_martin",
          "",
          "",
          "federico_aramburu_martin_meurtre_arambur"
         ],
         "type": "scatter",
         "x": [
          0.5838033949336665,
          0.6748677733245696,
          0.6748677733245696,
          0
         ],
         "xaxis": "x",
         "y": [
          -160,
          -160,
          -175,
          -175
         ],
         "yaxis": "y"
        },
        {
         "hoverinfo": "text",
         "marker": {
          "color": "rgb(255,65,54)"
         },
         "mode": "lines",
         "text": [
          "aramburu_federico_martin_rugbyman_assassinat",
          "",
          "",
          "rugby_aramburu_argentin_rugbyman_federico"
         ],
         "type": "scatter",
         "x": [
          0.6748677733245696,
          0.8943892793015289,
          0.8943892793015289,
          0
         ],
         "xaxis": "x",
         "y": [
          -167.5,
          -167.5,
          -185,
          -185
         ],
         "yaxis": "y"
        },
        {
         "hoverinfo": "text",
         "marker": {
          "color": "rgb(35,205,205)"
         },
         "mode": "lines",
         "text": [
          "port_masque_obligatoire_prmaturer_ffp2",
          "",
          "",
          "port_masque_obligatoire_jaug_covid"
         ],
         "type": "scatter",
         "x": [
          0,
          0.4343900385561097,
          0.4343900385561097,
          0
         ],
         "xaxis": "x",
         "y": [
          -195,
          -195,
          -205,
          -205
         ],
         "yaxis": "y"
        },
        {
         "hoverinfo": "text",
         "marker": {
          "color": "rgb(0,116,217)"
         },
         "mode": "lines",
         "text": [
          "port_masque_obligatoire_assouplir_recommandation",
          "",
          "",
          "vaccinal_14_masque_pass_suspension"
         ],
         "type": "scatter",
         "x": [
          0.4343900385561097,
          1.1360922512540137,
          1.1360922512540137,
          0
         ],
         "xaxis": "x",
         "y": [
          -200,
          -200,
          -215,
          -215
         ],
         "yaxis": "y"
        },
        {
         "hoverinfo": "text",
         "marker": {
          "color": "rgb(61,153,112)"
         },
         "mode": "lines",
         "text": [
          "sanitaire_protocole_crise_blachier_contrle",
          "",
          "",
          "restriction_sanitaire_leve_protocole_covid"
         ],
         "type": "scatter",
         "x": [
          0,
          0.7992675157612077,
          0.7992675157612077,
          0
         ],
         "xaxis": "x",
         "y": [
          -225,
          -225,
          -235,
          -235
         ],
         "yaxis": "y"
        },
        {
         "hoverinfo": "text",
         "marker": {
          "color": "rgb(0,116,217)"
         },
         "mode": "lines",
         "text": [
          "symptme_rinfection_frquent_lsion_covid",
          "",
          "",
          "vaccin_dose_vaccination_sanofi_covid"
         ],
         "type": "scatter",
         "x": [
          0,
          1.3401508983281358,
          1.3401508983281358,
          0
         ],
         "xaxis": "x",
         "y": [
          -245,
          -245,
          -255,
          -255
         ],
         "yaxis": "y"
        },
        {
         "hoverinfo": "text",
         "marker": {
          "color": "rgb(0,116,217)"
         },
         "mode": "lines",
         "text": [
          "contamination_hospitalisation_nombre_patient_covid",
          "",
          "",
          "cas_24_hpital_heure_19"
         ],
         "type": "scatter",
         "x": [
          0,
          1.1364999329951173,
          1.1364999329951173,
          0
         ],
         "xaxis": "x",
         "y": [
          -275,
          -275,
          -285,
          -285
         ],
         "yaxis": "y"
        },
        {
         "hoverinfo": "text",
         "marker": {
          "color": "rgb(0,116,217)"
         },
         "mode": "lines",
         "text": [
          "covid_19_pidmie_rebond_ba",
          "",
          "",
          "contamination_hospitalisation_cas_covid_19"
         ],
         "type": "scatter",
         "x": [
          0,
          1.2047981897423103,
          1.2047981897423103,
          1.1364999329951173
         ],
         "xaxis": "x",
         "y": [
          -265,
          -265,
          -280,
          -280
         ],
         "yaxis": "y"
        },
        {
         "hoverinfo": "text",
         "marker": {
          "color": "rgb(0,116,217)"
         },
         "mode": "lines",
         "text": [
          "covid_19_pidmie_rebond_ba",
          "",
          "",
          "covid_19_contamination_cas_nombre"
         ],
         "type": "scatter",
         "x": [
          1.3401508983281358,
          1.3922161028134246,
          1.3922161028134246,
          1.2047981897423103
         ],
         "xaxis": "x",
         "y": [
          -250,
          -250,
          -272.5,
          -272.5
         ],
         "yaxis": "y"
        },
        {
         "hoverinfo": "text",
         "marker": {
          "color": "rgb(0,116,217)"
         },
         "mode": "lines",
         "text": [
          "shanghai_confinement_chine_confiner_shangha",
          "",
          "",
          "chine_chinois_buon_morice_erwan"
         ],
         "type": "scatter",
         "x": [
          0,
          1.0934313602840173,
          1.0934313602840173,
          0
         ],
         "xaxis": "x",
         "y": [
          -295,
          -295,
          -305,
          -305
         ],
         "yaxis": "y"
        },
        {
         "hoverinfo": "text",
         "marker": {
          "color": "rgb(0,116,217)"
         },
         "mode": "lines",
         "text": [
          "covid_vaccin_19_contamination_dose",
          "",
          "",
          "chine_shanghai_confinement_confiner_chinois"
         ],
         "type": "scatter",
         "x": [
          1.3922161028134246,
          1.7125732523636596,
          1.7125732523636596,
          1.0934313602840173
         ],
         "xaxis": "x",
         "y": [
          -261.25,
          -261.25,
          -300,
          -300
         ],
         "yaxis": "y"
        },
        {
         "hoverinfo": "text",
         "marker": {
          "color": "rgb(0,116,217)"
         },
         "mode": "lines",
         "text": [
          "sanitaire_restriction_protocole_leve_covid",
          "",
          "",
          "chine_shanghai_confinement_confiner_chinois"
         ],
         "type": "scatter",
         "x": [
          0.7992675157612077,
          1.9543726208083325,
          1.9543726208083325,
          1.7125732523636596
         ],
         "xaxis": "x",
         "y": [
          -230,
          -230,
          -280.625,
          -280.625
         ],
         "yaxis": "y"
        },
        {
         "hoverinfo": "text",
         "marker": {
          "color": "rgb(0,116,217)"
         },
         "mode": "lines",
         "text": [
          "port_masque_vaccinal_14_obligatoire",
          "",
          "",
          "chine_shanghai_confinement_confiner_chinois"
         ],
         "type": "scatter",
         "x": [
          1.1360922512540137,
          2.411706202883707,
          2.411706202883707,
          1.9543726208083325
         ],
         "xaxis": "x",
         "y": [
          -207.5,
          -207.5,
          -255.3125,
          -255.3125
         ],
         "yaxis": "y"
        },
        {
         "hoverinfo": "text",
         "marker": {
          "color": "rgb(0,116,217)"
         },
         "mode": "lines",
         "text": [
          "tension_colonna_corse_yvan_stress",
          "",
          "",
          "nationaliste_nationalisme_corse_colonna_yvan"
         ],
         "type": "scatter",
         "x": [
          0,
          1.2553469991326247,
          1.2553469991326247,
          0
         ],
         "xaxis": "x",
         "y": [
          -315,
          -315,
          -325,
          -325
         ],
         "yaxis": "y"
        },
        {
         "hoverinfo": "text",
         "marker": {
          "color": "rgb(255,65,54)"
         },
         "mode": "lines",
         "text": [
          "manifestation_colonna_yvan_soutien_bastia",
          "",
          "",
          "yvan_colonna_corse_cargse_funraille"
         ],
         "type": "scatter",
         "x": [
          0,
          0.7155286565137675,
          0.7155286565137675,
          0
         ],
         "xaxis": "x",
         "y": [
          -335,
          -335,
          -345,
          -345
         ],
         "yaxis": "y"
        },
        {
         "hoverinfo": "text",
         "marker": {
          "color": "rgb(0,116,217)"
         },
         "mode": "lines",
         "text": [
          "yvan_colonna_corse_manifestation_cargse",
          "",
          "",
          "assassinat_yvan_colonna_prfet_erignac"
         ],
         "type": "scatter",
         "x": [
          0.7155286565137675,
          1.0318164401068974,
          1.0318164401068974,
          0
         ],
         "xaxis": "x",
         "y": [
          -340,
          -340,
          -355,
          -355
         ],
         "yaxis": "y"
        },
        {
         "hoverinfo": "text",
         "marker": {
          "color": "rgb(0,116,217)"
         },
         "mode": "lines",
         "text": [
          "yvan_colonna_corse_manifestation_cargse",
          "",
          "",
          "yvan_colonna_corse_manifestation_cargse"
         ],
         "type": "scatter",
         "x": [
          1.2553469991326247,
          1.3892012233402664,
          1.3892012233402664,
          1.0318164401068974
         ],
         "xaxis": "x",
         "y": [
          -320,
          -320,
          -347.5,
          -347.5
         ],
         "yaxis": "y"
        },
        {
         "hoverinfo": "text",
         "marker": {
          "color": "rgb(0,116,217)"
         },
         "mode": "lines",
         "text": [
          "prison_sursis_condamner_requrir_dtenu",
          "",
          "",
          "signaler_particulirement_dtenir_statut_lever"
         ],
         "type": "scatter",
         "x": [
          0,
          1.299552915957888,
          1.299552915957888,
          0
         ],
         "xaxis": "x",
         "y": [
          -365,
          -365,
          -375,
          -375
         ],
         "yaxis": "y"
        },
        {
         "hoverinfo": "text",
         "marker": {
          "color": "rgb(0,116,217)"
         },
         "mode": "lines",
         "text": [
          "colonna_yvan_corse_tension_nationaliste",
          "",
          "",
          "prison_sursis_condamner_signaler_particulirement"
         ],
         "type": "scatter",
         "x": [
          1.3892012233402664,
          1.5549409711673645,
          1.5549409711673645,
          1.299552915957888
         ],
         "xaxis": "x",
         "y": [
          -333.75,
          -333.75,
          -370,
          -370
         ],
         "yaxis": "y"
        },
        {
         "hoverinfo": "text",
         "marker": {
          "color": "rgb(0,116,217)"
         },
         "mode": "lines",
         "text": [
          "participation_taux_12h_17h_68",
          "",
          "",
          "taux_fed_ir_positivit_majorer"
         ],
         "type": "scatter",
         "x": [
          0,
          1.0169454999110614,
          1.0169454999110614,
          0
         ],
         "xaxis": "x",
         "y": [
          -385,
          -385,
          -395,
          -395
         ],
         "yaxis": "y"
        },
        {
         "hoverinfo": "text",
         "marker": {
          "color": "rgb(35,205,205)"
         },
         "mode": "lines",
         "text": [
          "taux_crdit_immobilier_usure_rengociation",
          "",
          "",
          "crdit_immobilier_credit_emprunteur_suisse"
         ],
         "type": "scatter",
         "x": [
          0,
          0.7718405637339997,
          0.7718405637339997,
          0
         ],
         "xaxis": "x",
         "y": [
          -405,
          -405,
          -415,
          -415
         ],
         "yaxis": "y"
        },
        {
         "hoverinfo": "text",
         "marker": {
          "color": "rgb(0,116,217)"
         },
         "mode": "lines",
         "text": [
          "taux_participation_fed_12h_17h",
          "",
          "",
          "crdit_immobilier_taux_emprunteur_credit"
         ],
         "type": "scatter",
         "x": [
          1.0169454999110614,
          1.6381466101399378,
          1.6381466101399378,
          0.7718405637339997
         ],
         "xaxis": "x",
         "y": [
          -390,
          -390,
          -410,
          -410
         ],
         "yaxis": "y"
        },
        {
         "hoverinfo": "text",
         "marker": {
          "color": "rgb(133,20,75)"
         },
         "mode": "lines",
         "text": [
          "inflation_attentisme_augmente_fouet_concrtise",
          "",
          "",
          "inflation_smic_taux_inflationniste_indemnit"
         ],
         "type": "scatter",
         "x": [
          0,
          0.6664074994252925,
          0.6664074994252925,
          0
         ],
         "xaxis": "x",
         "y": [
          -425,
          -425,
          -435,
          -435
         ],
         "yaxis": "y"
        },
        {
         "hoverinfo": "text",
         "marker": {
          "color": "rgb(0,116,217)"
         },
         "mode": "lines",
         "text": [
          "smic_augmentation_automatiquement_mai_augmenter",
          "",
          "",
          "augmenter_augmentation_prix_envoler_billet"
         ],
         "type": "scatter",
         "x": [
          0,
          1.1292628619321852,
          1.1292628619321852,
          0
         ],
         "xaxis": "x",
         "y": [
          -445,
          -445,
          -455,
          -455
         ],
         "yaxis": "y"
        },
        {
         "hoverinfo": "text",
         "marker": {
          "color": "rgb(255,220,0)"
         },
         "mode": "lines",
         "text": [
          "prix_flambe_flamber_hausse_essence",
          "",
          "",
          "carburant_prix_litre_centime_hausse"
         ],
         "type": "scatter",
         "x": [
          0,
          0.9476215191292662,
          0.9476215191292662,
          0
         ],
         "xaxis": "x",
         "y": [
          -475,
          -475,
          -485,
          -485
         ],
         "yaxis": "y"
        },
        {
         "hoverinfo": "text",
         "marker": {
          "color": "rgb(0,116,217)"
         },
         "mode": "lines",
         "text": [
          "prix_aluminium_envoler_alimentaire_bl",
          "",
          "",
          "carburant_prix_litre_centime_hausse"
         ],
         "type": "scatter",
         "x": [
          0,
          1.0830684829358441,
          1.0830684829358441,
          0.9476215191292662
         ],
         "xaxis": "x",
         "y": [
          -465,
          -465,
          -480,
          -480
         ],
         "yaxis": "y"
        },
        {
         "hoverinfo": "text",
         "marker": {
          "color": "rgb(0,116,217)"
         },
         "mode": "lines",
         "text": [
          "augmentation_augmenter_smic_automatiquement_mai",
          "",
          "",
          "carburant_prix_litre_centime_hausse"
         ],
         "type": "scatter",
         "x": [
          1.1292628619321852,
          1.6951530610652328,
          1.6951530610652328,
          1.0830684829358441
         ],
         "xaxis": "x",
         "y": [
          -450,
          -450,
          -472.5,
          -472.5
         ],
         "yaxis": "y"
        },
        {
         "hoverinfo": "text",
         "marker": {
          "color": "rgb(0,116,217)"
         },
         "mode": "lines",
         "text": [
          "inflation_smic_inflationniste_taux_croissance",
          "",
          "",
          "carburant_prix_litre_centime_hausse"
         ],
         "type": "scatter",
         "x": [
          0.6664074994252925,
          2.0779610736920624,
          2.0779610736920624,
          1.6951530610652328
         ],
         "xaxis": "x",
         "y": [
          -430,
          -430,
          -461.25,
          -461.25
         ],
         "yaxis": "y"
        },
        {
         "hoverinfo": "text",
         "marker": {
          "color": "rgb(0,116,217)"
         },
         "mode": "lines",
         "text": [
          "crdit_taux_immobilier_participation_emprunteur",
          "",
          "",
          "inflation_carburant_prix_hausse_litre"
         ],
         "type": "scatter",
         "x": [
          1.6381466101399378,
          2.4737071887252045,
          2.4737071887252045,
          2.0779610736920624
         ],
         "xaxis": "x",
         "y": [
          -400,
          -400,
          -445.625,
          -445.625
         ],
         "yaxis": "y"
        },
        {
         "hoverinfo": "text",
         "marker": {
          "color": "rgb(40,35,35)"
         },
         "mode": "lines",
         "text": [
          "dclaration_impt_revenu_date_limite",
          "",
          "",
          "dclaration_revenu_ligne_impt_suspendre"
         ],
         "type": "scatter",
         "x": [
          0,
          0.6344547758498255,
          0.6344547758498255,
          0
         ],
         "xaxis": "x",
         "y": [
          -495,
          -495,
          -505,
          -505
         ],
         "yaxis": "y"
        },
        {
         "hoverinfo": "text",
         "marker": {
          "color": "rgb(61,153,112)"
         },
         "mode": "lines",
         "text": [
          "renault_activit_suspendre_suspension_toyota",
          "",
          "",
          "renault_mgane_scinder_meo_nissan"
         ],
         "type": "scatter",
         "x": [
          0,
          0.6720490051990989,
          0.6720490051990989,
          0
         ],
         "xaxis": "x",
         "y": [
          -515,
          -515,
          -525,
          -525
         ],
         "yaxis": "y"
        },
        {
         "hoverinfo": "text",
         "marker": {
          "color": "rgb(0,116,217)"
         },
         "mode": "lines",
         "text": [
          "dclaration_impt_revenu_date_ligne",
          "",
          "",
          "renault_activit_suspendre_mgane_meo"
         ],
         "type": "scatter",
         "x": [
          0.6344547758498255,
          2.2064890659827783,
          2.2064890659827783,
          0.6720490051990989
         ],
         "xaxis": "x",
         "y": [
          -500,
          -500,
          -520,
          -520
         ],
         "yaxis": "y"
        },
        {
         "hoverinfo": "text",
         "marker": {
          "color": "rgb(255,65,54)"
         },
         "mode": "lines",
         "text": [
          "festival_angoulme_canne_doucet_bd",
          "",
          "",
          "festival_canne_film_dardenn_officiel"
         ],
         "type": "scatter",
         "x": [
          0,
          0.8312235062015474,
          0.8312235062015474,
          0
         ],
         "xaxis": "x",
         "y": [
          -535,
          -535,
          -545,
          -545
         ],
         "yaxis": "y"
        },
        {
         "hoverinfo": "text",
         "marker": {
          "color": "rgb(35,205,205)"
         },
         "mode": "lines",
         "text": [
          "grippe_pidmie_propager_presque_hexagone",
          "",
          "",
          "aviaire_grippe_volaille_canard_foyer"
         ],
         "type": "scatter",
         "x": [
          0,
          0.8547330602558507,
          0.8547330602558507,
          0
         ],
         "xaxis": "x",
         "y": [
          -555,
          -555,
          -565,
          -565
         ],
         "yaxis": "y"
        },
        {
         "hoverinfo": "text",
         "marker": {
          "color": "rgb(0,116,217)"
         },
         "mode": "lines",
         "text": [
          "smith_will_gifle_oscar_chris",
          "",
          "",
          "oscar_coda_blier_remake_crmonie"
         ],
         "type": "scatter",
         "x": [
          0,
          1.0287926653326211,
          1.0287926653326211,
          0
         ],
         "xaxis": "x",
         "y": [
          -575,
          -575,
          -585,
          -585
         ],
         "yaxis": "y"
        },
        {
         "hoverinfo": "text",
         "marker": {
          "color": "rgb(0,116,217)"
         },
         "mode": "lines",
         "text": [
          "prince_philip_windsor_hommage_harry",
          "",
          "",
          "ii_elizabeth_reine_commonwealth_dlivre"
         ],
         "type": "scatter",
         "x": [
          0,
          1.0356559462168298,
          1.0356559462168298,
          0
         ],
         "xaxis": "x",
         "y": [
          -595,
          -595,
          -605,
          -605
         ],
         "yaxis": "y"
        },
        {
         "hoverinfo": "text",
         "marker": {
          "color": "rgb(0,116,217)"
         },
         "mode": "lines",
         "text": [
          "oscar_smith_will_gifle_chris",
          "",
          "",
          "elizabeth_ii_prince_philip_reine"
         ],
         "type": "scatter",
         "x": [
          1.0287926653326211,
          1.788871809150689,
          1.788871809150689,
          1.0356559462168298
         ],
         "xaxis": "x",
         "y": [
          -580,
          -580,
          -600,
          -600
         ],
         "yaxis": "y"
        },
        {
         "hoverinfo": "text",
         "marker": {
          "color": "rgb(0,116,217)"
         },
         "mode": "lines",
         "text": [
          "surveillance_vigie_pnitentiaire_rafale_pandmier",
          "",
          "",
          "camra_surveillance_blink_360_appareil"
         ],
         "type": "scatter",
         "x": [
          0,
          1.1457192817386002,
          1.1457192817386002,
          0
         ],
         "xaxis": "x",
         "y": [
          -615,
          -615,
          -625,
          -625
         ],
         "yaxis": "y"
        },
        {
         "hoverinfo": "text",
         "marker": {
          "color": "rgb(0,116,217)"
         },
         "mode": "lines",
         "text": [
          "potter_harry_radcliffe_daniel_saga",
          "",
          "",
          "secret_alessandri_ferrandi_galds_rotenberg"
         ],
         "type": "scatter",
         "x": [
          0,
          1.3623607000772742,
          1.3623607000772742,
          0
         ],
         "xaxis": "x",
         "y": [
          -635,
          -635,
          -645,
          -645
         ],
         "yaxis": "y"
        },
        {
         "hoverinfo": "text",
         "marker": {
          "color": "rgb(0,116,217)"
         },
         "mode": "lines",
         "text": [
          "haine_torrent_rigault_campagne_crpuscule",
          "",
          "",
          "rsistance_rsister_rsiste_olener_interculturel"
         ],
         "type": "scatter",
         "x": [
          0,
          1.412690635998981,
          1.412690635998981,
          0
         ],
         "xaxis": "x",
         "y": [
          -655,
          -655,
          -665,
          -665
         ],
         "yaxis": "y"
        },
        {
         "hoverinfo": "text",
         "marker": {
          "color": "rgb(0,116,217)"
         },
         "mode": "lines",
         "text": [
          "potter_harry_radcliffe_secret_daniel",
          "",
          "",
          "rsistance_rsister_rsiste_olener_interculturel"
         ],
         "type": "scatter",
         "x": [
          1.3623607000772742,
          1.4497759318138885,
          1.4497759318138885,
          1.412690635998981
         ],
         "xaxis": "x",
         "y": [
          -640,
          -640,
          -660,
          -660
         ],
         "yaxis": "y"
        },
        {
         "hoverinfo": "text",
         "marker": {
          "color": "rgb(0,116,217)"
         },
         "mode": "lines",
         "text": [
          "pernaut_pierre_tf1_jean_hommage",
          "",
          "",
          "montauban_merah_hommage_toulouse_victime"
         ],
         "type": "scatter",
         "x": [
          0,
          1.3663675430248388,
          1.3663675430248388,
          0
         ],
         "xaxis": "x",
         "y": [
          -675,
          -675,
          -685,
          -685
         ],
         "yaxis": "y"
        },
        {
         "hoverinfo": "text",
         "marker": {
          "color": "rgb(0,116,217)"
         },
         "mode": "lines",
         "text": [
          "antismitisme_antisionisme_juif_clame_antifministe",
          "",
          "",
          "mmoire_algrie_apaiser_billonne_maroun"
         ],
         "type": "scatter",
         "x": [
          0,
          1.394985077229993,
          1.394985077229993,
          0
         ],
         "xaxis": "x",
         "y": [
          -695,
          -695,
          -705,
          -705
         ],
         "yaxis": "y"
        },
        {
         "hoverinfo": "text",
         "marker": {
          "color": "rgb(0,116,217)"
         },
         "mode": "lines",
         "text": [
          "pernaut_pierre_tf1_jean_hommage",
          "",
          "",
          "antismitisme_mmoire_algrie_juif_antisionisme"
         ],
         "type": "scatter",
         "x": [
          1.3663675430248388,
          1.4093889542993319,
          1.4093889542993319,
          1.394985077229993
         ],
         "xaxis": "x",
         "y": [
          -680,
          -680,
          -700,
          -700
         ],
         "yaxis": "y"
        },
        {
         "hoverinfo": "text",
         "marker": {
          "color": "rgb(0,116,217)"
         },
         "mode": "lines",
         "text": [
          "pernaut_pierre_tf1_jean_hommage",
          "",
          "",
          "pernaut_pierre_antismitisme_mmoire_tf1"
         ],
         "type": "scatter",
         "x": [
          1.4497759318138885,
          1.499034373426705,
          1.499034373426705,
          1.4093889542993319
         ],
         "xaxis": "x",
         "y": [
          -650,
          -650,
          -690,
          -690
         ],
         "yaxis": "y"
        },
        {
         "hoverinfo": "text",
         "marker": {
          "color": "rgb(0,116,217)"
         },
         "mode": "lines",
         "text": [
          "honneur_lgion_coste_dcorer_74",
          "",
          "",
          "csar_illusion_crmonie_giannoli_perdre"
         ],
         "type": "scatter",
         "x": [
          0,
          1.3051657488129147,
          1.3051657488129147,
          0
         ],
         "xaxis": "x",
         "y": [
          -715,
          -715,
          -725,
          -725
         ],
         "yaxis": "y"
        },
        {
         "hoverinfo": "text",
         "marker": {
          "color": "rgb(0,116,217)"
         },
         "mode": "lines",
         "text": [
          "manquer_robert_caune_paul_jakubowicz",
          "",
          "",
          "critique_bref_livre_naulleau_philosophe"
         ],
         "type": "scatter",
         "x": [
          0,
          1.3596601252771285,
          1.3596601252771285,
          0
         ],
         "xaxis": "x",
         "y": [
          -745,
          -745,
          -755,
          -755
         ],
         "yaxis": "y"
        },
        {
         "hoverinfo": "text",
         "marker": {
          "color": "rgb(0,116,217)"
         },
         "mode": "lines",
         "text": [
          "hlne_cixou_nastia_stacy_crpe",
          "",
          "",
          "critique_bref_livre_manquer_robert"
         ],
         "type": "scatter",
         "x": [
          0,
          1.4097842377267027,
          1.4097842377267027,
          1.3596601252771285
         ],
         "xaxis": "x",
         "y": [
          -735,
          -735,
          -750,
          -750
         ],
         "yaxis": "y"
        },
        {
         "hoverinfo": "text",
         "marker": {
          "color": "rgb(0,116,217)"
         },
         "mode": "lines",
         "text": [
          "morozov_collection_tableau_rapatriement_vuitton",
          "",
          "",
          "muse_art_exposition_biennale_venise"
         ],
         "type": "scatter",
         "x": [
          0,
          1.3648402387641547,
          1.3648402387641547,
          0
         ],
         "xaxis": "x",
         "y": [
          -765,
          -765,
          -775,
          -775
         ],
         "yaxis": "y"
        },
        {
         "hoverinfo": "text",
         "marker": {
          "color": "rgb(0,116,217)"
         },
         "mode": "lines",
         "text": [
          "histoire_raconter_fiasco_ternel_lanvin",
          "",
          "",
          "amour_amoureux_passion_capulet_montaigu"
         ],
         "type": "scatter",
         "x": [
          0,
          1.35418877501529,
          1.35418877501529,
          0
         ],
         "xaxis": "x",
         "y": [
          -785,
          -785,
          -795,
          -795
         ],
         "yaxis": "y"
        },
        {
         "hoverinfo": "text",
         "marker": {
          "color": "rgb(0,116,217)"
         },
         "mode": "lines",
         "text": [
          "histoire_amour_amoureux_passion_raconter",
          "",
          "",
          "gaston_lagaffe_franquin_gag_dupuis"
         ],
         "type": "scatter",
         "x": [
          1.35418877501529,
          1.4202795209974508,
          1.4202795209974508,
          0
         ],
         "xaxis": "x",
         "y": [
          -790,
          -790,
          -805,
          -805
         ],
         "yaxis": "y"
        },
        {
         "hoverinfo": "text",
         "marker": {
          "color": "rgb(0,116,217)"
         },
         "mode": "lines",
         "text": [
          "muse_art_exposition_morozov_collection",
          "",
          "",
          "gaston_lagaffe_franquin_gag_dupuis"
         ],
         "type": "scatter",
         "x": [
          1.3648402387641547,
          1.457101580046224,
          1.457101580046224,
          1.4202795209974508
         ],
         "xaxis": "x",
         "y": [
          -770,
          -770,
          -797.5,
          -797.5
         ],
         "yaxis": "y"
        },
        {
         "hoverinfo": "text",
         "marker": {
          "color": "rgb(0,116,217)"
         },
         "mode": "lines",
         "text": [
          "critique_bref_livre_manquer_hlne",
          "",
          "",
          "gaston_lagaffe_franquin_gag_dupuis"
         ],
         "type": "scatter",
         "x": [
          1.4097842377267027,
          1.4701292048599826,
          1.4701292048599826,
          1.457101580046224
         ],
         "xaxis": "x",
         "y": [
          -742.5,
          -742.5,
          -783.75,
          -783.75
         ],
         "yaxis": "y"
        },
        {
         "hoverinfo": "text",
         "marker": {
          "color": "rgb(0,116,217)"
         },
         "mode": "lines",
         "text": [
          "csar_illusion_honneur_lgion_crmonie",
          "",
          "",
          "gaston_lagaffe_franquin_gag_dupuis"
         ],
         "type": "scatter",
         "x": [
          1.3051657488129147,
          1.5148917711058167,
          1.5148917711058167,
          1.4701292048599826
         ],
         "xaxis": "x",
         "y": [
          -720,
          -720,
          -763.125,
          -763.125
         ],
         "yaxis": "y"
        },
        {
         "hoverinfo": "text",
         "marker": {
          "color": "rgb(0,116,217)"
         },
         "mode": "lines",
         "text": [
          "csar_illusion_honneur_lgion_crmonie",
          "",
          "",
          "gaston_lagaffe_franquin_gag_dupuis"
         ],
         "type": "scatter",
         "x": [
          1.499034373426705,
          1.5294485674445317,
          1.5294485674445317,
          1.5148917711058167
         ],
         "xaxis": "x",
         "y": [
          -670,
          -670,
          -741.5625,
          -741.5625
         ],
         "yaxis": "y"
        },
        {
         "hoverinfo": "text",
         "marker": {
          "color": "rgb(0,116,217)"
         },
         "mode": "lines",
         "text": [
          "ham_west_ol_hammer_europa",
          "",
          "",
          "grammy_awards_jon_batist_rodrigo"
         ],
         "type": "scatter",
         "x": [
          0,
          1.3353402117588988,
          1.3353402117588988,
          0
         ],
         "xaxis": "x",
         "y": [
          -815,
          -815,
          -825,
          -825
         ],
         "yaxis": "y"
        },
        {
         "hoverinfo": "text",
         "marker": {
          "color": "rgb(0,116,217)"
         },
         "mode": "lines",
         "text": [
          "musique_jazz_classique_instrument_piano",
          "",
          "",
          "album_soundgarden_sortir_presley_nirvana"
         ],
         "type": "scatter",
         "x": [
          0,
          1.2826183874213584,
          1.2826183874213584,
          0
         ],
         "xaxis": "x",
         "y": [
          -845,
          -845,
          -855,
          -855
         ],
         "yaxis": "y"
        },
        {
         "hoverinfo": "text",
         "marker": {
          "color": "rgb(0,116,217)"
         },
         "mode": "lines",
         "text": [
          "concert_rolling_stone_stromae_date",
          "",
          "",
          "musique_album_jazz_classique_instrument"
         ],
         "type": "scatter",
         "x": [
          0,
          1.389318128687413,
          1.389318128687413,
          1.2826183874213584
         ],
         "xaxis": "x",
         "y": [
          -835,
          -835,
          -850,
          -850
         ],
         "yaxis": "y"
        },
        {
         "hoverinfo": "text",
         "marker": {
          "color": "rgb(0,116,217)"
         },
         "mode": "lines",
         "text": [
          "west_ham_grammy_awards_ol",
          "",
          "",
          "musique_album_concert_jazz_classique"
         ],
         "type": "scatter",
         "x": [
          1.3353402117588988,
          1.51801488332081,
          1.51801488332081,
          1.389318128687413
         ],
         "xaxis": "x",
         "y": [
          -820,
          -820,
          -842.5,
          -842.5
         ],
         "yaxis": "y"
        },
        {
         "hoverinfo": "text",
         "marker": {
          "color": "rgb(0,116,217)"
         },
         "mode": "lines",
         "text": [
          "bouquet_michel_comdien_invalide_hommage",
          "",
          "",
          "perrin_jacques_acteur_ralisateur_papadiamandi"
         ],
         "type": "scatter",
         "x": [
          0,
          1.3590696915840899,
          1.3590696915840899,
          0
         ],
         "xaxis": "x",
         "y": [
          -865,
          -865,
          -875,
          -875
         ],
         "yaxis": "y"
        },
        {
         "hoverinfo": "text",
         "marker": {
          "color": "rgb(0,116,217)"
         },
         "mode": "lines",
         "text": [
          "chanteur_arno_belge_72_wanted",
          "",
          "",
          "sheeran_ed_plagiat_shape_you"
         ],
         "type": "scatter",
         "x": [
          0,
          1.3849981593989253,
          1.3849981593989253,
          0
         ],
         "xaxis": "x",
         "y": [
          -885,
          -885,
          -895,
          -895
         ],
         "yaxis": "y"
        },
        {
         "hoverinfo": "text",
         "marker": {
          "color": "rgb(0,116,217)"
         },
         "mode": "lines",
         "text": [
          "bouquet_perrin_michel_jacques_comdien",
          "",
          "",
          "chanteur_ed_sheeran_arno_plagiat"
         ],
         "type": "scatter",
         "x": [
          1.3590696915840899,
          1.4357214256340627,
          1.4357214256340627,
          1.3849981593989253
         ],
         "xaxis": "x",
         "y": [
          -870,
          -870,
          -890,
          -890
         ],
         "yaxis": "y"
        },
        {
         "hoverinfo": "text",
         "marker": {
          "color": "rgb(0,116,217)"
         },
         "mode": "lines",
         "text": [
          "foo_batteur_hawkins_fighter_taylor",
          "",
          "",
          "boycott_artiste_davydova_gadot_datte"
         ],
         "type": "scatter",
         "x": [
          0,
          1.394717566531674,
          1.394717566531674,
          0
         ],
         "xaxis": "x",
         "y": [
          -905,
          -905,
          -915,
          -915
         ],
         "yaxis": "y"
        },
        {
         "hoverinfo": "text",
         "marker": {
          "color": "rgb(0,116,217)"
         },
         "mode": "lines",
         "text": [
          "foo_batteur_hawkins_fighter_taylor",
          "",
          "",
          "boycott_foo_batteur_taylor_hawkins"
         ],
         "type": "scatter",
         "x": [
          1.4357214256340627,
          1.4456453635762314,
          1.4456453635762314,
          1.394717566531674
         ],
         "xaxis": "x",
         "y": [
          -880,
          -880,
          -910,
          -910
         ],
         "yaxis": "y"
        },
        {
         "hoverinfo": "text",
         "marker": {
          "color": "rgb(0,116,217)"
         },
         "mode": "lines",
         "text": [
          "cinma_film_salle_voir_clef",
          "",
          "",
          "batman_pattinson_the_knight_robert"
         ],
         "type": "scatter",
         "x": [
          0,
          1.3114313133226678,
          1.3114313133226678,
          0
         ],
         "xaxis": "x",
         "y": [
          -925,
          -925,
          -935,
          -935
         ],
         "yaxis": "y"
        },
        {
         "hoverinfo": "text",
         "marker": {
          "color": "rgb(0,116,217)"
         },
         "mode": "lines",
         "text": [
          "cinma_film_batman_salle_voir",
          "",
          "",
          "willis_bruce_aphasie_carrire_acteur"
         ],
         "type": "scatter",
         "x": [
          1.3114313133226678,
          1.4045567915886183,
          1.4045567915886183,
          0
         ],
         "xaxis": "x",
         "y": [
          -930,
          -930,
          -945,
          -945
         ],
         "yaxis": "y"
        },
        {
         "hoverinfo": "text",
         "marker": {
          "color": "rgb(0,116,217)"
         },
         "mode": "lines",
         "text": [
          "cinma_film_batman_salle_voir",
          "",
          "",
          "cinma_film_willis_bruce_batman"
         ],
         "type": "scatter",
         "x": [
          1.4456453635762314,
          1.5265795957982826,
          1.5265795957982826,
          1.4045567915886183
         ],
         "xaxis": "x",
         "y": [
          -895,
          -895,
          -937.5,
          -937.5
         ],
         "yaxis": "y"
        },
        {
         "hoverinfo": "text",
         "marker": {
          "color": "rgb(0,116,217)"
         },
         "mode": "lines",
         "text": [
          "cinma_film_batman_salle_voir",
          "",
          "",
          "cinma_film_willis_bruce_batman"
         ],
         "type": "scatter",
         "x": [
          1.51801488332081,
          1.577504829246059,
          1.577504829246059,
          1.5265795957982826
         ],
         "xaxis": "x",
         "y": [
          -831.25,
          -831.25,
          -916.25,
          -916.25
         ],
         "yaxis": "y"
        },
        {
         "hoverinfo": "text",
         "marker": {
          "color": "rgb(0,116,217)"
         },
         "mode": "lines",
         "text": [
          "cinma_film_batman_salle_voir",
          "",
          "",
          "cinma_film_willis_bruce_batman"
         ],
         "type": "scatter",
         "x": [
          1.5294485674445317,
          1.5910164689806177,
          1.5910164689806177,
          1.577504829246059
         ],
         "xaxis": "x",
         "y": [
          -705.78125,
          -705.78125,
          -873.75,
          -873.75
         ],
         "yaxis": "y"
        },
        {
         "hoverinfo": "text",
         "marker": {
          "color": "rgb(0,116,217)"
         },
         "mode": "lines",
         "text": [
          "champ_mezzo_discours_mars_vanetty",
          "",
          "",
          "opra_cosi_blnd_bastill_tutte"
         ],
         "type": "scatter",
         "x": [
          0,
          1.3936188699978862,
          1.3936188699978862,
          0
         ],
         "xaxis": "x",
         "y": [
          -955,
          -955,
          -965,
          -965
         ],
         "yaxis": "y"
        },
        {
         "hoverinfo": "text",
         "marker": {
          "color": "rgb(0,116,217)"
         },
         "mode": "lines",
         "text": [
          "ballet_chtelet_city_thtre_refuge",
          "",
          "",
          "troupe_avance_russe_retrait_kadyrovtsy"
         ],
         "type": "scatter",
         "x": [
          0,
          1.337451276664083,
          1.337451276664083,
          0
         ],
         "xaxis": "x",
         "y": [
          -975,
          -975,
          -985,
          -985
         ],
         "yaxis": "y"
        },
        {
         "hoverinfo": "text",
         "marker": {
          "color": "rgb(0,116,217)"
         },
         "mode": "lines",
         "text": [
          "ballet_chtelet_city_thtre_refuge",
          "",
          "",
          "troupe_ballet_chtelet_city_kiev"
         ],
         "type": "scatter",
         "x": [
          1.3936188699978862,
          1.482361152217293,
          1.482361152217293,
          1.337451276664083
         ],
         "xaxis": "x",
         "y": [
          -960,
          -960,
          -980,
          -980
         ],
         "yaxis": "y"
        },
        {
         "hoverinfo": "text",
         "marker": {
          "color": "rgb(0,116,217)"
         },
         "mode": "lines",
         "text": [
          "donbass_offensive_bataille_dbuter_referme",
          "",
          "",
          "envoy_figaro_rcit_spcial_lymany"
         ],
         "type": "scatter",
         "x": [
          0,
          1.2738945262597692,
          1.2738945262597692,
          0
         ],
         "xaxis": "x",
         "y": [
          -995,
          -995,
          -1005,
          -1005
         ],
         "yaxis": "y"
        },
        {
         "hoverinfo": "text",
         "marker": {
          "color": "rgb(0,116,217)"
         },
         "mode": "lines",
         "text": [
          "donbass_envoy_figaro_rcit_spcial",
          "",
          "",
          "htel_avis_expert_figaro_htellerie"
         ],
         "type": "scatter",
         "x": [
          1.2738945262597692,
          1.4133479871780184,
          1.4133479871780184,
          0
         ],
         "xaxis": "x",
         "y": [
          -1000,
          -1000,
          -1015,
          -1015
         ],
         "yaxis": "y"
        },
        {
         "hoverinfo": "text",
         "marker": {
          "color": "rgb(0,116,217)"
         },
         "mode": "lines",
         "text": [
          "donbass_envoy_figaro_rcit_spcial",
          "",
          "",
          "htel_avis_expert_figaro_htellerie"
         ],
         "type": "scatter",
         "x": [
          1.482361152217293,
          1.5910643550887535,
          1.5910643550887535,
          1.4133479871780184
         ],
         "xaxis": "x",
         "y": [
          -970,
          -970,
          -1007.5,
          -1007.5
         ],
         "yaxis": "y"
        },
        {
         "hoverinfo": "text",
         "marker": {
          "color": "rgb(0,116,217)"
         },
         "mode": "lines",
         "text": [
          "cizeron_papadaki_gabriella_artistique_patinage",
          "",
          "",
          "montpellier_sage_patinage_bernadett_dant"
         ],
         "type": "scatter",
         "x": [
          0,
          1.3190909928511767,
          1.3190909928511767,
          0
         ],
         "xaxis": "x",
         "y": [
          -1025,
          -1025,
          -1035,
          -1035
         ],
         "yaxis": "y"
        },
        {
         "hoverinfo": "text",
         "marker": {
          "color": "rgb(0,116,217)"
         },
         "mode": "lines",
         "text": [
          "foot_club_amateur_asics_illia",
          "",
          "",
          "physique_physiquement_woodward_surgical_hosoi"
         ],
         "type": "scatter",
         "x": [
          0,
          1.333695594495709,
          1.333695594495709,
          0
         ],
         "xaxis": "x",
         "y": [
          -1045,
          -1045,
          -1055,
          -1055
         ],
         "yaxis": "y"
        },
        {
         "hoverinfo": "text",
         "marker": {
          "color": "rgb(0,116,217)"
         },
         "mode": "lines",
         "text": [
          "cizeron_papadaki_montpellier_artistique_patinage",
          "",
          "",
          "physique_foot_club_physiquement_amateur"
         ],
         "type": "scatter",
         "x": [
          1.3190909928511767,
          1.4799912060403841,
          1.4799912060403841,
          1.333695594495709
         ],
         "xaxis": "x",
         "y": [
          -1030,
          -1030,
          -1050,
          -1050
         ],
         "yaxis": "y"
        },
        {
         "hoverinfo": "text",
         "marker": {
          "color": "rgb(0,116,217)"
         },
         "mode": "lines",
         "text": [
          "mental_pdopsychiatre_psychologue_signalement_psychiatrie",
          "",
          "",
          "handicap_allocation_adulte_handicaper_bouger"
         ],
         "type": "scatter",
         "x": [
          0,
          1.3789409614082975,
          1.3789409614082975,
          0
         ],
         "xaxis": "x",
         "y": [
          -1065,
          -1065,
          -1075,
          -1075
         ],
         "yaxis": "y"
        },
        {
         "hoverinfo": "text",
         "marker": {
          "color": "rgb(0,116,217)"
         },
         "mode": "lines",
         "text": [
          "alzheimer_maladie_parkinson_gntique_pathologie",
          "",
          "",
          "endomtriose_silencieux_patient_symptme_douleur"
         ],
         "type": "scatter",
         "x": [
          0,
          1.3588660904452936,
          1.3588660904452936,
          0
         ],
         "xaxis": "x",
         "y": [
          -1085,
          -1085,
          -1095,
          -1095
         ],
         "yaxis": "y"
        },
        {
         "hoverinfo": "text",
         "marker": {
          "color": "rgb(0,116,217)"
         },
         "mode": "lines",
         "text": [
          "handicap_allocation_mental_adulte_pdopsychiatre",
          "",
          "",
          "endomtriose_alzheimer_maladie_symptme_parkinson"
         ],
         "type": "scatter",
         "x": [
          1.3789409614082975,
          1.432989616544588,
          1.432989616544588,
          1.3588660904452936
         ],
         "xaxis": "x",
         "y": [
          -1070,
          -1070,
          -1090,
          -1090
         ],
         "yaxis": "y"
        },
        {
         "hoverinfo": "text",
         "marker": {
          "color": "rgb(0,116,217)"
         },
         "mode": "lines",
         "text": [
          "handicap_allocation_mental_adulte_pdopsychiatre",
          "",
          "",
          "endomtriose_alzheimer_maladie_symptme_parkinson"
         ],
         "type": "scatter",
         "x": [
          1.4799912060403841,
          1.5200357991933493,
          1.5200357991933493,
          1.432989616544588
         ],
         "xaxis": "x",
         "y": [
          -1040,
          -1040,
          -1080,
          -1080
         ],
         "yaxis": "y"
        },
        {
         "hoverinfo": "text",
         "marker": {
          "color": "rgb(0,116,217)"
         },
         "mode": "lines",
         "text": [
          "mutation_gnome_dfectueux_crispr_xb7",
          "",
          "",
          "biodiversit_bio_microplastique_embryon_microplastiqu"
         ],
         "type": "scatter",
         "x": [
          0,
          1.363086943988875,
          1.363086943988875,
          0
         ],
         "xaxis": "x",
         "y": [
          -1105,
          -1105,
          -1115,
          -1115
         ],
         "yaxis": "y"
        },
        {
         "hoverinfo": "text",
         "marker": {
          "color": "rgb(0,116,217)"
         },
         "mode": "lines",
         "text": [
          "biodiversit_bio_humain_microplastique_mutation",
          "",
          "",
          "animal_zoo_animalist_lphant_hologramme"
         ],
         "type": "scatter",
         "x": [
          1.363086943988875,
          1.40607527519201,
          1.40607527519201,
          0
         ],
         "xaxis": "x",
         "y": [
          -1110,
          -1110,
          -1125,
          -1125
         ],
         "yaxis": "y"
        },
        {
         "hoverinfo": "text",
         "marker": {
          "color": "rgb(0,116,217)"
         },
         "mode": "lines",
         "text": [
          "pesticide_lgume_pistache_fruit_insecticide",
          "",
          "",
          "cancer_poumon_traitement_dulcorant_nitrate"
         ],
         "type": "scatter",
         "x": [
          0,
          1.3533433144953824,
          1.3533433144953824,
          0
         ],
         "xaxis": "x",
         "y": [
          -1135,
          -1135,
          -1145,
          -1145
         ],
         "yaxis": "y"
        },
        {
         "hoverinfo": "text",
         "marker": {
          "color": "rgb(0,116,217)"
         },
         "mode": "lines",
         "text": [
          "pesticide_lgume_pistache_fruit_insecticide",
          "",
          "",
          "cancer_pesticide_poumon_traitement_dulcorant"
         ],
         "type": "scatter",
         "x": [
          1.40607527519201,
          1.4291458562201225,
          1.4291458562201225,
          1.3533433144953824
         ],
         "xaxis": "x",
         "y": [
          -1117.5,
          -1117.5,
          -1140,
          -1140
         ],
         "yaxis": "y"
        },
        {
         "hoverinfo": "text",
         "marker": {
          "color": "rgb(0,116,217)"
         },
         "mode": "lines",
         "text": [
          "ditorial_auditeur_vitement_gronde_ncessiter",
          "",
          "",
          "socit_aro_quarrissage_rgisseur_mahu"
         ],
         "type": "scatter",
         "x": [
          0,
          1.3443116947142573,
          1.3443116947142573,
          0
         ],
         "xaxis": "x",
         "y": [
          -1155,
          -1155,
          -1165,
          -1165
         ],
         "yaxis": "y"
        },
        {
         "hoverinfo": "text",
         "marker": {
          "color": "rgb(0,116,217)"
         },
         "mode": "lines",
         "text": [
          "socit_ditorial_aro_auditeur_trastour",
          "",
          "",
          "entrepreneur_entrepreneuriat_work_individuel_hamz"
         ],
         "type": "scatter",
         "x": [
          1.3443116947142573,
          1.4121016910430537,
          1.4121016910430537,
          0
         ],
         "xaxis": "x",
         "y": [
          -1160,
          -1160,
          -1175,
          -1175
         ],
         "yaxis": "y"
        },
        {
         "hoverinfo": "text",
         "marker": {
          "color": "rgb(0,116,217)"
         },
         "mode": "lines",
         "text": [
          "socit_ditorial_aro_auditeur_trastour",
          "",
          "",
          "entrepreneur_entrepreneuriat_work_individuel_hamz"
         ],
         "type": "scatter",
         "x": [
          1.4291458562201225,
          1.4917200981503052,
          1.4917200981503052,
          1.4121016910430537
         ],
         "xaxis": "x",
         "y": [
          -1128.75,
          -1128.75,
          -1167.5,
          -1167.5
         ],
         "yaxis": "y"
        },
        {
         "hoverinfo": "text",
         "marker": {
          "color": "rgb(0,116,217)"
         },
         "mode": "lines",
         "text": [
          "charger_charge_prise_chargeur_planification",
          "",
          "",
          "pension_pensionnat_divorcer_alimentaire_autochtone"
         ],
         "type": "scatter",
         "x": [
          0,
          1.38729893968439,
          1.38729893968439,
          0
         ],
         "xaxis": "x",
         "y": [
          -1185,
          -1185,
          -1195,
          -1195
         ],
         "yaxis": "y"
        },
        {
         "hoverinfo": "text",
         "marker": {
          "color": "rgb(0,116,217)"
         },
         "mode": "lines",
         "text": [
          "chat_joann_sfar_rabbin_choisir",
          "",
          "",
          "caisse_ticket_association_consommateur_imprimer"
         ],
         "type": "scatter",
         "x": [
          0,
          1.371391550385682,
          1.371391550385682,
          0
         ],
         "xaxis": "x",
         "y": [
          -1205,
          -1205,
          -1215,
          -1215
         ],
         "yaxis": "y"
        },
        {
         "hoverinfo": "text",
         "marker": {
          "color": "rgb(0,116,217)"
         },
         "mode": "lines",
         "text": [
          "caisse_chat_ticket_association_consommateur",
          "",
          "",
          "huile_tournesol_pnurie_colza_huil"
         ],
         "type": "scatter",
         "x": [
          1.371391550385682,
          1.4321453907660462,
          1.4321453907660462,
          0
         ],
         "xaxis": "x",
         "y": [
          -1210,
          -1210,
          -1225,
          -1225
         ],
         "yaxis": "y"
        },
        {
         "hoverinfo": "text",
         "marker": {
          "color": "rgb(0,116,217)"
         },
         "mode": "lines",
         "text": [
          "pension_charger_charge_pensionnat_divorcer",
          "",
          "",
          "huile_tournesol_pnurie_colza_huil"
         ],
         "type": "scatter",
         "x": [
          1.38729893968439,
          1.4597512829393204,
          1.4597512829393204,
          1.4321453907660462
         ],
         "xaxis": "x",
         "y": [
          -1190,
          -1190,
          -1217.5,
          -1217.5
         ],
         "yaxis": "y"
        },
        {
         "hoverinfo": "text",
         "marker": {
          "color": "rgb(0,116,217)"
         },
         "mode": "lines",
         "text": [
          "restaurateur_restaurer_intimiste_doublement_castellano",
          "",
          "",
          "franchise_1kubator_mature_franchiser_boutiqu"
         ],
         "type": "scatter",
         "x": [
          0,
          1.3341178231273456,
          1.3341178231273456,
          0
         ],
         "xaxis": "x",
         "y": [
          -1235,
          -1235,
          -1245,
          -1245
         ],
         "yaxis": "y"
        },
        {
         "hoverinfo": "text",
         "marker": {
          "color": "rgb(0,116,217)"
         },
         "mode": "lines",
         "text": [
          "restaurateur_restaurer_intimiste_doublement_castellano",
          "",
          "",
          "franchise_restaurateur_restaurer_1kubator_mature"
         ],
         "type": "scatter",
         "x": [
          1.4597512829393204,
          1.4806492946196133,
          1.4806492946196133,
          1.3341178231273456
         ],
         "xaxis": "x",
         "y": [
          -1203.75,
          -1203.75,
          -1240,
          -1240
         ],
         "yaxis": "y"
        },
        {
         "hoverinfo": "text",
         "marker": {
          "color": "rgb(0,116,217)"
         },
         "mode": "lines",
         "text": [
          "rgion_priode_portugal_partir_mto",
          "",
          "",
          "tendance_immobilier_conseil_savoir_rgion"
         ],
         "type": "scatter",
         "x": [
          0,
          1.3389057876012207,
          1.3389057876012207,
          0
         ],
         "xaxis": "x",
         "y": [
          -1255,
          -1255,
          -1265,
          -1265
         ],
         "yaxis": "y"
        },
        {
         "hoverinfo": "text",
         "marker": {
          "color": "rgb(0,116,217)"
         },
         "mode": "lines",
         "text": [
          "rgion_priode_portugal_partir_mto",
          "",
          "",
          "tendance_rgion_priode_portugal_partir"
         ],
         "type": "scatter",
         "x": [
          1.4806492946196133,
          1.5156232512006742,
          1.5156232512006742,
          1.3389057876012207
         ],
         "xaxis": "x",
         "y": [
          -1221.875,
          -1221.875,
          -1260,
          -1260
         ],
         "yaxis": "y"
        },
        {
         "hoverinfo": "text",
         "marker": {
          "color": "rgb(0,116,217)"
         },
         "mode": "lines",
         "text": [
          "marketing_job_immoral_lait_fabricant",
          "",
          "",
          "cher_htro_tagre_consomme_convoiter"
         ],
         "type": "scatter",
         "x": [
          0,
          1.3673054489648542,
          1.3673054489648542,
          0
         ],
         "xaxis": "x",
         "y": [
          -1275,
          -1275,
          -1285,
          -1285
         ],
         "yaxis": "y"
        },
        {
         "hoverinfo": "text",
         "marker": {
          "color": "rgb(0,116,217)"
         },
         "mode": "lines",
         "text": [
          "astuce_kondo_optimiser_multitche_troller",
          "",
          "",
          "dentiste_mutilation_dent_guedj_dentaire"
         ],
         "type": "scatter",
         "x": [
          0,
          1.3921825033609343,
          1.3921825033609343,
          0
         ],
         "xaxis": "x",
         "y": [
          -1295,
          -1295,
          -1305,
          -1305
         ],
         "yaxis": "y"
        },
        {
         "hoverinfo": "text",
         "marker": {
          "color": "rgb(0,116,217)"
         },
         "mode": "lines",
         "text": [
          "folie_olien_mditerrane_flottant_stylo",
          "",
          "",
          "fossile_nergie_dpendance_addiction_hydrocarbure"
         ],
         "type": "scatter",
         "x": [
          0,
          1.3990354493182564,
          1.3990354493182564,
          0
         ],
         "xaxis": "x",
         "y": [
          -1315,
          -1315,
          -1325,
          -1325
         ],
         "yaxis": "y"
        },
        {
         "hoverinfo": "text",
         "marker": {
          "color": "rgb(0,116,217)"
         },
         "mode": "lines",
         "text": [
          "dentiste_mutilation_astuce_dent_guedj",
          "",
          "",
          "fossile_nergie_dpendance_addiction_hydrocarbure"
         ],
         "type": "scatter",
         "x": [
          1.3921825033609343,
          1.4386118614894592,
          1.4386118614894592,
          1.3990354493182564
         ],
         "xaxis": "x",
         "y": [
          -1300,
          -1300,
          -1320,
          -1320
         ],
         "yaxis": "y"
        },
        {
         "hoverinfo": "text",
         "marker": {
          "color": "rgb(0,116,217)"
         },
         "mode": "lines",
         "text": [
          "nfl_brady_football_footballeur_tom",
          "",
          "",
          "cryptomonnaie_bitcoin_crypto_minage_texa"
         ],
         "type": "scatter",
         "x": [
          0,
          1.37654436619751,
          1.37654436619751,
          0
         ],
         "xaxis": "x",
         "y": [
          -1335,
          -1335,
          -1345,
          -1345
         ],
         "yaxis": "y"
        },
        {
         "hoverinfo": "text",
         "marker": {
          "color": "rgb(0,116,217)"
         },
         "mode": "lines",
         "text": [
          "nfl_brady_football_footballeur_tom",
          "",
          "",
          "cryptomonnaie_bitcoin_crypto_nfl_minage"
         ],
         "type": "scatter",
         "x": [
          1.4386118614894592,
          1.4568211550663386,
          1.4568211550663386,
          1.37654436619751
         ],
         "xaxis": "x",
         "y": [
          -1310,
          -1310,
          -1340,
          -1340
         ],
         "yaxis": "y"
        },
        {
         "hoverinfo": "text",
         "marker": {
          "color": "rgb(0,116,217)"
         },
         "mode": "lines",
         "text": [
          "marketing_cher_job_immoral_mle",
          "",
          "",
          "cryptomonnaie_bitcoin_crypto_nfl_minage"
         ],
         "type": "scatter",
         "x": [
          1.3673054489648542,
          1.4670140847854602,
          1.4670140847854602,
          1.4568211550663386
         ],
         "xaxis": "x",
         "y": [
          -1280,
          -1280,
          -1325,
          -1325
         ],
         "yaxis": "y"
        },
        {
         "hoverinfo": "text",
         "marker": {
          "color": "rgb(0,116,217)"
         },
         "mode": "lines",
         "text": [
          "supporter_sampaoli_om_marseillais_heurt",
          "",
          "",
          "monaco_euroligue_olympiako_braga_2001"
         ],
         "type": "scatter",
         "x": [
          0,
          1.3938666293050541,
          1.3938666293050541,
          0
         ],
         "xaxis": "x",
         "y": [
          -1355,
          -1355,
          -1365,
          -1365
         ],
         "yaxis": "y"
        },
        {
         "hoverinfo": "text",
         "marker": {
          "color": "rgb(0,116,217)"
         },
         "mode": "lines",
         "text": [
          "supporter_sampaoli_om_marseillais_heurt",
          "",
          "",
          "supporter_monaco_sampaoli_euroligue_om"
         ],
         "type": "scatter",
         "x": [
          1.4670140847854602,
          1.4754756769466233,
          1.4754756769466233,
          1.3938666293050541
         ],
         "xaxis": "x",
         "y": [
          -1302.5,
          -1302.5,
          -1360,
          -1360
         ],
         "yaxis": "y"
        },
        {
         "hoverinfo": "text",
         "marker": {
          "color": "rgb(0,116,217)"
         },
         "mode": "lines",
         "text": [
          "bureau_argot_branding_sourcing_ja",
          "",
          "",
          "textile_recyclage_fibre_recycler_filature"
         ],
         "type": "scatter",
         "x": [
          0,
          1.39029322905196,
          1.39029322905196,
          0
         ],
         "xaxis": "x",
         "y": [
          -1375,
          -1375,
          -1385,
          -1385
         ],
         "yaxis": "y"
        },
        {
         "hoverinfo": "text",
         "marker": {
          "color": "rgb(0,116,217)"
         },
         "mode": "lines",
         "text": [
          "aroport_air_franc_klm_aviation",
          "",
          "",
          "boeing_132_crash_737_occupant"
         ],
         "type": "scatter",
         "x": [
          0,
          1.3725025252524514,
          1.3725025252524514,
          0
         ],
         "xaxis": "x",
         "y": [
          -1395,
          -1395,
          -1405,
          -1405
         ],
         "yaxis": "y"
        },
        {
         "hoverinfo": "text",
         "marker": {
          "color": "rgb(0,116,217)"
         },
         "mode": "lines",
         "text": [
          "aroport_air_franc_klm_aviation",
          "",
          "",
          "aroport_air_boeing_132_crash"
         ],
         "type": "scatter",
         "x": [
          1.39029322905196,
          1.4556438105500356,
          1.4556438105500356,
          1.3725025252524514
         ],
         "xaxis": "x",
         "y": [
          -1380,
          -1380,
          -1400,
          -1400
         ],
         "yaxis": "y"
        },
        {
         "hoverinfo": "text",
         "marker": {
          "color": "rgb(0,116,217)"
         },
         "mode": "lines",
         "text": [
          "cocktail_molotov_dnipro_phromone_mixologie",
          "",
          "",
          "barbecue_allumer_intoxiquer_grille_zfe"
         ],
         "type": "scatter",
         "x": [
          0,
          1.366281194127674,
          1.366281194127674,
          0
         ],
         "xaxis": "x",
         "y": [
          -1415,
          -1415,
          -1425,
          -1425
         ],
         "yaxis": "y"
        },
        {
         "hoverinfo": "text",
         "marker": {
          "color": "rgb(0,116,217)"
         },
         "mode": "lines",
         "text": [
          "drone_tb2_kamikaze_switchblade_atout",
          "",
          "",
          "robot_aspirateur_irobot_serveur_ocean"
         ],
         "type": "scatter",
         "x": [
          0,
          1.376711282238265,
          1.376711282238265,
          0
         ],
         "xaxis": "x",
         "y": [
          -1435,
          -1435,
          -1445,
          -1445
         ],
         "yaxis": "y"
        },
        {
         "hoverinfo": "text",
         "marker": {
          "color": "rgb(0,116,217)"
         },
         "mode": "lines",
         "text": [
          "jardin_cacher_cache_achromatique_delacroix",
          "",
          "",
          "environnement_environnemental_urbanisme_construction_trimouss"
         ],
         "type": "scatter",
         "x": [
          0,
          1.401323987240324,
          1.401323987240324,
          0
         ],
         "xaxis": "x",
         "y": [
          -1455,
          -1455,
          -1465,
          -1465
         ],
         "yaxis": "y"
        },
        {
         "hoverinfo": "text",
         "marker": {
          "color": "rgb(0,116,217)"
         },
         "mode": "lines",
         "text": [
          "robot_drone_aspirateur_irobot_serveur",
          "",
          "",
          "jardin_environnement_cacher_cache_environnemental"
         ],
         "type": "scatter",
         "x": [
          1.376711282238265,
          1.433582185074858,
          1.433582185074858,
          1.401323987240324
         ],
         "xaxis": "x",
         "y": [
          -1440,
          -1440,
          -1460,
          -1460
         ],
         "yaxis": "y"
        },
        {
         "hoverinfo": "text",
         "marker": {
          "color": "rgb(0,116,217)"
         },
         "mode": "lines",
         "text": [
          "cocktail_barbecue_molotov_allumer_intoxiquer",
          "",
          "",
          "jardin_environnement_cacher_cache_environnemental"
         ],
         "type": "scatter",
         "x": [
          1.366281194127674,
          1.4644484483691507,
          1.4644484483691507,
          1.433582185074858
         ],
         "xaxis": "x",
         "y": [
          -1420,
          -1420,
          -1450,
          -1450
         ],
         "yaxis": "y"
        },
        {
         "hoverinfo": "text",
         "marker": {
          "color": "rgb(0,116,217)"
         },
         "mode": "lines",
         "text": [
          "cocktail_barbecue_molotov_allumer_intoxiquer",
          "",
          "",
          "jardin_environnement_cacher_cache_environnemental"
         ],
         "type": "scatter",
         "x": [
          1.4556438105500356,
          1.484122001946083,
          1.484122001946083,
          1.4644484483691507
         ],
         "xaxis": "x",
         "y": [
          -1390,
          -1390,
          -1435,
          -1435
         ],
         "yaxis": "y"
        },
        {
         "hoverinfo": "text",
         "marker": {
          "color": "rgb(0,116,217)"
         },
         "mode": "lines",
         "text": [
          "yacht_oligarque_ciotat_immobiliser_milliardaire",
          "",
          "",
          "tunisie_tunisien_saed_parlement_kas"
         ],
         "type": "scatter",
         "x": [
          0,
          1.3962406227333446,
          1.3962406227333446,
          0
         ],
         "xaxis": "x",
         "y": [
          -1475,
          -1475,
          -1485,
          -1485
         ],
         "yaxis": "y"
        },
        {
         "hoverinfo": "text",
         "marker": {
          "color": "rgb(0,116,217)"
         },
         "mode": "lines",
         "text": [
          "ramadan_jener_tariq_prire_ramatuell",
          "",
          "",
          "ymen_trve_belligrant_ymnite_diaporama"
         ],
         "type": "scatter",
         "x": [
          0,
          1.3513421591413977,
          1.3513421591413977,
          0
         ],
         "xaxis": "x",
         "y": [
          -1495,
          -1495,
          -1505,
          -1505
         ],
         "yaxis": "y"
        },
        {
         "hoverinfo": "text",
         "marker": {
          "color": "rgb(0,116,217)"
         },
         "mode": "lines",
         "text": [
          "yacht_tunisie_tunisien_saed_oligarque",
          "",
          "",
          "ramadan_ymen_trve_belligrant_jener"
         ],
         "type": "scatter",
         "x": [
          1.3962406227333446,
          1.4493594083891566,
          1.4493594083891566,
          1.3513421591413977
         ],
         "xaxis": "x",
         "y": [
          -1480,
          -1480,
          -1500,
          -1500
         ],
         "yaxis": "y"
        },
        {
         "hoverinfo": "text",
         "marker": {
          "color": "rgb(0,116,217)"
         },
         "mode": "lines",
         "text": [
          "motogp_quartararo_fabio_zarco_johann",
          "",
          "",
          "saison_youcef_atal_ogc_bridgerton"
         ],
         "type": "scatter",
         "x": [
          0,
          1.4019365781581405,
          1.4019365781581405,
          0
         ],
         "xaxis": "x",
         "y": [
          -1515,
          -1515,
          -1525,
          -1525
         ],
         "yaxis": "y"
        },
        {
         "hoverinfo": "text",
         "marker": {
          "color": "rgb(0,116,217)"
         },
         "mode": "lines",
         "text": [
          "eriksen_cardiaque_danois_rejouer_christian",
          "",
          "",
          "handball_bulleux_mikkel_hansen_chlo"
         ],
         "type": "scatter",
         "x": [
          0,
          1.3864718284834405,
          1.3864718284834405,
          0
         ],
         "xaxis": "x",
         "y": [
          -1535,
          -1535,
          -1545,
          -1545
         ],
         "yaxis": "y"
        },
        {
         "hoverinfo": "text",
         "marker": {
          "color": "rgb(0,116,217)"
         },
         "mode": "lines",
         "text": [
          "provence_alpes_haut_aix_rochette",
          "",
          "",
          "humour_coquette_trio_tromp_incisif"
         ],
         "type": "scatter",
         "x": [
          0,
          1.3959143794731996,
          1.3959143794731996,
          0
         ],
         "xaxis": "x",
         "y": [
          -1555,
          -1555,
          -1565,
          -1565
         ],
         "yaxis": "y"
        },
        {
         "hoverinfo": "text",
         "marker": {
          "color": "rgb(0,116,217)"
         },
         "mode": "lines",
         "text": [
          "handball_eriksen_cardiaque_rejouer_danois",
          "",
          "",
          "provence_alpes_haut_humour_aix"
         ],
         "type": "scatter",
         "x": [
          1.3864718284834405,
          1.4288181391480277,
          1.4288181391480277,
          1.3959143794731996
         ],
         "xaxis": "x",
         "y": [
          -1540,
          -1540,
          -1560,
          -1560
         ],
         "yaxis": "y"
        },
        {
         "hoverinfo": "text",
         "marker": {
          "color": "rgb(0,116,217)"
         },
         "mode": "lines",
         "text": [
          "motogp_quartararo_fabio_zarco_johann",
          "",
          "",
          "provence_alpes_haut_humour_aix"
         ],
         "type": "scatter",
         "x": [
          1.4019365781581405,
          1.4484157743222255,
          1.4484157743222255,
          1.4288181391480277
         ],
         "xaxis": "x",
         "y": [
          -1520,
          -1520,
          -1550,
          -1550
         ],
         "yaxis": "y"
        },
        {
         "hoverinfo": "text",
         "marker": {
          "color": "rgb(0,116,217)"
         },
         "mode": "lines",
         "text": [
          "depp_amber_heard_johnny_tribunal",
          "",
          "",
          "berry_diffamation_richard_coline_manson"
         ],
         "type": "scatter",
         "x": [
          0,
          1.3912142608598992,
          1.3912142608598992,
          0
         ],
         "xaxis": "x",
         "y": [
          -1575,
          -1575,
          -1585,
          -1585
         ],
         "yaxis": "y"
        },
        {
         "hoverinfo": "text",
         "marker": {
          "color": "rgb(0,116,217)"
         },
         "mode": "lines",
         "text": [
          "vatican_unesco_curie_ciase_pape",
          "",
          "",
          "barrire_corail_blanchissement_australie_vaste"
         ],
         "type": "scatter",
         "x": [
          0,
          1.3846471341865971,
          1.3846471341865971,
          0
         ],
         "xaxis": "x",
         "y": [
          -1595,
          -1595,
          -1605,
          -1605
         ],
         "yaxis": "y"
        },
        {
         "hoverinfo": "text",
         "marker": {
          "color": "rgb(0,116,217)"
         },
         "mode": "lines",
         "text": [
          "magnitude_sisme_japon_tsunami_enregistrer",
          "",
          "",
          "dangereux_danger_liaison_quantit_redevient"
         ],
         "type": "scatter",
         "x": [
          0,
          1.4046060054212417,
          1.4046060054212417,
          0
         ],
         "xaxis": "x",
         "y": [
          -1615,
          -1615,
          -1625,
          -1625
         ],
         "yaxis": "y"
        },
        {
         "hoverinfo": "text",
         "marker": {
          "color": "rgb(0,116,217)"
         },
         "mode": "lines",
         "text": [
          "publireportage_cadeau_westfield_rodamco_therapy",
          "",
          "",
          "euthanasie_guay_sdation_morhedec_palliatif"
         ],
         "type": "scatter",
         "x": [
          0,
          1.4144043944287525,
          1.4144043944287525,
          0
         ],
         "xaxis": "x",
         "y": [
          -1645,
          -1645,
          -1655,
          -1655
         ],
         "yaxis": "y"
        },
        {
         "hoverinfo": "text",
         "marker": {
          "color": "rgb(0,116,217)"
         },
         "mode": "lines",
         "text": [
          "fracture_ngligence_maurin_rsidente_coquerel",
          "",
          "",
          "euthanasie_guay_sdation_morhedec_palliatif"
         ],
         "type": "scatter",
         "x": [
          0,
          1.423370243586422,
          1.423370243586422,
          1.4144043944287525
         ],
         "xaxis": "x",
         "y": [
          -1635,
          -1635,
          -1650,
          -1650
         ],
         "yaxis": "y"
        },
        {
         "hoverinfo": "text",
         "marker": {
          "color": "rgb(0,116,217)"
         },
         "mode": "lines",
         "text": [
          "fracture_ngligence_maurin_rsidente_coquerel",
          "",
          "",
          "christiane_taubira_taureau_parrainage_faute"
         ],
         "type": "scatter",
         "x": [
          1.423370243586422,
          1.4314127888491395,
          1.4314127888491395,
          0
         ],
         "xaxis": "x",
         "y": [
          -1642.5,
          -1642.5,
          -1665,
          -1665
         ],
         "yaxis": "y"
        },
        {
         "hoverinfo": "text",
         "marker": {
          "color": "rgb(0,116,217)"
         },
         "mode": "lines",
         "text": [
          "diplomate_expulsion_expulser_expulse_espion",
          "",
          "",
          "marathon_boston_gelmiser_deso_ethiopien"
         ],
         "type": "scatter",
         "x": [
          0,
          1.4188623812244503,
          1.4188623812244503,
          0
         ],
         "xaxis": "x",
         "y": [
          -1675,
          -1675,
          -1685,
          -1685
         ],
         "yaxis": "y"
        },
        {
         "hoverinfo": "text",
         "marker": {
          "color": "rgb(0,116,217)"
         },
         "mode": "lines",
         "text": [
          "diplomate_expulsion_expulser_expulse_espion",
          "",
          "",
          "marathon_boston_gelmiser_deso_ethiopien"
         ],
         "type": "scatter",
         "x": [
          1.4314127888491395,
          1.4392633459820627,
          1.4392633459820627,
          1.4188623812244503
         ],
         "xaxis": "x",
         "y": [
          -1653.75,
          -1653.75,
          -1680,
          -1680
         ],
         "yaxis": "y"
        },
        {
         "hoverinfo": "text",
         "marker": {
          "color": "rgb(0,116,217)"
         },
         "mode": "lines",
         "text": [
          "magnitude_sisme_dangereux_japon_tsunami",
          "",
          "",
          "marathon_boston_gelmiser_deso_ethiopien"
         ],
         "type": "scatter",
         "x": [
          1.4046060054212417,
          1.4426202163351722,
          1.4426202163351722,
          1.4392633459820627
         ],
         "xaxis": "x",
         "y": [
          -1620,
          -1620,
          -1666.875,
          -1666.875
         ],
         "yaxis": "y"
        },
        {
         "hoverinfo": "text",
         "marker": {
          "color": "rgb(0,116,217)"
         },
         "mode": "lines",
         "text": [
          "vatican_barrire_corail_blanchissement_australie",
          "",
          "",
          "marathon_boston_gelmiser_deso_ethiopien"
         ],
         "type": "scatter",
         "x": [
          1.3846471341865971,
          1.450868268165332,
          1.450868268165332,
          1.4426202163351722
         ],
         "xaxis": "x",
         "y": [
          -1600,
          -1600,
          -1643.4375,
          -1643.4375
         ],
         "yaxis": "y"
        },
        {
         "hoverinfo": "text",
         "marker": {
          "color": "rgb(0,116,217)"
         },
         "mode": "lines",
         "text": [
          "depp_amber_heard_johnny_berry",
          "",
          "",
          "marathon_boston_gelmiser_deso_ethiopien"
         ],
         "type": "scatter",
         "x": [
          1.3912142608598992,
          1.4522419664369732,
          1.4522419664369732,
          1.450868268165332
         ],
         "xaxis": "x",
         "y": [
          -1580,
          -1580,
          -1621.71875,
          -1621.71875
         ],
         "yaxis": "y"
        },
        {
         "hoverinfo": "text",
         "marker": {
          "color": "rgb(0,116,217)"
         },
         "mode": "lines",
         "text": [
          "spectacle_visionnaire_billion_ophtalmologiste_geneva",
          "",
          "",
          "yves_drian_veyrier_khatia_coppens"
         ],
         "type": "scatter",
         "x": [
          0,
          1.3935347315716884,
          1.3935347315716884,
          0
         ],
         "xaxis": "x",
         "y": [
          -1695,
          -1695,
          -1705,
          -1705
         ],
         "yaxis": "y"
        },
        {
         "hoverinfo": "text",
         "marker": {
          "color": "rgb(0,116,217)"
         },
         "mode": "lines",
         "text": [
          "spectacle_visionnaire_billion_ophtalmologiste_geneva",
          "",
          "",
          "yves_spectacle_drian_visionnaire_veyrier"
         ],
         "type": "scatter",
         "x": [
          1.4522419664369732,
          1.4568637178752817,
          1.4568637178752817,
          1.3935347315716884
         ],
         "xaxis": "x",
         "y": [
          -1600.859375,
          -1600.859375,
          -1700,
          -1700
         ],
         "yaxis": "y"
        },
        {
         "hoverinfo": "text",
         "marker": {
          "color": "rgb(0,116,217)"
         },
         "mode": "lines",
         "text": [
          "spectacle_visionnaire_billion_ophtalmologiste_geneva",
          "",
          "",
          "yves_spectacle_drian_visionnaire_veyrier"
         ],
         "type": "scatter",
         "x": [
          1.4484157743222255,
          1.4719366296459409,
          1.4719366296459409,
          1.4568637178752817
         ],
         "xaxis": "x",
         "y": [
          -1535,
          -1535,
          -1650.4296875,
          -1650.4296875
         ],
         "yaxis": "y"
        },
        {
         "hoverinfo": "text",
         "marker": {
          "color": "rgb(0,116,217)"
         },
         "mode": "lines",
         "text": [
          "spectacle_visionnaire_billion_ophtalmologiste_geneva",
          "",
          "",
          "yves_spectacle_drian_visionnaire_veyrier"
         ],
         "type": "scatter",
         "x": [
          1.4493594083891566,
          1.4951869590265063,
          1.4951869590265063,
          1.4719366296459409
         ],
         "xaxis": "x",
         "y": [
          -1490,
          -1490,
          -1592.71484375,
          -1592.71484375
         ],
         "yaxis": "y"
        },
        {
         "hoverinfo": "text",
         "marker": {
          "color": "rgb(0,116,217)"
         },
         "mode": "lines",
         "text": [
          "spectacle_visionnaire_billion_ophtalmologiste_geneva",
          "",
          "",
          "yves_spectacle_drian_visionnaire_veyrier"
         ],
         "type": "scatter",
         "x": [
          1.484122001946083,
          1.5045462881900726,
          1.5045462881900726,
          1.4951869590265063
         ],
         "xaxis": "x",
         "y": [
          -1412.5,
          -1412.5,
          -1541.357421875,
          -1541.357421875
         ],
         "yaxis": "y"
        },
        {
         "hoverinfo": "text",
         "marker": {
          "color": "rgb(0,116,217)"
         },
         "mode": "lines",
         "text": [
          "fake_vrai_humili_waronfakes_checking",
          "",
          "",
          "artificiel_intelligence_machine_fantun_sophistiquer"
         ],
         "type": "scatter",
         "x": [
          0,
          1.3975587430931755,
          1.3975587430931755,
          0
         ],
         "xaxis": "x",
         "y": [
          -1715,
          -1715,
          -1725,
          -1725
         ],
         "yaxis": "y"
        },
        {
         "hoverinfo": "text",
         "marker": {
          "color": "rgb(0,116,217)"
         },
         "mode": "lines",
         "text": [
          "motion_vif_pablo_burn_longorier",
          "",
          "",
          "pakistan_imran_khan_sharif_shehbaz"
         ],
         "type": "scatter",
         "x": [
          0,
          1.3488651749555127,
          1.3488651749555127,
          0
         ],
         "xaxis": "x",
         "y": [
          -1735,
          -1735,
          -1745,
          -1745
         ],
         "yaxis": "y"
        },
        {
         "hoverinfo": "text",
         "marker": {
          "color": "rgb(0,116,217)"
         },
         "mode": "lines",
         "text": [
          "artificiel_intelligence_fake_vrai_humili",
          "",
          "",
          "motion_pakistan_imran_khan_sharif"
         ],
         "type": "scatter",
         "x": [
          1.3975587430931755,
          1.4570618329315608,
          1.4570618329315608,
          1.3488651749555127
         ],
         "xaxis": "x",
         "y": [
          -1720,
          -1720,
          -1740,
          -1740
         ],
         "yaxis": "y"
        },
        {
         "hoverinfo": "text",
         "marker": {
          "color": "rgb(0,116,217)"
         },
         "mode": "lines",
         "text": [
          "artificiel_intelligence_fake_vrai_humili",
          "",
          "",
          "motion_pakistan_imran_khan_sharif"
         ],
         "type": "scatter",
         "x": [
          1.5045462881900726,
          1.5097604105188782,
          1.5097604105188782,
          1.4570618329315608
         ],
         "xaxis": "x",
         "y": [
          -1476.9287109375,
          -1476.9287109375,
          -1730,
          -1730
         ],
         "yaxis": "y"
        },
        {
         "hoverinfo": "text",
         "marker": {
          "color": "rgb(0,116,217)"
         },
         "mode": "lines",
         "text": [
          "artificiel_intelligence_fake_vrai_humili",
          "",
          "",
          "motion_pakistan_imran_khan_sharif"
         ],
         "type": "scatter",
         "x": [
          1.4754756769466233,
          1.513143508420636,
          1.513143508420636,
          1.5097604105188782
         ],
         "xaxis": "x",
         "y": [
          -1331.25,
          -1331.25,
          -1603.46435546875,
          -1603.46435546875
         ],
         "yaxis": "y"
        },
        {
         "hoverinfo": "text",
         "marker": {
          "color": "rgb(0,116,217)"
         },
         "mode": "lines",
         "text": [
          "artificiel_intelligence_fake_vrai_humili",
          "",
          "",
          "motion_pakistan_imran_khan_sharif"
         ],
         "type": "scatter",
         "x": [
          1.5156232512006742,
          1.5367510142277634,
          1.5367510142277634,
          1.513143508420636
         ],
         "xaxis": "x",
         "y": [
          -1240.9375,
          -1240.9375,
          -1467.357177734375,
          -1467.357177734375
         ],
         "yaxis": "y"
        },
        {
         "hoverinfo": "text",
         "marker": {
          "color": "rgb(0,116,217)"
         },
         "mode": "lines",
         "text": [
          "immersion_immersif_jocond_hypernuit_altspace",
          "",
          "",
          "terrain_wiim_constructible_btir_miner"
         ],
         "type": "scatter",
         "x": [
          0,
          1.3752733740117373,
          1.3752733740117373,
          0
         ],
         "xaxis": "x",
         "y": [
          -1755,
          -1755,
          -1765,
          -1765
         ],
         "yaxis": "y"
        },
        {
         "hoverinfo": "text",
         "marker": {
          "color": "rgb(0,116,217)"
         },
         "mode": "lines",
         "text": [
          "tatillon_cvenol_brin_grand_naturiste",
          "",
          "",
          "maison_vendre_entraide_squatter_villa"
         ],
         "type": "scatter",
         "x": [
          0,
          1.3816525294125415,
          1.3816525294125415,
          0
         ],
         "xaxis": "x",
         "y": [
          -1775,
          -1775,
          -1785,
          -1785
         ],
         "yaxis": "y"
        },
        {
         "hoverinfo": "text",
         "marker": {
          "color": "rgb(0,116,217)"
         },
         "mode": "lines",
         "text": [
          "terrain_immersion_immersif_wiim_constructible",
          "",
          "",
          "maison_toit_prine_tatillon_vendre"
         ],
         "type": "scatter",
         "x": [
          1.3752733740117373,
          1.4397331876256045,
          1.4397331876256045,
          1.3816525294125415
         ],
         "xaxis": "x",
         "y": [
          -1760,
          -1760,
          -1780,
          -1780
         ],
         "yaxis": "y"
        },
        {
         "hoverinfo": "text",
         "marker": {
          "color": "rgb(0,116,217)"
         },
         "mode": "lines",
         "text": [
          "dmocratie_dmocratique_ruecratie_dmagogie_chouraqui",
          "",
          "",
          "libral_fascisme_libralisme_antilibral_anar"
         ],
         "type": "scatter",
         "x": [
          0,
          1.3668229763801905,
          1.3668229763801905,
          0
         ],
         "xaxis": "x",
         "y": [
          -1795,
          -1795,
          -1805,
          -1805
         ],
         "yaxis": "y"
        },
        {
         "hoverinfo": "text",
         "marker": {
          "color": "rgb(0,116,217)"
         },
         "mode": "lines",
         "text": [
          "dmocratie_dmocratique_libral_fascisme_libralisme",
          "",
          "",
          "libert_expression_symbole_zad_libertad"
         ],
         "type": "scatter",
         "x": [
          1.3668229763801905,
          1.4095351654016093,
          1.4095351654016093,
          0
         ],
         "xaxis": "x",
         "y": [
          -1800,
          -1800,
          -1815,
          -1815
         ],
         "yaxis": "y"
        },
        {
         "hoverinfo": "text",
         "marker": {
          "color": "rgb(0,116,217)"
         },
         "mode": "lines",
         "text": [
          "dmocratie_dmocratique_libral_fascisme_libralisme",
          "",
          "",
          "libert_expression_symbole_zad_libertad"
         ],
         "type": "scatter",
         "x": [
          1.4397331876256045,
          1.4955386967059041,
          1.4955386967059041,
          1.4095351654016093
         ],
         "xaxis": "x",
         "y": [
          -1770,
          -1770,
          -1807.5,
          -1807.5
         ],
         "yaxis": "y"
        },
        {
         "hoverinfo": "text",
         "marker": {
          "color": "rgb(0,116,217)"
         },
         "mode": "lines",
         "text": [
          "instagram_facebook_blocage_mdia_accs",
          "",
          "",
          "radio_radar_fixeur_frquence_inter"
         ],
         "type": "scatter",
         "x": [
          0,
          1.393576804182188,
          1.393576804182188,
          0
         ],
         "xaxis": "x",
         "y": [
          -1825,
          -1825,
          -1835,
          -1835
         ],
         "yaxis": "y"
        },
        {
         "hoverinfo": "text",
         "marker": {
          "color": "rgb(0,116,217)"
         },
         "mode": "lines",
         "text": [
          "instagram_facebook_blocage_mdia_accs",
          "",
          "",
          "podcast_express_explique_spotify_comptoir"
         ],
         "type": "scatter",
         "x": [
          1.393576804182188,
          1.4146165927616274,
          1.4146165927616274,
          0
         ],
         "xaxis": "x",
         "y": [
          -1830,
          -1830,
          -1845,
          -1845
         ],
         "yaxis": "y"
        },
        {
         "hoverinfo": "text",
         "marker": {
          "color": "rgb(0,116,217)"
         },
         "mode": "lines",
         "text": [
          "disneyland_disney_floride_magie_30",
          "",
          "",
          "netflix_abonn_to_perdre_srie"
         ],
         "type": "scatter",
         "x": [
          0,
          1.3664801404213296,
          1.3664801404213296,
          0
         ],
         "xaxis": "x",
         "y": [
          -1855,
          -1855,
          -1865,
          -1865
         ],
         "yaxis": "y"
        },
        {
         "hoverinfo": "text",
         "marker": {
          "color": "rgb(0,116,217)"
         },
         "mode": "lines",
         "text": [
          "fusion_m6_altice_6ter_tf1",
          "",
          "",
          "voice_vocal_the_assistant_battle"
         ],
         "type": "scatter",
         "x": [
          0,
          1.3984589238700296,
          1.3984589238700296,
          0
         ],
         "xaxis": "x",
         "y": [
          -1875,
          -1875,
          -1885,
          -1885
         ],
         "yaxis": "y"
        },
        {
         "hoverinfo": "text",
         "marker": {
          "color": "rgb(0,116,217)"
         },
         "mode": "lines",
         "text": [
          "netflix_disney_disneyland_abonn_floride",
          "",
          "",
          "voice_fusion_m6_vocal_the"
         ],
         "type": "scatter",
         "x": [
          1.3664801404213296,
          1.4401557547750954,
          1.4401557547750954,
          1.3984589238700296
         ],
         "xaxis": "x",
         "y": [
          -1860,
          -1860,
          -1880,
          -1880
         ],
         "yaxis": "y"
        },
        {
         "hoverinfo": "text",
         "marker": {
          "color": "rgb(0,116,217)"
         },
         "mode": "lines",
         "text": [
          "netflix_disney_disneyland_abonn_floride",
          "",
          "",
          "voice_fusion_m6_vocal_the"
         ],
         "type": "scatter",
         "x": [
          1.4146165927616274,
          1.4486710477019742,
          1.4486710477019742,
          1.4401557547750954
         ],
         "xaxis": "x",
         "y": [
          -1837.5,
          -1837.5,
          -1870,
          -1870
         ],
         "yaxis": "y"
        },
        {
         "hoverinfo": "text",
         "marker": {
          "color": "rgb(0,116,217)"
         },
         "mode": "lines",
         "text": [
          "mtal_nickel_metal_london_exchange",
          "",
          "",
          "manga_anime_piece_one_dessin"
         ],
         "type": "scatter",
         "x": [
          0,
          1.3520286754118715,
          1.3520286754118715,
          0
         ],
         "xaxis": "x",
         "y": [
          -1895,
          -1895,
          -1905,
          -1905
         ],
         "yaxis": "y"
        },
        {
         "hoverinfo": "text",
         "marker": {
          "color": "rgb(0,116,217)"
         },
         "mode": "lines",
         "text": [
          "mtal_nickel_metal_london_exchange",
          "",
          "",
          "mtal_manga_nickel_metal_london"
         ],
         "type": "scatter",
         "x": [
          1.4486710477019742,
          1.4823195554398878,
          1.4823195554398878,
          1.3520286754118715
         ],
         "xaxis": "x",
         "y": [
          -1853.75,
          -1853.75,
          -1900,
          -1900
         ],
         "yaxis": "y"
        },
        {
         "hoverinfo": "text",
         "marker": {
          "color": "rgb(0,116,217)"
         },
         "mode": "lines",
         "text": [
          "closet_fayard_sophie_charlotte_quitte",
          "",
          "",
          "fil_britney_spears_star_jennifer"
         ],
         "type": "scatter",
         "x": [
          0,
          1.3505099612184612,
          1.3505099612184612,
          0
         ],
         "xaxis": "x",
         "y": [
          -1915,
          -1915,
          -1925,
          -1925
         ],
         "yaxis": "y"
        },
        {
         "hoverinfo": "text",
         "marker": {
          "color": "rgb(0,116,217)"
         },
         "mode": "lines",
         "text": [
          "monde_gurand_highlineur_dteste_sandbox",
          "",
          "",
          "capitalisme_wok_moralisateur_guigner_fodal"
         ],
         "type": "scatter",
         "x": [
          0,
          1.3795584188223398,
          1.3795584188223398,
          0
         ],
         "xaxis": "x",
         "y": [
          -1935,
          -1935,
          -1945,
          -1945
         ],
         "yaxis": "y"
        },
        {
         "hoverinfo": "text",
         "marker": {
          "color": "rgb(0,116,217)"
         },
         "mode": "lines",
         "text": [
          "fil_spears_britney_star_jennifer",
          "",
          "",
          "capitalisme_monde_chul_han_byung"
         ],
         "type": "scatter",
         "x": [
          1.3505099612184612,
          1.4684072957930316,
          1.4684072957930316,
          1.3795584188223398
         ],
         "xaxis": "x",
         "y": [
          -1920,
          -1920,
          -1940,
          -1940
         ],
         "yaxis": "y"
        },
        {
         "hoverinfo": "text",
         "marker": {
          "color": "rgb(0,116,217)"
         },
         "mode": "lines",
         "text": [
          "fil_spears_britney_star_jennifer",
          "",
          "",
          "capitalisme_monde_chul_han_byung"
         ],
         "type": "scatter",
         "x": [
          1.4823195554398878,
          1.4895743086435862,
          1.4895743086435862,
          1.4684072957930316
         ],
         "xaxis": "x",
         "y": [
          -1876.875,
          -1876.875,
          -1930,
          -1930
         ],
         "yaxis": "y"
        },
        {
         "hoverinfo": "text",
         "marker": {
          "color": "rgb(0,116,217)"
         },
         "mode": "lines",
         "text": [
          "fil_spears_britney_star_jennifer",
          "",
          "",
          "capitalisme_monde_chul_han_byung"
         ],
         "type": "scatter",
         "x": [
          1.4955386967059041,
          1.500400635501212,
          1.500400635501212,
          1.4895743086435862
         ],
         "xaxis": "x",
         "y": [
          -1788.75,
          -1788.75,
          -1903.4375,
          -1903.4375
         ],
         "yaxis": "y"
        },
        {
         "hoverinfo": "text",
         "marker": {
          "color": "rgb(0,116,217)"
         },
         "mode": "lines",
         "text": [
          "culture_culturel_tradition_xinxiang_noirlac",
          "",
          "",
          "adapter_ux_merveilleusement_handitoit_montespan"
         ],
         "type": "scatter",
         "x": [
          0,
          1.3626159438558754,
          1.3626159438558754,
          0
         ],
         "xaxis": "x",
         "y": [
          -1955,
          -1955,
          -1965,
          -1965
         ],
         "yaxis": "y"
        },
        {
         "hoverinfo": "text",
         "marker": {
          "color": "rgb(0,116,217)"
         },
         "mode": "lines",
         "text": [
          "sngal_faso_burkina_nappe_sankara",
          "",
          "",
          "racisme_raciste_discrimination_racial_so"
         ],
         "type": "scatter",
         "x": [
          0,
          1.3618611654029802,
          1.3618611654029802,
          0
         ],
         "xaxis": "x",
         "y": [
          -1975,
          -1975,
          -1985,
          -1985
         ],
         "yaxis": "y"
        },
        {
         "hoverinfo": "text",
         "marker": {
          "color": "rgb(0,116,217)"
         },
         "mode": "lines",
         "text": [
          "adapter_culture_culturel_data_tradition",
          "",
          "",
          "racisme_raciste_discrimination_sngal_racial"
         ],
         "type": "scatter",
         "x": [
          1.3626159438558754,
          1.4505410733560908,
          1.4505410733560908,
          1.3618611654029802
         ],
         "xaxis": "x",
         "y": [
          -1960,
          -1960,
          -1980,
          -1980
         ],
         "yaxis": "y"
        },
        {
         "hoverinfo": "text",
         "marker": {
          "color": "rgb(0,116,217)"
         },
         "mode": "lines",
         "text": [
          "africain_kenya_wevelgem_gand_girmay",
          "",
          "",
          "logistique_msc_armateur_logement_bollor"
         ],
         "type": "scatter",
         "x": [
          0,
          1.3671672686012808,
          1.3671672686012808,
          0
         ],
         "xaxis": "x",
         "y": [
          -2005,
          -2005,
          -2015,
          -2015
         ],
         "yaxis": "y"
        },
        {
         "hoverinfo": "text",
         "marker": {
          "color": "rgb(0,116,217)"
         },
         "mode": "lines",
         "text": [
          "rnovation_nergtique_dibdo_pritzker_kr",
          "",
          "",
          "africain_logistique_kenya_msc_armateur"
         ],
         "type": "scatter",
         "x": [
          0,
          1.391298622909656,
          1.391298622909656,
          1.3671672686012808
         ],
         "xaxis": "x",
         "y": [
          -1995,
          -1995,
          -2010,
          -2010
         ],
         "yaxis": "y"
        },
        {
         "hoverinfo": "text",
         "marker": {
          "color": "rgb(0,116,217)"
         },
         "mode": "lines",
         "text": [
          "population_rapace_soudan_bora_plomb",
          "",
          "",
          "airbnb_location_temporaire_hte_symboliquement"
         ],
         "type": "scatter",
         "x": [
          0,
          1.3893199073663398,
          1.3893199073663398,
          0
         ],
         "xaxis": "x",
         "y": [
          -2035,
          -2035,
          -2045,
          -2045
         ],
         "yaxis": "y"
        },
        {
         "hoverinfo": "text",
         "marker": {
          "color": "rgb(0,116,217)"
         },
         "mode": "lines",
         "text": [
          "inondation_philippine_afrique_sud_megi",
          "",
          "",
          "airbnb_population_rapace_soudan_location"
         ],
         "type": "scatter",
         "x": [
          0,
          1.4280689590774656,
          1.4280689590774656,
          1.3893199073663398
         ],
         "xaxis": "x",
         "y": [
          -2025,
          -2025,
          -2040,
          -2040
         ],
         "yaxis": "y"
        },
        {
         "hoverinfo": "text",
         "marker": {
          "color": "rgb(0,116,217)"
         },
         "mode": "lines",
         "text": [
          "inondation_philippine_afrique_sud_megi",
          "",
          "",
          "ferry_compagnie_corsica_disposition_800"
         ],
         "type": "scatter",
         "x": [
          1.4280689590774656,
          1.4343210774049713,
          1.4343210774049713,
          0
         ],
         "xaxis": "x",
         "y": [
          -2032.5,
          -2032.5,
          -2055,
          -2055
         ],
         "yaxis": "y"
        },
        {
         "hoverinfo": "text",
         "marker": {
          "color": "rgb(0,116,217)"
         },
         "mode": "lines",
         "text": [
          "rnovation_africain_logistique_nergtique_logement",
          "",
          "",
          "ferry_compagnie_corsica_disposition_800"
         ],
         "type": "scatter",
         "x": [
          1.391298622909656,
          1.4764935682083284,
          1.4764935682083284,
          1.4343210774049713
         ],
         "xaxis": "x",
         "y": [
          -2002.5,
          -2002.5,
          -2043.75,
          -2043.75
         ],
         "yaxis": "y"
        },
        {
         "hoverinfo": "text",
         "marker": {
          "color": "rgb(0,116,217)"
         },
         "mode": "lines",
         "text": [
          "rnovation_africain_logistique_nergtique_logement",
          "",
          "",
          "ferry_compagnie_corsica_disposition_800"
         ],
         "type": "scatter",
         "x": [
          1.4505410733560908,
          1.493191943730594,
          1.493191943730594,
          1.4764935682083284
         ],
         "xaxis": "x",
         "y": [
          -1970,
          -1970,
          -2023.125,
          -2023.125
         ],
         "yaxis": "y"
        },
        {
         "hoverinfo": "text",
         "marker": {
          "color": "rgb(0,116,217)"
         },
         "mode": "lines",
         "text": [
          "rnovation_africain_logistique_nergtique_logement",
          "",
          "",
          "ferry_compagnie_corsica_disposition_800"
         ],
         "type": "scatter",
         "x": [
          1.500400635501212,
          1.5264298693209553,
          1.5264298693209553,
          1.493191943730594
         ],
         "xaxis": "x",
         "y": [
          -1846.09375,
          -1846.09375,
          -1996.5625,
          -1996.5625
         ],
         "yaxis": "y"
        },
        {
         "hoverinfo": "text",
         "marker": {
          "color": "rgb(0,116,217)"
         },
         "mode": "lines",
         "text": [
          "rnovation_africain_logistique_nergtique_logement",
          "",
          "",
          "ferry_compagnie_corsica_disposition_800"
         ],
         "type": "scatter",
         "x": [
          1.5367510142277634,
          1.5458894112167825,
          1.5458894112167825,
          1.5264298693209553
         ],
         "xaxis": "x",
         "y": [
          -1354.1473388671875,
          -1354.1473388671875,
          -1921.328125,
          -1921.328125
         ],
         "yaxis": "y"
        },
        {
         "hoverinfo": "text",
         "marker": {
          "color": "rgb(0,116,217)"
         },
         "mode": "lines",
         "text": [
          "rnovation_africain_logistique_nergtique_logement",
          "",
          "",
          "ferry_compagnie_corsica_disposition_800"
         ],
         "type": "scatter",
         "x": [
          1.4917200981503052,
          1.5682580984280028,
          1.5682580984280028,
          1.5458894112167825
         ],
         "xaxis": "x",
         "y": [
          -1148.125,
          -1148.125,
          -1637.7377319335938,
          -1637.7377319335938
         ],
         "yaxis": "y"
        },
        {
         "hoverinfo": "text",
         "marker": {
          "color": "rgb(0,116,217)"
         },
         "mode": "lines",
         "text": [
          "statue_olonne_vierge_sable_votation",
          "",
          "",
          "sahara_sable_nuage_poussire_espagne"
         ],
         "type": "scatter",
         "x": [
          0,
          1.2547452415157871,
          1.2547452415157871,
          0
         ],
         "xaxis": "x",
         "y": [
          -2065,
          -2065,
          -2075,
          -2075
         ],
         "yaxis": "y"
        },
        {
         "hoverinfo": "text",
         "marker": {
          "color": "rgb(0,116,217)"
         },
         "mode": "lines",
         "text": [
          "statue_olonne_vierge_sable_votation",
          "",
          "",
          "sahara_sable_statue_olonne_nuage"
         ],
         "type": "scatter",
         "x": [
          1.5682580984280028,
          1.5870258545253721,
          1.5870258545253721,
          1.2547452415157871
         ],
         "xaxis": "x",
         "y": [
          -1392.9313659667969,
          -1392.9313659667969,
          -2070,
          -2070
         ],
         "yaxis": "y"
        },
        {
         "hoverinfo": "text",
         "marker": {
          "color": "rgb(0,116,217)"
         },
         "mode": "lines",
         "text": [
          "statue_olonne_vierge_sable_votation",
          "",
          "",
          "sahara_sable_statue_olonne_nuage"
         ],
         "type": "scatter",
         "x": [
          1.5200357991933493,
          1.588843589027624,
          1.588843589027624,
          1.5870258545253721
         ],
         "xaxis": "x",
         "y": [
          -1060,
          -1060,
          -1731.4656829833984,
          -1731.4656829833984
         ],
         "yaxis": "y"
        },
        {
         "hoverinfo": "text",
         "marker": {
          "color": "rgb(0,116,217)"
         },
         "mode": "lines",
         "text": [
          "restaurant_cuisine_caf_bar_bistrot",
          "",
          "",
          "michelin_guide_toile_donckele_toil"
         ],
         "type": "scatter",
         "x": [
          0,
          1.2939674081991623,
          1.2939674081991623,
          0
         ],
         "xaxis": "x",
         "y": [
          -2085,
          -2085,
          -2095,
          -2095
         ],
         "yaxis": "y"
        },
        {
         "hoverinfo": "text",
         "marker": {
          "color": "rgb(0,116,217)"
         },
         "mode": "lines",
         "text": [
          "michelin_restaurant_guide_cuisine_caf",
          "",
          "",
          "gastronomie_gastronomique_dcouverte_plat_asperge"
         ],
         "type": "scatter",
         "x": [
          1.2939674081991623,
          1.3781479318809347,
          1.3781479318809347,
          0
         ],
         "xaxis": "x",
         "y": [
          -2090,
          -2090,
          -2105,
          -2105
         ],
         "yaxis": "y"
        },
        {
         "hoverinfo": "text",
         "marker": {
          "color": "rgb(0,116,217)"
         },
         "mode": "lines",
         "text": [
          "listeria_fromage_listriose_rappeler_haddock",
          "",
          "",
          "poisson_zfarm_aquaponiqu_transgnique_hlice"
         ],
         "type": "scatter",
         "x": [
          0,
          1.2853102547510722,
          1.2853102547510722,
          0
         ],
         "xaxis": "x",
         "y": [
          -2115,
          -2115,
          -2125,
          -2125
         ],
         "yaxis": "y"
        },
        {
         "hoverinfo": "text",
         "marker": {
          "color": "rgb(0,116,217)"
         },
         "mode": "lines",
         "text": [
          "listeria_fromage_listriose_rappeler_haddock",
          "",
          "",
          "poisson_listeria_fromage_listriose_rappeler"
         ],
         "type": "scatter",
         "x": [
          1.3781479318809347,
          1.5626125412081153,
          1.5626125412081153,
          1.2853102547510722
         ],
         "xaxis": "x",
         "y": [
          -2097.5,
          -2097.5,
          -2120,
          -2120
         ],
         "yaxis": "y"
        },
        {
         "hoverinfo": "text",
         "marker": {
          "color": "rgb(0,116,217)"
         },
         "mode": "lines",
         "text": [
          "listeria_fromage_listriose_rappeler_haddock",
          "",
          "",
          "poisson_listeria_fromage_listriose_rappeler"
         ],
         "type": "scatter",
         "x": [
          1.588843589027624,
          1.5956065726955047,
          1.5956065726955047,
          1.5626125412081153
         ],
         "xaxis": "x",
         "y": [
          -1395.7328414916992,
          -1395.7328414916992,
          -2108.75,
          -2108.75
         ],
         "yaxis": "y"
        },
        {
         "hoverinfo": "text",
         "marker": {
          "color": "rgb(0,116,217)"
         },
         "mode": "lines",
         "text": [
          "transport_gratuit_mtropole_ferroutage_sada",
          "",
          "",
          "train_sncf_billet_ouigo_maghrbin"
         ],
         "type": "scatter",
         "x": [
          0,
          1.2908557748085758,
          1.2908557748085758,
          0
         ],
         "xaxis": "x",
         "y": [
          -2135,
          -2135,
          -2145,
          -2145
         ],
         "yaxis": "y"
        },
        {
         "hoverinfo": "text",
         "marker": {
          "color": "rgb(0,116,217)"
         },
         "mode": "lines",
         "text": [
          "accident_bus_gypte_mortel_chauffeur",
          "",
          "",
          "route_feuille_rhum_gabart_autoroute"
         ],
         "type": "scatter",
         "x": [
          0,
          1.323673045082186,
          1.323673045082186,
          0
         ],
         "xaxis": "x",
         "y": [
          -2155,
          -2155,
          -2165,
          -2165
         ],
         "yaxis": "y"
        },
        {
         "hoverinfo": "text",
         "marker": {
          "color": "rgb(0,116,217)"
         },
         "mode": "lines",
         "text": [
          "tourisme_touriste_vacance_vacancier_touristique",
          "",
          "",
          "voyage_destination_jordanie_huysman_cythre"
         ],
         "type": "scatter",
         "x": [
          0,
          1.328686941496414,
          1.328686941496414,
          0
         ],
         "xaxis": "x",
         "y": [
          -2175,
          -2175,
          -2185,
          -2185
         ],
         "yaxis": "y"
        },
        {
         "hoverinfo": "text",
         "marker": {
          "color": "rgb(0,116,217)"
         },
         "mode": "lines",
         "text": [
          "accident_route_bus_feuille_gypte",
          "",
          "",
          "tourisme_voyage_touriste_destination_vacance"
         ],
         "type": "scatter",
         "x": [
          1.323673045082186,
          1.4825404234106536,
          1.4825404234106536,
          1.328686941496414
         ],
         "xaxis": "x",
         "y": [
          -2160,
          -2160,
          -2180,
          -2180
         ],
         "yaxis": "y"
        },
        {
         "hoverinfo": "text",
         "marker": {
          "color": "rgb(0,116,217)"
         },
         "mode": "lines",
         "text": [
          "train_transport_sncf_gratuit_billet",
          "",
          "",
          "tourisme_voyage_touriste_destination_vacance"
         ],
         "type": "scatter",
         "x": [
          1.2908557748085758,
          1.516725016931088,
          1.516725016931088,
          1.4825404234106536
         ],
         "xaxis": "x",
         "y": [
          -2140,
          -2140,
          -2170,
          -2170
         ],
         "yaxis": "y"
        },
        {
         "hoverinfo": "text",
         "marker": {
          "color": "rgb(0,116,217)"
         },
         "mode": "lines",
         "text": [
          "maritime_alpe_scheress_restriction_a8",
          "",
          "",
          "organiser_organise_matricide_entraygue_slasheur"
         ],
         "type": "scatter",
         "x": [
          0,
          1.3625069468942759,
          1.3625069468942759,
          0
         ],
         "xaxis": "x",
         "y": [
          -2195,
          -2195,
          -2205,
          -2205
         ],
         "yaxis": "y"
        },
        {
         "hoverinfo": "text",
         "marker": {
          "color": "rgb(0,116,217)"
         },
         "mode": "lines",
         "text": [
          "coin_boui_coincer_kateb_hron",
          "",
          "",
          "petit_poucet_vache_plaisir_bon"
         ],
         "type": "scatter",
         "x": [
          0,
          1.3723233335453298,
          1.3723233335453298,
          0
         ],
         "xaxis": "x",
         "y": [
          -2215,
          -2215,
          -2225,
          -2225
         ],
         "yaxis": "y"
        },
        {
         "hoverinfo": "text",
         "marker": {
          "color": "rgb(0,116,217)"
         },
         "mode": "lines",
         "text": [
          "coin_petit_boui_poucet_vache",
          "",
          "",
          "orban_viktor_hongrie_orbn_hongrois"
         ],
         "type": "scatter",
         "x": [
          1.3723233335453298,
          1.4276671289328575,
          1.4276671289328575,
          0
         ],
         "xaxis": "x",
         "y": [
          -2220,
          -2220,
          -2235,
          -2235
         ],
         "yaxis": "y"
        },
        {
         "hoverinfo": "text",
         "marker": {
          "color": "rgb(0,116,217)"
         },
         "mode": "lines",
         "text": [
          "maritime_alpe_organiser_scheress_restriction",
          "",
          "",
          "orban_viktor_hongrie_orbn_hongrois"
         ],
         "type": "scatter",
         "x": [
          1.3625069468942759,
          1.4737336405613448,
          1.4737336405613448,
          1.4276671289328575
         ],
         "xaxis": "x",
         "y": [
          -2200,
          -2200,
          -2227.5,
          -2227.5
         ],
         "yaxis": "y"
        },
        {
         "hoverinfo": "text",
         "marker": {
          "color": "rgb(0,116,217)"
         },
         "mode": "lines",
         "text": [
          "extinction_rebellion_rbellion_boulevard_fnsea",
          "",
          "",
          "agriculture_salon_vache_paysan_visiteur"
         ],
         "type": "scatter",
         "x": [
          0,
          1.3519657884277787,
          1.3519657884277787,
          0
         ],
         "xaxis": "x",
         "y": [
          -2245,
          -2245,
          -2255,
          -2255
         ],
         "yaxis": "y"
        },
        {
         "hoverinfo": "text",
         "marker": {
          "color": "rgb(0,116,217)"
         },
         "mode": "lines",
         "text": [
          "extinction_rebellion_rbellion_boulevard_fnsea",
          "",
          "",
          "agriculture_salon_extinction_rebellion_rbellion"
         ],
         "type": "scatter",
         "x": [
          1.4737336405613448,
          1.4991302768725538,
          1.4991302768725538,
          1.3519657884277787
         ],
         "xaxis": "x",
         "y": [
          -2213.75,
          -2213.75,
          -2250,
          -2250
         ],
         "yaxis": "y"
        },
        {
         "hoverinfo": "text",
         "marker": {
          "color": "rgb(0,116,217)"
         },
         "mode": "lines",
         "text": [
          "strasbourg_rayon_vert_cathdrale_ceinture",
          "",
          "",
          "dame_cathdrale_sarcophage_incendie_chantier"
         ],
         "type": "scatter",
         "x": [
          0,
          1.3263969115759129,
          1.3263969115759129,
          0
         ],
         "xaxis": "x",
         "y": [
          -2265,
          -2265,
          -2275,
          -2275
         ],
         "yaxis": "y"
        },
        {
         "hoverinfo": "text",
         "marker": {
          "color": "rgb(0,116,217)"
         },
         "mode": "lines",
         "text": [
          "dame_cathdrale_strasbourg_sarcophage_incendie",
          "",
          "",
          "orthodoxe_glise_incendie_ravager_eglise"
         ],
         "type": "scatter",
         "x": [
          1.3263969115759129,
          1.415047247661142,
          1.415047247661142,
          0
         ],
         "xaxis": "x",
         "y": [
          -2270,
          -2270,
          -2285,
          -2285
         ],
         "yaxis": "y"
        },
        {
         "hoverinfo": "text",
         "marker": {
          "color": "rgb(0,116,217)"
         },
         "mode": "lines",
         "text": [
          "hpatite_inconnu_dtecter_origine_infantile",
          "",
          "",
          "coli_pizza_buitoni_bactrie_colis"
         ],
         "type": "scatter",
         "x": [
          0,
          1.3962325903530595,
          1.3962325903530595,
          0
         ],
         "xaxis": "x",
         "y": [
          -2295,
          -2295,
          -2305,
          -2305
         ],
         "yaxis": "y"
        },
        {
         "hoverinfo": "text",
         "marker": {
          "color": "rgb(0,116,217)"
         },
         "mode": "lines",
         "text": [
          "parent_parental_crche_paternit_familial",
          "",
          "",
          "maddie_mccann_suspect_examen_affaire"
         ],
         "type": "scatter",
         "x": [
          0,
          1.3415070277011876,
          1.3415070277011876,
          0
         ],
         "xaxis": "x",
         "y": [
          -2315,
          -2315,
          -2325,
          -2325
         ],
         "yaxis": "y"
        },
        {
         "hoverinfo": "text",
         "marker": {
          "color": "rgb(0,116,217)"
         },
         "mode": "lines",
         "text": [
          "coli_pizza_buitoni_bactrie_hpatite",
          "",
          "",
          "parent_maddie_parental_crche_paternit"
         ],
         "type": "scatter",
         "x": [
          1.3962325903530595,
          1.4546456483367936,
          1.4546456483367936,
          1.3415070277011876
         ],
         "xaxis": "x",
         "y": [
          -2300,
          -2300,
          -2320,
          -2320
         ],
         "yaxis": "y"
        },
        {
         "hoverinfo": "text",
         "marker": {
          "color": "rgb(0,116,217)"
         },
         "mode": "lines",
         "text": [
          "coli_pizza_buitoni_bactrie_hpatite",
          "",
          "",
          "parent_maddie_parental_crche_paternit"
         ],
         "type": "scatter",
         "x": [
          1.415047247661142,
          1.5107418315752787,
          1.5107418315752787,
          1.4546456483367936
         ],
         "xaxis": "x",
         "y": [
          -2277.5,
          -2277.5,
          -2310,
          -2310
         ],
         "yaxis": "y"
        },
        {
         "hoverinfo": "text",
         "marker": {
          "color": "rgb(0,116,217)"
         },
         "mode": "lines",
         "text": [
          "coli_pizza_buitoni_bactrie_hpatite",
          "",
          "",
          "parent_maddie_parental_crche_paternit"
         ],
         "type": "scatter",
         "x": [
          1.4991302768725538,
          1.5285679756882524,
          1.5285679756882524,
          1.5107418315752787
         ],
         "xaxis": "x",
         "y": [
          -2231.875,
          -2231.875,
          -2293.75,
          -2293.75
         ],
         "yaxis": "y"
        },
        {
         "hoverinfo": "text",
         "marker": {
          "color": "rgb(0,116,217)"
         },
         "mode": "lines",
         "text": [
          "rhne_bouche_mridional_paintball_osmotique",
          "",
          "",
          "cannabis_cocane_addiction_kilogramme_lgalisation"
         ],
         "type": "scatter",
         "x": [
          0,
          1.3573295695741154,
          1.3573295695741154,
          0
         ],
         "xaxis": "x",
         "y": [
          -2345,
          -2345,
          -2355,
          -2355
         ],
         "yaxis": "y"
        },
        {
         "hoverinfo": "text",
         "marker": {
          "color": "rgb(0,116,217)"
         },
         "mode": "lines",
         "text": [
          "volley_slectionneur_narbonn_bernardinho_giani",
          "",
          "",
          "rhne_cannabis_cocane_bouche_addiction"
         ],
         "type": "scatter",
         "x": [
          0,
          1.4207682925499125,
          1.4207682925499125,
          1.3573295695741154
         ],
         "xaxis": "x",
         "y": [
          -2335,
          -2335,
          -2350,
          -2350
         ],
         "yaxis": "y"
        },
        {
         "hoverinfo": "text",
         "marker": {
          "color": "rgb(0,116,217)"
         },
         "mode": "lines",
         "text": [
          "pollution_circulation_diffrenci_plastique_particule",
          "",
          "",
          "loire_loiret_atlantique_sane_maine"
         ],
         "type": "scatter",
         "x": [
          0,
          1.3931810005506602,
          1.3931810005506602,
          0
         ],
         "xaxis": "x",
         "y": [
          -2365,
          -2365,
          -2375,
          -2375
         ],
         "yaxis": "y"
        },
        {
         "hoverinfo": "text",
         "marker": {
          "color": "rgb(0,116,217)"
         },
         "mode": "lines",
         "text": [
          "marne_val_seine_conglateur_natre",
          "",
          "",
          "implantation_implanter_implant_lenteur_bpifrance"
         ],
         "type": "scatter",
         "x": [
          0,
          1.3940535582272435,
          1.3940535582272435,
          0
         ],
         "xaxis": "x",
         "y": [
          -2385,
          -2385,
          -2395,
          -2395
         ],
         "yaxis": "y"
        },
        {
         "hoverinfo": "text",
         "marker": {
          "color": "rgb(0,116,217)"
         },
         "mode": "lines",
         "text": [
          "loire_pollution_circulation_diffrenci_loiret",
          "",
          "",
          "marne_val_seine_conglateur_implantation"
         ],
         "type": "scatter",
         "x": [
          1.3931810005506602,
          1.4327163032077348,
          1.4327163032077348,
          1.3940535582272435
         ],
         "xaxis": "x",
         "y": [
          -2370,
          -2370,
          -2390,
          -2390
         ],
         "yaxis": "y"
        },
        {
         "hoverinfo": "text",
         "marker": {
          "color": "rgb(0,116,217)"
         },
         "mode": "lines",
         "text": [
          "loire_pollution_circulation_diffrenci_loiret",
          "",
          "",
          "loire_pollution_marne_val_circulation"
         ],
         "type": "scatter",
         "x": [
          1.4207682925499125,
          1.4688031511198647,
          1.4688031511198647,
          1.4327163032077348
         ],
         "xaxis": "x",
         "y": [
          -2342.5,
          -2342.5,
          -2380,
          -2380
         ],
         "yaxis": "y"
        },
        {
         "hoverinfo": "text",
         "marker": {
          "color": "rgb(0,116,217)"
         },
         "mode": "lines",
         "text": [
          "autisme_autiste_tmoin_spcialiser_disparition",
          "",
          "",
          "adolescent_14_forain_adolescence_16"
         ],
         "type": "scatter",
         "x": [
          0,
          1.3336861158136262,
          1.3336861158136262,
          0
         ],
         "xaxis": "x",
         "y": [
          -2405,
          -2405,
          -2415,
          -2415
         ],
         "yaxis": "y"
        },
        {
         "hoverinfo": "text",
         "marker": {
          "color": "rgb(0,116,217)"
         },
         "mode": "lines",
         "text": [
          "cycliste_nord_cassel_wavrin_haubourdin",
          "",
          "",
          "mtorite_mtorologique_patouillet_comte_mtore"
         ],
         "type": "scatter",
         "x": [
          0,
          1.3683955337325342,
          1.3683955337325342,
          0
         ],
         "xaxis": "x",
         "y": [
          -2425,
          -2425,
          -2435,
          -2435
         ],
         "yaxis": "y"
        },
        {
         "hoverinfo": "text",
         "marker": {
          "color": "rgb(0,116,217)"
         },
         "mode": "lines",
         "text": [
          "adolescent_autisme_autiste_tmoin_14",
          "",
          "",
          "cycliste_mtorite_nord_cassel_wavrin"
         ],
         "type": "scatter",
         "x": [
          1.3336861158136262,
          1.4553032956626362,
          1.4553032956626362,
          1.3683955337325342
         ],
         "xaxis": "x",
         "y": [
          -2410,
          -2410,
          -2430,
          -2430
         ],
         "yaxis": "y"
        },
        {
         "hoverinfo": "text",
         "marker": {
          "color": "rgb(0,116,217)"
         },
         "mode": "lines",
         "text": [
          "adolescent_autisme_autiste_tmoin_14",
          "",
          "",
          "cycliste_mtorite_nord_cassel_wavrin"
         ],
         "type": "scatter",
         "x": [
          1.4688031511198647,
          1.4798447985185788,
          1.4798447985185788,
          1.4553032956626362
         ],
         "xaxis": "x",
         "y": [
          -2361.25,
          -2361.25,
          -2420,
          -2420
         ],
         "yaxis": "y"
        },
        {
         "hoverinfo": "text",
         "marker": {
          "color": "rgb(0,116,217)"
         },
         "mode": "lines",
         "text": [
          "lycen_lyce_parcoursup_vu_valbonne",
          "",
          "",
          "maths_mathmatique_tronc_lyce_commun"
         ],
         "type": "scatter",
         "x": [
          0,
          1.3021509594634562,
          1.3021509594634562,
          0
         ],
         "xaxis": "x",
         "y": [
          -2445,
          -2445,
          -2455,
          -2455
         ],
         "yaxis": "y"
        },
        {
         "hoverinfo": "text",
         "marker": {
          "color": "rgb(0,116,217)"
         },
         "mode": "lines",
         "text": [
          "lycen_lyce_parcoursup_vu_valbonne",
          "",
          "",
          "maths_mathmatique_lyce_lycen_tronc"
         ],
         "type": "scatter",
         "x": [
          1.4798447985185788,
          1.5306922988611766,
          1.5306922988611766,
          1.3021509594634562
         ],
         "xaxis": "x",
         "y": [
          -2390.625,
          -2390.625,
          -2450,
          -2450
         ],
         "yaxis": "y"
        },
        {
         "hoverinfo": "text",
         "marker": {
          "color": "rgb(0,116,217)"
         },
         "mode": "lines",
         "text": [
          "lycen_lyce_parcoursup_vu_valbonne",
          "",
          "",
          "maths_mathmatique_lyce_lycen_tronc"
         ],
         "type": "scatter",
         "x": [
          1.5285679756882524,
          1.5470287315499833,
          1.5470287315499833,
          1.5306922988611766
         ],
         "xaxis": "x",
         "y": [
          -2262.8125,
          -2262.8125,
          -2420.3125,
          -2420.3125
         ],
         "yaxis": "y"
        },
        {
         "hoverinfo": "text",
         "marker": {
          "color": "rgb(0,116,217)"
         },
         "mode": "lines",
         "text": [
          "lycen_lyce_parcoursup_vu_valbonne",
          "",
          "",
          "maths_mathmatique_lyce_lycen_tronc"
         ],
         "type": "scatter",
         "x": [
          1.516725016931088,
          1.5807702007521618,
          1.5807702007521618,
          1.5470287315499833
         ],
         "xaxis": "x",
         "y": [
          -2155,
          -2155,
          -2341.5625,
          -2341.5625
         ],
         "yaxis": "y"
        },
        {
         "hoverinfo": "text",
         "marker": {
          "color": "rgb(0,116,217)"
         },
         "mode": "lines",
         "text": [
          "ducation_education_ducatif_orientation_concret",
          "",
          "",
          "paty_samuel_assassinat_plainte_examen"
         ],
         "type": "scatter",
         "x": [
          0,
          1.3683574638653377,
          1.3683574638653377,
          0
         ],
         "xaxis": "x",
         "y": [
          -2465,
          -2465,
          -2475,
          -2475
         ],
         "yaxis": "y"
        },
        {
         "hoverinfo": "text",
         "marker": {
          "color": "rgb(0,116,217)"
         },
         "mode": "lines",
         "text": [
          "avocat_diable_plaignante_ey_pierrat",
          "",
          "",
          "dfense_corbire_alexis_europe_europen"
         ],
         "type": "scatter",
         "x": [
          0,
          1.36147597711887,
          1.36147597711887,
          0
         ],
         "xaxis": "x",
         "y": [
          -2495,
          -2495,
          -2505,
          -2505
         ],
         "yaxis": "y"
        },
        {
         "hoverinfo": "text",
         "marker": {
          "color": "rgb(0,116,217)"
         },
         "mode": "lines",
         "text": [
          "zepeda_narumi_kurosaki_nicolas_rclusion",
          "",
          "",
          "dfense_corbire_alexis_europe_europen"
         ],
         "type": "scatter",
         "x": [
          0,
          1.418611363187929,
          1.418611363187929,
          1.36147597711887
         ],
         "xaxis": "x",
         "y": [
          -2485,
          -2485,
          -2500,
          -2500
         ],
         "yaxis": "y"
        },
        {
         "hoverinfo": "text",
         "marker": {
          "color": "rgb(0,116,217)"
         },
         "mode": "lines",
         "text": [
          "ducation_paty_samuel_assassinat_education",
          "",
          "",
          "dfense_corbire_alexis_europe_europen"
         ],
         "type": "scatter",
         "x": [
          1.3683574638653377,
          1.5163189162628428,
          1.5163189162628428,
          1.418611363187929
         ],
         "xaxis": "x",
         "y": [
          -2470,
          -2470,
          -2492.5,
          -2492.5
         ],
         "yaxis": "y"
        },
        {
         "hoverinfo": "text",
         "marker": {
          "color": "rgb(0,116,217)"
         },
         "mode": "lines",
         "text": [
          "ehpad_orpea_scandale_rsident_orpeer",
          "",
          "",
          "cash_investigation_mcdonald_korian_ehpad"
         ],
         "type": "scatter",
         "x": [
          0,
          1.2868111114738872,
          1.2868111114738872,
          0
         ],
         "xaxis": "x",
         "y": [
          -2515,
          -2515,
          -2525,
          -2525
         ],
         "yaxis": "y"
        },
        {
         "hoverinfo": "text",
         "marker": {
          "color": "rgb(0,116,217)"
         },
         "mode": "lines",
         "text": [
          "ehpad_orpea_scandale_rsident_orpeer",
          "",
          "",
          "ehpad_orpea_scandale_cash_investigation"
         ],
         "type": "scatter",
         "x": [
          1.5163189162628428,
          1.5393016812502969,
          1.5393016812502969,
          1.2868111114738872
         ],
         "xaxis": "x",
         "y": [
          -2481.25,
          -2481.25,
          -2520,
          -2520
         ],
         "yaxis": "y"
        },
        {
         "hoverinfo": "text",
         "marker": {
          "color": "rgb(0,116,217)"
         },
         "mode": "lines",
         "text": [
          "ehpad_orpea_scandale_rsident_orpeer",
          "",
          "",
          "ehpad_orpea_scandale_cash_investigation"
         ],
         "type": "scatter",
         "x": [
          1.5807702007521618,
          1.6246174049839448,
          1.6246174049839448,
          1.5393016812502969
         ],
         "xaxis": "x",
         "y": [
          -2248.28125,
          -2248.28125,
          -2500.625,
          -2500.625
         ],
         "yaxis": "y"
        },
        {
         "hoverinfo": "text",
         "marker": {
          "color": "rgb(0,116,217)"
         },
         "mode": "lines",
         "text": [
          "ehpad_orpea_scandale_rsident_orpeer",
          "",
          "",
          "ehpad_orpea_scandale_cash_investigation"
         ],
         "type": "scatter",
         "x": [
          1.5956065726955047,
          1.6373727994323104,
          1.6373727994323104,
          1.6246174049839448
         ],
         "xaxis": "x",
         "y": [
          -1752.2414207458496,
          -1752.2414207458496,
          -2374.453125,
          -2374.453125
         ],
         "yaxis": "y"
        },
        {
         "hoverinfo": "text",
         "marker": {
          "color": "rgb(0,116,217)"
         },
         "mode": "lines",
         "text": [
          "ehpad_orpea_scandale_rsident_orpeer",
          "",
          "",
          "ehpad_orpea_scandale_cash_investigation"
         ],
         "type": "scatter",
         "x": [
          1.5910643550887535,
          1.6640065804580262,
          1.6640065804580262,
          1.6373727994323104
         ],
         "xaxis": "x",
         "y": [
          -988.75,
          -988.75,
          -2063.347272872925,
          -2063.347272872925
         ],
         "yaxis": "y"
        },
        {
         "hoverinfo": "text",
         "marker": {
          "color": "rgb(0,116,217)"
         },
         "mode": "lines",
         "text": [
          "french_tech_industrie_dispose_stock",
          "",
          "",
          "amp_co_tech_partie_03"
         ],
         "type": "scatter",
         "x": [
          0,
          1.2365666465387157,
          1.2365666465387157,
          0
         ],
         "xaxis": "x",
         "y": [
          -2545,
          -2545,
          -2555,
          -2555
         ],
         "yaxis": "y"
        },
        {
         "hoverinfo": "text",
         "marker": {
          "color": "rgb(0,116,217)"
         },
         "mode": "lines",
         "text": [
          "industriel_industrie_asystom_maillon_dsi",
          "",
          "",
          "tech_amp_co_french_partie"
         ],
         "type": "scatter",
         "x": [
          0,
          1.3828529451871483,
          1.3828529451871483,
          1.2365666465387157
         ],
         "xaxis": "x",
         "y": [
          -2535,
          -2535,
          -2550,
          -2550
         ],
         "yaxis": "y"
        },
        {
         "hoverinfo": "text",
         "marker": {
          "color": "rgb(0,116,217)"
         },
         "mode": "lines",
         "text": [
          "eurovision_alvan_reprsenter_ahez_kalush",
          "",
          "",
          "breton_ahez_thierry_le_agroalimentaire"
         ],
         "type": "scatter",
         "x": [
          0,
          1.215114212554475,
          1.215114212554475,
          0
         ],
         "xaxis": "x",
         "y": [
          -2565,
          -2565,
          -2575,
          -2575
         ],
         "yaxis": "y"
        },
        {
         "hoverinfo": "text",
         "marker": {
          "color": "rgb(0,116,217)"
         },
         "mode": "lines",
         "text": [
          "eurovision_alvan_reprsenter_ahez_kalush",
          "",
          "",
          "eurovision_breton_alvan_reprsenter_ahez"
         ],
         "type": "scatter",
         "x": [
          1.3828529451871483,
          1.6068998129361036,
          1.6068998129361036,
          1.215114212554475
         ],
         "xaxis": "x",
         "y": [
          -2542.5,
          -2542.5,
          -2570,
          -2570
         ],
         "yaxis": "y"
        },
        {
         "hoverinfo": "text",
         "marker": {
          "color": "rgb(0,116,217)"
         },
         "mode": "lines",
         "text": [
          "eurovision_alvan_reprsenter_ahez_kalush",
          "",
          "",
          "eurovision_breton_alvan_reprsenter_ahez"
         ],
         "type": "scatter",
         "x": [
          1.6640065804580262,
          1.6913544569735615,
          1.6913544569735615,
          1.6068998129361036
         ],
         "xaxis": "x",
         "y": [
          -1526.0486364364624,
          -1526.0486364364624,
          -2556.25,
          -2556.25
         ],
         "yaxis": "y"
        },
        {
         "hoverinfo": "text",
         "marker": {
          "color": "rgb(0,116,217)"
         },
         "mode": "lines",
         "text": [
          "migrant_manche_secourir_traverser_calai",
          "",
          "",
          "rwanda_asile_demandeur_migrant_envoyer"
         ],
         "type": "scatter",
         "x": [
          0,
          1.212980847917996,
          1.212980847917996,
          0
         ],
         "xaxis": "x",
         "y": [
          -2585,
          -2585,
          -2595,
          -2595
         ],
         "yaxis": "y"
        },
        {
         "hoverinfo": "text",
         "marker": {
          "color": "rgb(0,116,217)"
         },
         "mode": "lines",
         "text": [
          "migrant_rwanda_asile_demandeur_manche",
          "",
          "",
          "johnson_boris_partygat_amende_partygate"
         ],
         "type": "scatter",
         "x": [
          1.212980847917996,
          1.3737281030206971,
          1.3737281030206971,
          0
         ],
         "xaxis": "x",
         "y": [
          -2590,
          -2590,
          -2605,
          -2605
         ],
         "yaxis": "y"
        },
        {
         "hoverinfo": "text",
         "marker": {
          "color": "rgb(0,116,217)"
         },
         "mode": "lines",
         "text": [
          "migrant_johnson_boris_rwanda_partygat",
          "",
          "",
          "gnocide_blessant_constater_rohingya_zelensky"
         ],
         "type": "scatter",
         "x": [
          1.3737281030206971,
          1.4823240326724305,
          1.4823240326724305,
          0
         ],
         "xaxis": "x",
         "y": [
          -2597.5,
          -2597.5,
          -2615,
          -2615
         ],
         "yaxis": "y"
        },
        {
         "hoverinfo": "text",
         "marker": {
          "color": "rgb(0,116,217)"
         },
         "mode": "lines",
         "text": [
          "mali_mourer_mercenaire_rfi_wagner",
          "",
          "",
          "dubois_olivier_otage_mali_journaliste"
         ],
         "type": "scatter",
         "x": [
          0,
          1.23542269264809,
          1.23542269264809,
          0
         ],
         "xaxis": "x",
         "y": [
          -2625,
          -2625,
          -2635,
          -2635
         ],
         "yaxis": "y"
        },
        {
         "hoverinfo": "text",
         "marker": {
          "color": "rgb(0,116,217)"
         },
         "mode": "lines",
         "text": [
          "equipe_clauss_nkunku_jonathan_giroud",
          "",
          "",
          "ivoire_cte_ivoir_giroud_nkunku"
         ],
         "type": "scatter",
         "x": [
          0,
          1.1916658996297742,
          1.1916658996297742,
          0
         ],
         "xaxis": "x",
         "y": [
          -2645,
          -2645,
          -2655,
          -2655
         ],
         "yaxis": "y"
        },
        {
         "hoverinfo": "text",
         "marker": {
          "color": "rgb(0,116,217)"
         },
         "mode": "lines",
         "text": [
          "mali_dubois_mourer_mercenaire_olivier",
          "",
          "",
          "ivoire_cte_equipe_nkunku_giroud"
         ],
         "type": "scatter",
         "x": [
          1.23542269264809,
          1.639485301478749,
          1.639485301478749,
          1.1916658996297742
         ],
         "xaxis": "x",
         "y": [
          -2630,
          -2630,
          -2650,
          -2650
         ],
         "yaxis": "y"
        },
        {
         "hoverinfo": "text",
         "marker": {
          "color": "rgb(0,116,217)"
         },
         "mode": "lines",
         "text": [
          "mali_dubois_mourer_mercenaire_olivier",
          "",
          "",
          "ivoire_cte_equipe_nkunku_giroud"
         ],
         "type": "scatter",
         "x": [
          1.4823240326724305,
          1.6724668651427888,
          1.6724668651427888,
          1.639485301478749
         ],
         "xaxis": "x",
         "y": [
          -2606.25,
          -2606.25,
          -2640,
          -2640
         ],
         "yaxis": "y"
        },
        {
         "hoverinfo": "text",
         "marker": {
          "color": "rgb(0,116,217)"
         },
         "mode": "lines",
         "text": [
          "mali_dubois_mourer_mercenaire_olivier",
          "",
          "",
          "ivoire_cte_equipe_nkunku_giroud"
         ],
         "type": "scatter",
         "x": [
          1.6913544569735615,
          1.7017508447567329,
          1.7017508447567329,
          1.6724668651427888
         ],
         "xaxis": "x",
         "y": [
          -2041.1493182182312,
          -2041.1493182182312,
          -2623.125,
          -2623.125
         ],
         "yaxis": "y"
        },
        {
         "hoverinfo": "text",
         "marker": {
          "color": "rgb(0,116,217)"
         },
         "mode": "lines",
         "text": [
          "deliveroo_dissimuler_ubrisation_travail_livreur",
          "",
          "",
          "plateforme_deliveroo_plate_livreur_parcoursup"
         ],
         "type": "scatter",
         "x": [
          0,
          1.1479651083317952,
          1.1479651083317952,
          0
         ],
         "xaxis": "x",
         "y": [
          -2665,
          -2665,
          -2675,
          -2675
         ],
         "yaxis": "y"
        },
        {
         "hoverinfo": "text",
         "marker": {
          "color": "rgb(0,116,217)"
         },
         "mode": "lines",
         "text": [
          "deliveroo_dissimuler_ubrisation_travail_livreur",
          "",
          "",
          "deliveroo_plateforme_dissimuler_ubrisation_livreur"
         ],
         "type": "scatter",
         "x": [
          1.7017508447567329,
          1.707584667757868,
          1.707584667757868,
          1.1479651083317952
         ],
         "xaxis": "x",
         "y": [
          -2332.1371591091156,
          -2332.1371591091156,
          -2670,
          -2670
         ],
         "yaxis": "y"
        },
        {
         "hoverinfo": "text",
         "marker": {
          "color": "rgb(0,116,217)"
         },
         "mode": "lines",
         "text": [
          "deliveroo_dissimuler_ubrisation_travail_livreur",
          "",
          "",
          "deliveroo_plateforme_dissimuler_ubrisation_livreur"
         ],
         "type": "scatter",
         "x": [
          1.5910164689806177,
          1.7118341025734687,
          1.7118341025734687,
          1.707584667757868
         ],
         "xaxis": "x",
         "y": [
          -789.765625,
          -789.765625,
          -2501.068579554558,
          -2501.068579554558
         ],
         "yaxis": "y"
        },
        {
         "hoverinfo": "text",
         "marker": {
          "color": "rgb(0,116,217)"
         },
         "mode": "lines",
         "text": [
          "camra_surveillance_blink_360_vigie",
          "",
          "",
          "deliveroo_plateforme_dissimuler_ubrisation_livreur"
         ],
         "type": "scatter",
         "x": [
          1.1457192817386002,
          1.7192556798369676,
          1.7192556798369676,
          1.7118341025734687
         ],
         "xaxis": "x",
         "y": [
          -620,
          -620,
          -1645.417102277279,
          -1645.417102277279
         ],
         "yaxis": "y"
        },
        {
         "hoverinfo": "text",
         "marker": {
          "color": "rgb(0,116,217)"
         },
         "mode": "lines",
         "text": [
          "printemps_bourge_festivalier_piqre_dutronc",
          "",
          "",
          "piqre_bote_nuit_bziers_dordogne"
         ],
         "type": "scatter",
         "x": [
          0,
          1.1594288148045588,
          1.1594288148045588,
          0
         ],
         "xaxis": "x",
         "y": [
          -2685,
          -2685,
          -2695,
          -2695
         ],
         "yaxis": "y"
        },
        {
         "hoverinfo": "text",
         "marker": {
          "color": "rgb(0,116,217)"
         },
         "mode": "lines",
         "text": [
          "2024_calendrier_fri_date_2023",
          "",
          "",
          "basket_nba_2024_laker_gobert"
         ],
         "type": "scatter",
         "x": [
          0,
          1.2580624805507432,
          1.2580624805507432,
          0
         ],
         "xaxis": "x",
         "y": [
          -2715,
          -2715,
          -2725,
          -2725
         ],
         "yaxis": "y"
        },
        {
         "hoverinfo": "text",
         "marker": {
          "color": "rgb(0,116,217)"
         },
         "mode": "lines",
         "text": [
          "piscine_aubervillier_entranement_nageur_2024",
          "",
          "",
          "2024_basket_nba_jo_laker"
         ],
         "type": "scatter",
         "x": [
          0,
          1.3801871132673236,
          1.3801871132673236,
          1.2580624805507432
         ],
         "xaxis": "x",
         "y": [
          -2705,
          -2705,
          -2720,
          -2720
         ],
         "yaxis": "y"
        },
        {
         "hoverinfo": "text",
         "marker": {
          "color": "rgb(0,116,217)"
         },
         "mode": "lines",
         "text": [
          "printemps_piqre_bourge_bote_bziers",
          "",
          "",
          "2024_basket_piscine_nba_jo"
         ],
         "type": "scatter",
         "x": [
          1.1594288148045588,
          1.6632043148821656,
          1.6632043148821656,
          1.3801871132673236
         ],
         "xaxis": "x",
         "y": [
          -2690,
          -2690,
          -2712.5,
          -2712.5
         ],
         "yaxis": "y"
        },
        {
         "hoverinfo": "text",
         "marker": {
          "color": "rgb(0,116,217)"
         },
         "mode": "lines",
         "text": [
          "chocolat_pques_chocolatier_haricot_cookie",
          "",
          "",
          "kinder_ferrero_salmonelle_salmonellose_chocolat"
         ],
         "type": "scatter",
         "x": [
          0,
          1.143351942571586,
          1.143351942571586,
          0
         ],
         "xaxis": "x",
         "y": [
          -2735,
          -2735,
          -2745,
          -2745
         ],
         "yaxis": "y"
        },
        {
         "hoverinfo": "text",
         "marker": {
          "color": "rgb(0,116,217)"
         },
         "mode": "lines",
         "text": [
          "chocolat_pques_chocolatier_haricot_cookie",
          "",
          "",
          "kinder_ferrero_chocolat_salmonelle_salmonellose"
         ],
         "type": "scatter",
         "x": [
          1.6632043148821656,
          1.694012272742808,
          1.694012272742808,
          1.143351942571586
         ],
         "xaxis": "x",
         "y": [
          -2701.25,
          -2701.25,
          -2740,
          -2740
         ],
         "yaxis": "y"
        },
        {
         "hoverinfo": "text",
         "marker": {
          "color": "rgb(0,116,217)"
         },
         "mode": "lines",
         "text": [
          "chocolat_pques_chocolatier_haricot_cookie",
          "",
          "",
          "kinder_ferrero_chocolat_salmonelle_salmonellose"
         ],
         "type": "scatter",
         "x": [
          1.7192556798369676,
          1.7288906200659773,
          1.7288906200659773,
          1.694012272742808
         ],
         "xaxis": "x",
         "y": [
          -1132.7085511386395,
          -1132.7085511386395,
          -2720.625,
          -2720.625
         ],
         "yaxis": "y"
        },
        {
         "hoverinfo": "text",
         "marker": {
          "color": "rgb(0,116,217)"
         },
         "mode": "lines",
         "text": [
          "dsert_mdical_mdecin_tlmdecine_gnraliste",
          "",
          "",
          "mdecin_mdicament_mdical_patient_mdecine"
         ],
         "type": "scatter",
         "x": [
          0,
          1.163352198290763,
          1.163352198290763,
          0
         ],
         "xaxis": "x",
         "y": [
          -2755,
          -2755,
          -2765,
          -2765
         ],
         "yaxis": "y"
        },
        {
         "hoverinfo": "text",
         "marker": {
          "color": "rgb(0,116,217)"
         },
         "mode": "lines",
         "text": [
          "contraception_menstruel_pilule_sexagnaire_masculin",
          "",
          "",
          "allongement_ivg_dlai_adopte_avortement"
         ],
         "type": "scatter",
         "x": [
          0,
          1.1416046362143806,
          1.1416046362143806,
          0
         ],
         "xaxis": "x",
         "y": [
          -2775,
          -2775,
          -2785,
          -2785
         ],
         "yaxis": "y"
        },
        {
         "hoverinfo": "text",
         "marker": {
          "color": "rgb(0,116,217)"
         },
         "mode": "lines",
         "text": [
          "mdical_dsert_mdecin_mdicament_patient",
          "",
          "",
          "ivg_allongement_dlai_contraception_pilule"
         ],
         "type": "scatter",
         "x": [
          1.163352198290763,
          1.6731680856022808,
          1.6731680856022808,
          1.1416046362143806
         ],
         "xaxis": "x",
         "y": [
          -2760,
          -2760,
          -2780,
          -2780
         ],
         "yaxis": "y"
        },
        {
         "hoverinfo": "text",
         "marker": {
          "color": "rgb(0,116,217)"
         },
         "mode": "lines",
         "text": [
          "mdical_dsert_mdecin_mdicament_patient",
          "",
          "",
          "ivg_allongement_dlai_contraception_pilule"
         ],
         "type": "scatter",
         "x": [
          1.7288906200659773,
          1.7459401197807103,
          1.7459401197807103,
          1.6731680856022808
         ],
         "xaxis": "x",
         "y": [
          -1926.6667755693197,
          -1926.6667755693197,
          -2770,
          -2770
         ],
         "yaxis": "y"
        },
        {
         "hoverinfo": "text",
         "marker": {
          "color": "rgb(0,116,217)"
         },
         "mode": "lines",
         "text": [
          "science_po_mosquiri_gourmaud_jamy",
          "",
          "",
          "islamophobie_islamisme_islam_islamiste_terrorisme"
         ],
         "type": "scatter",
         "x": [
          0,
          1.275519103637684,
          1.275519103637684,
          0
         ],
         "xaxis": "x",
         "y": [
          -2805,
          -2805,
          -2815,
          -2815
         ],
         "yaxis": "y"
        },
        {
         "hoverinfo": "text",
         "marker": {
          "color": "rgb(0,116,217)"
         },
         "mode": "lines",
         "text": [
          "sorbonne_occupation_universit_rectorat_tudiant",
          "",
          "",
          "science_islamophobie_islamisme_po_islam"
         ],
         "type": "scatter",
         "x": [
          0,
          1.3706032286060263,
          1.3706032286060263,
          1.275519103637684
         ],
         "xaxis": "x",
         "y": [
          -2795,
          -2795,
          -2810,
          -2810
         ],
         "yaxis": "y"
        },
        {
         "hoverinfo": "text",
         "marker": {
          "color": "rgb(0,116,217)"
         },
         "mode": "lines",
         "text": [
          "ple_pole_tuil_soudure_verstappen",
          "",
          "",
          "transformer_ple_savane_parking_transformation"
         ],
         "type": "scatter",
         "x": [
          0,
          1.3267461555736184,
          1.3267461555736184,
          0
         ],
         "xaxis": "x",
         "y": [
          -2825,
          -2825,
          -2835,
          -2835
         ],
         "yaxis": "y"
        },
        {
         "hoverinfo": "text",
         "marker": {
          "color": "rgb(0,116,217)"
         },
         "mode": "lines",
         "text": [
          "sorbonne_science_po_islamophobie_islamisme",
          "",
          "",
          "transformer_ple_savane_emploi_polestar"
         ],
         "type": "scatter",
         "x": [
          1.3706032286060263,
          1.5042830503254547,
          1.5042830503254547,
          1.3267461555736184
         ],
         "xaxis": "x",
         "y": [
          -2802.5,
          -2802.5,
          -2830,
          -2830
         ],
         "yaxis": "y"
        },
        {
         "hoverinfo": "text",
         "marker": {
          "color": "rgb(0,116,217)"
         },
         "mode": "lines",
         "text": [
          "store_dark_seller_best_mairie",
          "",
          "",
          "crack_villette_ratp_dfonce_station"
         ],
         "type": "scatter",
         "x": [
          0,
          1.386721643650682,
          1.386721643650682,
          0
         ],
         "xaxis": "x",
         "y": [
          -2845,
          -2845,
          -2855,
          -2855
         ],
         "yaxis": "y"
        },
        {
         "hoverinfo": "text",
         "marker": {
          "color": "rgb(0,116,217)"
         },
         "mode": "lines",
         "text": [
          "ferme_fermer_adista_ttraplgique_montsouris",
          "",
          "",
          "mosque_pessac_gironde_fermer_mirail"
         ],
         "type": "scatter",
         "x": [
          0,
          1.3112452315059193,
          1.3112452315059193,
          0
         ],
         "xaxis": "x",
         "y": [
          -2865,
          -2865,
          -2875,
          -2875
         ],
         "yaxis": "y"
        },
        {
         "hoverinfo": "text",
         "marker": {
          "color": "rgb(0,116,217)"
         },
         "mode": "lines",
         "text": [
          "crack_store_dark_villette_seller",
          "",
          "",
          "mosque_pessac_fermer_ferm_gironde"
         ],
         "type": "scatter",
         "x": [
          1.386721643650682,
          1.44047438374989,
          1.44047438374989,
          1.3112452315059193
         ],
         "xaxis": "x",
         "y": [
          -2850,
          -2850,
          -2870,
          -2870
         ],
         "yaxis": "y"
        },
        {
         "hoverinfo": "text",
         "marker": {
          "color": "rgb(0,116,217)"
         },
         "mode": "lines",
         "text": [
          "afghanistan_taliban_afghan_kaboul_explosion",
          "",
          "",
          "explosion_moskver_endommager_gravement_aubervillier"
         ],
         "type": "scatter",
         "x": [
          0,
          1.259607586677738,
          1.259607586677738,
          0
         ],
         "xaxis": "x",
         "y": [
          -2895,
          -2895,
          -2905,
          -2905
         ],
         "yaxis": "y"
        },
        {
         "hoverinfo": "text",
         "marker": {
          "color": "rgb(0,116,217)"
         },
         "mode": "lines",
         "text": [
          "cole_metaverse_ecole_insatisfait_college",
          "",
          "",
          "afghanistan_taliban_explosion_afghan_kaboul"
         ],
         "type": "scatter",
         "x": [
          0,
          1.389023193141527,
          1.389023193141527,
          1.259607586677738
         ],
         "xaxis": "x",
         "y": [
          -2885,
          -2885,
          -2900,
          -2900
         ],
         "yaxis": "y"
        },
        {
         "hoverinfo": "text",
         "marker": {
          "color": "rgb(0,116,217)"
         },
         "mode": "lines",
         "text": [
          "mosque_crack_store_dark_villette",
          "",
          "",
          "afghanistan_taliban_explosion_afghan_kaboul"
         ],
         "type": "scatter",
         "x": [
          1.44047438374989,
          1.5374895304709426,
          1.5374895304709426,
          1.389023193141527
         ],
         "xaxis": "x",
         "y": [
          -2860,
          -2860,
          -2892.5,
          -2892.5
         ],
         "yaxis": "y"
        },
        {
         "hoverinfo": "text",
         "marker": {
          "color": "rgb(0,116,217)"
         },
         "mode": "lines",
         "text": [
          "mosque_crack_store_dark_villette",
          "",
          "",
          "afghanistan_taliban_explosion_afghan_kaboul"
         ],
         "type": "scatter",
         "x": [
          1.5042830503254547,
          1.6607556499745941,
          1.6607556499745941,
          1.5374895304709426
         ],
         "xaxis": "x",
         "y": [
          -2816.25,
          -2816.25,
          -2876.25,
          -2876.25
         ],
         "yaxis": "y"
        },
        {
         "hoverinfo": "text",
         "marker": {
          "color": "rgb(0,116,217)"
         },
         "mode": "lines",
         "text": [
          "isral_jrusalem_palestinien_isralien_aviv",
          "",
          "",
          "terroriste_terrorisme_haram_boko_palestiniennes"
         ],
         "type": "scatter",
         "x": [
          0,
          1.3478769599193396,
          1.3478769599193396,
          0
         ],
         "xaxis": "x",
         "y": [
          -2915,
          -2915,
          -2925,
          -2925
         ],
         "yaxis": "y"
        },
        {
         "hoverinfo": "text",
         "marker": {
          "color": "rgb(0,116,217)"
         },
         "mode": "lines",
         "text": [
          "new_mtro_york_fusillade_yorkais",
          "",
          "",
          "dtention_provisoire_placer_salanque_conjoint"
         ],
         "type": "scatter",
         "x": [
          0,
          1.3222328935420407,
          1.3222328935420407,
          0
         ],
         "xaxis": "x",
         "y": [
          -2935,
          -2935,
          -2945,
          -2945
         ],
         "yaxis": "y"
        },
        {
         "hoverinfo": "text",
         "marker": {
          "color": "rgb(0,116,217)"
         },
         "mode": "lines",
         "text": [
          "new_mtro_york_fusillade_yorkais",
          "",
          "",
          "new_mtro_york_fusillade_dtention"
         ],
         "type": "scatter",
         "x": [
          1.3478769599193396,
          1.4602847622999497,
          1.4602847622999497,
          1.3222328935420407
         ],
         "xaxis": "x",
         "y": [
          -2920,
          -2920,
          -2940,
          -2940
         ],
         "yaxis": "y"
        },
        {
         "hoverinfo": "text",
         "marker": {
          "color": "rgb(0,116,217)"
         },
         "mode": "lines",
         "text": [
          "cohen_jrmie_jrmy_jeremie_mort",
          "",
          "",
          "tramway_bus_ratp_normal_bobigny"
         ],
         "type": "scatter",
         "x": [
          0,
          1.218134763637482,
          1.218134763637482,
          0
         ],
         "xaxis": "x",
         "y": [
          -2955,
          -2955,
          -2965,
          -2965
         ],
         "yaxis": "y"
        },
        {
         "hoverinfo": "text",
         "marker": {
          "color": "rgb(0,116,217)"
         },
         "mode": "lines",
         "text": [
          "cohen_jrmie_jrmy_jeremie_mort",
          "",
          "",
          "cohen_jrmy_tramway_jrmie_bus"
         ],
         "type": "scatter",
         "x": [
          1.4602847622999497,
          1.5613823543778234,
          1.5613823543778234,
          1.218134763637482
         ],
         "xaxis": "x",
         "y": [
          -2930,
          -2930,
          -2960,
          -2960
         ],
         "yaxis": "y"
        },
        {
         "hoverinfo": "text",
         "marker": {
          "color": "rgb(0,116,217)"
         },
         "mode": "lines",
         "text": [
          "tlphone_tlcommunication_jubillar_volant_telecom",
          "",
          "",
          "jubillar_delphine_cdric_juger_blatter"
         ],
         "type": "scatter",
         "x": [
          0,
          1.1677712232732163,
          1.1677712232732163,
          0
         ],
         "xaxis": "x",
         "y": [
          -2975,
          -2975,
          -2985,
          -2985
         ],
         "yaxis": "y"
        },
        {
         "hoverinfo": "text",
         "marker": {
          "color": "rgb(0,116,217)"
         },
         "mode": "lines",
         "text": [
          "tlphone_tlcommunication_jubillar_volant_telecom",
          "",
          "",
          "jubillar_tlphone_tlcommunication_delphine_cdric"
         ],
         "type": "scatter",
         "x": [
          1.5613823543778234,
          1.6444146720001844,
          1.6444146720001844,
          1.1677712232732163
         ],
         "xaxis": "x",
         "y": [
          -2945,
          -2945,
          -2980,
          -2980
         ],
         "yaxis": "y"
        },
        {
         "hoverinfo": "text",
         "marker": {
          "color": "rgb(0,116,217)"
         },
         "mode": "lines",
         "text": [
          "tlphone_tlcommunication_jubillar_volant_telecom",
          "",
          "",
          "jubillar_tlphone_tlcommunication_delphine_cdric"
         ],
         "type": "scatter",
         "x": [
          1.6607556499745941,
          1.6823851419647766,
          1.6823851419647766,
          1.6444146720001844
         ],
         "xaxis": "x",
         "y": [
          -2846.25,
          -2846.25,
          -2962.5,
          -2962.5
         ],
         "yaxis": "y"
        },
        {
         "hoverinfo": "text",
         "marker": {
          "color": "rgb(0,116,217)"
         },
         "mode": "lines",
         "text": [
          "tlphone_tlcommunication_jubillar_volant_telecom",
          "",
          "",
          "jubillar_tlphone_tlcommunication_delphine_cdric"
         ],
         "type": "scatter",
         "x": [
          1.7459401197807103,
          1.7712865294937752,
          1.7712865294937752,
          1.6823851419647766
         ],
         "xaxis": "x",
         "y": [
          -2348.33338778466,
          -2348.33338778466,
          -2904.375,
          -2904.375
         ],
         "yaxis": "y"
        },
        {
         "hoverinfo": "text",
         "marker": {
          "color": "rgb(0,116,217)"
         },
         "mode": "lines",
         "text": [
          "ferrari_f1_verstappen_formule_max",
          "",
          "",
          "saoudite_arabie_arabe_khashoggi_emirat"
         ],
         "type": "scatter",
         "x": [
          0,
          1.0576547988130194,
          1.0576547988130194,
          0
         ],
         "xaxis": "x",
         "y": [
          -2995,
          -2995,
          -3005,
          -3005
         ],
         "yaxis": "y"
        },
        {
         "hoverinfo": "text",
         "marker": {
          "color": "rgb(0,116,217)"
         },
         "mode": "lines",
         "text": [
          "dylan_baarle_roubaix_van_solitaire",
          "",
          "",
          "podium_teun_madoua_wallon_valentin"
         ],
         "type": "scatter",
         "x": [
          0,
          1.2189099435579884,
          1.2189099435579884,
          0
         ],
         "xaxis": "x",
         "y": [
          -3025,
          -3025,
          -3035,
          -3035
         ],
         "yaxis": "y"
        },
        {
         "hoverinfo": "text",
         "marker": {
          "color": "rgb(0,116,217)"
         },
         "mode": "lines",
         "text": [
          "monument_historique_oradour_classer_glane",
          "",
          "",
          "podium_dylan_baarle_van_roubaix"
         ],
         "type": "scatter",
         "x": [
          0,
          1.3743906068329235,
          1.3743906068329235,
          1.2189099435579884
         ],
         "xaxis": "x",
         "y": [
          -3015,
          -3015,
          -3030,
          -3030
         ],
         "yaxis": "y"
        },
        {
         "hoverinfo": "text",
         "marker": {
          "color": "rgb(0,116,217)"
         },
         "mode": "lines",
         "text": [
          "cyclisme_tirreno_adriatico_tape_pogacar",
          "",
          "",
          "basque_pays_tape_alaphilipp_julian"
         ],
         "type": "scatter",
         "x": [
          0,
          1.285581053508508,
          1.285581053508508,
          0
         ],
         "xaxis": "x",
         "y": [
          -3045,
          -3045,
          -3055,
          -3055
         ],
         "yaxis": "y"
        },
        {
         "hoverinfo": "text",
         "marker": {
          "color": "rgb(0,116,217)"
         },
         "mode": "lines",
         "text": [
          "podium_dylan_monument_baarle_van",
          "",
          "",
          "basque_cyclisme_tape_adriatico_tirreno"
         ],
         "type": "scatter",
         "x": [
          1.3743906068329235,
          1.4290196424447983,
          1.4290196424447983,
          1.285581053508508
         ],
         "xaxis": "x",
         "y": [
          -3022.5,
          -3022.5,
          -3050,
          -3050
         ],
         "yaxis": "y"
        },
        {
         "hoverinfo": "text",
         "marker": {
          "color": "rgb(0,116,217)"
         },
         "mode": "lines",
         "text": [
          "maillet_biathlon_quentin_fillon_globe",
          "",
          "",
          "fillon_franois_dmissionne_mandat_russophile"
         ],
         "type": "scatter",
         "x": [
          0,
          1.0843858816451541,
          1.0843858816451541,
          0
         ],
         "xaxis": "x",
         "y": [
          -3065,
          -3065,
          -3075,
          -3075
         ],
         "yaxis": "y"
        },
        {
         "hoverinfo": "text",
         "marker": {
          "color": "rgb(0,116,217)"
         },
         "mode": "lines",
         "text": [
          "cyclisme_basque_tape_tirreno_adriatico",
          "",
          "",
          "fillon_maillet_biathlon_quentin_globe"
         ],
         "type": "scatter",
         "x": [
          1.4290196424447983,
          1.7859595159584227,
          1.7859595159584227,
          1.0843858816451541
         ],
         "xaxis": "x",
         "y": [
          -3036.25,
          -3036.25,
          -3070,
          -3070
         ],
         "yaxis": "y"
        },
        {
         "hoverinfo": "text",
         "marker": {
          "color": "rgb(0,116,217)"
         },
         "mode": "lines",
         "text": [
          "arabie_saoudite_ferrari_verstappen_formule",
          "",
          "",
          "fillon_maillet_biathlon_quentin_globe"
         ],
         "type": "scatter",
         "x": [
          1.0576547988130194,
          1.7914384329076967,
          1.7914384329076967,
          1.7859595159584227
         ],
         "xaxis": "x",
         "y": [
          -3000,
          -3000,
          -3053.125,
          -3053.125
         ],
         "yaxis": "y"
        },
        {
         "hoverinfo": "text",
         "marker": {
          "color": "rgb(0,116,217)"
         },
         "mode": "lines",
         "text": [
          "arabie_saoudite_ferrari_verstappen_formule",
          "",
          "",
          "fillon_maillet_biathlon_quentin_globe"
         ],
         "type": "scatter",
         "x": [
          1.7712865294937752,
          1.8522421253117471,
          1.8522421253117471,
          1.7914384329076967
         ],
         "xaxis": "x",
         "y": [
          -2626.35419389233,
          -2626.35419389233,
          -3026.5625,
          -3026.5625
         ],
         "yaxis": "y"
        },
        {
         "hoverinfo": "text",
         "marker": {
          "color": "rgb(0,116,217)"
         },
         "mode": "lines",
         "text": [
          "arabie_saoudite_ferrari_verstappen_formule",
          "",
          "",
          "fillon_maillet_biathlon_quentin_globe"
         ],
         "type": "scatter",
         "x": [
          1.788871809150689,
          1.8585967054898362,
          1.8585967054898362,
          1.8522421253117471
         ],
         "xaxis": "x",
         "y": [
          -590,
          -590,
          -2826.458346946165,
          -2826.458346946165
         ],
         "yaxis": "y"
        },
        {
         "hoverinfo": "text",
         "marker": {
          "color": "rgb(0,116,217)"
         },
         "mode": "lines",
         "text": [
          "denis_seine_saint_policier_boueur",
          "",
          "",
          "saint_martin_barthlemy_baie_avold"
         ],
         "type": "scatter",
         "x": [
          0,
          1.205142953463096,
          1.205142953463096,
          0
         ],
         "xaxis": "x",
         "y": [
          -3085,
          -3085,
          -3095,
          -3095
         ],
         "yaxis": "y"
        },
        {
         "hoverinfo": "text",
         "marker": {
          "color": "rgb(0,116,217)"
         },
         "mode": "lines",
         "text": [
          "denis_seine_saint_policier_boueur",
          "",
          "",
          "etienne_rouvray_saint_extirpe_asse"
         ],
         "type": "scatter",
         "x": [
          1.205142953463096,
          1.305500571079914,
          1.305500571079914,
          0
         ],
         "xaxis": "x",
         "y": [
          -3090,
          -3090,
          -3105,
          -3105
         ],
         "yaxis": "y"
        },
        {
         "hoverinfo": "text",
         "marker": {
          "color": "rgb(0,116,217)"
         },
         "mode": "lines",
         "text": [
          "stade_racing_cup_92_rochelle",
          "",
          "",
          "flop_top_reims_asm_gibson"
         ],
         "type": "scatter",
         "x": [
          0,
          1.2652455814357104,
          1.2652455814357104,
          0
         ],
         "xaxis": "x",
         "y": [
          -3125,
          -3125,
          -3135,
          -3135
         ],
         "yaxis": "y"
        },
        {
         "hoverinfo": "text",
         "marker": {
          "color": "rgb(0,116,217)"
         },
         "mode": "lines",
         "text": [
          "flop_top_stade_racing_cup",
          "",
          "",
          "toulon_toulous_ollivon_serin_biarritz"
         ],
         "type": "scatter",
         "x": [
          1.2652455814357104,
          1.2818715011405293,
          1.2818715011405293,
          0
         ],
         "xaxis": "x",
         "y": [
          -3130,
          -3130,
          -3145,
          -3145
         ],
         "yaxis": "y"
        },
        {
         "hoverinfo": "text",
         "marker": {
          "color": "rgb(0,116,217)"
         },
         "mode": "lines",
         "text": [
          "bordeaux_clermont_2019_vin_millsime",
          "",
          "",
          "flop_top_stade_racing_cup"
         ],
         "type": "scatter",
         "x": [
          0,
          1.3427990338482376,
          1.3427990338482376,
          1.2818715011405293
         ],
         "xaxis": "x",
         "y": [
          -3115,
          -3115,
          -3137.5,
          -3137.5
         ],
         "yaxis": "y"
        },
        {
         "hoverinfo": "text",
         "marker": {
          "color": "rgb(0,116,217)"
         },
         "mode": "lines",
         "text": [
          "denis_saint_seine_etienne_policier",
          "",
          "",
          "flop_top_bordeaux_stade_racing"
         ],
         "type": "scatter",
         "x": [
          1.305500571079914,
          1.7831715326211577,
          1.7831715326211577,
          1.3427990338482376
         ],
         "xaxis": "x",
         "y": [
          -3097.5,
          -3097.5,
          -3126.25,
          -3126.25
         ],
         "yaxis": "y"
        },
        {
         "hoverinfo": "text",
         "marker": {
          "color": "rgb(0,116,217)"
         },
         "mode": "lines",
         "text": [
          "ronaldo_cristiano_liverpool_vibrant_fils",
          "",
          "",
          "rsum_liga_portugais_league_j27"
         ],
         "type": "scatter",
         "x": [
          0,
          1.3746948543521267,
          1.3746948543521267,
          0
         ],
         "xaxis": "x",
         "y": [
          -3155,
          -3155,
          -3165,
          -3165
         ],
         "yaxis": "y"
        },
        {
         "hoverinfo": "text",
         "marker": {
          "color": "rgb(0,116,217)"
         },
         "mode": "lines",
         "text": [
          "manchester_suivez_bayern_atltico_city",
          "",
          "",
          "mercato_journal_haaland_bara_manchester"
         ],
         "type": "scatter",
         "x": [
          0,
          1.2577610552302476,
          1.2577610552302476,
          0
         ],
         "xaxis": "x",
         "y": [
          -3175,
          -3175,
          -3185,
          -3185
         ],
         "yaxis": "y"
        },
        {
         "hoverinfo": "text",
         "marker": {
          "color": "rgb(0,116,217)"
         },
         "mode": "lines",
         "text": [
          "manchester_suivez_bayern_atltico_city",
          "",
          "",
          "mercato_journal_haaland_bara_manchester"
         ],
         "type": "scatter",
         "x": [
          1.3746948543521267,
          1.3812666535986495,
          1.3812666535986495,
          1.2577610552302476
         ],
         "xaxis": "x",
         "y": [
          -3160,
          -3160,
          -3180,
          -3180
         ],
         "yaxis": "y"
        },
        {
         "hoverinfo": "text",
         "marker": {
          "color": "rgb(0,116,217)"
         },
         "mode": "lines",
         "text": [
          "abramovitch_roman_chelsea_abramovich_club",
          "",
          "",
          "rome_roman_latin_feuille_prtre"
         ],
         "type": "scatter",
         "x": [
          0,
          1.1895721787083093,
          1.1895721787083093,
          0
         ],
         "xaxis": "x",
         "y": [
          -3195,
          -3195,
          -3205,
          -3205
         ],
         "yaxis": "y"
        },
        {
         "hoverinfo": "text",
         "marker": {
          "color": "rgb(0,116,217)"
         },
         "mode": "lines",
         "text": [
          "abramovitch_roman_chelsea_abramovich_club",
          "",
          "",
          "roman_abramovitch_chelsea_abramovich_rome"
         ],
         "type": "scatter",
         "x": [
          1.3812666535986495,
          1.6704805049362328,
          1.6704805049362328,
          1.1895721787083093
         ],
         "xaxis": "x",
         "y": [
          -3170,
          -3170,
          -3200,
          -3200
         ],
         "yaxis": "y"
        },
        {
         "hoverinfo": "text",
         "marker": {
          "color": "rgb(0,116,217)"
         },
         "mode": "lines",
         "text": [
          "abramovitch_roman_chelsea_abramovich_club",
          "",
          "",
          "roman_abramovitch_chelsea_abramovich_rome"
         ],
         "type": "scatter",
         "x": [
          1.7831715326211577,
          1.8164018966541582,
          1.8164018966541582,
          1.6704805049362328
         ],
         "xaxis": "x",
         "y": [
          -3111.875,
          -3111.875,
          -3185,
          -3185
         ],
         "yaxis": "y"
        },
        {
         "hoverinfo": "text",
         "marker": {
          "color": "rgb(0,116,217)"
         },
         "mode": "lines",
         "text": [
          "comptition_bannir_athlte_exclure_exclusion",
          "",
          "",
          "wimbledon_joueur_bilorusse_atp_exclusion"
         ],
         "type": "scatter",
         "x": [
          0,
          1.2069534408465274,
          1.2069534408465274,
          0
         ],
         "xaxis": "x",
         "y": [
          -3225,
          -3225,
          -3235,
          -3235
         ],
         "yaxis": "y"
        },
        {
         "hoverinfo": "text",
         "marker": {
          "color": "rgb(0,116,217)"
         },
         "mode": "lines",
         "text": [
          "sport_sportif_valeur_hiver_fertilit",
          "",
          "",
          "wimbledon_exclusion_bilorusse_bannir_exclure"
         ],
         "type": "scatter",
         "x": [
          0,
          1.3773792757323329,
          1.3773792757323329,
          1.2069534408465274
         ],
         "xaxis": "x",
         "y": [
          -3215,
          -3215,
          -3230,
          -3230
         ],
         "yaxis": "y"
        },
        {
         "hoverinfo": "text",
         "marker": {
          "color": "rgb(0,116,217)"
         },
         "mode": "lines",
         "text": [
          "wells_indian_monfil_nadal_medvedev",
          "",
          "",
          "tennis_garros_roland_djokovic_tsonga"
         ],
         "type": "scatter",
         "x": [
          0,
          1.1877943606950983,
          1.1877943606950983,
          0
         ],
         "xaxis": "x",
         "y": [
          -3245,
          -3245,
          -3255,
          -3255
         ],
         "yaxis": "y"
        },
        {
         "hoverinfo": "text",
         "marker": {
          "color": "rgb(0,116,217)"
         },
         "mode": "lines",
         "text": [
          "tennis_garros_roland_djokovic_wells",
          "",
          "",
          "carlo_monte_stefanos_davidovich_tsitsipa"
         ],
         "type": "scatter",
         "x": [
          1.1877943606950983,
          1.317429889247886,
          1.317429889247886,
          0
         ],
         "xaxis": "x",
         "y": [
          -3250,
          -3250,
          -3265,
          -3265
         ],
         "yaxis": "y"
        },
        {
         "hoverinfo": "text",
         "marker": {
          "color": "rgb(0,116,217)"
         },
         "mode": "lines",
         "text": [
          "tennis_garros_roland_djokovic_wells",
          "",
          "",
          "tennis_garros_roland_djokovic_wells"
         ],
         "type": "scatter",
         "x": [
          1.3773792757323329,
          1.706789111656577,
          1.706789111656577,
          1.317429889247886
         ],
         "xaxis": "x",
         "y": [
          -3222.5,
          -3222.5,
          -3257.5,
          -3257.5
         ],
         "yaxis": "y"
        },
        {
         "hoverinfo": "text",
         "marker": {
          "color": "rgb(0,116,217)"
         },
         "mode": "lines",
         "text": [
          "tennis_garros_roland_djokovic_wells",
          "",
          "",
          "tennis_garros_roland_djokovic_wells"
         ],
         "type": "scatter",
         "x": [
          1.8164018966541582,
          1.8775505972652247,
          1.8775505972652247,
          1.706789111656577
         ],
         "xaxis": "x",
         "y": [
          -3148.4375,
          -3148.4375,
          -3240,
          -3240
         ],
         "yaxis": "y"
        },
        {
         "hoverinfo": "text",
         "marker": {
          "color": "rgb(0,116,217)"
         },
         "mode": "lines",
         "text": [
          "end_week_pques_disque_soleil",
          "",
          "",
          "temprature_temps_mto_antarctique_end"
         ],
         "type": "scatter",
         "x": [
          0,
          1.129541577159734,
          1.129541577159734,
          0
         ],
         "xaxis": "x",
         "y": [
          -3285,
          -3285,
          -3295,
          -3295
         ],
         "yaxis": "y"
        },
        {
         "hoverinfo": "text",
         "marker": {
          "color": "rgb(0,116,217)"
         },
         "mode": "lines",
         "text": [
          "fashion_week_dfil_balenciaga_hiver",
          "",
          "",
          "temprature_end_week_temps_mto"
         ],
         "type": "scatter",
         "x": [
          0,
          1.2937941480874766,
          1.2937941480874766,
          1.129541577159734
         ],
         "xaxis": "x",
         "y": [
          -3275,
          -3275,
          -3290,
          -3290
         ],
         "yaxis": "y"
        },
        {
         "hoverinfo": "text",
         "marker": {
          "color": "rgb(0,116,217)"
         },
         "mode": "lines",
         "text": [
          "fashion_week_dfil_balenciaga_hiver",
          "",
          "",
          "week_fashion_temprature_end_temps"
         ],
         "type": "scatter",
         "x": [
          1.8775505972652247,
          1.8965858297547136,
          1.8965858297547136,
          1.2937941480874766
         ],
         "xaxis": "x",
         "y": [
          -3194.21875,
          -3194.21875,
          -3282.5,
          -3282.5
         ],
         "yaxis": "y"
        },
        {
         "hoverinfo": "text",
         "marker": {
          "color": "rgb(0,116,217)"
         },
         "mode": "lines",
         "text": [
          "fashion_week_dfil_balenciaga_hiver",
          "",
          "",
          "week_fashion_temprature_end_temps"
         ],
         "type": "scatter",
         "x": [
          1.8585967054898362,
          1.9252398814368628,
          1.9252398814368628,
          1.8965858297547136
         ],
         "xaxis": "x",
         "y": [
          -1708.2291734730825,
          -1708.2291734730825,
          -3238.359375,
          -3238.359375
         ],
         "yaxis": "y"
        },
        {
         "hoverinfo": "text",
         "marker": {
          "color": "rgb(61,153,112)"
         },
         "mode": "lines",
         "text": [
          "chelsea_lille_pulisic_losc_dogue",
          "",
          "",
          "lille_arfer_gourvennec_ben_pcf"
         ],
         "type": "scatter",
         "x": [
          0,
          0.8993123948944058,
          0.8993123948944058,
          0
         ],
         "xaxis": "x",
         "y": [
          -3305,
          -3305,
          -3315,
          -3315
         ],
         "yaxis": "y"
        },
        {
         "hoverinfo": "text",
         "marker": {
          "color": "rgb(0,116,217)"
         },
         "mode": "lines",
         "text": [
          "chelsea_lille_pulisic_losc_dogue",
          "",
          "",
          "lille_arfer_gourvennec_ben_chelsea"
         ],
         "type": "scatter",
         "x": [
          1.9252398814368628,
          2.0027263552101684,
          2.0027263552101684,
          0.8993123948944058
         ],
         "xaxis": "x",
         "y": [
          -2473.2942742365412,
          -2473.2942742365412,
          -3310,
          -3310
         ],
         "yaxis": "y"
        },
        {
         "hoverinfo": "text",
         "marker": {
          "color": "rgb(0,116,217)"
         },
         "mode": "lines",
         "text": [
          "grippe_aviaire_pidmie_volaille_propager",
          "",
          "",
          "lille_arfer_gourvennec_ben_chelsea"
         ],
         "type": "scatter",
         "x": [
          0.8547330602558507,
          2.017643947962392,
          2.017643947962392,
          2.0027263552101684
         ],
         "xaxis": "x",
         "y": [
          -560,
          -560,
          -2891.6471371182706,
          -2891.6471371182706
         ],
         "yaxis": "y"
        },
        {
         "hoverinfo": "text",
         "marker": {
          "color": "rgb(0,116,217)"
         },
         "mode": "lines",
         "text": [
          "panique_financier_ptrole_profiteur_dsescalade",
          "",
          "",
          "1973_ptrolier_choc_comparable_ptrole"
         ],
         "type": "scatter",
         "x": [
          0,
          1.047492354743429,
          1.047492354743429,
          0
         ],
         "xaxis": "x",
         "y": [
          -3335,
          -3335,
          -3345,
          -3345
         ],
         "yaxis": "y"
        },
        {
         "hoverinfo": "text",
         "marker": {
          "color": "rgb(0,116,217)"
         },
         "mode": "lines",
         "text": [
          "ptrole_puiser_dollar_baril_rserve",
          "",
          "",
          "1973_ptrolier_choc_comparable_ptrole"
         ],
         "type": "scatter",
         "x": [
          0,
          1.3356970303397533,
          1.3356970303397533,
          1.047492354743429
         ],
         "xaxis": "x",
         "y": [
          -3325,
          -3325,
          -3340,
          -3340
         ],
         "yaxis": "y"
        },
        {
         "hoverinfo": "text",
         "marker": {
          "color": "rgb(0,116,217)"
         },
         "mode": "lines",
         "text": [
          "point_situation_mi_vnement_21",
          "",
          "",
          "indice_fonctionnaire_dgel_point_fonction"
         ],
         "type": "scatter",
         "x": [
          0,
          1.2739056071909325,
          1.2739056071909325,
          0
         ],
         "xaxis": "x",
         "y": [
          -3355,
          -3355,
          -3365,
          -3365
         ],
         "yaxis": "y"
        },
        {
         "hoverinfo": "text",
         "marker": {
          "color": "rgb(0,116,217)"
         },
         "mode": "lines",
         "text": [
          "alerte_alarme_scheresse_dpartement_observer",
          "",
          "",
          "orange_vigilance_verglas_dpartement_scopelec"
         ],
         "type": "scatter",
         "x": [
          0,
          1.2943829438826324,
          1.2943829438826324,
          0
         ],
         "xaxis": "x",
         "y": [
          -3385,
          -3385,
          -3395,
          -3395
         ],
         "yaxis": "y"
        },
        {
         "hoverinfo": "text",
         "marker": {
          "color": "rgb(0,116,217)"
         },
         "mode": "lines",
         "text": [
          "pollen_allergie_bouleau_nez_pollinarium",
          "",
          "",
          "orange_vigilance_dpartement_verglas_alerte"
         ],
         "type": "scatter",
         "x": [
          0,
          1.414852979883848,
          1.414852979883848,
          1.2943829438826324
         ],
         "xaxis": "x",
         "y": [
          -3375,
          -3375,
          -3390,
          -3390
         ],
         "yaxis": "y"
        },
        {
         "hoverinfo": "text",
         "marker": {
          "color": "rgb(0,116,217)"
         },
         "mode": "lines",
         "text": [
          "cyberattaque_internet_cyberscurit_cloud_vpn",
          "",
          "",
          "toucher_thomson_robotisation_ultramarine_teo"
         ],
         "type": "scatter",
         "x": [
          0,
          1.3826106698454343,
          1.3826106698454343,
          0
         ],
         "xaxis": "x",
         "y": [
          -3405,
          -3405,
          -3415,
          -3415
         ],
         "yaxis": "y"
        },
        {
         "hoverinfo": "text",
         "marker": {
          "color": "rgb(0,116,217)"
         },
         "mode": "lines",
         "text": [
          "revalorisation_salari_index_fonctionnaire_comit",
          "",
          "",
          "gel_arboriculteur_froid_vague_agriculteur"
         ],
         "type": "scatter",
         "x": [
          0,
          1.3178792539071973,
          1.3178792539071973,
          0
         ],
         "xaxis": "x",
         "y": [
          -3425,
          -3425,
          -3435,
          -3435
         ],
         "yaxis": "y"
        },
        {
         "hoverinfo": "text",
         "marker": {
          "color": "rgb(0,116,217)"
         },
         "mode": "lines",
         "text": [
          "lectricit_consommation_rte_modrer_gestionnaire",
          "",
          "",
          "coup_coupable_coupure_froid_filet"
         ],
         "type": "scatter",
         "x": [
          0,
          1.38272081728233,
          1.38272081728233,
          0
         ],
         "xaxis": "x",
         "y": [
          -3445,
          -3445,
          -3455,
          -3455
         ],
         "yaxis": "y"
        },
        {
         "hoverinfo": "text",
         "marker": {
          "color": "rgb(0,116,217)"
         },
         "mode": "lines",
         "text": [
          "gel_arboriculteur_froid_vague_agriculteur",
          "",
          "",
          "lectricit_coup_consommation_froid_coupure"
         ],
         "type": "scatter",
         "x": [
          1.3178792539071973,
          1.4114394073619467,
          1.4114394073619467,
          1.38272081728233
         ],
         "xaxis": "x",
         "y": [
          -3430,
          -3430,
          -3450,
          -3450
         ],
         "yaxis": "y"
        },
        {
         "hoverinfo": "text",
         "marker": {
          "color": "rgb(0,116,217)"
         },
         "mode": "lines",
         "text": [
          "gel_arboriculteur_froid_vague_agriculteur",
          "",
          "",
          "lectricit_gel_froid_coup_vague"
         ],
         "type": "scatter",
         "x": [
          1.3826106698454343,
          1.4606721883867788,
          1.4606721883867788,
          1.4114394073619467
         ],
         "xaxis": "x",
         "y": [
          -3410,
          -3410,
          -3440,
          -3440
         ],
         "yaxis": "y"
        },
        {
         "hoverinfo": "text",
         "marker": {
          "color": "rgb(0,116,217)"
         },
         "mode": "lines",
         "text": [
          "orange_vigilance_pollen_dpartement_allergie",
          "",
          "",
          "lectricit_gel_froid_coup_vague"
         ],
         "type": "scatter",
         "x": [
          1.414852979883848,
          1.559421440860534,
          1.559421440860534,
          1.4606721883867788
         ],
         "xaxis": "x",
         "y": [
          -3382.5,
          -3382.5,
          -3425,
          -3425
         ],
         "yaxis": "y"
        },
        {
         "hoverinfo": "text",
         "marker": {
          "color": "rgb(0,116,217)"
         },
         "mode": "lines",
         "text": [
          "patron_salaire_profitabilit_valueraient_vince",
          "",
          "",
          "rmunration_stellantis_tavare_carlos_patron"
         ],
         "type": "scatter",
         "x": [
          0,
          1.2812493783742736,
          1.2812493783742736,
          0
         ],
         "xaxis": "x",
         "y": [
          -3475,
          -3475,
          -3485,
          -3485
         ],
         "yaxis": "y"
        },
        {
         "hoverinfo": "text",
         "marker": {
          "color": "rgb(0,116,217)"
         },
         "mode": "lines",
         "text": [
          "record_cac_duplantis_perche_armand",
          "",
          "",
          "rmunration_patron_stellantis_tavare_carlos"
         ],
         "type": "scatter",
         "x": [
          0,
          1.3395089237224955,
          1.3395089237224955,
          1.2812493783742736
         ],
         "xaxis": "x",
         "y": [
          -3465,
          -3465,
          -3480,
          -3480
         ],
         "yaxis": "y"
        },
        {
         "hoverinfo": "text",
         "marker": {
          "color": "rgb(0,116,217)"
         },
         "mode": "lines",
         "text": [
          "record_cac_duplantis_perche_armand",
          "",
          "",
          "rmunration_record_cac_duplantis_perche"
         ],
         "type": "scatter",
         "x": [
          1.559421440860534,
          1.6377965554824827,
          1.6377965554824827,
          1.3395089237224955
         ],
         "xaxis": "x",
         "y": [
          -3403.75,
          -3403.75,
          -3472.5,
          -3472.5
         ],
         "yaxis": "y"
        },
        {
         "hoverinfo": "text",
         "marker": {
          "color": "rgb(0,116,217)"
         },
         "mode": "lines",
         "text": [
          "fraude_fiscal_corruption_frauduleux_seillire",
          "",
          "",
          "fiscalit_fiscal_avantage_impt_arrangement"
         ],
         "type": "scatter",
         "x": [
          0,
          1.243117927488263,
          1.243117927488263,
          0
         ],
         "xaxis": "x",
         "y": [
          -3495,
          -3495,
          -3505,
          -3505
         ],
         "yaxis": "y"
        },
        {
         "hoverinfo": "text",
         "marker": {
          "color": "rgb(0,116,217)"
         },
         "mode": "lines",
         "text": [
          "assurance_vi_clause_bnficiaire_scpi",
          "",
          "",
          "fort_prcise_ninon_wintzer_bavure"
         ],
         "type": "scatter",
         "x": [
          0,
          1.3026344396603564,
          1.3026344396603564,
          0
         ],
         "xaxis": "x",
         "y": [
          -3515,
          -3515,
          -3525,
          -3525
         ],
         "yaxis": "y"
        },
        {
         "hoverinfo": "text",
         "marker": {
          "color": "rgb(0,116,217)"
         },
         "mode": "lines",
         "text": [
          "fraude_fiscal_fiscalit_corruption_frauduleux",
          "",
          "",
          "assurance_vi_fort_clause_bnficiaire"
         ],
         "type": "scatter",
         "x": [
          1.243117927488263,
          1.5389080720521333,
          1.5389080720521333,
          1.3026344396603564
         ],
         "xaxis": "x",
         "y": [
          -3500,
          -3500,
          -3520,
          -3520
         ],
         "yaxis": "y"
        },
        {
         "hoverinfo": "text",
         "marker": {
          "color": "rgb(0,116,217)"
         },
         "mode": "lines",
         "text": [
          "extradition_assange_julian_autorise_britannique",
          "",
          "",
          "tat_unis_uni_etat_cuba"
         ],
         "type": "scatter",
         "x": [
          0,
          1.3654670199692376,
          1.3654670199692376,
          0
         ],
         "xaxis": "x",
         "y": [
          -3535,
          -3535,
          -3545,
          -3545
         ],
         "yaxis": "y"
        },
        {
         "hoverinfo": "text",
         "marker": {
          "color": "rgb(0,116,217)"
         },
         "mode": "lines",
         "text": [
          "suprme_ketanji_jackson_brown_cour",
          "",
          "",
          "noir_blanc_trou_brurier_falcke"
         ],
         "type": "scatter",
         "x": [
          0,
          1.3270646758656686,
          1.3270646758656686,
          0
         ],
         "xaxis": "x",
         "y": [
          -3555,
          -3555,
          -3565,
          -3565
         ],
         "yaxis": "y"
        },
        {
         "hoverinfo": "text",
         "marker": {
          "color": "rgb(0,116,217)"
         },
         "mode": "lines",
         "text": [
          "extradition_assange_tat_uni_etat",
          "",
          "",
          "suprme_noir_ketanji_jackson_brown"
         ],
         "type": "scatter",
         "x": [
          1.3654670199692376,
          1.438918152481411,
          1.438918152481411,
          1.3270646758656686
         ],
         "xaxis": "x",
         "y": [
          -3540,
          -3540,
          -3560,
          -3560
         ],
         "yaxis": "y"
        },
        {
         "hoverinfo": "text",
         "marker": {
          "color": "rgb(0,116,217)"
         },
         "mode": "lines",
         "text": [
          "extradition_assange_tat_uni_etat",
          "",
          "",
          "suprme_noir_ketanji_jackson_brown"
         ],
         "type": "scatter",
         "x": [
          1.5389080720521333,
          1.6113150449248208,
          1.6113150449248208,
          1.438918152481411
         ],
         "xaxis": "x",
         "y": [
          -3510,
          -3510,
          -3550,
          -3550
         ],
         "yaxis": "y"
        },
        {
         "hoverinfo": "text",
         "marker": {
          "color": "rgb(0,116,217)"
         },
         "mode": "lines",
         "text": [
          "branagh_kenneth_belfast_enfance_enfanc",
          "",
          "",
          "opinion_sentiment_civilisation_malaise_dpossession"
         ],
         "type": "scatter",
         "x": [
          0,
          1.2772559665069316,
          1.2772559665069316,
          0
         ],
         "xaxis": "x",
         "y": [
          -3575,
          -3575,
          -3585,
          -3585
         ],
         "yaxis": "y"
        },
        {
         "hoverinfo": "text",
         "marker": {
          "color": "rgb(0,116,217)"
         },
         "mode": "lines",
         "text": [
          "social_rseau_individualisme_truth_colre",
          "",
          "",
          "prochain_blockchain_chainalysis_quinquennat_denormandie"
         ],
         "type": "scatter",
         "x": [
          0,
          1.363034906740805,
          1.363034906740805,
          0
         ],
         "xaxis": "x",
         "y": [
          -3595,
          -3595,
          -3605,
          -3605
         ],
         "yaxis": "y"
        },
        {
         "hoverinfo": "text",
         "marker": {
          "color": "rgb(0,116,217)"
         },
         "mode": "lines",
         "text": [
          "rlection_saluer_emmanuel_enrler_ouf",
          "",
          "",
          "rsa_conditionner_allocataire_activit_rforme"
         ],
         "type": "scatter",
         "x": [
          0,
          1.3895649135195614,
          1.3895649135195614,
          0
         ],
         "xaxis": "x",
         "y": [
          -3615,
          -3615,
          -3625,
          -3625
         ],
         "yaxis": "y"
        },
        {
         "hoverinfo": "text",
         "marker": {
          "color": "rgb(0,116,217)"
         },
         "mode": "lines",
         "text": [
          "social_prochain_rseau_quinquennat_blockchain",
          "",
          "",
          "rlection_rsa_conditionner_allocataire_contrepartie"
         ],
         "type": "scatter",
         "x": [
          1.363034906740805,
          1.4517186080714621,
          1.4517186080714621,
          1.3895649135195614
         ],
         "xaxis": "x",
         "y": [
          -3600,
          -3600,
          -3620,
          -3620
         ],
         "yaxis": "y"
        },
        {
         "hoverinfo": "text",
         "marker": {
          "color": "rgb(0,116,217)"
         },
         "mode": "lines",
         "text": [
          "dcrypter_dcryptage_dcrypte_perce_rhtorique",
          "",
          "",
          "augusta_woods_tiger_master_golf"
         ],
         "type": "scatter",
         "x": [
          0,
          1.386684693938467,
          1.386684693938467,
          0
         ],
         "xaxis": "x",
         "y": [
          -3635,
          -3635,
          -3645,
          -3645
         ],
         "yaxis": "y"
        },
        {
         "hoverinfo": "text",
         "marker": {
          "color": "rgb(0,116,217)"
         },
         "mode": "lines",
         "text": [
          "joe_biden_jinping_xi_abominable",
          "",
          "",
          "tltravail_tlphrique_tlconsultation_tlphonique_prennisation"
         ],
         "type": "scatter",
         "x": [
          0,
          1.3668302359027673,
          1.3668302359027673,
          0
         ],
         "xaxis": "x",
         "y": [
          -3655,
          -3655,
          -3665,
          -3665
         ],
         "yaxis": "y"
        },
        {
         "hoverinfo": "text",
         "marker": {
          "color": "rgb(0,116,217)"
         },
         "mode": "lines",
         "text": [
          "augusta_dcrypter_woods_tiger_master",
          "",
          "",
          "tltravail_joe_tlphrique_tlconsultation_biden"
         ],
         "type": "scatter",
         "x": [
          1.386684693938467,
          1.4583306343462226,
          1.4583306343462226,
          1.3668302359027673
         ],
         "xaxis": "x",
         "y": [
          -3640,
          -3640,
          -3660,
          -3660
         ],
         "yaxis": "y"
        },
        {
         "hoverinfo": "text",
         "marker": {
          "color": "rgb(0,116,217)"
         },
         "mode": "lines",
         "text": [
          "rlection_rsa_social_prochain_conditionner",
          "",
          "",
          "tltravail_joe_tlphrique_tlconsultation_biden"
         ],
         "type": "scatter",
         "x": [
          1.4517186080714621,
          1.5165411510865283,
          1.5165411510865283,
          1.4583306343462226
         ],
         "xaxis": "x",
         "y": [
          -3610,
          -3610,
          -3650,
          -3650
         ],
         "yaxis": "y"
        },
        {
         "hoverinfo": "text",
         "marker": {
          "color": "rgb(0,116,217)"
         },
         "mode": "lines",
         "text": [
          "audiovisuel_redevance_suppression_public_supprimer",
          "",
          "",
          "financier_finance_financer_financement_placement"
         ],
         "type": "scatter",
         "x": [
          0,
          1.3232010550446938,
          1.3232010550446938,
          0
         ],
         "xaxis": "x",
         "y": [
          -3685,
          -3685,
          -3695,
          -3695
         ],
         "yaxis": "y"
        },
        {
         "hoverinfo": "text",
         "marker": {
          "color": "rgb(0,116,217)"
         },
         "mode": "lines",
         "text": [
          "tv_tlvision_rtro_gayet_il",
          "",
          "",
          "audiovisuel_redevance_financier_finance_financer"
         ],
         "type": "scatter",
         "x": [
          0,
          1.411912409595963,
          1.411912409595963,
          1.3232010550446938
         ],
         "xaxis": "x",
         "y": [
          -3675,
          -3675,
          -3690,
          -3690
         ],
         "yaxis": "y"
        },
        {
         "hoverinfo": "text",
         "marker": {
          "color": "rgb(0,116,217)"
         },
         "mode": "lines",
         "text": [
          "tv_tlvision_rtro_gayet_il",
          "",
          "",
          "audiovisuel_redevance_financier_finance_financer"
         ],
         "type": "scatter",
         "x": [
          1.5165411510865283,
          1.5456989782400576,
          1.5456989782400576,
          1.411912409595963
         ],
         "xaxis": "x",
         "y": [
          -3630,
          -3630,
          -3682.5,
          -3682.5
         ],
         "yaxis": "y"
        },
        {
         "hoverinfo": "text",
         "marker": {
          "color": "rgb(0,116,217)"
         },
         "mode": "lines",
         "text": [
          "kenneth_branagh_opinion_belfast_enfance",
          "",
          "",
          "audiovisuel_redevance_financier_finance_financer"
         ],
         "type": "scatter",
         "x": [
          1.2772559665069316,
          1.5638825034582835,
          1.5638825034582835,
          1.5456989782400576
         ],
         "xaxis": "x",
         "y": [
          -3580,
          -3580,
          -3656.25,
          -3656.25
         ],
         "yaxis": "y"
        },
        {
         "hoverinfo": "text",
         "marker": {
          "color": "rgb(0,116,217)"
         },
         "mode": "lines",
         "text": [
          "swift_bancaire_systme_exclure_dconnexion",
          "",
          "",
          "banque_postal_instantan_virement_pel"
         ],
         "type": "scatter",
         "x": [
          0,
          1.331329935055632,
          1.331329935055632,
          0
         ],
         "xaxis": "x",
         "y": [
          -3705,
          -3705,
          -3715,
          -3715
         ],
         "yaxis": "y"
        },
        {
         "hoverinfo": "text",
         "marker": {
          "color": "rgb(0,116,217)"
         },
         "mode": "lines",
         "text": [
          "march_marcher_climat_marche_millier",
          "",
          "",
          "passoire_passer_passeport_thermique_colmar"
         ],
         "type": "scatter",
         "x": [
          0,
          1.3070251142924525,
          1.3070251142924525,
          0
         ],
         "xaxis": "x",
         "y": [
          -3735,
          -3735,
          -3745,
          -3745
         ],
         "yaxis": "y"
        },
        {
         "hoverinfo": "text",
         "marker": {
          "color": "rgb(0,116,217)"
         },
         "mode": "lines",
         "text": [
          "gopolitique_graphique_laguiole_gographe_indication",
          "",
          "",
          "march_marcher_passoire_climat_passer"
         ],
         "type": "scatter",
         "x": [
          0,
          1.4103767839831154,
          1.4103767839831154,
          1.3070251142924525
         ],
         "xaxis": "x",
         "y": [
          -3725,
          -3725,
          -3740,
          -3740
         ],
         "yaxis": "y"
        },
        {
         "hoverinfo": "text",
         "marker": {
          "color": "rgb(0,116,217)"
         },
         "mode": "lines",
         "text": [
          "swift_banque_bancaire_postal_systme",
          "",
          "",
          "gopolitique_march_marcher_graphique_laguiole"
         ],
         "type": "scatter",
         "x": [
          1.331329935055632,
          1.5126603608035316,
          1.5126603608035316,
          1.4103767839831154
         ],
         "xaxis": "x",
         "y": [
          -3710,
          -3710,
          -3732.5,
          -3732.5
         ],
         "yaxis": "y"
        },
        {
         "hoverinfo": "text",
         "marker": {
          "color": "rgb(0,116,217)"
         },
         "mode": "lines",
         "text": [
          "swift_banque_bancaire_postal_systme",
          "",
          "",
          "gopolitique_march_marcher_graphique_laguiole"
         ],
         "type": "scatter",
         "x": [
          1.5638825034582835,
          1.575579665187394,
          1.575579665187394,
          1.5126603608035316
         ],
         "xaxis": "x",
         "y": [
          -3618.125,
          -3618.125,
          -3721.25,
          -3721.25
         ],
         "yaxis": "y"
        },
        {
         "hoverinfo": "text",
         "marker": {
          "color": "rgb(0,116,217)"
         },
         "mode": "lines",
         "text": [
          "alsace_poids_lourd_2025_taxe",
          "",
          "",
          "taxe_taxer_foncier_taxation_riche"
         ],
         "type": "scatter",
         "x": [
          0,
          1.3068046434316325,
          1.3068046434316325,
          0
         ],
         "xaxis": "x",
         "y": [
          -3755,
          -3755,
          -3765,
          -3765
         ],
         "yaxis": "y"
        },
        {
         "hoverinfo": "text",
         "marker": {
          "color": "rgb(0,116,217)"
         },
         "mode": "lines",
         "text": [
          "carbone_empreinte_oxfam_neutralit_taxe",
          "",
          "",
          "carte_carton_vital_chitose_sacai"
         ],
         "type": "scatter",
         "x": [
          0,
          1.3355559780564328,
          1.3355559780564328,
          0
         ],
         "xaxis": "x",
         "y": [
          -3775,
          -3775,
          -3785,
          -3785
         ],
         "yaxis": "y"
        },
        {
         "hoverinfo": "text",
         "marker": {
          "color": "rgb(0,116,217)"
         },
         "mode": "lines",
         "text": [
          "taxe_alsace_taxer_foncier_poids",
          "",
          "",
          "carbone_empreinte_oxfam_neutralit_carte"
         ],
         "type": "scatter",
         "x": [
          1.3068046434316325,
          1.4695432423138644,
          1.4695432423138644,
          1.3355559780564328
         ],
         "xaxis": "x",
         "y": [
          -3760,
          -3760,
          -3780,
          -3780
         ],
         "yaxis": "y"
        },
        {
         "hoverinfo": "text",
         "marker": {
          "color": "rgb(0,116,217)"
         },
         "mode": "lines",
         "text": [
          "twitter_musk_elon_racheter_rachat",
          "",
          "",
          "milliard_milliardaire_magot_bollor_edf"
         ],
         "type": "scatter",
         "x": [
          0,
          1.3198845500505056,
          1.3198845500505056,
          0
         ],
         "xaxis": "x",
         "y": [
          -3795,
          -3795,
          -3805,
          -3805
         ],
         "yaxis": "y"
        },
        {
         "hoverinfo": "text",
         "marker": {
          "color": "rgb(0,116,217)"
         },
         "mode": "lines",
         "text": [
          "twitter_musk_elon_racheter_rachat",
          "",
          "",
          "milliard_milliardaire_magot_bollor_edf"
         ],
         "type": "scatter",
         "x": [
          1.4695432423138644,
          1.5537211898471566,
          1.5537211898471566,
          1.3198845500505056
         ],
         "xaxis": "x",
         "y": [
          -3770,
          -3770,
          -3800,
          -3800
         ],
         "yaxis": "y"
        },
        {
         "hoverinfo": "text",
         "marker": {
          "color": "rgb(0,116,217)"
         },
         "mode": "lines",
         "text": [
          "twitter_musk_elon_racheter_rachat",
          "",
          "",
          "milliard_milliardaire_magot_bollor_edf"
         ],
         "type": "scatter",
         "x": [
          1.575579665187394,
          1.5887469610738507,
          1.5887469610738507,
          1.5537211898471566
         ],
         "xaxis": "x",
         "y": [
          -3669.6875,
          -3669.6875,
          -3785,
          -3785
         ],
         "yaxis": "y"
        },
        {
         "hoverinfo": "text",
         "marker": {
          "color": "rgb(0,116,217)"
         },
         "mode": "lines",
         "text": [
          "twitter_musk_elon_racheter_rachat",
          "",
          "",
          "milliard_milliardaire_magot_bollor_edf"
         ],
         "type": "scatter",
         "x": [
          1.6113150449248208,
          1.6185657995835336,
          1.6185657995835336,
          1.5887469610738507
         ],
         "xaxis": "x",
         "y": [
          -3530,
          -3530,
          -3727.34375,
          -3727.34375
         ],
         "yaxis": "y"
        },
        {
         "hoverinfo": "text",
         "marker": {
          "color": "rgb(0,116,217)"
         },
         "mode": "lines",
         "text": [
          "twitter_musk_elon_racheter_rachat",
          "",
          "",
          "milliard_milliardaire_magot_bollor_edf"
         ],
         "type": "scatter",
         "x": [
          1.6377965554824827,
          1.6754925015393378,
          1.6754925015393378,
          1.6185657995835336
         ],
         "xaxis": "x",
         "y": [
          -3438.125,
          -3438.125,
          -3628.671875,
          -3628.671875
         ],
         "yaxis": "y"
        },
        {
         "hoverinfo": "text",
         "marker": {
          "color": "rgb(0,116,217)"
         },
         "mode": "lines",
         "text": [
          "accord_evian_60_algrie_harki",
          "",
          "",
          "iran_iranien_irano_accord_nuclaire"
         ],
         "type": "scatter",
         "x": [
          0,
          1.2858180796738456,
          1.2858180796738456,
          0
         ],
         "xaxis": "x",
         "y": [
          -3815,
          -3815,
          -3825,
          -3825
         ],
         "yaxis": "y"
        },
        {
         "hoverinfo": "text",
         "marker": {
          "color": "rgb(0,116,217)"
         },
         "mode": "lines",
         "text": [
          "tchernobyl_centrale_radioactivit_aieer_nuclaire",
          "",
          "",
          "nuclaire_racteur_iode_corrosion_core"
         ],
         "type": "scatter",
         "x": [
          0,
          1.2293524594548118,
          1.2293524594548118,
          0
         ],
         "xaxis": "x",
         "y": [
          -3835,
          -3835,
          -3845,
          -3845
         ],
         "yaxis": "y"
        },
        {
         "hoverinfo": "text",
         "marker": {
          "color": "rgb(0,116,217)"
         },
         "mode": "lines",
         "text": [
          "missile_hypersonique_core_intercontinental_sarmat",
          "",
          "",
          "tirer_tire_voleur_foncer_carcan"
         ],
         "type": "scatter",
         "x": [
          0,
          1.3451942350985433,
          1.3451942350985433,
          0
         ],
         "xaxis": "x",
         "y": [
          -3855,
          -3855,
          -3865,
          -3865
         ],
         "yaxis": "y"
        },
        {
         "hoverinfo": "text",
         "marker": {
          "color": "rgb(0,116,217)"
         },
         "mode": "lines",
         "text": [
          "tchernobyl_nuclaire_centrale_radioactivit_aieer",
          "",
          "",
          "missile_hypersonique_core_intercontinental_tirer"
         ],
         "type": "scatter",
         "x": [
          1.2293524594548118,
          1.4869523501299122,
          1.4869523501299122,
          1.3451942350985433
         ],
         "xaxis": "x",
         "y": [
          -3840,
          -3840,
          -3860,
          -3860
         ],
         "yaxis": "y"
        },
        {
         "hoverinfo": "text",
         "marker": {
          "color": "rgb(0,116,217)"
         },
         "mode": "lines",
         "text": [
          "accord_evian_iran_60_iranien",
          "",
          "",
          "missile_tchernobyl_nuclaire_hypersonique_centrale"
         ],
         "type": "scatter",
         "x": [
          1.2858180796738456,
          1.520714350315794,
          1.520714350315794,
          1.4869523501299122
         ],
         "xaxis": "x",
         "y": [
          -3820,
          -3820,
          -3850,
          -3850
         ],
         "yaxis": "y"
        },
        {
         "hoverinfo": "text",
         "marker": {
          "color": "rgb(0,116,217)"
         },
         "mode": "lines",
         "text": [
          "accord_evian_iran_60_iranien",
          "",
          "",
          "missile_tchernobyl_nuclaire_hypersonique_centrale"
         ],
         "type": "scatter",
         "x": [
          1.6754925015393378,
          1.727632631978171,
          1.727632631978171,
          1.520714350315794
         ],
         "xaxis": "x",
         "y": [
          -3533.3984375,
          -3533.3984375,
          -3835,
          -3835
         ],
         "yaxis": "y"
        },
        {
         "hoverinfo": "text",
         "marker": {
          "color": "rgb(0,116,217)"
         },
         "mode": "lines",
         "text": [
          "indice_point_fonctionnaire_dgel_fonction",
          "",
          "",
          "missile_tchernobyl_nuclaire_hypersonique_centrale"
         ],
         "type": "scatter",
         "x": [
          1.2739056071909325,
          1.736675876473976,
          1.736675876473976,
          1.727632631978171
         ],
         "xaxis": "x",
         "y": [
          -3360,
          -3360,
          -3684.19921875,
          -3684.19921875
         ],
         "yaxis": "y"
        },
        {
         "hoverinfo": "text",
         "marker": {
          "color": "rgb(0,116,217)"
         },
         "mode": "lines",
         "text": [
          "paralympique_bauchet_arthur_mdaille_pkin",
          "",
          "",
          "ski_alpin_slalom_globe_station"
         ],
         "type": "scatter",
         "x": [
          0,
          1.2014274499041746,
          1.2014274499041746,
          0
         ],
         "xaxis": "x",
         "y": [
          -3875,
          -3875,
          -3885,
          -3885
         ],
         "yaxis": "y"
        },
        {
         "hoverinfo": "text",
         "marker": {
          "color": "rgb(0,116,217)"
         },
         "mode": "lines",
         "text": [
          "station_spatial_international_fonctionnalit_distant",
          "",
          "",
          "espace_tlescope_space_webb_lune"
         ],
         "type": "scatter",
         "x": [
          0,
          1.2080585167235582,
          1.2080585167235582,
          0
         ],
         "xaxis": "x",
         "y": [
          -3895,
          -3895,
          -3905,
          -3905
         ],
         "yaxis": "y"
        },
        {
         "hoverinfo": "text",
         "marker": {
          "color": "rgb(0,116,217)"
         },
         "mode": "lines",
         "text": [
          "espace_tlescope_spatial_station_space",
          "",
          "",
          "mission_co2_mthane_serre_faible"
         ],
         "type": "scatter",
         "x": [
          1.2080585167235582,
          1.4066515719219883,
          1.4066515719219883,
          0
         ],
         "xaxis": "x",
         "y": [
          -3900,
          -3900,
          -3915,
          -3915
         ],
         "yaxis": "y"
        },
        {
         "hoverinfo": "text",
         "marker": {
          "color": "rgb(0,116,217)"
         },
         "mode": "lines",
         "text": [
          "ski_paralympique_alpin_bauchet_slalom",
          "",
          "",
          "mission_co2_mthane_serre_faible"
         ],
         "type": "scatter",
         "x": [
          1.2014274499041746,
          1.6294338228641447,
          1.6294338228641447,
          1.4066515719219883
         ],
         "xaxis": "x",
         "y": [
          -3880,
          -3880,
          -3907.5,
          -3907.5
         ],
         "yaxis": "y"
        },
        {
         "hoverinfo": "text",
         "marker": {
          "color": "rgb(0,116,217)"
         },
         "mode": "lines",
         "text": [
          "giec_rapport_climat_solution_agit",
          "",
          "",
          "climatique_rchauffement_giec_changement_limiter"
         ],
         "type": "scatter",
         "x": [
          0,
          1.1271159882509765,
          1.1271159882509765,
          0
         ],
         "xaxis": "x",
         "y": [
          -3925,
          -3925,
          -3935,
          -3935
         ],
         "yaxis": "y"
        },
        {
         "hoverinfo": "text",
         "marker": {
          "color": "rgb(0,116,217)"
         },
         "mode": "lines",
         "text": [
          "giec_rapport_climat_solution_agit",
          "",
          "",
          "climatique_rchauffement_giec_rapport_changement"
         ],
         "type": "scatter",
         "x": [
          1.6294338228641447,
          1.681079070375752,
          1.681079070375752,
          1.1271159882509765
         ],
         "xaxis": "x",
         "y": [
          -3893.75,
          -3893.75,
          -3930,
          -3930
         ],
         "yaxis": "y"
        },
        {
         "hoverinfo": "text",
         "marker": {
          "color": "rgb(0,116,217)"
         },
         "mode": "lines",
         "text": [
          "giec_rapport_climat_solution_agit",
          "",
          "",
          "climatique_rchauffement_giec_rapport_changement"
         ],
         "type": "scatter",
         "x": [
          1.736675876473976,
          1.7647524969430017,
          1.7647524969430017,
          1.681079070375752
         ],
         "xaxis": "x",
         "y": [
          -3522.099609375,
          -3522.099609375,
          -3911.875,
          -3911.875
         ],
         "yaxis": "y"
        },
        {
         "hoverinfo": "text",
         "marker": {
          "color": "rgb(0,116,217)"
         },
         "mode": "lines",
         "text": [
          "lectrique_honda_combi_bmw_hybride",
          "",
          "",
          "automobile_volkswagen_cruchot_oldsmobile_3008"
         ],
         "type": "scatter",
         "x": [
          0,
          1.1993494713557,
          1.1993494713557,
          0
         ],
         "xaxis": "x",
         "y": [
          -3955,
          -3955,
          -3965,
          -3965
         ],
         "yaxis": "y"
        },
        {
         "hoverinfo": "text",
         "marker": {
          "color": "rgb(0,116,217)"
         },
         "mode": "lines",
         "text": [
          "automobile_lectrique_honda_volkswagen_suv",
          "",
          "",
          "vente_vent_nft_automobile_vhicule"
         ],
         "type": "scatter",
         "x": [
          1.1993494713557,
          1.3202288042061536,
          1.3202288042061536,
          0
         ],
         "xaxis": "x",
         "y": [
          -3960,
          -3960,
          -3975,
          -3975
         ],
         "yaxis": "y"
        },
        {
         "hoverinfo": "text",
         "marker": {
          "color": "rgb(0,116,217)"
         },
         "mode": "lines",
         "text": [
          "recharge_borne_mercede_recharger_prototype",
          "",
          "",
          "vente_automobile_vent_lectrique_honda"
         ],
         "type": "scatter",
         "x": [
          0,
          1.3787505188727156,
          1.3787505188727156,
          1.3202288042061536
         ],
         "xaxis": "x",
         "y": [
          -3945,
          -3945,
          -3967.5,
          -3967.5
         ],
         "yaxis": "y"
        },
        {
         "hoverinfo": "text",
         "marker": {
          "color": "rgb(0,116,217)"
         },
         "mode": "lines",
         "text": [
          "recharge_borne_mercede_recharger_prototype",
          "",
          "",
          "vente_automobile_lectrique_vent_recharge"
         ],
         "type": "scatter",
         "x": [
          1.7647524969430017,
          1.835606488715829,
          1.835606488715829,
          1.3787505188727156
         ],
         "xaxis": "x",
         "y": [
          -3716.9873046875,
          -3716.9873046875,
          -3956.25,
          -3956.25
         ],
         "yaxis": "y"
        },
        {
         "hoverinfo": "text",
         "marker": {
          "color": "rgb(0,116,217)"
         },
         "mode": "lines",
         "text": [
          "finlande_finlandais_edelfelt_epr_uvre",
          "",
          "",
          "adhsion_rapide_otan_ue_finlandais"
         ],
         "type": "scatter",
         "x": [
          0,
          1.2391760308361908,
          1.2391760308361908,
          0
         ],
         "xaxis": "x",
         "y": [
          -3985,
          -3985,
          -3995,
          -3995
         ],
         "yaxis": "y"
        },
        {
         "hoverinfo": "text",
         "marker": {
          "color": "rgb(0,116,217)"
         },
         "mode": "lines",
         "text": [
          "union_europen_migratoire_mohican_dsunion",
          "",
          "",
          "europen_europe_numrique_souverainisme_coorpacademy"
         ],
         "type": "scatter",
         "x": [
          0,
          1.2024832596223902,
          1.2024832596223902,
          0
         ],
         "xaxis": "x",
         "y": [
          -4015,
          -4015,
          -4025,
          -4025
         ],
         "yaxis": "y"
        },
        {
         "hoverinfo": "text",
         "marker": {
          "color": "rgb(0,116,217)"
         },
         "mode": "lines",
         "text": [
          "gorgie_moldavie_intgrer_union_2008",
          "",
          "",
          "europen_europe_union_numrique_souverainisme"
         ],
         "type": "scatter",
         "x": [
          0,
          1.354859901107076,
          1.354859901107076,
          1.2024832596223902
         ],
         "xaxis": "x",
         "y": [
          -4005,
          -4005,
          -4020,
          -4020
         ],
         "yaxis": "y"
        },
        {
         "hoverinfo": "text",
         "marker": {
          "color": "rgb(0,116,217)"
         },
         "mode": "lines",
         "text": [
          "adhsion_finlande_finlandais_otan_edelfelt",
          "",
          "",
          "europen_europe_union_numrique_souverainisme"
         ],
         "type": "scatter",
         "x": [
          1.2391760308361908,
          1.5661523241565873,
          1.5661523241565873,
          1.354859901107076
         ],
         "xaxis": "x",
         "y": [
          -3990,
          -3990,
          -4012.5,
          -4012.5
         ],
         "yaxis": "y"
        },
        {
         "hoverinfo": "text",
         "marker": {
          "color": "rgb(0,116,217)"
         },
         "mode": "lines",
         "text": [
          "adhsion_finlande_finlandais_otan_edelfelt",
          "",
          "",
          "europen_europe_union_numrique_souverainisme"
         ],
         "type": "scatter",
         "x": [
          1.835606488715829,
          1.8517472954684306,
          1.8517472954684306,
          1.5661523241565873
         ],
         "xaxis": "x",
         "y": [
          -3836.61865234375,
          -3836.61865234375,
          -4001.25,
          -4001.25
         ],
         "yaxis": "y"
        },
        {
         "hoverinfo": "text",
         "marker": {
          "color": "rgb(0,116,217)"
         },
         "mode": "lines",
         "text": [
          "ghosn_justice_carlos_mandat_arrt",
          "",
          "",
          "justice_tribunal_saisir_scopelec_litige"
         ],
         "type": "scatter",
         "x": [
          0,
          1.0075363794642214,
          1.0075363794642214,
          0
         ],
         "xaxis": "x",
         "y": [
          -4035,
          -4035,
          -4045,
          -4045
         ],
         "yaxis": "y"
        },
        {
         "hoverinfo": "text",
         "marker": {
          "color": "rgb(255,65,54)"
         },
         "mode": "lines",
         "text": [
          "mckinsey_affaire_pnf_consultant_polmique",
          "",
          "",
          "cabinet_conseil_mckinsey_recours_polmique"
         ],
         "type": "scatter",
         "x": [
          0,
          0.9333886538010714,
          0.9333886538010714,
          0
         ],
         "xaxis": "x",
         "y": [
          -4055,
          -4055,
          -4065,
          -4065
         ],
         "yaxis": "y"
        },
        {
         "hoverinfo": "text",
         "marker": {
          "color": "rgb(0,116,217)"
         },
         "mode": "lines",
         "text": [
          "justice_tribunal_ghosn_court_carlos",
          "",
          "",
          "mckinsey_cabinet_conseil_affaire_polmique"
         ],
         "type": "scatter",
         "x": [
          1.0075363794642214,
          1.8389682429443797,
          1.8389682429443797,
          0.9333886538010714
         ],
         "xaxis": "x",
         "y": [
          -4040,
          -4040,
          -4060,
          -4060
         ],
         "yaxis": "y"
        },
        {
         "hoverinfo": "text",
         "marker": {
          "color": "rgb(0,116,217)"
         },
         "mode": "lines",
         "text": [
          "justice_tribunal_ghosn_court_carlos",
          "",
          "",
          "mckinsey_cabinet_justice_conseil_tribunal"
         ],
         "type": "scatter",
         "x": [
          1.8517472954684306,
          1.9407923359320711,
          1.9407923359320711,
          1.8389682429443797
         ],
         "xaxis": "x",
         "y": [
          -3918.934326171875,
          -3918.934326171875,
          -4050,
          -4050
         ],
         "yaxis": "y"
        },
        {
         "hoverinfo": "text",
         "marker": {
          "color": "rgb(0,116,217)"
         },
         "mode": "lines",
         "text": [
          "1973_ptrole_ptrolier_choc_comparable",
          "",
          "",
          "mckinsey_cabinet_justice_conseil_tribunal"
         ],
         "type": "scatter",
         "x": [
          1.3356970303397533,
          1.9763622281737563,
          1.9763622281737563,
          1.9407923359320711
         ],
         "xaxis": "x",
         "y": [
          -3332.5,
          -3332.5,
          -3984.4671630859375,
          -3984.4671630859375
         ],
         "yaxis": "y"
        },
        {
         "hoverinfo": "text",
         "marker": {
          "color": "rgb(0,116,217)"
         },
         "mode": "lines",
         "text": [
          "1973_ptrole_ptrolier_choc_comparable",
          "",
          "",
          "mckinsey_cabinet_justice_conseil_tribunal"
         ],
         "type": "scatter",
         "x": [
          2.017643947962392,
          2.02480262877558,
          2.02480262877558,
          1.9763622281737563
         ],
         "xaxis": "x",
         "y": [
          -1725.8235685591353,
          -1725.8235685591353,
          -3658.4835815429688,
          -3658.4835815429688
         ],
         "yaxis": "y"
        },
        {
         "hoverinfo": "text",
         "marker": {
          "color": "rgb(0,116,217)"
         },
         "mode": "lines",
         "text": [
          "festival_angoulme_canne_doucet_bd",
          "",
          "",
          "mckinsey_cabinet_justice_conseil_tribunal"
         ],
         "type": "scatter",
         "x": [
          0.8312235062015474,
          2.0826884823493703,
          2.0826884823493703,
          2.02480262877558
         ],
         "xaxis": "x",
         "y": [
          -540,
          -540,
          -2692.153575051052,
          -2692.153575051052
         ],
         "yaxis": "y"
        },
        {
         "hoverinfo": "text",
         "marker": {
          "color": "rgb(0,116,217)"
         },
         "mode": "lines",
         "text": [
          "ps5_stock_playstation_fnac_console",
          "",
          "",
          "pc_gamer_cdiscount_portable_brand"
         ],
         "type": "scatter",
         "x": [
          0,
          1.2477949089220546,
          1.2477949089220546,
          0
         ],
         "xaxis": "x",
         "y": [
          -4085,
          -4085,
          -4095,
          -4095
         ],
         "yaxis": "y"
        },
        {
         "hoverinfo": "text",
         "marker": {
          "color": "rgb(0,116,217)"
         },
         "mode": "lines",
         "text": [
          "switch_nintendo_oled_console_clbre",
          "",
          "",
          "ps5_stock_cdiscount_pc_console"
         ],
         "type": "scatter",
         "x": [
          0,
          1.3611078758247495,
          1.3611078758247495,
          1.2477949089220546
         ],
         "xaxis": "x",
         "y": [
          -4075,
          -4075,
          -4090,
          -4090
         ],
         "yaxis": "y"
        },
        {
         "hoverinfo": "text",
         "marker": {
          "color": "rgb(0,116,217)"
         },
         "mode": "lines",
         "text": [
          "huawei_gt_smartphone_connecte_montre",
          "",
          "",
          "galaxy_samsung_s22_s21_offre"
         ],
         "type": "scatter",
         "x": [
          0,
          1.2461126751345957,
          1.2461126751345957,
          0
         ],
         "xaxis": "x",
         "y": [
          -4115,
          -4115,
          -4125,
          -4125
         ],
         "yaxis": "y"
        },
        {
         "hoverinfo": "text",
         "marker": {
          "color": "rgb(0,116,217)"
         },
         "mode": "lines",
         "text": [
          "profiter_rduction_cdiscount_aspirateur_offert",
          "",
          "",
          "galaxy_samsung_s22_s21_huawei"
         ],
         "type": "scatter",
         "x": [
          0,
          1.315493798724084,
          1.315493798724084,
          1.2461126751345957
         ],
         "xaxis": "x",
         "y": [
          -4105,
          -4105,
          -4120,
          -4120
         ],
         "yaxis": "y"
        },
        {
         "hoverinfo": "text",
         "marker": {
          "color": "rgb(0,116,217)"
         },
         "mode": "lines",
         "text": [
          "galaxy_samsung_s22_s21_huawei",
          "",
          "",
          "redmi_xiaomi_red_note_sfr"
         ],
         "type": "scatter",
         "x": [
          1.315493798724084,
          1.35478797237157,
          1.35478797237157,
          0
         ],
         "xaxis": "x",
         "y": [
          -4112.5,
          -4112.5,
          -4135,
          -4135
         ],
         "yaxis": "y"
        },
        {
         "hoverinfo": "text",
         "marker": {
          "color": "rgb(0,116,217)"
         },
         "mode": "lines",
         "text": [
          "iphone_apple_ipad_smartphone_profiter",
          "",
          "",
          "airpod_apple_ipad_couteur_pro"
         ],
         "type": "scatter",
         "x": [
          0,
          1.0233303535683287,
          1.0233303535683287,
          0
         ],
         "xaxis": "x",
         "y": [
          -4145,
          -4145,
          -4155,
          -4155
         ],
         "yaxis": "y"
        },
        {
         "hoverinfo": "text",
         "marker": {
          "color": "rgb(0,116,217)"
         },
         "mode": "lines",
         "text": [
          "galaxy_samsung_redmi_xiaomi_red",
          "",
          "",
          "airpod_apple_iphone_ipad_pro"
         ],
         "type": "scatter",
         "x": [
          1.35478797237157,
          1.5019841021539326,
          1.5019841021539326,
          1.0233303535683287
         ],
         "xaxis": "x",
         "y": [
          -4123.75,
          -4123.75,
          -4150,
          -4150
         ],
         "yaxis": "y"
        },
        {
         "hoverinfo": "text",
         "marker": {
          "color": "rgb(0,116,217)"
         },
         "mode": "lines",
         "text": [
          "ps5_switch_stock_nintendo_console",
          "",
          "",
          "iphone_airpod_apple_galaxy_samsung"
         ],
         "type": "scatter",
         "x": [
          1.3611078758247495,
          1.6184969310602326,
          1.6184969310602326,
          1.5019841021539326
         ],
         "xaxis": "x",
         "y": [
          -4082.5,
          -4082.5,
          -4136.875,
          -4136.875
         ],
         "yaxis": "y"
        },
        {
         "hoverinfo": "text",
         "marker": {
          "color": "rgb(35,205,205)"
         },
         "mode": "lines",
         "text": [
          "amazon_syndicat_cration_mgm_amazonie",
          "",
          "",
          "prime_amazon_video_plateforme_catalogue"
         ],
         "type": "scatter",
         "x": [
          0,
          0.9712454168161674,
          0.9712454168161674,
          0
         ],
         "xaxis": "x",
         "y": [
          -4165,
          -4165,
          -4175,
          -4175
         ],
         "yaxis": "y"
        },
        {
         "hoverinfo": "text",
         "marker": {
          "color": "rgb(0,116,217)"
         },
         "mode": "lines",
         "text": [
          "iphone_airpod_apple_galaxy_samsung",
          "",
          "",
          "amazon_prime_syndicat_cration_mgm"
         ],
         "type": "scatter",
         "x": [
          1.6184969310602326,
          1.8791605222608239,
          1.8791605222608239,
          0.9712454168161674
         ],
         "xaxis": "x",
         "y": [
          -4109.6875,
          -4109.6875,
          -4170,
          -4170
         ],
         "yaxis": "y"
        },
        {
         "hoverinfo": "text",
         "marker": {
          "color": "rgb(0,116,217)"
         },
         "mode": "lines",
         "text": [
          "iphone_airpod_apple_galaxy_samsung",
          "",
          "",
          "amazon_iphone_apple_airpod_galaxy"
         ],
         "type": "scatter",
         "x": [
          2.0826884823493703,
          2.2797485361631833,
          2.2797485361631833,
          1.8791605222608239
         ],
         "xaxis": "x",
         "y": [
          -1616.076787525526,
          -1616.076787525526,
          -4139.84375,
          -4139.84375
         ],
         "yaxis": "y"
        },
        {
         "hoverinfo": "text",
         "marker": {
          "color": "rgb(0,116,217)"
         },
         "mode": "lines",
         "text": [
          "iphone_airpod_apple_galaxy_samsung",
          "",
          "",
          "amazon_iphone_apple_airpod_galaxy"
         ],
         "type": "scatter",
         "x": [
          2.2064890659827783,
          2.2891824092951,
          2.2891824092951,
          2.2797485361631833
         ],
         "xaxis": "x",
         "y": [
          -510,
          -510,
          -2877.960268762763,
          -2877.960268762763
         ],
         "yaxis": "y"
        },
        {
         "hoverinfo": "text",
         "marker": {
          "color": "rgb(133,20,75)"
         },
         "mode": "lines",
         "text": [
          "bonsoir_lyon_jt_04_03",
          "",
          "",
          "invit_bonsoir_03_caf_lyon"
         ],
         "type": "scatter",
         "x": [
          0,
          0.9167027378522384,
          0.9167027378522384,
          0
         ],
         "xaxis": "x",
         "y": [
          -4195,
          -4195,
          -4205,
          -4205
         ],
         "yaxis": "y"
        },
        {
         "hoverinfo": "text",
         "marker": {
          "color": "rgb(0,116,217)"
         },
         "mode": "lines",
         "text": [
          "lyon_lyonnais_arrondissement_guillotire_rhn",
          "",
          "",
          "bonsoir_invit_lyon_03_jt"
         ],
         "type": "scatter",
         "x": [
          0,
          1.3053159123911453,
          1.3053159123911453,
          0.9167027378522384
         ],
         "xaxis": "x",
         "y": [
          -4185,
          -4185,
          -4200,
          -4200
         ],
         "yaxis": "y"
        },
        {
         "hoverinfo": "text",
         "marker": {
          "color": "rgb(0,116,217)"
         },
         "mode": "lines",
         "text": [
          "lyon_lyonnais_arrondissement_guillotire_rhn",
          "",
          "",
          "lyon_bonsoir_invit_03_lyonnais"
         ],
         "type": "scatter",
         "x": [
          2.2891824092951,
          2.323310567457849,
          2.323310567457849,
          1.3053159123911453
         ],
         "xaxis": "x",
         "y": [
          -1693.9801343813815,
          -1693.9801343813815,
          -4192.5,
          -4192.5
         ],
         "yaxis": "y"
        },
        {
         "hoverinfo": "text",
         "marker": {
          "color": "rgb(0,116,217)"
         },
         "mode": "lines",
         "text": [
          "homme_jour_yaroshuk_ovide_nudit",
          "",
          "",
          "homme_interpeller_salanque_balle_arm"
         ],
         "type": "scatter",
         "x": [
          0,
          1.0483855101922197,
          1.0483855101922197,
          0
         ],
         "xaxis": "x",
         "y": [
          -4215,
          -4215,
          -4225,
          -4225
         ],
         "yaxis": "y"
        },
        {
         "hoverinfo": "text",
         "marker": {
          "color": "rgb(0,116,217)"
         },
         "mode": "lines",
         "text": [
          "police_gendarmerie_municipal_francisco_poutou",
          "",
          "",
          "municipal_abattre_couteau_policier_marseill"
         ],
         "type": "scatter",
         "x": [
          0,
          1.2951631000147485,
          1.2951631000147485,
          0
         ],
         "xaxis": "x",
         "y": [
          -4245,
          -4245,
          -4255,
          -4255
         ],
         "yaxis": "y"
        },
        {
         "hoverinfo": "text",
         "marker": {
          "color": "rgb(0,116,217)"
         },
         "mode": "lines",
         "text": [
          "suicide_privilgier_collectif_montreux_suicider",
          "",
          "",
          "police_municipal_gendarmerie_abattre_bercy"
         ],
         "type": "scatter",
         "x": [
          0,
          1.3637806434243243,
          1.3637806434243243,
          1.2951631000147485
         ],
         "xaxis": "x",
         "y": [
          -4235,
          -4235,
          -4250,
          -4250
         ],
         "yaxis": "y"
        },
        {
         "hoverinfo": "text",
         "marker": {
          "color": "rgb(0,116,217)"
         },
         "mode": "lines",
         "text": [
          "automobiliste_sevran_policier_examen_tuer",
          "",
          "",
          "mort_foule_pont_retrouver_angle"
         ],
         "type": "scatter",
         "x": [
          0,
          1.1955574465370766,
          1.1955574465370766,
          0
         ],
         "xaxis": "x",
         "y": [
          -4265,
          -4265,
          -4275,
          -4275
         ],
         "yaxis": "y"
        },
        {
         "hoverinfo": "text",
         "marker": {
          "color": "rgb(0,116,217)"
         },
         "mode": "lines",
         "text": [
          "police_suicide_municipal_gendarmerie_privilgier",
          "",
          "",
          "mort_sevran_automobiliste_policier_foule"
         ],
         "type": "scatter",
         "x": [
          1.3637806434243243,
          1.5053185101925217,
          1.5053185101925217,
          1.1955574465370766
         ],
         "xaxis": "x",
         "y": [
          -4242.5,
          -4242.5,
          -4270,
          -4270
         ],
         "yaxis": "y"
        },
        {
         "hoverinfo": "text",
         "marker": {
          "color": "rgb(0,116,217)"
         },
         "mode": "lines",
         "text": [
          "montaigne_collaborateur_droguer_institut_directeur",
          "",
          "",
          "souponner_soupon_fictif_roussel_emploi"
         ],
         "type": "scatter",
         "x": [
          0,
          1.3050084957081651,
          1.3050084957081651,
          0
         ],
         "xaxis": "x",
         "y": [
          -4285,
          -4285,
          -4295,
          -4295
         ],
         "yaxis": "y"
        },
        {
         "hoverinfo": "text",
         "marker": {
          "color": "rgb(0,116,217)"
         },
         "mode": "lines",
         "text": [
          "acquitter_36_orfvre_viol_quai",
          "",
          "",
          "accuser_accus_sexuel_inappropri_accusation"
         ],
         "type": "scatter",
         "x": [
          0,
          1.2855462191010973,
          1.2855462191010973,
          0
         ],
         "xaxis": "x",
         "y": [
          -4305,
          -4305,
          -4315,
          -4315
         ],
         "yaxis": "y"
        },
        {
         "hoverinfo": "text",
         "marker": {
          "color": "rgb(0,116,217)"
         },
         "mode": "lines",
         "text": [
          "souponner_montaigne_collaborateur_soupon_droguer",
          "",
          "",
          "accuser_viol_acquitter_accus_36"
         ],
         "type": "scatter",
         "x": [
          1.3050084957081651,
          1.5004624835864653,
          1.5004624835864653,
          1.2855462191010973
         ],
         "xaxis": "x",
         "y": [
          -4290,
          -4290,
          -4310,
          -4310
         ],
         "yaxis": "y"
        },
        {
         "hoverinfo": "text",
         "marker": {
          "color": "rgb(0,116,217)"
         },
         "mode": "lines",
         "text": [
          "souponner_montaigne_collaborateur_soupon_droguer",
          "",
          "",
          "accuser_viol_acquitter_accus_36"
         ],
         "type": "scatter",
         "x": [
          1.5053185101925217,
          1.5824767350770035,
          1.5824767350770035,
          1.5004624835864653
         ],
         "xaxis": "x",
         "y": [
          -4256.25,
          -4256.25,
          -4300,
          -4300
         ],
         "yaxis": "y"
        },
        {
         "hoverinfo": "text",
         "marker": {
          "color": "rgb(0,116,217)"
         },
         "mode": "lines",
         "text": [
          "homme_interpeller_salanque_balle_arm",
          "",
          "",
          "accuser_viol_acquitter_accus_36"
         ],
         "type": "scatter",
         "x": [
          1.0483855101922197,
          1.7397412976401818,
          1.7397412976401818,
          1.5824767350770035
         ],
         "xaxis": "x",
         "y": [
          -4220,
          -4220,
          -4278.125,
          -4278.125
         ],
         "yaxis": "y"
        },
        {
         "hoverinfo": "text",
         "marker": {
          "color": "rgb(0,116,217)"
         },
         "mode": "lines",
         "text": [
          "violence_violent_conjugal_corse_policier",
          "",
          "",
          "polytechnique_sexuel_violence_signalement_sexiste"
         ],
         "type": "scatter",
         "x": [
          0,
          1.0807501045709935,
          1.0807501045709935,
          0
         ],
         "xaxis": "x",
         "y": [
          -4325,
          -4325,
          -4335,
          -4335
         ],
         "yaxis": "y"
        },
        {
         "hoverinfo": "text",
         "marker": {
          "color": "rgb(0,116,217)"
         },
         "mode": "lines",
         "text": [
          "elimas_moral_nathalie_harclement_secrtaire",
          "",
          "",
          "albright_madeleine_secrtaire_etat_amricain"
         ],
         "type": "scatter",
         "x": [
          0,
          1.244318445362101,
          1.244318445362101,
          0
         ],
         "xaxis": "x",
         "y": [
          -4355,
          -4355,
          -4365,
          -4365
         ],
         "yaxis": "y"
        },
        {
         "hoverinfo": "text",
         "marker": {
          "color": "rgb(0,116,217)"
         },
         "mode": "lines",
         "text": [
          "vincer_placer_sexuel_agression_secrtaire",
          "",
          "",
          "secrtaire_elimas_moral_nathalie_harclement"
         ],
         "type": "scatter",
         "x": [
          0,
          1.3290732836004953,
          1.3290732836004953,
          1.244318445362101
         ],
         "xaxis": "x",
         "y": [
          -4345,
          -4345,
          -4360,
          -4360
         ],
         "yaxis": "y"
        },
        {
         "hoverinfo": "text",
         "marker": {
          "color": "rgb(0,116,217)"
         },
         "mode": "lines",
         "text": [
          "violence_sexuel_polytechnique_violent_conjugal",
          "",
          "",
          "secrtaire_elimas_harclement_moral_nathalie"
         ],
         "type": "scatter",
         "x": [
          1.0807501045709935,
          1.6691097303569051,
          1.6691097303569051,
          1.3290732836004953
         ],
         "xaxis": "x",
         "y": [
          -4330,
          -4330,
          -4352.5,
          -4352.5
         ],
         "yaxis": "y"
        },
        {
         "hoverinfo": "text",
         "marker": {
          "color": "rgb(0,116,217)"
         },
         "mode": "lines",
         "text": [
          "violence_sexuel_polytechnique_violent_conjugal",
          "",
          "",
          "secrtaire_elimas_harclement_moral_nathalie"
         ],
         "type": "scatter",
         "x": [
          1.7397412976401818,
          1.796154689874368,
          1.796154689874368,
          1.6691097303569051
         ],
         "xaxis": "x",
         "y": [
          -4249.0625,
          -4249.0625,
          -4341.25,
          -4341.25
         ],
         "yaxis": "y"
        },
        {
         "hoverinfo": "text",
         "marker": {
          "color": "rgb(0,116,217)"
         },
         "mode": "lines",
         "text": [
          "violence_sexuel_polytechnique_violent_conjugal",
          "",
          "",
          "secrtaire_elimas_harclement_moral_nathalie"
         ],
         "type": "scatter",
         "x": [
          2.323310567457849,
          2.3476097708118817,
          2.3476097708118817,
          1.796154689874368
         ],
         "xaxis": "x",
         "y": [
          -2943.2400671906908,
          -2943.2400671906908,
          -4295.15625,
          -4295.15625
         ],
         "yaxis": "y"
        },
        {
         "hoverinfo": "text",
         "marker": {
          "color": "rgb(255,220,0)"
         },
         "mode": "lines",
         "text": [
          "psg_real_mbapper_mbapp_madrid",
          "",
          "",
          "psg_ligue_champion_maillot_titre"
         ],
         "type": "scatter",
         "x": [
          0,
          0.9417586983333668,
          0.9417586983333668,
          0
         ],
         "xaxis": "x",
         "y": [
          -4375,
          -4375,
          -4385,
          -4385
         ],
         "yaxis": "y"
        },
        {
         "hoverinfo": "text",
         "marker": {
          "color": "rgb(0,116,217)"
         },
         "mode": "lines",
         "text": [
          "psg_real_mbapper_mbapp_madrid",
          "",
          "",
          "ligue_europa_confrenc_finale_om"
         ],
         "type": "scatter",
         "x": [
          0.9417586983333668,
          1.2397112319182997,
          1.2397112319182997,
          0
         ],
         "xaxis": "x",
         "y": [
          -4380,
          -4380,
          -4395,
          -4395
         ],
         "yaxis": "y"
        },
        {
         "hoverinfo": "text",
         "marker": {
          "color": "rgb(0,116,217)"
         },
         "mode": "lines",
         "text": [
          "qatar_coupe_monde_lgbt_qatarie",
          "",
          "",
          "coupe_tirage_monde_sort_mondial"
         ],
         "type": "scatter",
         "x": [
          0,
          1.0388764090875917,
          1.0388764090875917,
          0
         ],
         "xaxis": "x",
         "y": [
          -4415,
          -4415,
          -4425,
          -4425
         ],
         "yaxis": "y"
        },
        {
         "hoverinfo": "text",
         "marker": {
          "color": "rgb(0,116,217)"
         },
         "mode": "lines",
         "text": [
          "coupe_qatar_monde_tirage_mondial",
          "",
          "",
          "barrage_portugal_coupe_turquie_cameroun"
         ],
         "type": "scatter",
         "x": [
          1.0388764090875917,
          1.15985053421132,
          1.15985053421132,
          0
         ],
         "xaxis": "x",
         "y": [
          -4420,
          -4420,
          -4435,
          -4435
         ],
         "yaxis": "y"
        },
        {
         "hoverinfo": "text",
         "marker": {
          "color": "rgb(0,116,217)"
         },
         "mode": "lines",
         "text": [
          "coupe_frappart_finale_arbitrer_nante",
          "",
          "",
          "coupe_qatar_monde_barrage_tirage"
         ],
         "type": "scatter",
         "x": [
          0,
          1.2975697970905626,
          1.2975697970905626,
          1.15985053421132
         ],
         "xaxis": "x",
         "y": [
          -4405,
          -4405,
          -4427.5,
          -4427.5
         ],
         "yaxis": "y"
        },
        {
         "hoverinfo": "text",
         "marker": {
          "color": "rgb(0,116,217)"
         },
         "mode": "lines",
         "text": [
          "coupe_frappart_finale_arbitrer_nante",
          "",
          "",
          "coupe_qatar_monde_barrage_tirage"
         ],
         "type": "scatter",
         "x": [
          1.2397112319182997,
          2.1625773537105704,
          2.1625773537105704,
          1.2975697970905626
         ],
         "xaxis": "x",
         "y": [
          -4387.5,
          -4387.5,
          -4416.25,
          -4416.25
         ],
         "yaxis": "y"
        },
        {
         "hoverinfo": "text",
         "marker": {
          "color": "rgb(40,35,35)"
         },
         "mode": "lines",
         "text": [
          "galle_xv_pays_chelem_bleu",
          "",
          "",
          "nation_tournoi_xv_angleterre_france"
         ],
         "type": "scatter",
         "x": [
          0,
          0.9881146339260457,
          0.9881146339260457,
          0
         ],
         "xaxis": "x",
         "y": [
          -4455,
          -4455,
          -4465,
          -4465
         ],
         "yaxis": "y"
        },
        {
         "hoverinfo": "text",
         "marker": {
          "color": "rgb(0,116,217)"
         },
         "mode": "lines",
         "text": [
          "nation_galle_xv_tournoi_angleterre",
          "",
          "",
          "rugby_xv_cosser_chelem_tournoi"
         ],
         "type": "scatter",
         "x": [
          0.9881146339260457,
          1.2349678246009048,
          1.2349678246009048,
          0
         ],
         "xaxis": "x",
         "y": [
          -4460,
          -4460,
          -4475,
          -4475
         ],
         "yaxis": "y"
        },
        {
         "hoverinfo": "text",
         "marker": {
          "color": "rgb(0,116,217)"
         },
         "mode": "lines",
         "text": [
          "ecosse_cosser_murrayfield_moefana_bleu",
          "",
          "",
          "rugby_xv_cosser_chelem_tournoi"
         ],
         "type": "scatter",
         "x": [
          0,
          1.2498773305657336,
          1.2498773305657336,
          1.2349678246009048
         ],
         "xaxis": "x",
         "y": [
          -4445,
          -4445,
          -4467.5,
          -4467.5
         ],
         "yaxis": "y"
        },
        {
         "hoverinfo": "text",
         "marker": {
          "color": "rgb(0,116,217)"
         },
         "mode": "lines",
         "text": [
          "ecosse_cosser_murrayfield_moefana_bleu",
          "",
          "",
          "xv_nation_tournoi_galle_rugby"
         ],
         "type": "scatter",
         "x": [
          2.1625773537105704,
          2.2921067786324456,
          2.2921067786324456,
          1.2498773305657336
         ],
         "xaxis": "x",
         "y": [
          -4401.875,
          -4401.875,
          -4456.25,
          -4456.25
         ],
         "yaxis": "y"
        },
        {
         "hoverinfo": "text",
         "marker": {
          "color": "rgb(0,116,217)"
         },
         "mode": "lines",
         "text": [
          "ecosse_cosser_murrayfield_moefana_bleu",
          "",
          "",
          "xv_nation_tournoi_galle_rugby"
         ],
         "type": "scatter",
         "x": [
          2.3476097708118817,
          2.591050639979328,
          2.591050639979328,
          2.2921067786324456
         ],
         "xaxis": "x",
         "y": [
          -3619.1981585953454,
          -3619.1981585953454,
          -4429.0625,
          -4429.0625
         ],
         "yaxis": "y"
        },
        {
         "hoverinfo": "text",
         "marker": {
          "color": "rgb(0,116,217)"
         },
         "mode": "lines",
         "text": [
          "ecosse_cosser_murrayfield_moefana_bleu",
          "",
          "",
          "xv_nation_tournoi_galle_rugby"
         ],
         "type": "scatter",
         "x": [
          2.4737071887252045,
          2.7477852515609253,
          2.7477852515609253,
          2.591050639979328
         ],
         "xaxis": "x",
         "y": [
          -422.8125,
          -422.8125,
          -4024.1303292976727,
          -4024.1303292976727
         ],
         "yaxis": "y"
        },
        {
         "hoverinfo": "text",
         "marker": {
          "color": "rgb(0,116,217)"
         },
         "mode": "lines",
         "text": [
          "prison_colonna_yvan_corse_agression",
          "",
          "",
          "xv_nation_tournoi_galle_rugby"
         ],
         "type": "scatter",
         "x": [
          1.5549409711673645,
          3.1135739939925564,
          3.1135739939925564,
          2.7477852515609253
         ],
         "xaxis": "x",
         "y": [
          -351.875,
          -351.875,
          -2223.4714146488363,
          -2223.4714146488363
         ],
         "yaxis": "y"
        },
        {
         "hoverinfo": "text",
         "marker": {
          "color": "rgb(0,116,217)"
         },
         "mode": "lines",
         "text": [
          "prison_colonna_yvan_corse_agression",
          "",
          "",
          "xv_nation_tournoi_galle_rugby"
         ],
         "type": "scatter",
         "x": [
          2.411706202883707,
          3.180658898658882,
          3.180658898658882,
          3.1135739939925564
         ],
         "xaxis": "x",
         "y": [
          -231.40625,
          -231.40625,
          -1287.6732073244182,
          -1287.6732073244182
         ],
         "yaxis": "y"
        },
        {
         "hoverinfo": "text",
         "marker": {
          "color": "rgb(61,153,112)"
         },
         "mode": "lines",
         "text": [
          "massacre_boutcher_boutcha_rights_human",
          "",
          "",
          "massacre_boutcher_boutcha_crime_massacr"
         ],
         "type": "scatter",
         "x": [
          0,
          0.46884905516928504,
          0.46884905516928504,
          0
         ],
         "xaxis": "x",
         "y": [
          -4485,
          -4485,
          -4495,
          -4495
         ],
         "yaxis": "y"
        },
        {
         "hoverinfo": "text",
         "marker": {
          "color": "rgb(255,65,54)"
         },
         "mode": "lines",
         "text": [
          "crime_thiopie_enquter_boutcha_totalnergie",
          "",
          "",
          "crime_human_watch_rights_cour"
         ],
         "type": "scatter",
         "x": [
          0,
          0.783496307959056,
          0.783496307959056,
          0
         ],
         "xaxis": "x",
         "y": [
          -4515,
          -4515,
          -4525,
          -4525
         ],
         "yaxis": "y"
        },
        {
         "hoverinfo": "text",
         "marker": {
          "color": "rgb(255,65,54)"
         },
         "mode": "lines",
         "text": [
          "crime_accuser_boutcher_accusation_phosphore",
          "",
          "",
          "crime_human_international_cour_watch"
         ],
         "type": "scatter",
         "x": [
          0,
          0.9755881751190453,
          0.9755881751190453,
          0.783496307959056
         ],
         "xaxis": "x",
         "y": [
          -4505,
          -4505,
          -4520,
          -4520
         ],
         "yaxis": "y"
        },
        {
         "hoverinfo": "text",
         "marker": {
          "color": "rgb(0,116,217)"
         },
         "mode": "lines",
         "text": [
          "humanit_contestation_crime_homophobie_kramatorsk",
          "",
          "",
          "humanit_doyen_118_andr_sur"
         ],
         "type": "scatter",
         "x": [
          0,
          1.0445556451913134,
          1.0445556451913134,
          0
         ],
         "xaxis": "x",
         "y": [
          -4535,
          -4535,
          -4545,
          -4545
         ],
         "yaxis": "y"
        },
        {
         "hoverinfo": "text",
         "marker": {
          "color": "rgb(0,116,217)"
         },
         "mode": "lines",
         "text": [
          "crime_enquter_human_commettre_boutcher",
          "",
          "",
          "humanit_doyen_118_andr_contestation"
         ],
         "type": "scatter",
         "x": [
          0.9755881751190453,
          1.8026795069826085,
          1.8026795069826085,
          1.0445556451913134
         ],
         "xaxis": "x",
         "y": [
          -4512.5,
          -4512.5,
          -4540,
          -4540
         ],
         "yaxis": "y"
        },
        {
         "hoverinfo": "text",
         "marker": {
          "color": "rgb(0,116,217)"
         },
         "mode": "lines",
         "text": [
          "massacre_boutcher_boutcha_crime_gnocide",
          "",
          "",
          "humanit_doyen_118_andr_contestation"
         ],
         "type": "scatter",
         "x": [
          0.46884905516928504,
          1.9308854735060423,
          1.9308854735060423,
          1.8026795069826085
         ],
         "xaxis": "x",
         "y": [
          -4490,
          -4490,
          -4526.25,
          -4526.25
         ],
         "yaxis": "y"
        },
        {
         "hoverinfo": "text",
         "marker": {
          "color": "rgb(35,205,205)"
         },
         "mode": "lines",
         "text": [
          "zelensky_volodymyr_prsident_profondeur_volodymir",
          "",
          "",
          "volodymyr_zelensky_congrs_serviteur_adresser"
         ],
         "type": "scatter",
         "x": [
          0,
          0.5450198570007634,
          0.5450198570007634,
          0
         ],
         "xaxis": "x",
         "y": [
          -4555,
          -4555,
          -4565,
          -4565
         ],
         "yaxis": "y"
        },
        {
         "hoverinfo": "text",
         "marker": {
          "color": "rgb(61,153,112)"
         },
         "mode": "lines",
         "text": [
          "chef_diplomatie_fedorov_renseignement_clown",
          "",
          "",
          "chef_orchestre_top_uvre_portrait"
         ],
         "type": "scatter",
         "x": [
          0,
          0.6494458393103378,
          0.6494458393103378,
          0
         ],
         "xaxis": "x",
         "y": [
          -4575,
          -4575,
          -4585,
          -4585
         ],
         "yaxis": "y"
        },
        {
         "hoverinfo": "text",
         "marker": {
          "color": "rgb(0,116,217)"
         },
         "mode": "lines",
         "text": [
          "zelensky_volodymyr_prsident_serviteur_congrs",
          "",
          "",
          "chef_orchestre_diplomatie_valery_gergiev"
         ],
         "type": "scatter",
         "x": [
          0.5450198570007634,
          2.073051082010989,
          2.073051082010989,
          0.6494458393103378
         ],
         "xaxis": "x",
         "y": [
          -4560,
          -4560,
          -4580,
          -4580
         ],
         "yaxis": "y"
        },
        {
         "hoverinfo": "text",
         "marker": {
          "color": "rgb(255,65,54)"
         },
         "mode": "lines",
         "text": [
          "militaire_dpense_renseignement_vidaud_quipement",
          "",
          "",
          "militaire_clausewitz_thoricien_carl_intervention"
         ],
         "type": "scatter",
         "x": [
          0,
          0.8621571446595624,
          0.8621571446595624,
          0
         ],
         "xaxis": "x",
         "y": [
          -4595,
          -4595,
          -4605,
          -4605
         ],
         "yaxis": "y"
        },
        {
         "hoverinfo": "text",
         "marker": {
          "color": "rgb(255,65,54)"
         },
         "mode": "lines",
         "text": [
          "militaire_dpense_base_renseignement_thoricien",
          "",
          "",
          "militaire_fantasme_survivalist_grandissant_puissance"
         ],
         "type": "scatter",
         "x": [
          0.8621571446595624,
          0.9627222730826813,
          0.9627222730826813,
          0
         ],
         "xaxis": "x",
         "y": [
          -4600,
          -4600,
          -4615,
          -4615
         ],
         "yaxis": "y"
        },
        {
         "hoverinfo": "text",
         "marker": {
          "color": "rgb(0,116,217)"
         },
         "mode": "lines",
         "text": [
          "militaire_dpense_base_renseignement_thoricien",
          "",
          "",
          "militaire_dpense_base_renseignement_opration"
         ],
         "type": "scatter",
         "x": [
          2.073051082010989,
          2.3963959616176376,
          2.3963959616176376,
          0.9627222730826813
         ],
         "xaxis": "x",
         "y": [
          -4570,
          -4570,
          -4607.5,
          -4607.5
         ],
         "yaxis": "y"
        },
        {
         "hoverinfo": "text",
         "marker": {
          "color": "rgb(35,205,205)"
         },
         "mode": "lines",
         "text": [
          "moscou_pkin_moscovite_axe_conakry",
          "",
          "",
          "moscou_cesser_lokomotiv_nergticien_local"
         ],
         "type": "scatter",
         "x": [
          0,
          0.8245666765052624,
          0.8245666765052624,
          0
         ],
         "xaxis": "x",
         "y": [
          -4625,
          -4625,
          -4635,
          -4635
         ],
         "yaxis": "y"
        },
        {
         "hoverinfo": "text",
         "marker": {
          "color": "rgb(0,116,217)"
         },
         "mode": "lines",
         "text": [
          "mykolav_bombardement_bombe_civil_irpin",
          "",
          "",
          "kiev_couvrir_kyiv_capitale_klitschko"
         ],
         "type": "scatter",
         "x": [
          0,
          1.2066663260696695,
          1.2066663260696695,
          0
         ],
         "xaxis": "x",
         "y": [
          -4665,
          -4665,
          -4675,
          -4675
         ],
         "yaxis": "y"
        },
        {
         "hoverinfo": "text",
         "marker": {
          "color": "rgb(0,116,217)"
         },
         "mode": "lines",
         "text": [
          "frappe_kharkiv_svrement_mort_srie",
          "",
          "",
          "kiev_bombardement_couvrir_klitschko_kyiv"
         ],
         "type": "scatter",
         "x": [
          0,
          1.3601255728131425,
          1.3601255728131425,
          1.2066663260696695
         ],
         "xaxis": "x",
         "y": [
          -4655,
          -4655,
          -4670,
          -4670
         ],
         "yaxis": "y"
        },
        {
         "hoverinfo": "text",
         "marker": {
          "color": "rgb(0,116,217)"
         },
         "mode": "lines",
         "text": [
          "vacuation_marioupol_civil_impossible_procder",
          "",
          "",
          "kiev_bombardement_couvrir_klitschko_kyiv"
         ],
         "type": "scatter",
         "x": [
          0,
          1.4716003998963032,
          1.4716003998963032,
          1.3601255728131425
         ],
         "xaxis": "x",
         "y": [
          -4645,
          -4645,
          -4662.5,
          -4662.5
         ],
         "yaxis": "y"
        },
        {
         "hoverinfo": "text",
         "marker": {
          "color": "rgb(0,116,217)"
         },
         "mode": "lines",
         "text": [
          "ambassade_ambassadeur_kiev_retourner_clique",
          "",
          "",
          "lviv_ouest_109_ville_bombardement"
         ],
         "type": "scatter",
         "x": [
          0,
          1.2040748650425332,
          1.2040748650425332,
          0
         ],
         "xaxis": "x",
         "y": [
          -4685,
          -4685,
          -4695,
          -4695
         ],
         "yaxis": "y"
        },
        {
         "hoverinfo": "text",
         "marker": {
          "color": "rgb(0,116,217)"
         },
         "mode": "lines",
         "text": [
          "ambassade_ambassadeur_kiev_retourner_clique",
          "",
          "",
          "lviv_ambassade_ambassadeur_ouest_ville"
         ],
         "type": "scatter",
         "x": [
          1.4716003998963032,
          1.5832790932847014,
          1.5832790932847014,
          1.2040748650425332
         ],
         "xaxis": "x",
         "y": [
          -4653.75,
          -4653.75,
          -4690,
          -4690
         ],
         "yaxis": "y"
        },
        {
         "hoverinfo": "text",
         "marker": {
          "color": "rgb(0,116,217)"
         },
         "mode": "lines",
         "text": [
          "ville_portuaire_kherson_odesser_scrute",
          "",
          "",
          "ville_centre_capitale_vendme_ctier"
         ],
         "type": "scatter",
         "x": [
          0,
          1.112366635890357,
          1.112366635890357,
          0
         ],
         "xaxis": "x",
         "y": [
          -4705,
          -4705,
          -4715,
          -4715
         ],
         "yaxis": "y"
        },
        {
         "hoverinfo": "text",
         "marker": {
          "color": "rgb(0,116,217)"
         },
         "mode": "lines",
         "text": [
          "ville_portuaire_kherson_odesser_scrute",
          "",
          "",
          "ville_centre_capitale_vendme_ctier"
         ],
         "type": "scatter",
         "x": [
          1.5832790932847014,
          1.6523837675594097,
          1.6523837675594097,
          1.112366635890357
         ],
         "xaxis": "x",
         "y": [
          -4671.875,
          -4671.875,
          -4710,
          -4710
         ],
         "yaxis": "y"
        },
        {
         "hoverinfo": "text",
         "marker": {
          "color": "rgb(0,116,217)"
         },
         "mode": "lines",
         "text": [
          "moscou_pkin_moscovite_sanction_washington",
          "",
          "",
          "ville_centre_capitale_vendme_ctier"
         ],
         "type": "scatter",
         "x": [
          0.8245666765052624,
          1.9548730916665455,
          1.9548730916665455,
          1.6523837675594097
         ],
         "xaxis": "x",
         "y": [
          -4630,
          -4630,
          -4690.9375,
          -4690.9375
         ],
         "yaxis": "y"
        },
        {
         "hoverinfo": "text",
         "marker": {
          "color": "rgb(133,20,75)"
         },
         "mode": "lines",
         "text": [
          "image_photo_photojournaliste_yaghobzadeh_audinet",
          "",
          "",
          "photo_image_photographe_photographie_photographier"
         ],
         "type": "scatter",
         "x": [
          0,
          0.8566242813743474,
          0.8566242813743474,
          0
         ],
         "xaxis": "x",
         "y": [
          -4725,
          -4725,
          -4735,
          -4735
         ],
         "yaxis": "y"
        },
        {
         "hoverinfo": "text",
         "marker": {
          "color": "rgb(0,116,217)"
         },
         "mode": "lines",
         "text": [
          "abdeslam_salah_novembre_13_procs",
          "",
          "",
          "abrini_mohamed_novembre_13_procs"
         ],
         "type": "scatter",
         "x": [
          0,
          1.0727500271832713,
          1.0727500271832713,
          0
         ],
         "xaxis": "x",
         "y": [
          -4755,
          -4755,
          -4765,
          -4765
         ],
         "yaxis": "y"
        },
        {
         "hoverinfo": "text",
         "marker": {
          "color": "rgb(0,116,217)"
         },
         "mode": "lines",
         "text": [
          "diffuser_bataclan_image_arte_novembre",
          "",
          "",
          "abdeslam_novembre_salah_13_procs"
         ],
         "type": "scatter",
         "x": [
          0,
          1.3446731840082606,
          1.3446731840082606,
          1.0727500271832713
         ],
         "xaxis": "x",
         "y": [
          -4745,
          -4745,
          -4760,
          -4760
         ],
         "yaxis": "y"
        },
        {
         "hoverinfo": "text",
         "marker": {
          "color": "rgb(0,116,217)"
         },
         "mode": "lines",
         "text": [
          "photo_image_photographe_photographie_photographier",
          "",
          "",
          "abdeslam_novembre_salah_13_procs"
         ],
         "type": "scatter",
         "x": [
          0.8566242813743474,
          1.9024891674094437,
          1.9024891674094437,
          1.3446731840082606
         ],
         "xaxis": "x",
         "y": [
          -4730,
          -4730,
          -4752.5,
          -4752.5
         ],
         "yaxis": "y"
        },
        {
         "hoverinfo": "text",
         "marker": {
          "color": "rgb(255,220,0)"
         },
         "mode": "lines",
         "text": [
          "journaliste_journal_bataclan_mdia_otage",
          "",
          "",
          "journaliste_sputnik_mdia_rt_tlvision"
         ],
         "type": "scatter",
         "x": [
          0,
          0.7973737110063885,
          0.7973737110063885,
          0
         ],
         "xaxis": "x",
         "y": [
          -4775,
          -4775,
          -4785,
          -4785
         ],
         "yaxis": "y"
        },
        {
         "hoverinfo": "text",
         "marker": {
          "color": "rgb(0,116,217)"
         },
         "mode": "lines",
         "text": [
          "journaliste_journal_bataclan_mdia_otage",
          "",
          "",
          "journaliste_mdia_sputnik_journal_rt"
         ],
         "type": "scatter",
         "x": [
          1.9024891674094437,
          1.9833782491284797,
          1.9833782491284797,
          0.7973737110063885
         ],
         "xaxis": "x",
         "y": [
          -4741.25,
          -4741.25,
          -4780,
          -4780
         ],
         "yaxis": "y"
        },
        {
         "hoverinfo": "text",
         "marker": {
          "color": "rgb(0,116,217)"
         },
         "mode": "lines",
         "text": [
          "journaliste_journal_bataclan_mdia_otage",
          "",
          "",
          "journaliste_mdia_sputnik_journal_rt"
         ],
         "type": "scatter",
         "x": [
          1.9548730916665455,
          2.187978094334513,
          2.187978094334513,
          1.9833782491284797
         ],
         "xaxis": "x",
         "y": [
          -4660.46875,
          -4660.46875,
          -4760.625,
          -4760.625
         ],
         "yaxis": "y"
        },
        {
         "hoverinfo": "text",
         "marker": {
          "color": "rgb(40,35,35)"
         },
         "mode": "lines",
         "text": [
          "invasion_situation_dbut_russe_ukraine",
          "",
          "",
          "invasion_31m_libert_cauchemar_palomro"
         ],
         "type": "scatter",
         "x": [
          0,
          0.5445683043277213,
          0.5445683043277213,
          0
         ],
         "xaxis": "x",
         "y": [
          -4795,
          -4795,
          -4805,
          -4805
         ],
         "yaxis": "y"
        },
        {
         "hoverinfo": "text",
         "marker": {
          "color": "rgb(0,116,217)"
         },
         "mode": "lines",
         "text": [
          "invasion_situation_dbut_russe_ukraine",
          "",
          "",
          "invasion_russe_situation_dbut_jour"
         ],
         "type": "scatter",
         "x": [
          2.187978094334513,
          2.276753386100285,
          2.276753386100285,
          0.5445683043277213
         ],
         "xaxis": "x",
         "y": [
          -4710.546875,
          -4710.546875,
          -4800,
          -4800
         ],
         "yaxis": "y"
        },
        {
         "hoverinfo": "text",
         "marker": {
          "color": "rgb(0,116,217)"
         },
         "mode": "lines",
         "text": [
          "invasion_situation_dbut_russe_ukraine",
          "",
          "",
          "invasion_russe_situation_dbut_jour"
         ],
         "type": "scatter",
         "x": [
          2.3963959616176376,
          2.464287822487073,
          2.464287822487073,
          2.276753386100285
         ],
         "xaxis": "x",
         "y": [
          -4588.75,
          -4588.75,
          -4755.2734375,
          -4755.2734375
         ],
         "yaxis": "y"
        },
        {
         "hoverinfo": "text",
         "marker": {
          "color": "rgb(61,153,112)"
         },
         "mode": "lines",
         "text": [
          "valrie_pcress_baba_crash_radioscopie",
          "",
          "",
          "valrie_pcress_znith_poudre_asperger"
         ],
         "type": "scatter",
         "x": [
          0,
          0.5699751065234364,
          0.5699751065234364,
          0
         ],
         "xaxis": "x",
         "y": [
          -4815,
          -4815,
          -4825,
          -4825
         ],
         "yaxis": "y"
        },
        {
         "hoverinfo": "text",
         "marker": {
          "color": "rgb(255,65,54)"
         },
         "mode": "lines",
         "text": [
          "programme_prsentation_value_sav_opposition",
          "",
          "",
          "programme_tenue_monologue_rtif_vrifier"
         ],
         "type": "scatter",
         "x": [
          0,
          0.8245837923990418,
          0.8245837923990418,
          0
         ],
         "xaxis": "x",
         "y": [
          -4835,
          -4835,
          -4845,
          -4845
         ],
         "yaxis": "y"
        },
        {
         "hoverinfo": "text",
         "marker": {
          "color": "rgb(0,116,217)"
         },
         "mode": "lines",
         "text": [
          "programme_prsentation_emmanuel_value_tenue",
          "",
          "",
          "programme_indiffrenc_inexistant_dpressif_quasi"
         ],
         "type": "scatter",
         "x": [
          0.8245837923990418,
          1.1654830009699113,
          1.1654830009699113,
          0
         ],
         "xaxis": "x",
         "y": [
          -4840,
          -4840,
          -4855,
          -4855
         ],
         "yaxis": "y"
        },
        {
         "hoverinfo": "text",
         "marker": {
          "color": "rgb(0,116,217)"
         },
         "mode": "lines",
         "text": [
          "valrie_pcress_asperger_poudre_znith",
          "",
          "",
          "programme_prsentation_indiffrenc_inexistant_dpressif"
         ],
         "type": "scatter",
         "x": [
          0.5699751065234364,
          2.2154994248627715,
          2.2154994248627715,
          1.1654830009699113
         ],
         "xaxis": "x",
         "y": [
          -4820,
          -4820,
          -4847.5,
          -4847.5
         ],
         "yaxis": "y"
        },
        {
         "hoverinfo": "text",
         "marker": {
          "color": "rgb(0,116,217)"
         },
         "mode": "lines",
         "text": [
          "campagne_dbomber_kessler_ausi_pia",
          "",
          "",
          "impact_campagne_percute_lectoral_lection"
         ],
         "type": "scatter",
         "x": [
          0,
          1.3058751773266981,
          1.3058751773266981,
          0
         ],
         "xaxis": "x",
         "y": [
          -4875,
          -4875,
          -4885,
          -4885
         ],
         "yaxis": "y"
        },
        {
         "hoverinfo": "text",
         "marker": {
          "color": "rgb(0,116,217)"
         },
         "mode": "lines",
         "text": [
          "officiel_lection_avril_prsident_conviction",
          "",
          "",
          "campagne_impact_prsidentiel_percute_lectoral"
         ],
         "type": "scatter",
         "x": [
          0,
          1.4000589401301275,
          1.4000589401301275,
          1.3058751773266981
         ],
         "xaxis": "x",
         "y": [
          -4865,
          -4865,
          -4880,
          -4880
         ],
         "yaxis": "y"
        },
        {
         "hoverinfo": "text",
         "marker": {
          "color": "rgb(0,116,217)"
         },
         "mode": "lines",
         "text": [
          "meeting_marseille_prvoir_luxembourgeois_emmanuel",
          "",
          "",
          "marseille_surfing_calanque_naturiste_estanguet"
         ],
         "type": "scatter",
         "x": [
          0,
          1.0610840896986684,
          1.0610840896986684,
          0
         ],
         "xaxis": "x",
         "y": [
          -4895,
          -4895,
          -4905,
          -4905
         ],
         "yaxis": "y"
        },
        {
         "hoverinfo": "text",
         "marker": {
          "color": "rgb(0,116,217)"
         },
         "mode": "lines",
         "text": [
          "campagne_officiel_lection_prsident_impact",
          "",
          "",
          "marseille_meeting_surfing_calanque_prvoir"
         ],
         "type": "scatter",
         "x": [
          1.4000589401301275,
          1.8411707747640818,
          1.8411707747640818,
          1.0610840896986684
         ],
         "xaxis": "x",
         "y": [
          -4872.5,
          -4872.5,
          -4900,
          -4900
         ],
         "yaxis": "y"
        },
        {
         "hoverinfo": "text",
         "marker": {
          "color": "rgb(0,116,217)"
         },
         "mode": "lines",
         "text": [
          "face_menace_introduire_parlement_urgence",
          "",
          "",
          "face_sociologique_fourquet_dgainer_climatique"
         ],
         "type": "scatter",
         "x": [
          0,
          1.1700855391751677,
          1.1700855391751677,
          0
         ],
         "xaxis": "x",
         "y": [
          -4915,
          -4915,
          -4925,
          -4925
         ],
         "yaxis": "y"
        },
        {
         "hoverinfo": "text",
         "marker": {
          "color": "rgb(0,116,217)"
         },
         "mode": "lines",
         "text": [
          "prsident_hollande_ondimber_hondurer_correa",
          "",
          "",
          "politique_socialiste_idologie_ory_populisme"
         ],
         "type": "scatter",
         "x": [
          0,
          1.3699896694789595,
          1.3699896694789595,
          0
         ],
         "xaxis": "x",
         "y": [
          -4945,
          -4945,
          -4955,
          -4955
         ],
         "yaxis": "y"
        },
        {
         "hoverinfo": "text",
         "marker": {
          "color": "rgb(0,116,217)"
         },
         "mode": "lines",
         "text": [
          "hidalgo_anne_socialiste_ps_jadot",
          "",
          "",
          "politique_socialiste_prsident_hollande_idologie"
         ],
         "type": "scatter",
         "x": [
          0,
          1.3770699909759325,
          1.3770699909759325,
          1.3699896694789595
         ],
         "xaxis": "x",
         "y": [
          -4935,
          -4935,
          -4950,
          -4950
         ],
         "yaxis": "y"
        },
        {
         "hoverinfo": "text",
         "marker": {
          "color": "rgb(0,116,217)"
         },
         "mode": "lines",
         "text": [
          "cologie_cologique_conomique_cologiste_conomie",
          "",
          "",
          "vido_video_guerr_jeu_youtube"
         ],
         "type": "scatter",
         "x": [
          0,
          1.4266790703479073,
          1.4266790703479073,
          0
         ],
         "xaxis": "x",
         "y": [
          -4965,
          -4965,
          -4975,
          -4975
         ],
         "yaxis": "y"
        },
        {
         "hoverinfo": "text",
         "marker": {
          "color": "rgb(0,116,217)"
         },
         "mode": "lines",
         "text": [
          "hidalgo_anne_politique_socialiste_ps",
          "",
          "",
          "vido_video_guerr_cologie_cologique"
         ],
         "type": "scatter",
         "x": [
          1.3770699909759325,
          1.4826266466053144,
          1.4826266466053144,
          1.4266790703479073
         ],
         "xaxis": "x",
         "y": [
          -4942.5,
          -4942.5,
          -4970,
          -4970
         ],
         "yaxis": "y"
        },
        {
         "hoverinfo": "text",
         "marker": {
          "color": "rgb(0,116,217)"
         },
         "mode": "lines",
         "text": [
          "falloir_relire_fouetter_fleur_boire",
          "",
          "",
          "faire_espre_coproprit_taire_mentir"
         ],
         "type": "scatter",
         "x": [
          0,
          1.3405544472275788,
          1.3405544472275788,
          0
         ],
         "xaxis": "x",
         "y": [
          -4985,
          -4985,
          -4995,
          -4995
         ],
         "yaxis": "y"
        },
        {
         "hoverinfo": "text",
         "marker": {
          "color": "rgb(0,116,217)"
         },
         "mode": "lines",
         "text": [
          "paix_emploi_ressource_miou_plein",
          "",
          "",
          "enfant_couteau_discothque_enfance_pre"
         ],
         "type": "scatter",
         "x": [
          0,
          1.3505005571246678,
          1.3505005571246678,
          0
         ],
         "xaxis": "x",
         "y": [
          -5005,
          -5005,
          -5015,
          -5015
         ],
         "yaxis": "y"
        },
        {
         "hoverinfo": "text",
         "marker": {
          "color": "rgb(0,116,217)"
         },
         "mode": "lines",
         "text": [
          "faire_falloir_relire_fouetter_savoir",
          "",
          "",
          "enfant_enfance_couteau_discothque_paix"
         ],
         "type": "scatter",
         "x": [
          1.3405544472275788,
          1.4492581445351285,
          1.4492581445351285,
          1.3505005571246678
         ],
         "xaxis": "x",
         "y": [
          -4990,
          -4990,
          -5010,
          -5010
         ],
         "yaxis": "y"
        },
        {
         "hoverinfo": "text",
         "marker": {
          "color": "rgb(0,116,217)"
         },
         "mode": "lines",
         "text": [
          "femme_fminin_sexisme_galit_egalit",
          "",
          "",
          "fministe_fminisme_messe_inclusive_diocse"
         ],
         "type": "scatter",
         "x": [
          0,
          1.3417760490318513,
          1.3417760490318513,
          0
         ],
         "xaxis": "x",
         "y": [
          -5025,
          -5025,
          -5035,
          -5035
         ],
         "yaxis": "y"
        },
        {
         "hoverinfo": "text",
         "marker": {
          "color": "rgb(0,116,217)"
         },
         "mode": "lines",
         "text": [
          "faire_falloir_enfant_enfance_savoir",
          "",
          "",
          "femme_fministe_fminin_sexisme_fminisme"
         ],
         "type": "scatter",
         "x": [
          1.4492581445351285,
          1.5115762173733518,
          1.5115762173733518,
          1.3417760490318513
         ],
         "xaxis": "x",
         "y": [
          -5000,
          -5000,
          -5030,
          -5030
         ],
         "yaxis": "y"
        },
        {
         "hoverinfo": "text",
         "marker": {
          "color": "rgb(0,116,217)"
         },
         "mode": "lines",
         "text": [
          "faire_falloir_enfant_enfance_savoir",
          "",
          "",
          "femme_fministe_fminin_sexisme_fminisme"
         ],
         "type": "scatter",
         "x": [
          1.4826266466053144,
          1.5693566905012366,
          1.5693566905012366,
          1.5115762173733518
         ],
         "xaxis": "x",
         "y": [
          -4956.25,
          -4956.25,
          -5015,
          -5015
         ],
         "yaxis": "y"
        },
        {
         "hoverinfo": "text",
         "marker": {
          "color": "rgb(0,116,217)"
         },
         "mode": "lines",
         "text": [
          "face_sociologique_menace_parlement_introduire",
          "",
          "",
          "femme_fministe_fminin_sexisme_fminisme"
         ],
         "type": "scatter",
         "x": [
          1.1700855391751677,
          1.6909358527174538,
          1.6909358527174538,
          1.5693566905012366
         ],
         "xaxis": "x",
         "y": [
          -4920,
          -4920,
          -4985.625,
          -4985.625
         ],
         "yaxis": "y"
        },
        {
         "hoverinfo": "text",
         "marker": {
          "color": "rgb(0,116,217)"
         },
         "mode": "lines",
         "text": [
          "yannick_jadot_chasseur_inviter_congrs",
          "",
          "",
          "rousseau_sandrine_jadot_yannick_exclure"
         ],
         "type": "scatter",
         "x": [
          0,
          1.1265469112937736,
          1.1265469112937736,
          0
         ],
         "xaxis": "x",
         "y": [
          -5045,
          -5045,
          -5055,
          -5055
         ],
         "yaxis": "y"
        },
        {
         "hoverinfo": "text",
         "marker": {
          "color": "rgb(0,116,217)"
         },
         "mode": "lines",
         "text": [
          "pimpant_massenet_collaborer_poussif_cendrillon",
          "",
          "",
          "immigration_tabou_relocalisatier_ultrasensible_brochand"
         ],
         "type": "scatter",
         "x": [
          0,
          1.3358218431610356,
          1.3358218431610356,
          0
         ],
         "xaxis": "x",
         "y": [
          -5065,
          -5065,
          -5075,
          -5075
         ],
         "yaxis": "y"
        },
        {
         "hoverinfo": "text",
         "marker": {
          "color": "rgb(0,116,217)"
         },
         "mode": "lines",
         "text": [
          "militant_antifa_qg_agresser_intrusion",
          "",
          "",
          "extrme_droite_droit_amre_ngation"
         ],
         "type": "scatter",
         "x": [
          0,
          1.3362472683632511,
          1.3362472683632511,
          0
         ],
         "xaxis": "x",
         "y": [
          -5085,
          -5085,
          -5095,
          -5095
         ],
         "yaxis": "y"
        },
        {
         "hoverinfo": "text",
         "marker": {
          "color": "rgb(0,116,217)"
         },
         "mode": "lines",
         "text": [
          "krivine_alain_figure_rvolutionnaire_communiste",
          "",
          "",
          "gauche_lefebvre_rmi_ultra_lgislatif"
         ],
         "type": "scatter",
         "x": [
          0,
          1.294246657153201,
          1.294246657153201,
          0
         ],
         "xaxis": "x",
         "y": [
          -5105,
          -5105,
          -5115,
          -5115
         ],
         "yaxis": "y"
        },
        {
         "hoverinfo": "text",
         "marker": {
          "color": "rgb(0,116,217)"
         },
         "mode": "lines",
         "text": [
          "extrme_militant_droite_antifa_droit",
          "",
          "",
          "gauche_krivine_alain_figure_rvolutionnaire"
         ],
         "type": "scatter",
         "x": [
          1.3362472683632511,
          1.4715110331967758,
          1.4715110331967758,
          1.294246657153201
         ],
         "xaxis": "x",
         "y": [
          -5090,
          -5090,
          -5110,
          -5110
         ],
         "yaxis": "y"
        },
        {
         "hoverinfo": "text",
         "marker": {
          "color": "rgb(0,116,217)"
         },
         "mode": "lines",
         "text": [
          "immigration_tabou_relocalisatier_brochand_ekrame",
          "",
          "",
          "gauche_krivine_alain_figure_rvolutionnaire"
         ],
         "type": "scatter",
         "x": [
          1.3358218431610356,
          1.546165787453518,
          1.546165787453518,
          1.4715110331967758
         ],
         "xaxis": "x",
         "y": [
          -5070,
          -5070,
          -5100,
          -5100
         ],
         "yaxis": "y"
        },
        {
         "hoverinfo": "text",
         "marker": {
          "color": "rgb(0,116,217)"
         },
         "mode": "lines",
         "text": [
          "lgislative_lfi_janez_janser_lr",
          "",
          "",
          "rugy_ministre_lire_demande_lgislative"
         ],
         "type": "scatter",
         "x": [
          0,
          1.204144257704286,
          1.204144257704286,
          0
         ],
         "xaxis": "x",
         "y": [
          -5125,
          -5125,
          -5135,
          -5135
         ],
         "yaxis": "y"
        },
        {
         "hoverinfo": "text",
         "marker": {
          "color": "rgb(0,116,217)"
         },
         "mode": "lines",
         "text": [
          "lgislative_lfi_janez_janser_lr",
          "",
          "",
          "lgislative_rugy_ministre_lire_lfi"
         ],
         "type": "scatter",
         "x": [
          1.546165787453518,
          1.607484551102085,
          1.607484551102085,
          1.204144257704286
         ],
         "xaxis": "x",
         "y": [
          -5085,
          -5085,
          -5130,
          -5130
         ],
         "yaxis": "y"
        },
        {
         "hoverinfo": "text",
         "marker": {
          "color": "rgb(0,116,217)"
         },
         "mode": "lines",
         "text": [
          "marchal_marion_ric_ralliement_zemmour",
          "",
          "",
          "eric_zemmour_ric_clip_contrefaon"
         ],
         "type": "scatter",
         "x": [
          0,
          1.218269061192769,
          1.218269061192769,
          0
         ],
         "xaxis": "x",
         "y": [
          -5145,
          -5145,
          -5155,
          -5155
         ],
         "yaxis": "y"
        },
        {
         "hoverinfo": "text",
         "marker": {
          "color": "rgb(0,116,217)"
         },
         "mode": "lines",
         "text": [
          "eric_marchal_marion_zemmour_ric",
          "",
          "",
          "assassin_scander_malentender_zemmour_meeting"
         ],
         "type": "scatter",
         "x": [
          1.218269061192769,
          1.3539628338602745,
          1.3539628338602745,
          0
         ],
         "xaxis": "x",
         "y": [
          -5150,
          -5150,
          -5165,
          -5165
         ],
         "yaxis": "y"
        },
        {
         "hoverinfo": "text",
         "marker": {
          "color": "rgb(0,116,217)"
         },
         "mode": "lines",
         "text": [
          "eric_marchal_marion_zemmour_ric",
          "",
          "",
          "zemmour_eric_assassin_marchal_marion"
         ],
         "type": "scatter",
         "x": [
          1.607484551102085,
          1.7027234387229033,
          1.7027234387229033,
          1.3539628338602745
         ],
         "xaxis": "x",
         "y": [
          -5107.5,
          -5107.5,
          -5157.5,
          -5157.5
         ],
         "yaxis": "y"
        },
        {
         "hoverinfo": "text",
         "marker": {
          "color": "rgb(0,116,217)"
         },
         "mode": "lines",
         "text": [
          "rousseau_sandrine_yannick_jadot_exclure",
          "",
          "",
          "zemmour_eric_assassin_marchal_marion"
         ],
         "type": "scatter",
         "x": [
          1.1265469112937736,
          1.749181328820167,
          1.749181328820167,
          1.7027234387229033
         ],
         "xaxis": "x",
         "y": [
          -5050,
          -5050,
          -5132.5,
          -5132.5
         ],
         "yaxis": "y"
        },
        {
         "hoverinfo": "text",
         "marker": {
          "color": "rgb(0,116,217)"
         },
         "mode": "lines",
         "text": [
          "rousseau_sandrine_yannick_jadot_exclure",
          "",
          "",
          "zemmour_eric_assassin_marchal_marion"
         ],
         "type": "scatter",
         "x": [
          1.6909358527174538,
          1.8814193276434161,
          1.8814193276434161,
          1.749181328820167
         ],
         "xaxis": "x",
         "y": [
          -4952.8125,
          -4952.8125,
          -5091.25,
          -5091.25
         ],
         "yaxis": "y"
        },
        {
         "hoverinfo": "text",
         "marker": {
          "color": "rgb(35,205,205)"
         },
         "mode": "lines",
         "text": [
          "retraite_rforme_65_49_an",
          "",
          "",
          "ge_65_retraite_repousser_dpart"
         ],
         "type": "scatter",
         "x": [
          0,
          0.9444362049234329,
          0.9444362049234329,
          0
         ],
         "xaxis": "x",
         "y": [
          -5175,
          -5175,
          -5185,
          -5185
         ],
         "yaxis": "y"
        },
        {
         "hoverinfo": "text",
         "marker": {
          "color": "rgb(0,116,217)"
         },
         "mode": "lines",
         "text": [
          "retraite_rforme_65_49_an",
          "",
          "",
          "retraite_65_rforme_ge_dpart"
         ],
         "type": "scatter",
         "x": [
          1.8814193276434161,
          1.9164613462886702,
          1.9164613462886702,
          0.9444362049234329
         ],
         "xaxis": "x",
         "y": [
          -5022.03125,
          -5022.03125,
          -5180,
          -5180
         ],
         "yaxis": "y"
        },
        {
         "hoverinfo": "text",
         "marker": {
          "color": "rgb(0,116,217)"
         },
         "mode": "lines",
         "text": [
          "retraite_rforme_65_49_an",
          "",
          "",
          "retraite_65_rforme_ge_dpart"
         ],
         "type": "scatter",
         "x": [
          1.8411707747640818,
          1.9271064109453322,
          1.9271064109453322,
          1.9164613462886702
         ],
         "xaxis": "x",
         "y": [
          -4886.25,
          -4886.25,
          -5101.015625,
          -5101.015625
         ],
         "yaxis": "y"
        },
        {
         "hoverinfo": "text",
         "marker": {
          "color": "rgb(61,153,112)"
         },
         "mode": "lines",
         "text": [
          "rsilience_plan_caste_gouvernement_pcheur",
          "",
          "",
          "rsilience_conomique_plan_famine_conomie"
         ],
         "type": "scatter",
         "x": [
          0,
          0.7555798066428855,
          0.7555798066428855,
          0
         ],
         "xaxis": "x",
         "y": [
          -5195,
          -5195,
          -5205,
          -5205
         ],
         "yaxis": "y"
        },
        {
         "hoverinfo": "text",
         "marker": {
          "color": "rgb(0,116,217)"
         },
         "mode": "lines",
         "text": [
          "rsilience_plan_caste_gouvernement_pcheur",
          "",
          "",
          "rsilience_plan_conomique_gouvernement_caste"
         ],
         "type": "scatter",
         "x": [
          1.9271064109453322,
          2.181625458699159,
          2.181625458699159,
          0.7555798066428855
         ],
         "xaxis": "x",
         "y": [
          -4993.6328125,
          -4993.6328125,
          -5200,
          -5200
         ],
         "yaxis": "y"
        },
        {
         "hoverinfo": "text",
         "marker": {
          "color": "rgb(0,116,217)"
         },
         "mode": "lines",
         "text": [
          "rsilience_plan_caste_gouvernement_pcheur",
          "",
          "",
          "rsilience_plan_conomique_gouvernement_caste"
         ],
         "type": "scatter",
         "x": [
          2.2154994248627715,
          2.35962383808224,
          2.35962383808224,
          2.181625458699159
         ],
         "xaxis": "x",
         "y": [
          -4833.75,
          -4833.75,
          -5096.81640625,
          -5096.81640625
         ],
         "yaxis": "y"
        },
        {
         "hoverinfo": "text",
         "marker": {
          "color": "rgb(0,116,217)"
         },
         "mode": "lines",
         "text": [
          "franais_focalise_2022_billetterie_prsidentiel",
          "",
          "",
          "lettre_franais_candidature_document_gaulle"
         ],
         "type": "scatter",
         "x": [
          0,
          1.258960390862146,
          1.258960390862146,
          0
         ],
         "xaxis": "x",
         "y": [
          -5215,
          -5215,
          -5225,
          -5225
         ],
         "yaxis": "y"
        },
        {
         "hoverinfo": "text",
         "marker": {
          "color": "rgb(0,116,217)"
         },
         "mode": "lines",
         "text": [
          "franais_ukraine_rfugi_impacter_combattre",
          "",
          "",
          "franais_langue_balcon_montreux_start"
         ],
         "type": "scatter",
         "x": [
          0,
          1.1904016510133522,
          1.1904016510133522,
          0
         ],
         "xaxis": "x",
         "y": [
          -5235,
          -5235,
          -5245,
          -5245
         ],
         "yaxis": "y"
        },
        {
         "hoverinfo": "text",
         "marker": {
          "color": "rgb(0,116,217)"
         },
         "mode": "lines",
         "text": [
          "franais_langue_balcon_montreux_rfugi",
          "",
          "",
          "entreprise_franais_russie_renault_auchan"
         ],
         "type": "scatter",
         "x": [
          1.1904016510133522,
          1.26009166748668,
          1.26009166748668,
          0
         ],
         "xaxis": "x",
         "y": [
          -5240,
          -5240,
          -5255,
          -5255
         ],
         "yaxis": "y"
        },
        {
         "hoverinfo": "text",
         "marker": {
          "color": "rgb(0,116,217)"
         },
         "mode": "lines",
         "text": [
          "lettre_franais_candidature_emmanuel_prsidentiel",
          "",
          "",
          "franais_entreprise_langue_balcon_montreux"
         ],
         "type": "scatter",
         "x": [
          1.258960390862146,
          1.5285576160910073,
          1.5285576160910073,
          1.26009166748668
         ],
         "xaxis": "x",
         "y": [
          -5220,
          -5220,
          -5247.5,
          -5247.5
         ],
         "yaxis": "y"
        },
        {
         "hoverinfo": "text",
         "marker": {
          "color": "rgb(0,116,217)"
         },
         "mode": "lines",
         "text": [
          "autonomie_darmanin_corse_grald_visite",
          "",
          "",
          "500_darmanin_000_grald_rfugi"
         ],
         "type": "scatter",
         "x": [
          0,
          1.2401165024901255,
          1.2401165024901255,
          0
         ],
         "xaxis": "x",
         "y": [
          -5265,
          -5265,
          -5275,
          -5275
         ],
         "yaxis": "y"
        },
        {
         "hoverinfo": "text",
         "marker": {
          "color": "rgb(255,65,54)"
         },
         "mode": "lines",
         "text": [
          "accueil_rfugi_france_ukrainien_accueillir",
          "",
          "",
          "rfugi_ukrainien_accueil_accueillir_solidarit"
         ],
         "type": "scatter",
         "x": [
          0,
          0.918918337921628,
          0.918918337921628,
          0
         ],
         "xaxis": "x",
         "y": [
          -5285,
          -5285,
          -5295,
          -5295
         ],
         "yaxis": "y"
        },
        {
         "hoverinfo": "text",
         "marker": {
          "color": "rgb(0,116,217)"
         },
         "mode": "lines",
         "text": [
          "accueil_rfugi_france_ukrainien_accueillir",
          "",
          "",
          "rfugi_ukrainien_accueil_accueillir_solidarit"
         ],
         "type": "scatter",
         "x": [
          1.2401165024901255,
          1.6294119544694925,
          1.6294119544694925,
          0.918918337921628
         ],
         "xaxis": "x",
         "y": [
          -5270,
          -5270,
          -5290,
          -5290
         ],
         "yaxis": "y"
        },
        {
         "hoverinfo": "text",
         "marker": {
          "color": "rgb(35,205,205)"
         },
         "mode": "lines",
         "text": [
          "million_milliard_fuir_dollar_euro",
          "",
          "",
          "euro_million_milliard_000_dollar"
         ],
         "type": "scatter",
         "x": [
          0,
          0.8977491355001864,
          0.8977491355001864,
          0
         ],
         "xaxis": "x",
         "y": [
          -5305,
          -5305,
          -5315,
          -5315
         ],
         "yaxis": "y"
        },
        {
         "hoverinfo": "text",
         "marker": {
          "color": "rgb(0,116,217)"
         },
         "mode": "lines",
         "text": [
          "euro_million_milliard_000_dollar",
          "",
          "",
          "fdj_jackpot_euromillion_loto_gagner"
         ],
         "type": "scatter",
         "x": [
          0.8977491355001864,
          1.385278317637249,
          1.385278317637249,
          0
         ],
         "xaxis": "x",
         "y": [
          -5310,
          -5310,
          -5325,
          -5325
         ],
         "yaxis": "y"
        },
        {
         "hoverinfo": "text",
         "marker": {
          "color": "rgb(0,116,217)"
         },
         "mode": "lines",
         "text": [
          "euro_million_milliard_000_dollar",
          "",
          "",
          "fdj_jackpot_euromillion_loto_gagner"
         ],
         "type": "scatter",
         "x": [
          1.6294119544694925,
          1.9321928117241653,
          1.9321928117241653,
          1.385278317637249
         ],
         "xaxis": "x",
         "y": [
          -5280,
          -5280,
          -5317.5,
          -5317.5
         ],
         "yaxis": "y"
        },
        {
         "hoverinfo": "text",
         "marker": {
          "color": "rgb(0,116,217)"
         },
         "mode": "lines",
         "text": [
          "euro_million_milliard_000_dollar",
          "",
          "",
          "fdj_jackpot_euromillion_loto_gagner"
         ],
         "type": "scatter",
         "x": [
          1.5285576160910073,
          2.1914174823279695,
          2.1914174823279695,
          1.9321928117241653
         ],
         "xaxis": "x",
         "y": [
          -5233.75,
          -5233.75,
          -5298.75,
          -5298.75
         ],
         "yaxis": "y"
        },
        {
         "hoverinfo": "text",
         "marker": {
          "color": "rgb(0,116,217)"
         },
         "mode": "lines",
         "text": [
          "euro_million_milliard_000_dollar",
          "",
          "",
          "fdj_jackpot_euromillion_loto_gagner"
         ],
         "type": "scatter",
         "x": [
          2.35962383808224,
          2.555815781875162,
          2.555815781875162,
          2.1914174823279695
         ],
         "xaxis": "x",
         "y": [
          -4965.283203125,
          -4965.283203125,
          -5266.25,
          -5266.25
         ],
         "yaxis": "y"
        },
        {
         "hoverinfo": "text",
         "marker": {
          "color": "rgb(0,116,217)"
         },
         "mode": "lines",
         "text": [
          "euro_million_milliard_000_dollar",
          "",
          "",
          "fdj_jackpot_euromillion_loto_gagner"
         ],
         "type": "scatter",
         "x": [
          2.464287822487073,
          2.695887378029879,
          2.695887378029879,
          2.555815781875162
         ],
         "xaxis": "x",
         "y": [
          -4672.01171875,
          -4672.01171875,
          -5115.7666015625,
          -5115.7666015625
         ],
         "yaxis": "y"
        },
        {
         "hoverinfo": "text",
         "marker": {
          "color": "rgb(133,20,75)"
         },
         "mode": "lines",
         "text": [
          "thtre_rond_shakespeare_schulz_sncal",
          "",
          "",
          "thtre_bombarder_marioupol_dcombre_130"
         ],
         "type": "scatter",
         "x": [
          0,
          0.9236266046390881,
          0.9236266046390881,
          0
         ],
         "xaxis": "x",
         "y": [
          -5335,
          -5335,
          -5345,
          -5345
         ],
         "yaxis": "y"
        },
        {
         "hoverinfo": "text",
         "marker": {
          "color": "rgb(255,220,0)"
         },
         "mode": "lines",
         "text": [
          "marioupol_pdiatrique_assig_bombarder_ruine",
          "",
          "",
          "marioupol_assig_martyre_ville_enceint"
         ],
         "type": "scatter",
         "x": [
          0,
          0.4356505465327869,
          0.4356505465327869,
          0
         ],
         "xaxis": "x",
         "y": [
          -5355,
          -5355,
          -5365,
          -5365
         ],
         "yaxis": "y"
        },
        {
         "hoverinfo": "text",
         "marker": {
          "color": "rgb(0,116,217)"
         },
         "mode": "lines",
         "text": [
          "thtre_rond_shakespeare_bombarder_marioupol",
          "",
          "",
          "marioupol_assig_martyre_ville_bombardement"
         ],
         "type": "scatter",
         "x": [
          0.9236266046390881,
          1.9183938086520977,
          1.9183938086520977,
          0.4356505465327869
         ],
         "xaxis": "x",
         "y": [
          -5340,
          -5340,
          -5360,
          -5360
         ],
         "yaxis": "y"
        },
        {
         "hoverinfo": "text",
         "marker": {
          "color": "rgb(40,35,35)"
         },
         "mode": "lines",
         "text": [
          "vacuer_marioupol_22m_civil_000",
          "",
          "",
          "vacuer_immeuble_australie_millier_inondation"
         ],
         "type": "scatter",
         "x": [
          0,
          0.7645662615056812,
          0.7645662615056812,
          0
         ],
         "xaxis": "x",
         "y": [
          -5375,
          -5375,
          -5385,
          -5385
         ],
         "yaxis": "y"
        },
        {
         "hoverinfo": "text",
         "marker": {
          "color": "rgb(61,153,112)"
         },
         "mode": "lines",
         "text": [
          "humanitaire_couloir_vacuer_civil_convoi",
          "",
          "",
          "humanitaire_couloir_convoi_ethiopie_pesquet"
         ],
         "type": "scatter",
         "x": [
          0,
          0.5264581696624665,
          0.5264581696624665,
          0
         ],
         "xaxis": "x",
         "y": [
          -5395,
          -5395,
          -5405,
          -5405
         ],
         "yaxis": "y"
        },
        {
         "hoverinfo": "text",
         "marker": {
          "color": "rgb(0,116,217)"
         },
         "mode": "lines",
         "text": [
          "vacuer_marioupol_immeuble_australie_civil",
          "",
          "",
          "humanitaire_couloir_vacuer_convoi_civil"
         ],
         "type": "scatter",
         "x": [
          0.7645662615056812,
          1.8779550327783352,
          1.8779550327783352,
          0.5264581696624665
         ],
         "xaxis": "x",
         "y": [
          -5380,
          -5380,
          -5400,
          -5400
         ],
         "yaxis": "y"
        },
        {
         "hoverinfo": "text",
         "marker": {
          "color": "rgb(0,116,217)"
         },
         "mode": "lines",
         "text": [
          "vacuer_marioupol_immeuble_australie_civil",
          "",
          "",
          "humanitaire_couloir_vacuer_convoi_civil"
         ],
         "type": "scatter",
         "x": [
          1.9183938086520977,
          2.5062298495068314,
          2.5062298495068314,
          1.8779550327783352
         ],
         "xaxis": "x",
         "y": [
          -5350,
          -5350,
          -5390,
          -5390
         ],
         "yaxis": "y"
        },
        {
         "hoverinfo": "text",
         "marker": {
          "color": "rgb(0,116,217)"
         },
         "mode": "lines",
         "text": [
          "vacuer_marioupol_immeuble_australie_civil",
          "",
          "",
          "humanitaire_couloir_vacuer_convoi_civil"
         ],
         "type": "scatter",
         "x": [
          2.695887378029879,
          3.1384767100772724,
          3.1384767100772724,
          2.5062298495068314
         ],
         "xaxis": "x",
         "y": [
          -4893.88916015625,
          -4893.88916015625,
          -5370,
          -5370
         ],
         "yaxis": "y"
        },
        {
         "hoverinfo": "text",
         "marker": {
          "color": "rgb(0,116,217)"
         },
         "mode": "lines",
         "text": [
          "crime_massacre_humanit_boutcher_boutcha",
          "",
          "",
          "humanitaire_couloir_vacuer_convoi_civil"
         ],
         "type": "scatter",
         "x": [
          1.9308854735060423,
          3.314239154336528,
          3.314239154336528,
          3.1384767100772724
         ],
         "xaxis": "x",
         "y": [
          -4508.125,
          -4508.125,
          -5131.944580078125,
          -5131.944580078125
         ],
         "yaxis": "y"
        },
        {
         "hoverinfo": "text",
         "marker": {
          "color": "rgb(255,65,54)"
         },
         "mode": "lines",
         "text": [
          "bulletin_mto_19h55_avril_12h55",
          "",
          "",
          "12h55_bulletin_mto_mars_13h44"
         ],
         "type": "scatter",
         "x": [
          0,
          0.5873490037949561,
          0.5873490037949561,
          0
         ],
         "xaxis": "x",
         "y": [
          -5415,
          -5415,
          -5425,
          -5425
         ],
         "yaxis": "y"
        },
        {
         "hoverinfo": "text",
         "marker": {
          "color": "rgb(35,205,205)"
         },
         "mode": "lines",
         "text": [
          "mars_marquant_vnement_principal_1972",
          "",
          "",
          "vnement_mars_inform_mercredi_essentiel"
         ],
         "type": "scatter",
         "x": [
          0,
          0.8662237957199841,
          0.8662237957199841,
          0
         ],
         "xaxis": "x",
         "y": [
          -5445,
          -5445,
          -5455,
          -5455
         ],
         "yaxis": "y"
        },
        {
         "hoverinfo": "text",
         "marker": {
          "color": "rgb(0,116,217)"
         },
         "mode": "lines",
         "text": [
          "18h_20h_franceinfo_mars_vendredi",
          "",
          "",
          "vnement_mars_marquant_principal_mercredi"
         ],
         "type": "scatter",
         "x": [
          0,
          1.4142324823068686,
          1.4142324823068686,
          0.8662237957199841
         ],
         "xaxis": "x",
         "y": [
          -5435,
          -5435,
          -5450,
          -5450
         ],
         "yaxis": "y"
        },
        {
         "hoverinfo": "text",
         "marker": {
          "color": "rgb(61,153,112)"
         },
         "mode": "lines",
         "text": [
          "journe_mars_retenir_falloir_lundi",
          "",
          "",
          "retenir_journe_avril_falloir_kyrgio"
         ],
         "type": "scatter",
         "x": [
          0,
          0.9146076962332307,
          0.9146076962332307,
          0
         ],
         "xaxis": "x",
         "y": [
          -5465,
          -5465,
          -5475,
          -5475
         ],
         "yaxis": "y"
        },
        {
         "hoverinfo": "text",
         "marker": {
          "color": "rgb(0,116,217)"
         },
         "mode": "lines",
         "text": [
          "mars_vnement_18h_marquant_principal",
          "",
          "",
          "journe_retenir_falloir_mars_avril"
         ],
         "type": "scatter",
         "x": [
          1.4142324823068686,
          1.7066672596615018,
          1.7066672596615018,
          0.9146076962332307
         ],
         "xaxis": "x",
         "y": [
          -5442.5,
          -5442.5,
          -5470,
          -5470
         ],
         "yaxis": "y"
        },
        {
         "hoverinfo": "text",
         "marker": {
          "color": "rgb(0,116,217)"
         },
         "mode": "lines",
         "text": [
          "bulletin_mto_12h55_19h55_avril",
          "",
          "",
          "mars_journe_retenir_vnement_falloir"
         ],
         "type": "scatter",
         "x": [
          0.5873490037949561,
          2.2564030414697567,
          2.2564030414697567,
          1.7066672596615018
         ],
         "xaxis": "x",
         "y": [
          -5420,
          -5420,
          -5456.25,
          -5456.25
         ],
         "yaxis": "y"
        },
        {
         "hoverinfo": "text",
         "marker": {
          "color": "rgb(255,65,54)"
         },
         "mode": "lines",
         "text": [
          "coronavirus_bilan_mars_mercredi_france",
          "",
          "",
          "coronavirus_bilan_avril_pruvien_varga"
         ],
         "type": "scatter",
         "x": [
          0,
          0.40074340306004735,
          0.40074340306004735,
          0
         ],
         "xaxis": "x",
         "y": [
          -5485,
          -5485,
          -5495,
          -5495
         ],
         "yaxis": "y"
        },
        {
         "hoverinfo": "text",
         "marker": {
          "color": "rgb(0,116,217)"
         },
         "mode": "lines",
         "text": [
          "bulletin_mars_mto_journe_retenir",
          "",
          "",
          "coronavirus_bilan_mars_avril_france"
         ],
         "type": "scatter",
         "x": [
          2.2564030414697567,
          2.4791532407070074,
          2.4791532407070074,
          0.40074340306004735
         ],
         "xaxis": "x",
         "y": [
          -5438.125,
          -5438.125,
          -5490,
          -5490
         ],
         "yaxis": "y"
        },
        {
         "hoverinfo": "text",
         "marker": {
          "color": "rgb(0,116,217)"
         },
         "mode": "lines",
         "text": [
          "bulletin_mars_mto_journe_retenir",
          "",
          "",
          "coronavirus_bilan_mars_avril_france"
         ],
         "type": "scatter",
         "x": [
          3.314239154336528,
          3.6062289043899804,
          3.6062289043899804,
          2.4791532407070074
         ],
         "xaxis": "x",
         "y": [
          -4820.0347900390625,
          -4820.0347900390625,
          -5464.0625,
          -5464.0625
         ],
         "yaxis": "y"
        },
        {
         "hoverinfo": "text",
         "marker": {
          "color": "rgb(0,116,217)"
         },
         "mode": "lines",
         "text": [
          "bulletin_mars_mto_journe_retenir",
          "",
          "",
          "coronavirus_bilan_mars_avril_france"
         ],
         "type": "scatter",
         "x": [
          3.180658898658882,
          3.683697063566479,
          3.683697063566479,
          3.6062289043899804
         ],
         "xaxis": "x",
         "y": [
          -759.5397286622091,
          -759.5397286622091,
          -5142.048645019531,
          -5142.048645019531
         ],
         "yaxis": "y"
        },
        {
         "hoverinfo": "text",
         "marker": {
          "color": "rgb(0,116,217)"
         },
         "mode": "lines",
         "text": [
          "aramburu_federico_rugbyman_martin_assassinat",
          "",
          "",
          "coronavirus_bilan_mars_avril_france"
         ],
         "type": "scatter",
         "x": [
          0.8943892793015289,
          3.8513654688322547,
          3.8513654688322547,
          3.683697063566479
         ],
         "xaxis": "x",
         "y": [
          -176.25,
          -176.25,
          -2950.79418684087,
          -2950.79418684087
         ],
         "yaxis": "y"
        },
        {
         "hoverinfo": "text",
         "marker": {
          "color": "rgb(35,205,205)"
         },
         "mode": "lines",
         "text": [
          "pays_financier_sanction_conomique_rouble",
          "",
          "",
          "pays_fuir_quitter_lviv_ukraine"
         ],
         "type": "scatter",
         "x": [
          0,
          0.8243940287037237,
          0.8243940287037237,
          0
         ],
         "xaxis": "x",
         "y": [
          -5515,
          -5515,
          -5525,
          -5525
         ],
         "yaxis": "y"
        },
        {
         "hoverinfo": "text",
         "marker": {
          "color": "rgb(0,116,217)"
         },
         "mode": "lines",
         "text": [
          "payer_pays_paysage_payant_paxlovid",
          "",
          "",
          "pays_financier_fuir_sanction_quitter"
         ],
         "type": "scatter",
         "x": [
          0,
          1.3615584663532423,
          1.3615584663532423,
          0.8243940287037237
         ],
         "xaxis": "x",
         "y": [
          -5505,
          -5505,
          -5520,
          -5520
         ],
         "yaxis": "y"
        },
        {
         "hoverinfo": "text",
         "marker": {
          "color": "rgb(133,20,75)"
         },
         "mode": "lines",
         "text": [
          "ukraine_guerre_rfugi_conflit_accueillir",
          "",
          "",
          "ukrain_guerre_algrie_ukrainien_conflit"
         ],
         "type": "scatter",
         "x": [
          0,
          0.9753268667150011,
          0.9753268667150011,
          0
         ],
         "xaxis": "x",
         "y": [
          -5545,
          -5545,
          -5555,
          -5555
         ],
         "yaxis": "y"
        },
        {
         "hoverinfo": "text",
         "marker": {
          "color": "rgb(0,116,217)"
         },
         "mode": "lines",
         "text": [
          "ukraine_don_soutien_obsolte_gpa",
          "",
          "",
          "guerre_ukrain_algrie_ukraine_rfugi"
         ],
         "type": "scatter",
         "x": [
          0,
          1.2693060516784782,
          1.2693060516784782,
          0.9753268667150011
         ],
         "xaxis": "x",
         "y": [
          -5535,
          -5535,
          -5550,
          -5550
         ],
         "yaxis": "y"
        },
        {
         "hoverinfo": "text",
         "marker": {
          "color": "rgb(255,220,0)"
         },
         "mode": "lines",
         "text": [
          "russe_ukraine_russie_guerre_offensive",
          "",
          "",
          "ukrain_russie_russe_guerre_offensive"
         ],
         "type": "scatter",
         "x": [
          0,
          0.8622681264121502,
          0.8622681264121502,
          0
         ],
         "xaxis": "x",
         "y": [
          -5575,
          -5575,
          -5585,
          -5585
         ],
         "yaxis": "y"
        },
        {
         "hoverinfo": "text",
         "marker": {
          "color": "rgb(0,116,217)"
         },
         "mode": "lines",
         "text": [
          "gaz_russie_ptrole_russe_sanction",
          "",
          "",
          "russie_russe_guerre_ukrain_offensive"
         ],
         "type": "scatter",
         "x": [
          0,
          1.0028559944140318,
          1.0028559944140318,
          0.8622681264121502
         ],
         "xaxis": "x",
         "y": [
          -5565,
          -5565,
          -5580,
          -5580
         ],
         "yaxis": "y"
        },
        {
         "hoverinfo": "text",
         "marker": {
          "color": "rgb(0,116,217)"
         },
         "mode": "lines",
         "text": [
          "russie_russe_gaz_sanction_ukrain",
          "",
          "",
          "russie_svr_gru_avance_engrai"
         ],
         "type": "scatter",
         "x": [
          1.0028559944140318,
          1.3815925060286693,
          1.3815925060286693,
          0
         ],
         "xaxis": "x",
         "y": [
          -5572.5,
          -5572.5,
          -5595,
          -5595
         ],
         "yaxis": "y"
        },
        {
         "hoverinfo": "text",
         "marker": {
          "color": "rgb(0,116,217)"
         },
         "mode": "lines",
         "text": [
          "guerre_ukrain_ukraine_conflit_algrie",
          "",
          "",
          "russie_russe_gaz_sanction_ukrain"
         ],
         "type": "scatter",
         "x": [
          1.2693060516784782,
          1.6398393411157013,
          1.6398393411157013,
          1.3815925060286693
         ],
         "xaxis": "x",
         "y": [
          -5542.5,
          -5542.5,
          -5583.75,
          -5583.75
         ],
         "yaxis": "y"
        },
        {
         "hoverinfo": "text",
         "marker": {
          "color": "rgb(0,116,217)"
         },
         "mode": "lines",
         "text": [
          "pays_payer_financier_fuir_sanction",
          "",
          "",
          "guerre_russie_ukrain_russe_gaz"
         ],
         "type": "scatter",
         "x": [
          1.3615584663532423,
          2.1757534784684966,
          2.1757534784684966,
          1.6398393411157013
         ],
         "xaxis": "x",
         "y": [
          -5512.5,
          -5512.5,
          -5563.125,
          -5563.125
         ],
         "yaxis": "y"
        },
        {
         "hoverinfo": "text",
         "marker": {
          "color": "rgb(40,35,35)"
         },
         "mode": "lines",
         "text": [
          "poutine_vladimir_ukraine_biden_guerre",
          "",
          "",
          "poutine_vladimir_biden_lavrov_occident"
         ],
         "type": "scatter",
         "x": [
          0,
          0.4409050700387658,
          0.4409050700387658,
          0
         ],
         "xaxis": "x",
         "y": [
          -5605,
          -5605,
          -5615,
          -5615
         ],
         "yaxis": "y"
        },
        {
         "hoverinfo": "text",
         "marker": {
          "color": "rgb(0,116,217)"
         },
         "mode": "lines",
         "text": [
          "poutine_vladimir_ukraine_biden_guerre",
          "",
          "",
          "poutine_vladimir_biden_lavrov_occident"
         ],
         "type": "scatter",
         "x": [
          2.1757534784684966,
          2.204683395629571,
          2.204683395629571,
          0.4409050700387658
         ],
         "xaxis": "x",
         "y": [
          -5537.8125,
          -5537.8125,
          -5610,
          -5610
         ],
         "yaxis": "y"
        },
        {
         "hoverinfo": "text",
         "marker": {
          "color": "rgb(61,153,112)"
         },
         "mode": "lines",
         "text": [
          "emmanuel_macron_quinquennat_rlire_prsident",
          "",
          "",
          "emmanuel_macron_2022_prsidentiel_rlire"
         ],
         "type": "scatter",
         "x": [
          0,
          0.7499723288074691,
          0.7499723288074691,
          0
         ],
         "xaxis": "x",
         "y": [
          -5635,
          -5635,
          -5645,
          -5645
         ],
         "yaxis": "y"
        },
        {
         "hoverinfo": "text",
         "marker": {
          "color": "rgb(0,116,217)"
         },
         "mode": "lines",
         "text": [
          "emmanuel_macron_redfinir_caesar_diplomatique",
          "",
          "",
          "emmanuel_macron_rlire_quinquennat_prsident"
         ],
         "type": "scatter",
         "x": [
          0,
          1.3310481101046174,
          1.3310481101046174,
          0.7499723288074691
         ],
         "xaxis": "x",
         "y": [
          -5625,
          -5625,
          -5640,
          -5640
         ],
         "yaxis": "y"
        },
        {
         "hoverinfo": "text",
         "marker": {
          "color": "rgb(255,65,54)"
         },
         "mode": "lines",
         "text": [
          "candidat_candidature_programme_oral_dcentralisation",
          "",
          "",
          "candidat_prsidentielle_patrimoine_manipuler_coter"
         ],
         "type": "scatter",
         "x": [
          0,
          0.9187954957640942,
          0.9187954957640942,
          0
         ],
         "xaxis": "x",
         "y": [
          -5665,
          -5665,
          -5675,
          -5675
         ],
         "yaxis": "y"
        },
        {
         "hoverinfo": "text",
         "marker": {
          "color": "rgb(0,116,217)"
         },
         "mode": "lines",
         "text": [
          "2022_prsidentiel_valrie_candidat_pcress",
          "",
          "",
          "candidat_prsidentielle_candidature_coter_patrimoine"
         ],
         "type": "scatter",
         "x": [
          0,
          1.5386713269141623,
          1.5386713269141623,
          0.9187954957640942
         ],
         "xaxis": "x",
         "y": [
          -5655,
          -5655,
          -5670,
          -5670
         ],
         "yaxis": "y"
        },
        {
         "hoverinfo": "text",
         "marker": {
          "color": "rgb(0,116,217)"
         },
         "mode": "lines",
         "text": [
          "emmanuel_macron_rlire_quinquennat_prsident",
          "",
          "",
          "candidat_prsidentielle_candidature_coter_patrimoine"
         ],
         "type": "scatter",
         "x": [
          1.3310481101046174,
          1.9263334314587048,
          1.9263334314587048,
          1.5386713269141623
         ],
         "xaxis": "x",
         "y": [
          -5632.5,
          -5632.5,
          -5662.5,
          -5662.5
         ],
         "yaxis": "y"
        },
        {
         "hoverinfo": "text",
         "marker": {
          "color": "rgb(0,116,217)"
         },
         "mode": "lines",
         "text": [
          "2017_sondage_pen_44_coude",
          "",
          "",
          "pen_dbat_macron_cart_montabon"
         ],
         "type": "scatter",
         "x": [
          0,
          1.1111248386688206,
          1.1111248386688206,
          0
         ],
         "xaxis": "x",
         "y": [
          -5695,
          -5695,
          -5705,
          -5705
         ],
         "yaxis": "y"
        },
        {
         "hoverinfo": "text",
         "marker": {
          "color": "rgb(0,116,217)"
         },
         "mode": "lines",
         "text": [
          "duel_2017_brexit_programme_macronleak",
          "",
          "",
          "pen_dbat_macron_cart_sondage"
         ],
         "type": "scatter",
         "x": [
          0,
          1.2775610078377984,
          1.2775610078377984,
          1.1111248386688206
         ],
         "xaxis": "x",
         "y": [
          -5685,
          -5685,
          -5700,
          -5700
         ],
         "yaxis": "y"
        },
        {
         "hoverinfo": "text",
         "marker": {
          "color": "rgb(35,205,205)"
         },
         "mode": "lines",
         "text": [
          "marine_cart_emmanuel_pen_agressif",
          "",
          "",
          "marine_pen_emmanuel_cribl_2022"
         ],
         "type": "scatter",
         "x": [
          0,
          0.9631736831735841,
          0.9631736831735841,
          0
         ],
         "xaxis": "x",
         "y": [
          -5715,
          -5715,
          -5725,
          -5725
         ],
         "yaxis": "y"
        },
        {
         "hoverinfo": "text",
         "marker": {
          "color": "rgb(61,153,112)"
         },
         "mode": "lines",
         "text": [
          "marine_pen_guadeloupe_2022_prsidentiel",
          "",
          "",
          "marine_pen_dtournement_voile_fourrer"
         ],
         "type": "scatter",
         "x": [
          0,
          0.7514185907470431,
          0.7514185907470431,
          0
         ],
         "xaxis": "x",
         "y": [
          -5735,
          -5735,
          -5745,
          -5745
         ],
         "yaxis": "y"
        },
        {
         "hoverinfo": "text",
         "marker": {
          "color": "rgb(0,116,217)"
         },
         "mode": "lines",
         "text": [
          "marine_pen_emmanuel_macron_cart",
          "",
          "",
          "marine_pen_voile_guadeloupe_dtournement"
         ],
         "type": "scatter",
         "x": [
          0.9631736831735841,
          1.1303129124761189,
          1.1303129124761189,
          0.7514185907470431
         ],
         "xaxis": "x",
         "y": [
          -5720,
          -5720,
          -5740,
          -5740
         ],
         "yaxis": "y"
        },
        {
         "hoverinfo": "text",
         "marker": {
          "color": "rgb(0,116,217)"
         },
         "mode": "lines",
         "text": [
          "marine_pen_voile_prsidentiel_emmanuel",
          "",
          "",
          "marine_gagner_bayrou_pen_brid"
         ],
         "type": "scatter",
         "x": [
          1.1303129124761189,
          1.3004388570799874,
          1.3004388570799874,
          0
         ],
         "xaxis": "x",
         "y": [
          -5730,
          -5730,
          -5755,
          -5755
         ],
         "yaxis": "y"
        },
        {
         "hoverinfo": "text",
         "marker": {
          "color": "rgb(0,116,217)"
         },
         "mode": "lines",
         "text": [
          "pen_duel_dbat_2017_macron",
          "",
          "",
          "marine_pen_voile_prsidentiel_emmanuel"
         ],
         "type": "scatter",
         "x": [
          1.2775610078377984,
          1.9190397419047136,
          1.9190397419047136,
          1.3004388570799874
         ],
         "xaxis": "x",
         "y": [
          -5692.5,
          -5692.5,
          -5742.5,
          -5742.5
         ],
         "yaxis": "y"
        },
        {
         "hoverinfo": "text",
         "marker": {
          "color": "rgb(0,116,217)"
         },
         "mode": "lines",
         "text": [
          "pen_duel_dbat_2017_macron",
          "",
          "",
          "marine_pen_voile_duel_dbat"
         ],
         "type": "scatter",
         "x": [
          1.9263334314587048,
          2.5638829837168045,
          2.5638829837168045,
          1.9190397419047136
         ],
         "xaxis": "x",
         "y": [
          -5647.5,
          -5647.5,
          -5717.5,
          -5717.5
         ],
         "yaxis": "y"
        },
        {
         "hoverinfo": "text",
         "marker": {
          "color": "rgb(255,65,54)"
         },
         "mode": "lines",
         "text": [
          "amnistier_luc_mussington_haussier_pratiquement",
          "",
          "",
          "luc_mlenchon_jean_feuilleton_lucratif"
         ],
         "type": "scatter",
         "x": [
          0,
          0.9220696371176933,
          0.9220696371176933,
          0
         ],
         "xaxis": "x",
         "y": [
          -5775,
          -5775,
          -5785,
          -5785
         ],
         "yaxis": "y"
        },
        {
         "hoverinfo": "text",
         "marker": {
          "color": "rgb(0,116,217)"
         },
         "mode": "lines",
         "text": [
          "luc_mlenchon_jean_amnistier_feuilleton",
          "",
          "",
          "luc_mlenchon_second_tour_jean"
         ],
         "type": "scatter",
         "x": [
          0.9220696371176933,
          1.1865978842875546,
          1.1865978842875546,
          0
         ],
         "xaxis": "x",
         "y": [
          -5780,
          -5780,
          -5795,
          -5795
         ],
         "yaxis": "y"
        },
        {
         "hoverinfo": "text",
         "marker": {
          "color": "rgb(0,116,217)"
         },
         "mode": "lines",
         "text": [
          "mlenchon_sondage_prestataire_mlenchoniste_cart",
          "",
          "",
          "luc_mlenchon_jean_second_tour"
         ],
         "type": "scatter",
         "x": [
          0,
          1.3779101441343728,
          1.3779101441343728,
          1.1865978842875546
         ],
         "xaxis": "x",
         "y": [
          -5765,
          -5765,
          -5787.5,
          -5787.5
         ],
         "yaxis": "y"
        },
        {
         "hoverinfo": "text",
         "marker": {
          "color": "rgb(0,116,217)"
         },
         "mode": "lines",
         "text": [
          "second_coude_tour_inflexion_cologi",
          "",
          "",
          "second_flicite_reprsenter_auspice_marine"
         ],
         "type": "scatter",
         "x": [
          0,
          1.1000854191782203,
          1.1000854191782203,
          0
         ],
         "xaxis": "x",
         "y": [
          -5805,
          -5805,
          -5815,
          -5815
         ],
         "yaxis": "y"
        },
        {
         "hoverinfo": "text",
         "marker": {
          "color": "rgb(35,205,205)"
         },
         "mode": "lines",
         "text": [
          "second_tour_largement_rsultat_emmanuel",
          "",
          "",
          "tour_second_dbat_abstention_rsultat"
         ],
         "type": "scatter",
         "x": [
          0,
          0.7734205527050997,
          0.7734205527050997,
          0
         ],
         "xaxis": "x",
         "y": [
          -5835,
          -5835,
          -5845,
          -5845
         ],
         "yaxis": "y"
        },
        {
         "hoverinfo": "text",
         "marker": {
          "color": "rgb(35,205,205)"
         },
         "mode": "lines",
         "text": [
          "second_marine_tour_pen_rsultat",
          "",
          "",
          "tour_second_rsultat_dbat_abstention"
         ],
         "type": "scatter",
         "x": [
          0,
          0.9610249286028775,
          0.9610249286028775,
          0.7734205527050997
         ],
         "xaxis": "x",
         "y": [
          -5825,
          -5825,
          -5840,
          -5840
         ],
         "yaxis": "y"
        },
        {
         "hoverinfo": "text",
         "marker": {
          "color": "rgb(0,116,217)"
         },
         "mode": "lines",
         "text": [
          "second_tour_pen_coude_flicite",
          "",
          "",
          "tour_second_rsultat_dbat_abstention"
         ],
         "type": "scatter",
         "x": [
          1.1000854191782203,
          1.2493188864891314,
          1.2493188864891314,
          0.9610249286028775
         ],
         "xaxis": "x",
         "y": [
          -5810,
          -5810,
          -5832.5,
          -5832.5
         ],
         "yaxis": "y"
        },
        {
         "hoverinfo": "text",
         "marker": {
          "color": "rgb(0,116,217)"
         },
         "mode": "lines",
         "text": [
          "tour_second_rsultat_dbat_abstention",
          "",
          "",
          "tour_lection_vote_second_voter"
         ],
         "type": "scatter",
         "x": [
          1.2493188864891314,
          1.3752026231539722,
          1.3752026231539722,
          0
         ],
         "xaxis": "x",
         "y": [
          -5821.25,
          -5821.25,
          -5855,
          -5855
         ],
         "yaxis": "y"
        },
        {
         "hoverinfo": "text",
         "marker": {
          "color": "rgb(0,116,217)"
         },
         "mode": "lines",
         "text": [
          "tour_second_rsultat_dbat_abstention",
          "",
          "",
          "tour_lection_vote_second_voter"
         ],
         "type": "scatter",
         "x": [
          1.3779101441343728,
          2.8059155906584006,
          2.8059155906584006,
          1.3752026231539722
         ],
         "xaxis": "x",
         "y": [
          -5776.25,
          -5776.25,
          -5838.125,
          -5838.125
         ],
         "yaxis": "y"
        },
        {
         "hoverinfo": "text",
         "marker": {
          "color": "rgb(0,116,217)"
         },
         "mode": "lines",
         "text": [
          "tour_second_rsultat_dbat_abstention",
          "",
          "",
          "tour_lection_vote_second_voter"
         ],
         "type": "scatter",
         "x": [
          2.5638829837168045,
          3.1356637602895785,
          3.1356637602895785,
          2.8059155906584006
         ],
         "xaxis": "x",
         "y": [
          -5682.5,
          -5682.5,
          -5807.1875,
          -5807.1875
         ],
         "yaxis": "y"
        },
        {
         "hoverinfo": "text",
         "marker": {
          "color": "rgb(133,20,75)"
         },
         "mode": "lines",
         "text": [
          "lection_lectoral_election_liste_nomination",
          "",
          "",
          "lectoral_vote_election_lection_2022"
         ],
         "type": "scatter",
         "x": [
          0,
          0.8183746658023004,
          0.8183746658023004,
          0
         ],
         "xaxis": "x",
         "y": [
          -5865,
          -5865,
          -5875,
          -5875
         ],
         "yaxis": "y"
        },
        {
         "hoverinfo": "text",
         "marker": {
          "color": "rgb(133,20,75)"
         },
         "mode": "lines",
         "text": [
          "lection_lectoral_election_liste_vote",
          "",
          "",
          "lection_lectoral_vote_voter_franais"
         ],
         "type": "scatter",
         "x": [
          0.8183746658023004,
          0.928595641943219,
          0.928595641943219,
          0
         ],
         "xaxis": "x",
         "y": [
          -5870,
          -5870,
          -5885,
          -5885
         ],
         "yaxis": "y"
        },
        {
         "hoverinfo": "text",
         "marker": {
          "color": "rgb(255,220,0)"
         },
         "mode": "lines",
         "text": [
          "voter_appeler_emmanuel_institution_bertrand",
          "",
          "",
          "voter_rebsamen_appeler_emmanuel_macron"
         ],
         "type": "scatter",
         "x": [
          0,
          0.7904841873437899,
          0.7904841873437899,
          0
         ],
         "xaxis": "x",
         "y": [
          -5895,
          -5895,
          -5905,
          -5905
         ],
         "yaxis": "y"
        },
        {
         "hoverinfo": "text",
         "marker": {
          "color": "rgb(0,116,217)"
         },
         "mode": "lines",
         "text": [
          "voter_vote_aller_lecteur_utile",
          "",
          "",
          "vote_utile_mlenchon_gauche_intention"
         ],
         "type": "scatter",
         "x": [
          0,
          1.101828336554632,
          1.101828336554632,
          0
         ],
         "xaxis": "x",
         "y": [
          -5915,
          -5915,
          -5925,
          -5925
         ],
         "yaxis": "y"
        },
        {
         "hoverinfo": "text",
         "marker": {
          "color": "rgb(0,116,217)"
         },
         "mode": "lines",
         "text": [
          "voter_appeler_rebsamen_emmanuel_macron",
          "",
          "",
          "vote_utile_mlenchon_gauche_intention"
         ],
         "type": "scatter",
         "x": [
          0.7904841873437899,
          1.3919140646832289,
          1.3919140646832289,
          1.101828336554632
         ],
         "xaxis": "x",
         "y": [
          -5900,
          -5900,
          -5920,
          -5920
         ],
         "yaxis": "y"
        },
        {
         "hoverinfo": "text",
         "marker": {
          "color": "rgb(0,116,217)"
         },
         "mode": "lines",
         "text": [
          "lection_lectoral_election_vote_liste",
          "",
          "",
          "vote_utile_mlenchon_gauche_intention"
         ],
         "type": "scatter",
         "x": [
          0.928595641943219,
          1.8933714456430841,
          1.8933714456430841,
          1.3919140646832289
         ],
         "xaxis": "x",
         "y": [
          -5877.5,
          -5877.5,
          -5910,
          -5910
         ],
         "yaxis": "y"
        },
        {
         "hoverinfo": "text",
         "marker": {
          "color": "rgb(0,116,217)"
         },
         "mode": "lines",
         "text": [
          "lection_lectoral_election_vote_liste",
          "",
          "",
          "vote_utile_mlenchon_gauche_intention"
         ],
         "type": "scatter",
         "x": [
          3.1356637602895785,
          3.2560871532881404,
          3.2560871532881404,
          1.8933714456430841
         ],
         "xaxis": "x",
         "y": [
          -5744.84375,
          -5744.84375,
          -5893.75,
          -5893.75
         ],
         "yaxis": "y"
        },
        {
         "hoverinfo": "text",
         "marker": {
          "color": "rgb(0,116,217)"
         },
         "mode": "lines",
         "text": [
          "lection_lectoral_election_vote_liste",
          "",
          "",
          "vote_utile_mlenchon_gauche_intention"
         ],
         "type": "scatter",
         "x": [
          2.204683395629571,
          4.576313784950908,
          4.576313784950908,
          3.2560871532881404
         ],
         "xaxis": "x",
         "y": [
          -5573.90625,
          -5573.90625,
          -5819.296875,
          -5819.296875
         ],
         "yaxis": "y"
        },
        {
         "hoverinfo": "text",
         "marker": {
          "color": "rgb(0,116,217)"
         },
         "mode": "lines",
         "text": [
          "lection_lectoral_election_vote_liste",
          "",
          "",
          "vote_utile_mlenchon_gauche_intention"
         ],
         "type": "scatter",
         "x": [
          3.8513654688322547,
          6.347113248818212,
          6.347113248818212,
          4.576313784950908
         ],
         "xaxis": "x",
         "y": [
          -1563.522093420435,
          -1563.522093420435,
          -5696.6015625,
          -5696.6015625
         ],
         "yaxis": "y"
        },
        {
         "hoverinfo": "text",
         "marker": {
          "color": "rgb(0,116,217)"
         },
         "mode": "lines",
         "text": [
          "jt_13h_20h_8h_avril",
          "",
          "",
          "poutine_guerre_ukrain_franais_ukraine"
         ],
         "type": "scatter",
         "x": [
          1.6433414447751247,
          8.663223823440322,
          8.663223823440322,
          6.347113248818212
         ],
         "xaxis": "x",
         "y": [
          -56.25,
          -56.25,
          -3630.0618279602177,
          -3630.0618279602177
         ],
         "yaxis": "y"
        },
        {
         "hoverinfo": "text",
         "hovertext": [
          "vendredi_jt_8h_avril_13h",
          "mercredi_jt_20_8h_avril",
          "mardi_jt_avril_12_8h",
          "samedi_jt_fvrier_13h_20h",
          "jt_13h_20h_8h_avril",
          "dimanche_jt_13h15_20h30_20h",
          "aramburu_federico_rugbyman_assassinat_martin",
          "aramburu_federico_martin_rugbyman_assassinat",
          "port_masque_obligatoire_assouplir_recommandation",
          "covid_19_pidmie_rebond_ba",
          "covid_vaccin_19_contamination_dose",
          "sanitaire_restriction_protocole_leve_covid",
          "port_masque_vaccinal_14_obligatoire",
          "yvan_colonna_corse_manifestation_cargse",
          "yvan_colonna_corse_manifestation_cargse",
          "colonna_yvan_corse_tension_nationaliste",
          "taux_participation_fed_12h_17h",
          "augmentation_augmenter_smic_automatiquement_mai",
          "inflation_smic_inflationniste_taux_croissance",
          "crdit_taux_immobilier_participation_emprunteur",
          "dclaration_impt_revenu_date_ligne",
          "oscar_smith_will_gifle_chris",
          "potter_harry_radcliffe_secret_daniel",
          "pernaut_pierre_tf1_jean_hommage",
          "pernaut_pierre_tf1_jean_hommage",
          "histoire_amour_amoureux_passion_raconter",
          "muse_art_exposition_morozov_collection",
          "critique_bref_livre_manquer_hlne",
          "csar_illusion_honneur_lgion_crmonie",
          "csar_illusion_honneur_lgion_crmonie",
          "west_ham_grammy_awards_ol",
          "bouquet_perrin_michel_jacques_comdien",
          "foo_batteur_hawkins_fighter_taylor",
          "cinma_film_batman_salle_voir",
          "cinma_film_batman_salle_voir",
          "cinma_film_batman_salle_voir",
          "cinma_film_batman_salle_voir",
          "ballet_chtelet_city_thtre_refuge",
          "donbass_envoy_figaro_rcit_spcial",
          "donbass_envoy_figaro_rcit_spcial",
          "cizeron_papadaki_montpellier_artistique_patinage",
          "handicap_allocation_mental_adulte_pdopsychiatre",
          "handicap_allocation_mental_adulte_pdopsychiatre",
          "biodiversit_bio_humain_microplastique_mutation",
          "pesticide_lgume_pistache_fruit_insecticide",
          "socit_ditorial_aro_auditeur_trastour",
          "socit_ditorial_aro_auditeur_trastour",
          "caisse_chat_ticket_association_consommateur",
          "pension_charger_charge_pensionnat_divorcer",
          "restaurateur_restaurer_intimiste_doublement_castellano",
          "rgion_priode_portugal_partir_mto",
          "dentiste_mutilation_astuce_dent_guedj",
          "nfl_brady_football_footballeur_tom",
          "marketing_cher_job_immoral_mle",
          "supporter_sampaoli_om_marseillais_heurt",
          "aroport_air_franc_klm_aviation",
          "robot_drone_aspirateur_irobot_serveur",
          "cocktail_barbecue_molotov_allumer_intoxiquer",
          "cocktail_barbecue_molotov_allumer_intoxiquer",
          "yacht_tunisie_tunisien_saed_oligarque",
          "handball_eriksen_cardiaque_rejouer_danois",
          "motogp_quartararo_fabio_zarco_johann",
          "fracture_ngligence_maurin_rsidente_coquerel",
          "diplomate_expulsion_expulser_expulse_espion",
          "magnitude_sisme_dangereux_japon_tsunami",
          "vatican_barrire_corail_blanchissement_australie",
          "depp_amber_heard_johnny_berry",
          "spectacle_visionnaire_billion_ophtalmologiste_geneva",
          "spectacle_visionnaire_billion_ophtalmologiste_geneva",
          "spectacle_visionnaire_billion_ophtalmologiste_geneva",
          "spectacle_visionnaire_billion_ophtalmologiste_geneva",
          "artificiel_intelligence_fake_vrai_humili",
          "artificiel_intelligence_fake_vrai_humili",
          "artificiel_intelligence_fake_vrai_humili",
          "artificiel_intelligence_fake_vrai_humili",
          "terrain_immersion_immersif_wiim_constructible",
          "dmocratie_dmocratique_libral_fascisme_libralisme",
          "dmocratie_dmocratique_libral_fascisme_libralisme",
          "instagram_facebook_blocage_mdia_accs",
          "netflix_disney_disneyland_abonn_floride",
          "netflix_disney_disneyland_abonn_floride",
          "mtal_nickel_metal_london_exchange",
          "fil_spears_britney_star_jennifer",
          "fil_spears_britney_star_jennifer",
          "fil_spears_britney_star_jennifer",
          "adapter_culture_culturel_data_tradition",
          "inondation_philippine_afrique_sud_megi",
          "rnovation_africain_logistique_nergtique_logement",
          "rnovation_africain_logistique_nergtique_logement",
          "rnovation_africain_logistique_nergtique_logement",
          "rnovation_africain_logistique_nergtique_logement",
          "rnovation_africain_logistique_nergtique_logement",
          "statue_olonne_vierge_sable_votation",
          "statue_olonne_vierge_sable_votation",
          "michelin_restaurant_guide_cuisine_caf",
          "listeria_fromage_listriose_rappeler_haddock",
          "listeria_fromage_listriose_rappeler_haddock",
          "accident_route_bus_feuille_gypte",
          "train_transport_sncf_gratuit_billet",
          "coin_petit_boui_poucet_vache",
          "maritime_alpe_organiser_scheress_restriction",
          "extinction_rebellion_rbellion_boulevard_fnsea",
          "dame_cathdrale_strasbourg_sarcophage_incendie",
          "coli_pizza_buitoni_bactrie_hpatite",
          "coli_pizza_buitoni_bactrie_hpatite",
          "coli_pizza_buitoni_bactrie_hpatite",
          "loire_pollution_circulation_diffrenci_loiret",
          "loire_pollution_circulation_diffrenci_loiret",
          "adolescent_autisme_autiste_tmoin_14",
          "adolescent_autisme_autiste_tmoin_14",
          "lycen_lyce_parcoursup_vu_valbonne",
          "lycen_lyce_parcoursup_vu_valbonne",
          "lycen_lyce_parcoursup_vu_valbonne",
          "ducation_paty_samuel_assassinat_education",
          "ehpad_orpea_scandale_rsident_orpeer",
          "ehpad_orpea_scandale_rsident_orpeer",
          "ehpad_orpea_scandale_rsident_orpeer",
          "ehpad_orpea_scandale_rsident_orpeer",
          "eurovision_alvan_reprsenter_ahez_kalush",
          "eurovision_alvan_reprsenter_ahez_kalush",
          "migrant_rwanda_asile_demandeur_manche",
          "migrant_johnson_boris_rwanda_partygat",
          "mali_dubois_mourer_mercenaire_olivier",
          "mali_dubois_mourer_mercenaire_olivier",
          "mali_dubois_mourer_mercenaire_olivier",
          "deliveroo_dissimuler_ubrisation_travail_livreur",
          "deliveroo_dissimuler_ubrisation_travail_livreur",
          "camra_surveillance_blink_360_vigie",
          "printemps_piqre_bourge_bote_bziers",
          "chocolat_pques_chocolatier_haricot_cookie",
          "chocolat_pques_chocolatier_haricot_cookie",
          "mdical_dsert_mdecin_mdicament_patient",
          "mdical_dsert_mdecin_mdicament_patient",
          "sorbonne_science_po_islamophobie_islamisme",
          "crack_store_dark_villette_seller",
          "mosque_crack_store_dark_villette",
          "mosque_crack_store_dark_villette",
          "new_mtro_york_fusillade_yorkais",
          "cohen_jrmie_jrmy_jeremie_mort",
          "tlphone_tlcommunication_jubillar_volant_telecom",
          "tlphone_tlcommunication_jubillar_volant_telecom",
          "tlphone_tlcommunication_jubillar_volant_telecom",
          "podium_dylan_monument_baarle_van",
          "cyclisme_basque_tape_tirreno_adriatico",
          "arabie_saoudite_ferrari_verstappen_formule",
          "arabie_saoudite_ferrari_verstappen_formule",
          "arabie_saoudite_ferrari_verstappen_formule",
          "denis_seine_saint_policier_boueur",
          "flop_top_stade_racing_cup",
          "denis_saint_seine_etienne_policier",
          "manchester_suivez_bayern_atltico_city",
          "abramovitch_roman_chelsea_abramovich_club",
          "abramovitch_roman_chelsea_abramovich_club",
          "tennis_garros_roland_djokovic_wells",
          "tennis_garros_roland_djokovic_wells",
          "tennis_garros_roland_djokovic_wells",
          "fashion_week_dfil_balenciaga_hiver",
          "fashion_week_dfil_balenciaga_hiver",
          "chelsea_lille_pulisic_losc_dogue",
          "grippe_aviaire_pidmie_volaille_propager",
          "gel_arboriculteur_froid_vague_agriculteur",
          "gel_arboriculteur_froid_vague_agriculteur",
          "orange_vigilance_pollen_dpartement_allergie",
          "record_cac_duplantis_perche_armand",
          "fraude_fiscal_fiscalit_corruption_frauduleux",
          "extradition_assange_tat_uni_etat",
          "extradition_assange_tat_uni_etat",
          "social_prochain_rseau_quinquennat_blockchain",
          "augusta_dcrypter_woods_tiger_master",
          "rlection_rsa_social_prochain_conditionner",
          "tv_tlvision_rtro_gayet_il",
          "kenneth_branagh_opinion_belfast_enfance",
          "swift_banque_bancaire_postal_systme",
          "swift_banque_bancaire_postal_systme",
          "taxe_alsace_taxer_foncier_poids",
          "twitter_musk_elon_racheter_rachat",
          "twitter_musk_elon_racheter_rachat",
          "twitter_musk_elon_racheter_rachat",
          "twitter_musk_elon_racheter_rachat",
          "tchernobyl_nuclaire_centrale_radioactivit_aieer",
          "accord_evian_iran_60_iranien",
          "accord_evian_iran_60_iranien",
          "indice_point_fonctionnaire_dgel_fonction",
          "espace_tlescope_spatial_station_space",
          "ski_paralympique_alpin_bauchet_slalom",
          "giec_rapport_climat_solution_agit",
          "giec_rapport_climat_solution_agit",
          "automobile_lectrique_honda_volkswagen_suv",
          "recharge_borne_mercede_recharger_prototype",
          "adhsion_finlande_finlandais_otan_edelfelt",
          "adhsion_finlande_finlandais_otan_edelfelt",
          "justice_tribunal_ghosn_court_carlos",
          "justice_tribunal_ghosn_court_carlos",
          "1973_ptrole_ptrolier_choc_comparable",
          "1973_ptrole_ptrolier_choc_comparable",
          "festival_angoulme_canne_doucet_bd",
          "galaxy_samsung_s22_s21_huawei",
          "galaxy_samsung_redmi_xiaomi_red",
          "ps5_switch_stock_nintendo_console",
          "iphone_airpod_apple_galaxy_samsung",
          "iphone_airpod_apple_galaxy_samsung",
          "iphone_airpod_apple_galaxy_samsung",
          "lyon_lyonnais_arrondissement_guillotire_rhn",
          "police_suicide_municipal_gendarmerie_privilgier",
          "souponner_montaigne_collaborateur_soupon_droguer",
          "souponner_montaigne_collaborateur_soupon_droguer",
          "homme_interpeller_salanque_balle_arm",
          "violence_sexuel_polytechnique_violent_conjugal",
          "violence_sexuel_polytechnique_violent_conjugal",
          "violence_sexuel_polytechnique_violent_conjugal",
          "psg_real_mbapper_mbapp_madrid",
          "coupe_qatar_monde_tirage_mondial",
          "coupe_frappart_finale_arbitrer_nante",
          "nation_galle_xv_tournoi_angleterre",
          "ecosse_cosser_murrayfield_moefana_bleu",
          "ecosse_cosser_murrayfield_moefana_bleu",
          "ecosse_cosser_murrayfield_moefana_bleu",
          "prison_colonna_yvan_corse_agression",
          "prison_colonna_yvan_corse_agression",
          "crime_enquter_human_commettre_boutcher",
          "massacre_boutcher_boutcha_crime_gnocide",
          "zelensky_volodymyr_prsident_serviteur_congrs",
          "militaire_dpense_base_renseignement_thoricien",
          "militaire_dpense_base_renseignement_thoricien",
          "ambassade_ambassadeur_kiev_retourner_clique",
          "ville_portuaire_kherson_odesser_scrute",
          "moscou_pkin_moscovite_sanction_washington",
          "photo_image_photographe_photographie_photographier",
          "journaliste_journal_bataclan_mdia_otage",
          "journaliste_journal_bataclan_mdia_otage",
          "invasion_situation_dbut_russe_ukraine",
          "invasion_situation_dbut_russe_ukraine",
          "programme_prsentation_emmanuel_value_tenue",
          "valrie_pcress_asperger_poudre_znith",
          "campagne_officiel_lection_prsident_impact",
          "hidalgo_anne_politique_socialiste_ps",
          "faire_falloir_relire_fouetter_savoir",
          "faire_falloir_enfant_enfance_savoir",
          "faire_falloir_enfant_enfance_savoir",
          "face_sociologique_menace_parlement_introduire",
          "extrme_militant_droite_antifa_droit",
          "immigration_tabou_relocalisatier_brochand_ekrame",
          "lgislative_lfi_janez_janser_lr",
          "eric_marchal_marion_zemmour_ric",
          "eric_marchal_marion_zemmour_ric",
          "rousseau_sandrine_yannick_jadot_exclure",
          "rousseau_sandrine_yannick_jadot_exclure",
          "retraite_rforme_65_49_an",
          "retraite_rforme_65_49_an",
          "rsilience_plan_caste_gouvernement_pcheur",
          "rsilience_plan_caste_gouvernement_pcheur",
          "franais_langue_balcon_montreux_rfugi",
          "lettre_franais_candidature_emmanuel_prsidentiel",
          "accueil_rfugi_france_ukrainien_accueillir",
          "euro_million_milliard_000_dollar",
          "euro_million_milliard_000_dollar",
          "euro_million_milliard_000_dollar",
          "euro_million_milliard_000_dollar",
          "euro_million_milliard_000_dollar",
          "thtre_rond_shakespeare_bombarder_marioupol",
          "vacuer_marioupol_immeuble_australie_civil",
          "vacuer_marioupol_immeuble_australie_civil",
          "vacuer_marioupol_immeuble_australie_civil",
          "crime_massacre_humanit_boutcher_boutcha",
          "mars_vnement_18h_marquant_principal",
          "bulletin_mto_12h55_19h55_avril",
          "bulletin_mars_mto_journe_retenir",
          "bulletin_mars_mto_journe_retenir",
          "bulletin_mars_mto_journe_retenir",
          "aramburu_federico_rugbyman_martin_assassinat",
          "russie_russe_gaz_sanction_ukrain",
          "guerre_ukrain_ukraine_conflit_algrie",
          "pays_payer_financier_fuir_sanction",
          "poutine_vladimir_ukraine_biden_guerre",
          "emmanuel_macron_rlire_quinquennat_prsident",
          "marine_pen_emmanuel_macron_cart",
          "marine_pen_voile_prsidentiel_emmanuel",
          "pen_duel_dbat_2017_macron",
          "pen_duel_dbat_2017_macron",
          "luc_mlenchon_jean_amnistier_feuilleton",
          "second_tour_pen_coude_flicite",
          "tour_second_rsultat_dbat_abstention",
          "tour_second_rsultat_dbat_abstention",
          "tour_second_rsultat_dbat_abstention",
          "lection_lectoral_election_liste_vote",
          "voter_appeler_rebsamen_emmanuel_macron",
          "lection_lectoral_election_vote_liste",
          "lection_lectoral_election_vote_liste",
          "lection_lectoral_election_vote_liste",
          "lection_lectoral_election_vote_liste",
          "jt_13h_20h_8h_avril"
         ],
         "marker": {
          "color": "black"
         },
         "mode": "markers",
         "showlegend": false,
         "type": "scatter",
         "x": [
          0.6526035941705569,
          0.6823574792954545,
          1.3940847379813623,
          1.0735729335813422,
          1.503784692522158,
          0.9362990676309325,
          0.5838033949336665,
          0.6748677733245696,
          0.4343900385561097,
          1.3401508983281358,
          1.3922161028134246,
          0.7992675157612077,
          1.1360922512540137,
          0.7155286565137675,
          1.2553469991326247,
          1.3892012233402664,
          1.0169454999110614,
          1.1292628619321852,
          0.6664074994252925,
          1.6381466101399378,
          0.6344547758498255,
          1.0287926653326211,
          1.3623607000772742,
          1.3663675430248388,
          1.4497759318138885,
          1.35418877501529,
          1.3648402387641547,
          1.4097842377267027,
          1.3051657488129147,
          1.499034373426705,
          1.3353402117588988,
          1.3590696915840899,
          1.4357214256340627,
          1.3114313133226678,
          1.4456453635762314,
          1.51801488332081,
          1.5294485674445317,
          1.3936188699978862,
          1.2738945262597692,
          1.482361152217293,
          1.3190909928511767,
          1.3789409614082975,
          1.4799912060403841,
          1.363086943988875,
          1.40607527519201,
          1.3443116947142573,
          1.4291458562201225,
          1.371391550385682,
          1.38729893968439,
          1.4597512829393204,
          1.4806492946196133,
          1.3921825033609343,
          1.4386118614894592,
          1.3673054489648542,
          1.4670140847854602,
          1.39029322905196,
          1.376711282238265,
          1.366281194127674,
          1.4556438105500356,
          1.3962406227333446,
          1.3864718284834405,
          1.4019365781581405,
          1.423370243586422,
          1.4314127888491395,
          1.4046060054212417,
          1.3846471341865971,
          1.3912142608598992,
          1.4522419664369732,
          1.4484157743222255,
          1.4493594083891566,
          1.484122001946083,
          1.3975587430931755,
          1.5045462881900726,
          1.4754756769466233,
          1.5156232512006742,
          1.3752733740117373,
          1.3668229763801905,
          1.4397331876256045,
          1.393576804182188,
          1.3664801404213296,
          1.4146165927616274,
          1.4486710477019742,
          1.3505099612184612,
          1.4823195554398878,
          1.4955386967059041,
          1.3626159438558754,
          1.4280689590774656,
          1.391298622909656,
          1.4505410733560908,
          1.500400635501212,
          1.5367510142277634,
          1.4917200981503052,
          1.5682580984280028,
          1.5200357991933493,
          1.2939674081991623,
          1.3781479318809347,
          1.588843589027624,
          1.323673045082186,
          1.2908557748085758,
          1.3723233335453298,
          1.3625069468942759,
          1.4737336405613448,
          1.3263969115759129,
          1.3962325903530595,
          1.415047247661142,
          1.4991302768725538,
          1.3931810005506602,
          1.4207682925499125,
          1.3336861158136262,
          1.4688031511198647,
          1.4798447985185788,
          1.5285679756882524,
          1.516725016931088,
          1.3683574638653377,
          1.5163189162628428,
          1.5807702007521618,
          1.5956065726955047,
          1.5910643550887535,
          1.3828529451871483,
          1.6640065804580262,
          1.212980847917996,
          1.3737281030206971,
          1.23542269264809,
          1.4823240326724305,
          1.6913544569735615,
          1.7017508447567329,
          1.5910164689806177,
          1.1457192817386002,
          1.1594288148045588,
          1.6632043148821656,
          1.7192556798369676,
          1.163352198290763,
          1.7288906200659773,
          1.3706032286060263,
          1.386721643650682,
          1.44047438374989,
          1.5042830503254547,
          1.3478769599193396,
          1.4602847622999497,
          1.5613823543778234,
          1.6607556499745941,
          1.7459401197807103,
          1.3743906068329235,
          1.4290196424447983,
          1.0576547988130194,
          1.7712865294937752,
          1.788871809150689,
          1.205142953463096,
          1.2652455814357104,
          1.305500571079914,
          1.3746948543521267,
          1.3812666535986495,
          1.7831715326211577,
          1.1877943606950983,
          1.3773792757323329,
          1.8164018966541582,
          1.8775505972652247,
          1.8585967054898362,
          1.9252398814368628,
          0.8547330602558507,
          1.3178792539071973,
          1.3826106698454343,
          1.414852979883848,
          1.559421440860534,
          1.243117927488263,
          1.3654670199692376,
          1.5389080720521333,
          1.363034906740805,
          1.386684693938467,
          1.4517186080714621,
          1.5165411510865283,
          1.2772559665069316,
          1.331329935055632,
          1.5638825034582835,
          1.3068046434316325,
          1.4695432423138644,
          1.575579665187394,
          1.6113150449248208,
          1.6377965554824827,
          1.2293524594548118,
          1.2858180796738456,
          1.6754925015393378,
          1.2739056071909325,
          1.2080585167235582,
          1.2014274499041746,
          1.6294338228641447,
          1.736675876473976,
          1.1993494713557,
          1.7647524969430017,
          1.2391760308361908,
          1.835606488715829,
          1.0075363794642214,
          1.8517472954684306,
          1.3356970303397533,
          2.017643947962392,
          0.8312235062015474,
          1.315493798724084,
          1.35478797237157,
          1.3611078758247495,
          1.6184969310602326,
          2.0826884823493703,
          2.2064890659827783,
          2.2891824092951,
          1.3637806434243243,
          1.3050084957081651,
          1.5053185101925217,
          1.0483855101922197,
          1.0807501045709935,
          1.7397412976401818,
          2.323310567457849,
          0.9417586983333668,
          1.0388764090875917,
          1.2397112319182997,
          0.9881146339260457,
          2.1625773537105704,
          2.3476097708118817,
          2.4737071887252045,
          1.5549409711673645,
          2.411706202883707,
          0.9755881751190453,
          0.46884905516928504,
          0.5450198570007634,
          0.8621571446595624,
          2.073051082010989,
          1.4716003998963032,
          1.5832790932847014,
          0.8245666765052624,
          0.8566242813743474,
          1.9024891674094437,
          1.9548730916665455,
          2.187978094334513,
          2.3963959616176376,
          0.8245837923990418,
          0.5699751065234364,
          1.4000589401301275,
          1.3770699909759325,
          1.3405544472275788,
          1.4492581445351285,
          1.4826266466053144,
          1.1700855391751677,
          1.3362472683632511,
          1.3358218431610356,
          1.546165787453518,
          1.218269061192769,
          1.607484551102085,
          1.1265469112937736,
          1.6909358527174538,
          1.8814193276434161,
          1.8411707747640818,
          1.9271064109453322,
          2.2154994248627715,
          1.1904016510133522,
          1.258960390862146,
          1.2401165024901255,
          0.8977491355001864,
          1.6294119544694925,
          1.5285576160910073,
          2.35962383808224,
          2.464287822487073,
          0.9236266046390881,
          0.7645662615056812,
          1.9183938086520977,
          2.695887378029879,
          1.9308854735060423,
          1.4142324823068686,
          0.5873490037949561,
          2.2564030414697567,
          3.314239154336528,
          3.180658898658882,
          0.8943892793015289,
          1.0028559944140318,
          1.2693060516784782,
          1.3615584663532423,
          2.1757534784684966,
          1.3310481101046174,
          0.9631736831735841,
          1.1303129124761189,
          1.2775610078377984,
          1.9263334314587048,
          0.9220696371176933,
          1.1000854191782203,
          1.2493188864891314,
          1.3779101441343728,
          2.5638829837168045,
          0.8183746658023004,
          0.7904841873437899,
          0.928595641943219,
          3.1356637602895785,
          2.204683395629571,
          3.8513654688322547,
          1.6433414447751247
         ],
         "y": [
          -80,
          -60,
          -75,
          -32.5,
          -65,
          -10,
          -160,
          -167.5,
          -200,
          -250,
          -261.25,
          -230,
          -207.5,
          -340,
          -320,
          -333.75,
          -390,
          -450,
          -430,
          -400,
          -500,
          -580,
          -640,
          -680,
          -650,
          -790,
          -770,
          -742.5,
          -720,
          -670,
          -820,
          -870,
          -880,
          -930,
          -895,
          -831.25,
          -705.78125,
          -960,
          -1000,
          -970,
          -1030,
          -1070,
          -1040,
          -1110,
          -1117.5,
          -1160,
          -1128.75,
          -1210,
          -1190,
          -1203.75,
          -1221.875,
          -1300,
          -1310,
          -1280,
          -1302.5,
          -1380,
          -1440,
          -1420,
          -1390,
          -1480,
          -1540,
          -1520,
          -1642.5,
          -1653.75,
          -1620,
          -1600,
          -1580,
          -1600.859375,
          -1535,
          -1490,
          -1412.5,
          -1720,
          -1476.9287109375,
          -1331.25,
          -1240.9375,
          -1760,
          -1800,
          -1770,
          -1830,
          -1860,
          -1837.5,
          -1853.75,
          -1920,
          -1876.875,
          -1788.75,
          -1960,
          -2032.5,
          -2002.5,
          -1970,
          -1846.09375,
          -1354.1473388671875,
          -1148.125,
          -1392.9313659667969,
          -1060,
          -2090,
          -2097.5,
          -1395.7328414916992,
          -2160,
          -2140,
          -2220,
          -2200,
          -2213.75,
          -2270,
          -2300,
          -2277.5,
          -2231.875,
          -2370,
          -2342.5,
          -2410,
          -2361.25,
          -2390.625,
          -2262.8125,
          -2155,
          -2470,
          -2481.25,
          -2248.28125,
          -1752.2414207458496,
          -988.75,
          -2542.5,
          -1526.0486364364624,
          -2590,
          -2597.5,
          -2630,
          -2606.25,
          -2041.1493182182312,
          -2332.1371591091156,
          -789.765625,
          -620,
          -2690,
          -2701.25,
          -1132.7085511386395,
          -2760,
          -1926.6667755693197,
          -2802.5,
          -2850,
          -2860,
          -2816.25,
          -2920,
          -2930,
          -2945,
          -2846.25,
          -2348.33338778466,
          -3022.5,
          -3036.25,
          -3000,
          -2626.35419389233,
          -590,
          -3090,
          -3130,
          -3097.5,
          -3160,
          -3170,
          -3111.875,
          -3250,
          -3222.5,
          -3148.4375,
          -3194.21875,
          -1708.2291734730825,
          -2473.2942742365412,
          -560,
          -3430,
          -3410,
          -3382.5,
          -3403.75,
          -3500,
          -3540,
          -3510,
          -3600,
          -3640,
          -3610,
          -3630,
          -3580,
          -3710,
          -3618.125,
          -3760,
          -3770,
          -3669.6875,
          -3530,
          -3438.125,
          -3840,
          -3820,
          -3533.3984375,
          -3360,
          -3900,
          -3880,
          -3893.75,
          -3522.099609375,
          -3960,
          -3716.9873046875,
          -3990,
          -3836.61865234375,
          -4040,
          -3918.934326171875,
          -3332.5,
          -1725.8235685591353,
          -540,
          -4112.5,
          -4123.75,
          -4082.5,
          -4109.6875,
          -1616.076787525526,
          -510,
          -1693.9801343813815,
          -4242.5,
          -4290,
          -4256.25,
          -4220,
          -4330,
          -4249.0625,
          -2943.2400671906908,
          -4380,
          -4420,
          -4387.5,
          -4460,
          -4401.875,
          -3619.1981585953454,
          -422.8125,
          -351.875,
          -231.40625,
          -4512.5,
          -4490,
          -4560,
          -4600,
          -4570,
          -4653.75,
          -4671.875,
          -4630,
          -4730,
          -4741.25,
          -4660.46875,
          -4710.546875,
          -4588.75,
          -4840,
          -4820,
          -4872.5,
          -4942.5,
          -4990,
          -5000,
          -4956.25,
          -4920,
          -5090,
          -5070,
          -5085,
          -5150,
          -5107.5,
          -5050,
          -4952.8125,
          -5022.03125,
          -4886.25,
          -4993.6328125,
          -4833.75,
          -5240,
          -5220,
          -5270,
          -5310,
          -5280,
          -5233.75,
          -4965.283203125,
          -4672.01171875,
          -5340,
          -5380,
          -5350,
          -4893.88916015625,
          -4508.125,
          -5442.5,
          -5420,
          -5438.125,
          -4820.0347900390625,
          -759.5397286622091,
          -176.25,
          -5572.5,
          -5542.5,
          -5512.5,
          -5537.8125,
          -5632.5,
          -5720,
          -5730,
          -5692.5,
          -5647.5,
          -5780,
          -5810,
          -5821.25,
          -5776.25,
          -5682.5,
          -5870,
          -5900,
          -5877.5,
          -5744.84375,
          -5573.90625,
          -1563.522093420435,
          -56.25
         ]
        },
        {
         "hoverinfo": "text",
         "hovertext": [
          "samedi_jt_12_13h_avril",
          "lundi_jt_20h_avril_13h",
          "lundi_jt_20h_avril_13h",
          "mardi_jt_8h_mars_13h",
          "mardi_jt_8h_mars_13h",
          "jeudi_jt_31_mars_8h",
          "jt_13h_8h_20h_mars",
          "contamination_hospitalisation_cas_covid_19",
          "covid_19_contamination_cas_nombre",
          "chine_shanghai_confinement_confiner_chinois",
          "chine_shanghai_confinement_confiner_chinois",
          "chine_shanghai_confinement_confiner_chinois",
          "yvan_colonna_corse_manifestation_cargse",
          "prison_sursis_condamner_signaler_particulirement",
          "crdit_immobilier_taux_emprunteur_credit",
          "carburant_prix_litre_centime_hausse",
          "carburant_prix_litre_centime_hausse",
          "carburant_prix_litre_centime_hausse",
          "inflation_carburant_prix_hausse_litre",
          "renault_activit_suspendre_mgane_meo",
          "elizabeth_ii_prince_philip_reine",
          "rsistance_rsister_rsiste_olener_interculturel",
          "antismitisme_mmoire_algrie_juif_antisionisme",
          "pernaut_pierre_antismitisme_mmoire_tf1",
          "critique_bref_livre_manquer_robert",
          "gaston_lagaffe_franquin_gag_dupuis",
          "gaston_lagaffe_franquin_gag_dupuis",
          "gaston_lagaffe_franquin_gag_dupuis",
          "gaston_lagaffe_franquin_gag_dupuis",
          "musique_album_jazz_classique_instrument",
          "musique_album_concert_jazz_classique",
          "chanteur_ed_sheeran_arno_plagiat",
          "boycott_foo_batteur_taylor_hawkins",
          "cinma_film_willis_bruce_batman",
          "cinma_film_willis_bruce_batman",
          "cinma_film_willis_bruce_batman",
          "troupe_ballet_chtelet_city_kiev",
          "htel_avis_expert_figaro_htellerie",
          "physique_foot_club_physiquement_amateur",
          "endomtriose_alzheimer_maladie_symptme_parkinson",
          "endomtriose_alzheimer_maladie_symptme_parkinson",
          "cancer_pesticide_poumon_traitement_dulcorant",
          "entrepreneur_entrepreneuriat_work_individuel_hamz",
          "huile_tournesol_pnurie_colza_huil",
          "franchise_restaurateur_restaurer_1kubator_mature",
          "tendance_rgion_priode_portugal_partir",
          "fossile_nergie_dpendance_addiction_hydrocarbure",
          "cryptomonnaie_bitcoin_crypto_nfl_minage",
          "cryptomonnaie_bitcoin_crypto_nfl_minage",
          "supporter_monaco_sampaoli_euroligue_om",
          "aroport_air_boeing_132_crash",
          "jardin_environnement_cacher_cache_environnemental",
          "jardin_environnement_cacher_cache_environnemental",
          "jardin_environnement_cacher_cache_environnemental",
          "ramadan_ymen_trve_belligrant_jener",
          "provence_alpes_haut_humour_aix",
          "provence_alpes_haut_humour_aix",
          "euthanasie_guay_sdation_morhedec_palliatif",
          "marathon_boston_gelmiser_deso_ethiopien",
          "marathon_boston_gelmiser_deso_ethiopien",
          "marathon_boston_gelmiser_deso_ethiopien",
          "marathon_boston_gelmiser_deso_ethiopien",
          "yves_spectacle_drian_visionnaire_veyrier",
          "yves_spectacle_drian_visionnaire_veyrier",
          "yves_spectacle_drian_visionnaire_veyrier",
          "yves_spectacle_drian_visionnaire_veyrier",
          "motion_pakistan_imran_khan_sharif",
          "motion_pakistan_imran_khan_sharif",
          "motion_pakistan_imran_khan_sharif",
          "motion_pakistan_imran_khan_sharif",
          "maison_toit_prine_tatillon_vendre",
          "libert_expression_symbole_zad_libertad",
          "voice_fusion_m6_vocal_the",
          "voice_fusion_m6_vocal_the",
          "mtal_manga_nickel_metal_london",
          "capitalisme_monde_chul_han_byung",
          "capitalisme_monde_chul_han_byung",
          "capitalisme_monde_chul_han_byung",
          "racisme_raciste_discrimination_sngal_racial",
          "africain_logistique_kenya_msc_armateur",
          "airbnb_population_rapace_soudan_location",
          "ferry_compagnie_corsica_disposition_800",
          "ferry_compagnie_corsica_disposition_800",
          "ferry_compagnie_corsica_disposition_800",
          "ferry_compagnie_corsica_disposition_800",
          "ferry_compagnie_corsica_disposition_800",
          "sahara_sable_statue_olonne_nuage",
          "sahara_sable_statue_olonne_nuage",
          "poisson_listeria_fromage_listriose_rappeler",
          "poisson_listeria_fromage_listriose_rappeler",
          "tourisme_voyage_touriste_destination_vacance",
          "tourisme_voyage_touriste_destination_vacance",
          "orban_viktor_hongrie_orbn_hongrois",
          "agriculture_salon_extinction_rebellion_rbellion",
          "parent_maddie_parental_crche_paternit",
          "parent_maddie_parental_crche_paternit",
          "parent_maddie_parental_crche_paternit",
          "rhne_cannabis_cocane_bouche_addiction",
          "marne_val_seine_conglateur_implantation",
          "loire_pollution_marne_val_circulation",
          "cycliste_mtorite_nord_cassel_wavrin",
          "cycliste_mtorite_nord_cassel_wavrin",
          "maths_mathmatique_lyce_lycen_tronc",
          "maths_mathmatique_lyce_lycen_tronc",
          "maths_mathmatique_lyce_lycen_tronc",
          "dfense_corbire_alexis_europe_europen",
          "dfense_corbire_alexis_europe_europen",
          "ehpad_orpea_scandale_cash_investigation",
          "ehpad_orpea_scandale_cash_investigation",
          "ehpad_orpea_scandale_cash_investigation",
          "ehpad_orpea_scandale_cash_investigation",
          "tech_amp_co_french_partie",
          "eurovision_breton_alvan_reprsenter_ahez",
          "eurovision_breton_alvan_reprsenter_ahez",
          "ivoire_cte_equipe_nkunku_giroud",
          "ivoire_cte_equipe_nkunku_giroud",
          "ivoire_cte_equipe_nkunku_giroud",
          "deliveroo_plateforme_dissimuler_ubrisation_livreur",
          "deliveroo_plateforme_dissimuler_ubrisation_livreur",
          "deliveroo_plateforme_dissimuler_ubrisation_livreur",
          "2024_basket_nba_jo_laker",
          "2024_basket_piscine_nba_jo",
          "kinder_ferrero_chocolat_salmonelle_salmonellose",
          "kinder_ferrero_chocolat_salmonelle_salmonellose",
          "ivg_allongement_dlai_contraception_pilule",
          "ivg_allongement_dlai_contraception_pilule",
          "science_islamophobie_islamisme_po_islam",
          "transformer_ple_savane_emploi_polestar",
          "mosque_pessac_fermer_ferm_gironde",
          "afghanistan_taliban_explosion_afghan_kaboul",
          "afghanistan_taliban_explosion_afghan_kaboul",
          "afghanistan_taliban_explosion_afghan_kaboul",
          "new_mtro_york_fusillade_dtention",
          "cohen_jrmy_tramway_jrmie_bus",
          "jubillar_tlphone_tlcommunication_delphine_cdric",
          "jubillar_tlphone_tlcommunication_delphine_cdric",
          "jubillar_tlphone_tlcommunication_delphine_cdric",
          "podium_dylan_baarle_van_roubaix",
          "basque_cyclisme_tape_adriatico_tirreno",
          "fillon_maillet_biathlon_quentin_globe",
          "fillon_maillet_biathlon_quentin_globe",
          "fillon_maillet_biathlon_quentin_globe",
          "fillon_maillet_biathlon_quentin_globe",
          "flop_top_stade_racing_cup",
          "flop_top_bordeaux_stade_racing",
          "mercato_journal_haaland_bara_manchester",
          "roman_abramovitch_chelsea_abramovich_rome",
          "roman_abramovitch_chelsea_abramovich_rome",
          "wimbledon_exclusion_bilorusse_bannir_exclure",
          "tennis_garros_roland_djokovic_wells",
          "tennis_garros_roland_djokovic_wells",
          "temprature_end_week_temps_mto",
          "week_fashion_temprature_end_temps",
          "week_fashion_temprature_end_temps",
          "lille_arfer_gourvennec_ben_chelsea",
          "lille_arfer_gourvennec_ben_chelsea",
          "1973_ptrolier_choc_comparable_ptrole",
          "orange_vigilance_dpartement_verglas_alerte",
          "lectricit_coup_consommation_froid_coupure",
          "lectricit_gel_froid_coup_vague",
          "lectricit_gel_froid_coup_vague",
          "rmunration_patron_stellantis_tavare_carlos",
          "rmunration_record_cac_duplantis_perche",
          "assurance_vi_fort_clause_bnficiaire",
          "suprme_noir_ketanji_jackson_brown",
          "suprme_noir_ketanji_jackson_brown",
          "rlection_rsa_conditionner_allocataire_contrepartie",
          "tltravail_joe_tlphrique_tlconsultation_biden",
          "tltravail_joe_tlphrique_tlconsultation_biden",
          "audiovisuel_redevance_financier_finance_financer",
          "audiovisuel_redevance_financier_finance_financer",
          "audiovisuel_redevance_financier_finance_financer",
          "march_marcher_passoire_climat_passer",
          "gopolitique_march_marcher_graphique_laguiole",
          "gopolitique_march_marcher_graphique_laguiole",
          "carbone_empreinte_oxfam_neutralit_carte",
          "milliard_milliardaire_magot_bollor_edf",
          "milliard_milliardaire_magot_bollor_edf",
          "milliard_milliardaire_magot_bollor_edf",
          "milliard_milliardaire_magot_bollor_edf",
          "missile_hypersonique_core_intercontinental_tirer",
          "missile_tchernobyl_nuclaire_hypersonique_centrale",
          "missile_tchernobyl_nuclaire_hypersonique_centrale",
          "missile_tchernobyl_nuclaire_hypersonique_centrale",
          "mission_co2_mthane_serre_faible",
          "climatique_rchauffement_giec_rapport_changement",
          "climatique_rchauffement_giec_rapport_changement",
          "vente_automobile_vent_lectrique_honda",
          "vente_automobile_lectrique_vent_recharge",
          "europen_europe_union_numrique_souverainisme",
          "europen_europe_union_numrique_souverainisme",
          "europen_europe_union_numrique_souverainisme",
          "mckinsey_cabinet_conseil_affaire_polmique",
          "mckinsey_cabinet_justice_conseil_tribunal",
          "mckinsey_cabinet_justice_conseil_tribunal",
          "mckinsey_cabinet_justice_conseil_tribunal",
          "mckinsey_cabinet_justice_conseil_tribunal",
          "ps5_stock_cdiscount_pc_console",
          "galaxy_samsung_s22_s21_huawei",
          "airpod_apple_iphone_ipad_pro",
          "iphone_airpod_apple_galaxy_samsung",
          "amazon_prime_syndicat_cration_mgm",
          "amazon_iphone_apple_airpod_galaxy",
          "amazon_iphone_apple_airpod_galaxy",
          "bonsoir_invit_lyon_03_jt",
          "lyon_bonsoir_invit_03_lyonnais",
          "police_municipal_gendarmerie_abattre_bercy",
          "mort_sevran_automobiliste_policier_foule",
          "accuser_viol_acquitter_accus_36",
          "accuser_viol_acquitter_accus_36",
          "accuser_viol_acquitter_accus_36",
          "secrtaire_elimas_moral_nathalie_harclement",
          "secrtaire_elimas_harclement_moral_nathalie",
          "secrtaire_elimas_harclement_moral_nathalie",
          "secrtaire_elimas_harclement_moral_nathalie",
          "coupe_qatar_monde_barrage_tirage",
          "coupe_qatar_monde_barrage_tirage",
          "rugby_xv_cosser_chelem_tournoi",
          "xv_nation_tournoi_galle_rugby",
          "xv_nation_tournoi_galle_rugby",
          "xv_nation_tournoi_galle_rugby",
          "xv_nation_tournoi_galle_rugby",
          "xv_nation_tournoi_galle_rugby",
          "crime_human_international_cour_watch",
          "humanit_doyen_118_andr_contestation",
          "humanit_doyen_118_andr_contestation",
          "chef_orchestre_diplomatie_valery_gergiev",
          "militaire_dpense_base_renseignement_opration",
          "kiev_bombardement_couvrir_klitschko_kyiv",
          "kiev_bombardement_couvrir_klitschko_kyiv",
          "lviv_ambassade_ambassadeur_ouest_ville",
          "ville_centre_capitale_vendme_ctier",
          "ville_centre_capitale_vendme_ctier",
          "abdeslam_novembre_salah_13_procs",
          "abdeslam_novembre_salah_13_procs",
          "journaliste_mdia_sputnik_journal_rt",
          "journaliste_mdia_sputnik_journal_rt",
          "invasion_russe_situation_dbut_jour",
          "invasion_russe_situation_dbut_jour",
          "programme_prsentation_indiffrenc_inexistant_dpressif",
          "campagne_impact_prsidentiel_percute_lectoral",
          "marseille_meeting_surfing_calanque_prvoir",
          "politique_socialiste_prsident_hollande_idologie",
          "vido_video_guerr_cologie_cologique",
          "enfant_enfance_couteau_discothque_paix",
          "femme_fministe_fminin_sexisme_fminisme",
          "femme_fministe_fminin_sexisme_fminisme",
          "femme_fministe_fminin_sexisme_fminisme",
          "gauche_krivine_alain_figure_rvolutionnaire",
          "gauche_krivine_alain_figure_rvolutionnaire",
          "lgislative_rugy_ministre_lire_lfi",
          "zemmour_eric_assassin_marchal_marion",
          "zemmour_eric_assassin_marchal_marion",
          "zemmour_eric_assassin_marchal_marion",
          "retraite_65_rforme_ge_dpart",
          "retraite_65_rforme_ge_dpart",
          "rsilience_plan_conomique_gouvernement_caste",
          "rsilience_plan_conomique_gouvernement_caste",
          "franais_entreprise_langue_balcon_montreux",
          "rfugi_ukrainien_accueil_accueillir_solidarit",
          "fdj_jackpot_euromillion_loto_gagner",
          "fdj_jackpot_euromillion_loto_gagner",
          "fdj_jackpot_euromillion_loto_gagner",
          "fdj_jackpot_euromillion_loto_gagner",
          "marioupol_assig_martyre_ville_bombardement",
          "humanitaire_couloir_vacuer_convoi_civil",
          "humanitaire_couloir_vacuer_convoi_civil",
          "humanitaire_couloir_vacuer_convoi_civil",
          "humanitaire_couloir_vacuer_convoi_civil",
          "vnement_mars_marquant_principal_mercredi",
          "journe_retenir_falloir_mars_avril",
          "mars_journe_retenir_vnement_falloir",
          "coronavirus_bilan_mars_avril_france",
          "coronavirus_bilan_mars_avril_france",
          "coronavirus_bilan_mars_avril_france",
          "coronavirus_bilan_mars_avril_france",
          "pays_financier_fuir_sanction_quitter",
          "guerre_ukrain_algrie_ukraine_rfugi",
          "russie_russe_guerre_ukrain_offensive",
          "russie_russe_gaz_sanction_ukrain",
          "guerre_russie_ukrain_russe_gaz",
          "poutine_vladimir_biden_lavrov_occident",
          "emmanuel_macron_rlire_quinquennat_prsident",
          "candidat_prsidentielle_candidature_coter_patrimoine",
          "candidat_prsidentielle_candidature_coter_patrimoine",
          "pen_dbat_macron_cart_sondage",
          "marine_pen_voile_guadeloupe_dtournement",
          "marine_pen_voile_prsidentiel_emmanuel",
          "marine_pen_voile_duel_dbat",
          "luc_mlenchon_jean_second_tour",
          "tour_second_rsultat_dbat_abstention",
          "tour_second_rsultat_dbat_abstention",
          "tour_lection_vote_second_voter",
          "tour_lection_vote_second_voter",
          "vote_utile_mlenchon_gauche_intention",
          "vote_utile_mlenchon_gauche_intention",
          "vote_utile_mlenchon_gauche_intention",
          "vote_utile_mlenchon_gauche_intention",
          "vote_utile_mlenchon_gauche_intention",
          "poutine_guerre_ukrain_franais_ukraine"
         ],
         "marker": {
          "color": "black"
         },
         "mode": "markers",
         "showlegend": false,
         "type": "scatter",
         "x": [
          0.5791870989280657,
          0.7677808776663168,
          1.228821768191645,
          0.5709564698631587,
          1.444968206014255,
          0.7016686124197373,
          1.5245616816594334,
          1.1364999329951173,
          1.2047981897423103,
          1.0934313602840173,
          1.7125732523636596,
          1.9543726208083325,
          1.0318164401068974,
          1.299552915957888,
          0.7718405637339997,
          0.9476215191292662,
          1.0830684829358441,
          1.6951530610652328,
          2.0779610736920624,
          0.6720490051990989,
          1.0356559462168298,
          1.412690635998981,
          1.394985077229993,
          1.4093889542993319,
          1.3596601252771285,
          1.4202795209974508,
          1.457101580046224,
          1.4701292048599826,
          1.5148917711058167,
          1.2826183874213584,
          1.389318128687413,
          1.3849981593989253,
          1.394717566531674,
          1.4045567915886183,
          1.5265795957982826,
          1.577504829246059,
          1.337451276664083,
          1.4133479871780184,
          1.333695594495709,
          1.3588660904452936,
          1.432989616544588,
          1.3533433144953824,
          1.4121016910430537,
          1.4321453907660462,
          1.3341178231273456,
          1.3389057876012207,
          1.3990354493182564,
          1.37654436619751,
          1.4568211550663386,
          1.3938666293050541,
          1.3725025252524514,
          1.401323987240324,
          1.433582185074858,
          1.4644484483691507,
          1.3513421591413977,
          1.3959143794731996,
          1.4288181391480277,
          1.4144043944287525,
          1.4188623812244503,
          1.4392633459820627,
          1.4426202163351722,
          1.450868268165332,
          1.3935347315716884,
          1.4568637178752817,
          1.4719366296459409,
          1.4951869590265063,
          1.3488651749555127,
          1.4570618329315608,
          1.5097604105188782,
          1.513143508420636,
          1.3816525294125415,
          1.4095351654016093,
          1.3984589238700296,
          1.4401557547750954,
          1.3520286754118715,
          1.3795584188223398,
          1.4684072957930316,
          1.4895743086435862,
          1.3618611654029802,
          1.3671672686012808,
          1.3893199073663398,
          1.4343210774049713,
          1.4764935682083284,
          1.493191943730594,
          1.5264298693209553,
          1.5458894112167825,
          1.2547452415157871,
          1.5870258545253721,
          1.2853102547510722,
          1.5626125412081153,
          1.328686941496414,
          1.4825404234106536,
          1.4276671289328575,
          1.3519657884277787,
          1.3415070277011876,
          1.4546456483367936,
          1.5107418315752787,
          1.3573295695741154,
          1.3940535582272435,
          1.4327163032077348,
          1.3683955337325342,
          1.4553032956626362,
          1.3021509594634562,
          1.5306922988611766,
          1.5470287315499833,
          1.36147597711887,
          1.418611363187929,
          1.2868111114738872,
          1.5393016812502969,
          1.6246174049839448,
          1.6373727994323104,
          1.2365666465387157,
          1.215114212554475,
          1.6068998129361036,
          1.1916658996297742,
          1.639485301478749,
          1.6724668651427888,
          1.1479651083317952,
          1.707584667757868,
          1.7118341025734687,
          1.2580624805507432,
          1.3801871132673236,
          1.143351942571586,
          1.694012272742808,
          1.1416046362143806,
          1.6731680856022808,
          1.275519103637684,
          1.3267461555736184,
          1.3112452315059193,
          1.259607586677738,
          1.389023193141527,
          1.5374895304709426,
          1.3222328935420407,
          1.218134763637482,
          1.1677712232732163,
          1.6444146720001844,
          1.6823851419647766,
          1.2189099435579884,
          1.285581053508508,
          1.0843858816451541,
          1.7859595159584227,
          1.7914384329076967,
          1.8522421253117471,
          1.2818715011405293,
          1.3427990338482376,
          1.2577610552302476,
          1.1895721787083093,
          1.6704805049362328,
          1.2069534408465274,
          1.317429889247886,
          1.706789111656577,
          1.129541577159734,
          1.2937941480874766,
          1.8965858297547136,
          0.8993123948944058,
          2.0027263552101684,
          1.047492354743429,
          1.2943829438826324,
          1.38272081728233,
          1.4114394073619467,
          1.4606721883867788,
          1.2812493783742736,
          1.3395089237224955,
          1.3026344396603564,
          1.3270646758656686,
          1.438918152481411,
          1.3895649135195614,
          1.3668302359027673,
          1.4583306343462226,
          1.3232010550446938,
          1.411912409595963,
          1.5456989782400576,
          1.3070251142924525,
          1.4103767839831154,
          1.5126603608035316,
          1.3355559780564328,
          1.3198845500505056,
          1.5537211898471566,
          1.5887469610738507,
          1.6185657995835336,
          1.3451942350985433,
          1.4869523501299122,
          1.520714350315794,
          1.727632631978171,
          1.4066515719219883,
          1.1271159882509765,
          1.681079070375752,
          1.3202288042061536,
          1.3787505188727156,
          1.2024832596223902,
          1.354859901107076,
          1.5661523241565873,
          0.9333886538010714,
          1.8389682429443797,
          1.9407923359320711,
          1.9763622281737563,
          2.02480262877558,
          1.2477949089220546,
          1.2461126751345957,
          1.0233303535683287,
          1.5019841021539326,
          0.9712454168161674,
          1.8791605222608239,
          2.2797485361631833,
          0.9167027378522384,
          1.3053159123911453,
          1.2951631000147485,
          1.1955574465370766,
          1.2855462191010973,
          1.5004624835864653,
          1.5824767350770035,
          1.244318445362101,
          1.3290732836004953,
          1.6691097303569051,
          1.796154689874368,
          1.15985053421132,
          1.2975697970905626,
          1.2349678246009048,
          1.2498773305657336,
          2.2921067786324456,
          2.591050639979328,
          2.7477852515609253,
          3.1135739939925564,
          0.783496307959056,
          1.0445556451913134,
          1.8026795069826085,
          0.6494458393103378,
          0.9627222730826813,
          1.2066663260696695,
          1.3601255728131425,
          1.2040748650425332,
          1.112366635890357,
          1.6523837675594097,
          1.0727500271832713,
          1.3446731840082606,
          0.7973737110063885,
          1.9833782491284797,
          0.5445683043277213,
          2.276753386100285,
          1.1654830009699113,
          1.3058751773266981,
          1.0610840896986684,
          1.3699896694789595,
          1.4266790703479073,
          1.3505005571246678,
          1.3417760490318513,
          1.5115762173733518,
          1.5693566905012366,
          1.294246657153201,
          1.4715110331967758,
          1.204144257704286,
          1.3539628338602745,
          1.7027234387229033,
          1.749181328820167,
          0.9444362049234329,
          1.9164613462886702,
          0.7555798066428855,
          2.181625458699159,
          1.26009166748668,
          0.918918337921628,
          1.385278317637249,
          1.9321928117241653,
          2.1914174823279695,
          2.555815781875162,
          0.4356505465327869,
          0.5264581696624665,
          1.8779550327783352,
          2.5062298495068314,
          3.1384767100772724,
          0.8662237957199841,
          0.9146076962332307,
          1.7066672596615018,
          0.40074340306004735,
          2.4791532407070074,
          3.6062289043899804,
          3.683697063566479,
          0.8243940287037237,
          0.9753268667150011,
          0.8622681264121502,
          1.3815925060286693,
          1.6398393411157013,
          0.4409050700387658,
          0.7499723288074691,
          0.9187954957640942,
          1.5386713269141623,
          1.1111248386688206,
          0.7514185907470431,
          1.3004388570799874,
          1.9190397419047136,
          1.1865978842875546,
          0.7734205527050997,
          0.9610249286028775,
          1.3752026231539722,
          2.8059155906584006,
          1.101828336554632,
          1.3919140646832289,
          1.8933714456430841,
          3.2560871532881404,
          4.576313784950908,
          6.347113248818212
         ],
         "y": [
          -40,
          -100,
          -90,
          -120,
          -97.5,
          -140,
          -102.5,
          -280,
          -272.5,
          -300,
          -280.625,
          -255.3125,
          -347.5,
          -370,
          -410,
          -480,
          -472.5,
          -461.25,
          -445.625,
          -520,
          -600,
          -660,
          -700,
          -690,
          -750,
          -797.5,
          -783.75,
          -763.125,
          -741.5625,
          -850,
          -842.5,
          -890,
          -910,
          -937.5,
          -916.25,
          -873.75,
          -980,
          -1007.5,
          -1050,
          -1090,
          -1080,
          -1140,
          -1167.5,
          -1217.5,
          -1240,
          -1260,
          -1320,
          -1340,
          -1325,
          -1360,
          -1400,
          -1460,
          -1450,
          -1435,
          -1500,
          -1560,
          -1550,
          -1650,
          -1680,
          -1666.875,
          -1643.4375,
          -1621.71875,
          -1700,
          -1650.4296875,
          -1592.71484375,
          -1541.357421875,
          -1740,
          -1730,
          -1603.46435546875,
          -1467.357177734375,
          -1780,
          -1807.5,
          -1880,
          -1870,
          -1900,
          -1940,
          -1930,
          -1903.4375,
          -1980,
          -2010,
          -2040,
          -2043.75,
          -2023.125,
          -1996.5625,
          -1921.328125,
          -1637.7377319335938,
          -2070,
          -1731.4656829833984,
          -2120,
          -2108.75,
          -2180,
          -2170,
          -2227.5,
          -2250,
          -2320,
          -2310,
          -2293.75,
          -2350,
          -2390,
          -2380,
          -2430,
          -2420,
          -2450,
          -2420.3125,
          -2341.5625,
          -2500,
          -2492.5,
          -2520,
          -2500.625,
          -2374.453125,
          -2063.347272872925,
          -2550,
          -2570,
          -2556.25,
          -2650,
          -2640,
          -2623.125,
          -2670,
          -2501.068579554558,
          -1645.417102277279,
          -2720,
          -2712.5,
          -2740,
          -2720.625,
          -2780,
          -2770,
          -2810,
          -2830,
          -2870,
          -2900,
          -2892.5,
          -2876.25,
          -2940,
          -2960,
          -2980,
          -2962.5,
          -2904.375,
          -3030,
          -3050,
          -3070,
          -3053.125,
          -3026.5625,
          -2826.458346946165,
          -3137.5,
          -3126.25,
          -3180,
          -3200,
          -3185,
          -3230,
          -3257.5,
          -3240,
          -3290,
          -3282.5,
          -3238.359375,
          -3310,
          -2891.6471371182706,
          -3340,
          -3390,
          -3450,
          -3440,
          -3425,
          -3480,
          -3472.5,
          -3520,
          -3560,
          -3550,
          -3620,
          -3660,
          -3650,
          -3690,
          -3682.5,
          -3656.25,
          -3740,
          -3732.5,
          -3721.25,
          -3780,
          -3800,
          -3785,
          -3727.34375,
          -3628.671875,
          -3860,
          -3850,
          -3835,
          -3684.19921875,
          -3907.5,
          -3930,
          -3911.875,
          -3967.5,
          -3956.25,
          -4020,
          -4012.5,
          -4001.25,
          -4060,
          -4050,
          -3984.4671630859375,
          -3658.4835815429688,
          -2692.153575051052,
          -4090,
          -4120,
          -4150,
          -4136.875,
          -4170,
          -4139.84375,
          -2877.960268762763,
          -4200,
          -4192.5,
          -4250,
          -4270,
          -4310,
          -4300,
          -4278.125,
          -4360,
          -4352.5,
          -4341.25,
          -4295.15625,
          -4427.5,
          -4416.25,
          -4467.5,
          -4456.25,
          -4429.0625,
          -4024.1303292976727,
          -2223.4714146488363,
          -1287.6732073244182,
          -4520,
          -4540,
          -4526.25,
          -4580,
          -4607.5,
          -4670,
          -4662.5,
          -4690,
          -4710,
          -4690.9375,
          -4760,
          -4752.5,
          -4780,
          -4760.625,
          -4800,
          -4755.2734375,
          -4847.5,
          -4880,
          -4900,
          -4950,
          -4970,
          -5010,
          -5030,
          -5015,
          -4985.625,
          -5110,
          -5100,
          -5130,
          -5157.5,
          -5132.5,
          -5091.25,
          -5180,
          -5101.015625,
          -5200,
          -5096.81640625,
          -5247.5,
          -5290,
          -5317.5,
          -5298.75,
          -5266.25,
          -5115.7666015625,
          -5360,
          -5400,
          -5390,
          -5370,
          -5131.944580078125,
          -5450,
          -5470,
          -5456.25,
          -5490,
          -5464.0625,
          -5142.048645019531,
          -2950.79418684087,
          -5520,
          -5550,
          -5580,
          -5583.75,
          -5563.125,
          -5610,
          -5640,
          -5670,
          -5662.5,
          -5700,
          -5740,
          -5742.5,
          -5717.5,
          -5787.5,
          -5840,
          -5832.5,
          -5838.125,
          -5807.1875,
          -5920,
          -5910,
          -5893.75,
          -5819.296875,
          -5696.6015625,
          -3630.0618279602177
         ]
        }
       ],
       "layout": {
        "autosize": false,
        "height": 9095,
        "hoverlabel": {
         "bgcolor": "white",
         "font": {
          "family": "Rockwell",
          "size": 16
         }
        },
        "hovermode": "closest",
        "plot_bgcolor": "#ECEFF1",
        "showlegend": false,
        "template": {
         "data": {
          "bar": [
           {
            "error_x": {
             "color": "#2a3f5f"
            },
            "error_y": {
             "color": "#2a3f5f"
            },
            "marker": {
             "line": {
              "color": "white",
              "width": 0.5
             },
             "pattern": {
              "fillmode": "overlay",
              "size": 10,
              "solidity": 0.2
             }
            },
            "type": "bar"
           }
          ],
          "barpolar": [
           {
            "marker": {
             "line": {
              "color": "white",
              "width": 0.5
             },
             "pattern": {
              "fillmode": "overlay",
              "size": 10,
              "solidity": 0.2
             }
            },
            "type": "barpolar"
           }
          ],
          "carpet": [
           {
            "aaxis": {
             "endlinecolor": "#2a3f5f",
             "gridcolor": "#C8D4E3",
             "linecolor": "#C8D4E3",
             "minorgridcolor": "#C8D4E3",
             "startlinecolor": "#2a3f5f"
            },
            "baxis": {
             "endlinecolor": "#2a3f5f",
             "gridcolor": "#C8D4E3",
             "linecolor": "#C8D4E3",
             "minorgridcolor": "#C8D4E3",
             "startlinecolor": "#2a3f5f"
            },
            "type": "carpet"
           }
          ],
          "choropleth": [
           {
            "colorbar": {
             "outlinewidth": 0,
             "ticks": ""
            },
            "type": "choropleth"
           }
          ],
          "contour": [
           {
            "colorbar": {
             "outlinewidth": 0,
             "ticks": ""
            },
            "colorscale": [
             [
              0,
              "#0d0887"
             ],
             [
              0.1111111111111111,
              "#46039f"
             ],
             [
              0.2222222222222222,
              "#7201a8"
             ],
             [
              0.3333333333333333,
              "#9c179e"
             ],
             [
              0.4444444444444444,
              "#bd3786"
             ],
             [
              0.5555555555555556,
              "#d8576b"
             ],
             [
              0.6666666666666666,
              "#ed7953"
             ],
             [
              0.7777777777777778,
              "#fb9f3a"
             ],
             [
              0.8888888888888888,
              "#fdca26"
             ],
             [
              1,
              "#f0f921"
             ]
            ],
            "type": "contour"
           }
          ],
          "contourcarpet": [
           {
            "colorbar": {
             "outlinewidth": 0,
             "ticks": ""
            },
            "type": "contourcarpet"
           }
          ],
          "heatmap": [
           {
            "colorbar": {
             "outlinewidth": 0,
             "ticks": ""
            },
            "colorscale": [
             [
              0,
              "#0d0887"
             ],
             [
              0.1111111111111111,
              "#46039f"
             ],
             [
              0.2222222222222222,
              "#7201a8"
             ],
             [
              0.3333333333333333,
              "#9c179e"
             ],
             [
              0.4444444444444444,
              "#bd3786"
             ],
             [
              0.5555555555555556,
              "#d8576b"
             ],
             [
              0.6666666666666666,
              "#ed7953"
             ],
             [
              0.7777777777777778,
              "#fb9f3a"
             ],
             [
              0.8888888888888888,
              "#fdca26"
             ],
             [
              1,
              "#f0f921"
             ]
            ],
            "type": "heatmap"
           }
          ],
          "heatmapgl": [
           {
            "colorbar": {
             "outlinewidth": 0,
             "ticks": ""
            },
            "colorscale": [
             [
              0,
              "#0d0887"
             ],
             [
              0.1111111111111111,
              "#46039f"
             ],
             [
              0.2222222222222222,
              "#7201a8"
             ],
             [
              0.3333333333333333,
              "#9c179e"
             ],
             [
              0.4444444444444444,
              "#bd3786"
             ],
             [
              0.5555555555555556,
              "#d8576b"
             ],
             [
              0.6666666666666666,
              "#ed7953"
             ],
             [
              0.7777777777777778,
              "#fb9f3a"
             ],
             [
              0.8888888888888888,
              "#fdca26"
             ],
             [
              1,
              "#f0f921"
             ]
            ],
            "type": "heatmapgl"
           }
          ],
          "histogram": [
           {
            "marker": {
             "pattern": {
              "fillmode": "overlay",
              "size": 10,
              "solidity": 0.2
             }
            },
            "type": "histogram"
           }
          ],
          "histogram2d": [
           {
            "colorbar": {
             "outlinewidth": 0,
             "ticks": ""
            },
            "colorscale": [
             [
              0,
              "#0d0887"
             ],
             [
              0.1111111111111111,
              "#46039f"
             ],
             [
              0.2222222222222222,
              "#7201a8"
             ],
             [
              0.3333333333333333,
              "#9c179e"
             ],
             [
              0.4444444444444444,
              "#bd3786"
             ],
             [
              0.5555555555555556,
              "#d8576b"
             ],
             [
              0.6666666666666666,
              "#ed7953"
             ],
             [
              0.7777777777777778,
              "#fb9f3a"
             ],
             [
              0.8888888888888888,
              "#fdca26"
             ],
             [
              1,
              "#f0f921"
             ]
            ],
            "type": "histogram2d"
           }
          ],
          "histogram2dcontour": [
           {
            "colorbar": {
             "outlinewidth": 0,
             "ticks": ""
            },
            "colorscale": [
             [
              0,
              "#0d0887"
             ],
             [
              0.1111111111111111,
              "#46039f"
             ],
             [
              0.2222222222222222,
              "#7201a8"
             ],
             [
              0.3333333333333333,
              "#9c179e"
             ],
             [
              0.4444444444444444,
              "#bd3786"
             ],
             [
              0.5555555555555556,
              "#d8576b"
             ],
             [
              0.6666666666666666,
              "#ed7953"
             ],
             [
              0.7777777777777778,
              "#fb9f3a"
             ],
             [
              0.8888888888888888,
              "#fdca26"
             ],
             [
              1,
              "#f0f921"
             ]
            ],
            "type": "histogram2dcontour"
           }
          ],
          "mesh3d": [
           {
            "colorbar": {
             "outlinewidth": 0,
             "ticks": ""
            },
            "type": "mesh3d"
           }
          ],
          "parcoords": [
           {
            "line": {
             "colorbar": {
              "outlinewidth": 0,
              "ticks": ""
             }
            },
            "type": "parcoords"
           }
          ],
          "pie": [
           {
            "automargin": true,
            "type": "pie"
           }
          ],
          "scatter": [
           {
            "fillpattern": {
             "fillmode": "overlay",
             "size": 10,
             "solidity": 0.2
            },
            "type": "scatter"
           }
          ],
          "scatter3d": [
           {
            "line": {
             "colorbar": {
              "outlinewidth": 0,
              "ticks": ""
             }
            },
            "marker": {
             "colorbar": {
              "outlinewidth": 0,
              "ticks": ""
             }
            },
            "type": "scatter3d"
           }
          ],
          "scattercarpet": [
           {
            "marker": {
             "colorbar": {
              "outlinewidth": 0,
              "ticks": ""
             }
            },
            "type": "scattercarpet"
           }
          ],
          "scattergeo": [
           {
            "marker": {
             "colorbar": {
              "outlinewidth": 0,
              "ticks": ""
             }
            },
            "type": "scattergeo"
           }
          ],
          "scattergl": [
           {
            "marker": {
             "colorbar": {
              "outlinewidth": 0,
              "ticks": ""
             }
            },
            "type": "scattergl"
           }
          ],
          "scattermapbox": [
           {
            "marker": {
             "colorbar": {
              "outlinewidth": 0,
              "ticks": ""
             }
            },
            "type": "scattermapbox"
           }
          ],
          "scatterpolar": [
           {
            "marker": {
             "colorbar": {
              "outlinewidth": 0,
              "ticks": ""
             }
            },
            "type": "scatterpolar"
           }
          ],
          "scatterpolargl": [
           {
            "marker": {
             "colorbar": {
              "outlinewidth": 0,
              "ticks": ""
             }
            },
            "type": "scatterpolargl"
           }
          ],
          "scatterternary": [
           {
            "marker": {
             "colorbar": {
              "outlinewidth": 0,
              "ticks": ""
             }
            },
            "type": "scatterternary"
           }
          ],
          "surface": [
           {
            "colorbar": {
             "outlinewidth": 0,
             "ticks": ""
            },
            "colorscale": [
             [
              0,
              "#0d0887"
             ],
             [
              0.1111111111111111,
              "#46039f"
             ],
             [
              0.2222222222222222,
              "#7201a8"
             ],
             [
              0.3333333333333333,
              "#9c179e"
             ],
             [
              0.4444444444444444,
              "#bd3786"
             ],
             [
              0.5555555555555556,
              "#d8576b"
             ],
             [
              0.6666666666666666,
              "#ed7953"
             ],
             [
              0.7777777777777778,
              "#fb9f3a"
             ],
             [
              0.8888888888888888,
              "#fdca26"
             ],
             [
              1,
              "#f0f921"
             ]
            ],
            "type": "surface"
           }
          ],
          "table": [
           {
            "cells": {
             "fill": {
              "color": "#EBF0F8"
             },
             "line": {
              "color": "white"
             }
            },
            "header": {
             "fill": {
              "color": "#C8D4E3"
             },
             "line": {
              "color": "white"
             }
            },
            "type": "table"
           }
          ]
         },
         "layout": {
          "annotationdefaults": {
           "arrowcolor": "#2a3f5f",
           "arrowhead": 0,
           "arrowwidth": 1
          },
          "autotypenumbers": "strict",
          "coloraxis": {
           "colorbar": {
            "outlinewidth": 0,
            "ticks": ""
           }
          },
          "colorscale": {
           "diverging": [
            [
             0,
             "#8e0152"
            ],
            [
             0.1,
             "#c51b7d"
            ],
            [
             0.2,
             "#de77ae"
            ],
            [
             0.3,
             "#f1b6da"
            ],
            [
             0.4,
             "#fde0ef"
            ],
            [
             0.5,
             "#f7f7f7"
            ],
            [
             0.6,
             "#e6f5d0"
            ],
            [
             0.7,
             "#b8e186"
            ],
            [
             0.8,
             "#7fbc41"
            ],
            [
             0.9,
             "#4d9221"
            ],
            [
             1,
             "#276419"
            ]
           ],
           "sequential": [
            [
             0,
             "#0d0887"
            ],
            [
             0.1111111111111111,
             "#46039f"
            ],
            [
             0.2222222222222222,
             "#7201a8"
            ],
            [
             0.3333333333333333,
             "#9c179e"
            ],
            [
             0.4444444444444444,
             "#bd3786"
            ],
            [
             0.5555555555555556,
             "#d8576b"
            ],
            [
             0.6666666666666666,
             "#ed7953"
            ],
            [
             0.7777777777777778,
             "#fb9f3a"
            ],
            [
             0.8888888888888888,
             "#fdca26"
            ],
            [
             1,
             "#f0f921"
            ]
           ],
           "sequentialminus": [
            [
             0,
             "#0d0887"
            ],
            [
             0.1111111111111111,
             "#46039f"
            ],
            [
             0.2222222222222222,
             "#7201a8"
            ],
            [
             0.3333333333333333,
             "#9c179e"
            ],
            [
             0.4444444444444444,
             "#bd3786"
            ],
            [
             0.5555555555555556,
             "#d8576b"
            ],
            [
             0.6666666666666666,
             "#ed7953"
            ],
            [
             0.7777777777777778,
             "#fb9f3a"
            ],
            [
             0.8888888888888888,
             "#fdca26"
            ],
            [
             1,
             "#f0f921"
            ]
           ]
          },
          "colorway": [
           "#636efa",
           "#EF553B",
           "#00cc96",
           "#ab63fa",
           "#FFA15A",
           "#19d3f3",
           "#FF6692",
           "#B6E880",
           "#FF97FF",
           "#FECB52"
          ],
          "font": {
           "color": "#2a3f5f"
          },
          "geo": {
           "bgcolor": "white",
           "lakecolor": "white",
           "landcolor": "white",
           "showlakes": true,
           "showland": true,
           "subunitcolor": "#C8D4E3"
          },
          "hoverlabel": {
           "align": "left"
          },
          "hovermode": "closest",
          "mapbox": {
           "style": "light"
          },
          "paper_bgcolor": "white",
          "plot_bgcolor": "white",
          "polar": {
           "angularaxis": {
            "gridcolor": "#EBF0F8",
            "linecolor": "#EBF0F8",
            "ticks": ""
           },
           "bgcolor": "white",
           "radialaxis": {
            "gridcolor": "#EBF0F8",
            "linecolor": "#EBF0F8",
            "ticks": ""
           }
          },
          "scene": {
           "xaxis": {
            "backgroundcolor": "white",
            "gridcolor": "#DFE8F3",
            "gridwidth": 2,
            "linecolor": "#EBF0F8",
            "showbackground": true,
            "ticks": "",
            "zerolinecolor": "#EBF0F8"
           },
           "yaxis": {
            "backgroundcolor": "white",
            "gridcolor": "#DFE8F3",
            "gridwidth": 2,
            "linecolor": "#EBF0F8",
            "showbackground": true,
            "ticks": "",
            "zerolinecolor": "#EBF0F8"
           },
           "zaxis": {
            "backgroundcolor": "white",
            "gridcolor": "#DFE8F3",
            "gridwidth": 2,
            "linecolor": "#EBF0F8",
            "showbackground": true,
            "ticks": "",
            "zerolinecolor": "#EBF0F8"
           }
          },
          "shapedefaults": {
           "line": {
            "color": "#2a3f5f"
           }
          },
          "ternary": {
           "aaxis": {
            "gridcolor": "#DFE8F3",
            "linecolor": "#A2B1C6",
            "ticks": ""
           },
           "baxis": {
            "gridcolor": "#DFE8F3",
            "linecolor": "#A2B1C6",
            "ticks": ""
           },
           "bgcolor": "white",
           "caxis": {
            "gridcolor": "#DFE8F3",
            "linecolor": "#A2B1C6",
            "ticks": ""
           }
          },
          "title": {
           "x": 0.05
          },
          "xaxis": {
           "automargin": true,
           "gridcolor": "#EBF0F8",
           "linecolor": "#EBF0F8",
           "ticks": "",
           "title": {
            "standoff": 15
           },
           "zerolinecolor": "#EBF0F8",
           "zerolinewidth": 2
          },
          "yaxis": {
           "automargin": true,
           "gridcolor": "#EBF0F8",
           "linecolor": "#EBF0F8",
           "ticks": "",
           "title": {
            "standoff": 15
           },
           "zerolinecolor": "#EBF0F8",
           "zerolinewidth": 2
          }
         }
        },
        "title": {
         "font": {
          "color": "Black",
          "size": 22
         },
         "text": "<b>Hierarchical Clustering",
         "x": 0.5,
         "xanchor": "center",
         "yanchor": "top"
        },
        "width": 1000,
        "xaxis": {
         "mirror": "allticks",
         "rangemode": "tozero",
         "showgrid": false,
         "showline": true,
         "showticklabels": true,
         "ticks": "outside",
         "type": "linear",
         "zeroline": false
        },
        "yaxis": {
         "mirror": "allticks",
         "range": [
          -5930,
          0
         ],
         "rangemode": "tozero",
         "showgrid": false,
         "showline": true,
         "showticklabels": true,
         "tickmode": "array",
         "ticks": "outside",
         "ticktext": [
          "288_dimanche_13h15_20h30",
          "432_dimanche_jt_mars",
          "324_fvrier_jt_26",
          "401_samedi_jt_12",
          "369_samedi_jt_avril",
          "325_mercredi_jt_mars",
          "365_mercredi_avril_jt",
          "379_vendredi_jt_avril",
          "453_vendredi_jt_mars",
          "313_lundi_jt_mars",
          "316_lundi_avril_jt",
          "472_mardi_jt_avril",
          "307_mardi_jt_mars",
          "382_jeudi_jt_avril",
          "266_jeudi_jt_31",
          "260_aramburu_suspect_assass...",
          "384_rugbyman_aramburu_feder...",
          "543_federico_aramburu_martin",
          "265_rugby_aramburu_argentin",
          "349_port_masque_obligatoire",
          "518_port_masque_obligatoire",
          "374_vaccinal_14_masque",
          "230_sanitaire_protocole_crise",
          "167_restriction_sanitaire_l...",
          "567_symptme_rinfection_frqu...",
          "27_vaccin_dose_vaccination",
          "26_covid_19_pidmie",
          "82_contamination_hospitalis...",
          "157_cas_24_hpital",
          "38_shanghai_confinement_chine",
          "189_chine_chinois_buon",
          "196_tension_colonna_corse",
          "344_nationaliste_nationalis...",
          "256_manifestation_colonna_y...",
          "56_yvan_colonna_corse",
          "438_assassinat_yvan_colonna",
          "18_prison_sursis_condamner",
          "437_signaler_particuliremen...",
          "479_participation_taux_12h",
          "572_taux_fed_ir",
          "455_taux_crdit_immobilier",
          "262_crdit_immobilier_credit",
          "519_inflation_attentisme_au...",
          "21_inflation_smic_taux",
          "492_smic_augmentation_autom...",
          "444_augmenter_augmentation_...",
          "336_prix_aluminium_envoler",
          "202_prix_flambe_flamber",
          "7_carburant_prix_litre",
          "237_dclaration_impt_revenu",
          "399_dclaration_revenu_ligne",
          "193_renault_activit_suspendre",
          "412_renault_mgane_scinder",
          "22_festival_angoulme_canne",
          "480_festival_canne_film",
          "474_grippe_pidmie_propager",
          "340_aviaire_grippe_volaille",
          "68_smith_will_gifle",
          "129_oscar_coda_blier",
          "386_prince_philip_windsor",
          "477_ii_elizabeth_reine",
          "556_surveillance_vigie_pnit...",
          "459_camra_surveillance_blink",
          "430_potter_harry_radcliffe",
          "555_secret_alessandri_ferra...",
          "571_haine_torrent_rigault",
          "357_rsistance_rsister_rsiste",
          "60_pernaut_pierre_tf1",
          "528_montauban_merah_hommage",
          "452_antismitisme_antisionis...",
          "420_mmoire_algrie_apaiser",
          "327_honneur_lgion_coste",
          "153_csar_illusion_crmonie",
          "515_hlne_cixou_nastia",
          "116_manquer_robert_caune",
          "314_critique_bref_livre",
          "402_morozov_collection_tabl...",
          "23_muse_art_exposition",
          "37_histoire_raconter_fiasco",
          "200_amour_amoureux_passion",
          "546_gaston_lagaffe_franquin",
          "292_ham_west_ol",
          "431_grammy_awards_jon",
          "289_concert_rolling_stone",
          "40_musique_jazz_classique",
          "222_album_soundgarden_sortir",
          "274_bouquet_michel_comdien",
          "355_perrin_jacques_acteur",
          "299_chanteur_arno_belge",
          "494_sheeran_ed_plagiat",
          "563_foo_batteur_hawkins",
          "469_boycott_artiste_davydova",
          "14_cinma_film_salle",
          "332_batman_pattinson_the",
          "213_willis_bruce_aphasie",
          "565_champ_mezzo_discours",
          "338_opra_cosi_blnd",
          "389_ballet_chtelet_city",
          "89_troupe_avance_russe",
          "356_donbass_offensive_batai...",
          "482_envoy_figaro_rcit",
          "263_htel_avis_expert",
          "502_cizeron_papadaki_gabrie...",
          "487_montpellier_sage_patinage",
          "524_foot_club_amateur",
          "501_physique_physiquement_w...",
          "232_mental_pdopsychiatre_ps...",
          "219_handicap_allocation_adu...",
          "394_alzheimer_maladie_parki...",
          "465_endomtriose_silencieux_...",
          "592_mutation_gnome_dfectueux",
          "225_biodiversit_bio_micropl...",
          "162_animal_zoo_animalist",
          "329_pesticide_lgume_pistache",
          "253_cancer_poumon_traitement",
          "579_ditorial_auditeur_vitem...",
          "421_socit_aro_quarrissage",
          "400_entrepreneur_entreprene...",
          "293_charger_charge_prise",
          "254_pension_pensionnat_divo...",
          "530_chat_joann_sfar",
          "520_caisse_ticket_association",
          "471_huile_tournesol_pnurie",
          "513_restaurateur_restaurer_...",
          "359_franchise_1kubator_mature",
          "275_rgion_priode_portugal",
          "251_tendance_immobilier_con...",
          "552_marketing_job_immoral",
          "559_cher_htro_tagre",
          "509_astuce_kondo_optimiser",
          "179_dentiste_mutilation_dent",
          "508_folie_olien_mditerrane",
          "529_fossile_nergie_dpendance",
          "481_nfl_brady_football",
          "142_cryptomonnaie_bitcoin_c...",
          "273_supporter_sampaoli_om",
          "364_monaco_euroligue_olympi...",
          "550_bureau_argot_branding",
          "305_textile_recyclage_fibre",
          "104_aroport_air_franc",
          "553_boeing_132_crash",
          "503_cocktail_molotov_dnipro",
          "443_barbecue_allumer_intoxi...",
          "231_drone_tb2_kamikaze",
          "229_robot_aspirateur_irobot",
          "279_jardin_cacher_cache",
          "541_environnement_environne...",
          "277_yacht_oligarque_ciotat",
          "223_tunisie_tunisien_saed",
          "393_ramadan_jener_tariq",
          "531_ymen_trve_belligrant",
          "418_motogp_quartararo_fabio",
          "527_saison_youcef_atal",
          "507_eriksen_cardiaque_danois",
          "391_handball_bulleux_mikkel",
          "184_provence_alpes_haut",
          "582_humour_coquette_trio",
          "290_depp_amber_heard",
          "510_berry_diffamation_richard",
          "383_vatican_unesco_curie",
          "461_barrire_corail_blanchis...",
          "467_magnitude_sisme_japon",
          "456_dangereux_danger_liaison",
          "523_fracture_ngligence_maurin",
          "548_publireportage_cadeau_w...",
          "558_euthanasie_guay_sdation",
          "408_christiane_taubira_taur...",
          "333_diplomate_expulsion_exp...",
          "348_marathon_boston_gelmiser",
          "395_spectacle_visionnaire_b...",
          "484_yves_drian_veyrier",
          "463_fake_vrai_humili",
          "439_artificiel_intelligence...",
          "315_motion_vif_pablo",
          "429_pakistan_imran_khan",
          "561_immersion_immersif_jocond",
          "373_terrain_wiim_constructi...",
          "187_tatillon_cvenol_brin",
          "147_maison_vendre_entraide",
          "351_dmocratie_dmocratique_r...",
          "589_libral_fascisme_librali...",
          "496_libert_expression_symbole",
          "133_instagram_facebook_bloc...",
          "337_radio_radar_fixeur",
          "42_podcast_express_explique",
          "182_disneyland_disney_floride",
          "100_netflix_abonn_to",
          "335_fusion_m6_altice",
          "462_voice_vocal_the",
          "576_mtal_nickel_metal",
          "535_manga_anime_piece",
          "368_closet_fayard_sophie",
          "73_fil_britney_spears",
          "241_monde_gurand_highlineur",
          "569_capitalisme_wok_moralis...",
          "330_culture_culturel_tradit...",
          "525_adapter_ux_merveilleuse...",
          "407_sngal_faso_burkina",
          "148_racisme_raciste_discrim...",
          "282_rnovation_nergtique_dibdo",
          "308_africain_kenya_wevelgem",
          "505_logistique_msc_armateur",
          "297_inondation_philippine_a...",
          "451_population_rapace_soudan",
          "537_airbnb_location_tempora...",
          "557_ferry_compagnie_corsica",
          "485_statue_olonne_vierge",
          "159_sahara_sable_nuage",
          "105_restaurant_cuisine_caf",
          "224_michelin_guide_toile",
          "276_gastronomie_gastronomiq...",
          "440_listeria_fromage_listri...",
          "488_poisson_zfarm_aquaponiqu",
          "298_transport_gratuit_mtrop...",
          "195_train_sncf_billet",
          "110_accident_bus_gypte",
          "233_route_feuille_rhum",
          "64_tourisme_touriste_vacance",
          "318_voyage_destination_jord...",
          "183_maritime_alpe_scheress",
          "417_organiser_organise_matr...",
          "544_coin_boui_coincer",
          "211_petit_poucet_vache",
          "190_orban_viktor_hongrie",
          "319_extinction_rebellion_rb...",
          "29_agriculture_salon_vache",
          "285_strasbourg_rayon_vert",
          "90_dame_cathdrale_sarcophage",
          "363_orthodoxe_glise_incendie",
          "426_hpatite_inconnu_dtecter",
          "54_coli_pizza_buitoni",
          "210_parent_parental_crche",
          "545_maddie_mccann_suspect",
          "499_volley_slectionneur_nar...",
          "217_rhne_bouche_mridional",
          "169_cannabis_cocane_addiction",
          "136_pollution_circulation_d...",
          "123_loire_loiret_atlantique",
          "155_marne_val_seine",
          "570_implantation_implanter_...",
          "491_autisme_autiste_tmoin",
          "172_adolescent_14_forain",
          "258_cycliste_nord_cassel",
          "577_mtorite_mtorologique_pa...",
          "435_lycen_lyce_parcoursup",
          "303_maths_mathmatique_tronc",
          "239_ducation_education_duca...",
          "428_paty_samuel_assassinat",
          "405_zepeda_narumi_kurosaki",
          "390_avocat_diable_plaignante",
          "267_dfense_corbire_alexis",
          "121_ehpad_orpea_scandale",
          "466_cash_investigation_mcdo...",
          "551_industriel_industrie_as...",
          "301_french_tech_industrie",
          "284_amp_co_tech",
          "234_eurovision_alvan_reprse...",
          "302_breton_ahez_thierry",
          "149_migrant_manche_secourir",
          "343_rwanda_asile_demandeur",
          "208_johnson_boris_partygat",
          "252_gnocide_blessant_consta...",
          "99_mali_mourer_mercenaire",
          "413_dubois_olivier_otage",
          "323_equipe_clauss_nkunku",
          "245_ivoire_cte_ivoir",
          "411_deliveroo_dissimuler_ub...",
          "468_plateforme_deliveroo_pl...",
          "235_printemps_bourge_festiv...",
          "586_piqre_bote_nuit",
          "533_piscine_aubervillier_en...",
          "137_2024_calendrier_fri",
          "188_basket_nba_2024",
          "372_chocolat_pques_chocolat...",
          "109_kinder_ferrero_salmonelle",
          "409_dsert_mdical_mdecin",
          "83_mdecin_mdicament_mdical",
          "554_contraception_menstruel...",
          "591_allongement_ivg_dlai",
          "422_sorbonne_occupation_uni...",
          "534_science_po_mosquiri",
          "286_islamophobie_islamisme_...",
          "575_ple_pole_tuil",
          "257_transformer_ple_savane",
          "377_store_dark_seller",
          "478_crack_villette_ratp",
          "538_ferme_fermer_adista",
          "367_mosque_pessac_gironde",
          "176_cole_metaverse_ecole",
          "107_afghanistan_taliban_afg...",
          "495_explosion_moskver_endom...",
          "49_isral_jrusalem_palestinien",
          "436_terroriste_terrorisme_h...",
          "118_new_mtro_york",
          "511_dtention_provisoire_pla...",
          "97_cohen_jrmie_jrmy",
          "271_tramway_bus_ratp",
          "180_tlphone_tlcommunication...",
          "270_jubillar_delphine_cdric",
          "132_ferrari_f1_verstappen",
          "236_saoudite_arabie_arabe",
          "486_monument_historique_ora...",
          "580_dylan_baarle_roubaix",
          "433_podium_teun_madoua",
          "152_cyclisme_tirreno_adriat...",
          "345_basque_pays_tape",
          "220_maillet_biathlon_quentin",
          "454_fillon_franois_dmissionne",
          "92_denis_seine_saint",
          "320_saint_martin_barthlemy",
          "434_etienne_rouvray_saint",
          "204_bordeaux_clermont_2019",
          "151_stade_racing_cup",
          "175_flop_top_reims",
          "445_toulon_toulous_ollivon",
          "385_ronaldo_cristiano_liver...",
          "542_rsum_liga_portugais",
          "140_manchester_suivez_bayern",
          "366_mercato_journal_haaland",
          "280_abramovitch_roman_chelsea",
          "397_rome_roman_latin",
          "160_sport_sportif_valeur",
          "226_comptition_bannir_athlte",
          "517_wimbledon_joueur_biloru...",
          "532_wells_indian_monfil",
          "120_tennis_garros_roland",
          "504_carlo_monte_stefanos",
          "141_fashion_week_dfil",
          "249_end_week_pques",
          "111_temprature_temps_mto",
          "483_chelsea_lille_pulisic",
          "67_lille_arfer_gourvennec",
          "585_ptrole_puiser_dollar",
          "560_panique_financier_ptrole",
          "500_1973_ptrolier_choc",
          "590_point_situation_mi",
          "381_indice_fonctionnaire_dgel",
          "404_pollen_allergie_bouleau",
          "278_alerte_alarme_scheresse",
          "96_orange_vigilance_verglas",
          "53_cyberattaque_internet_cy...",
          "427_toucher_thomson_robotis...",
          "317_revalorisation_salari_i...",
          "199_gel_arboriculteur_froid",
          "127_lectricit_consommation_...",
          "130_coup_coupable_coupure",
          "170_record_cac_duplantis",
          "584_patron_salaire_profitab...",
          "375_rmunration_stellantis_t...",
          "106_fraude_fiscal_corruption",
          "238_fiscalit_fiscal_avantage",
          "398_assurance_vi_clause",
          "549_fort_prcise_ninon",
          "573_extradition_assange_jul...",
          "146_tat_unis_uni",
          "192_suprme_ketanji_jackson",
          "166_noir_blanc_trou",
          "578_branagh_kenneth_belfast",
          "419_opinion_sentiment_civil...",
          "115_social_rseau_individual...",
          "352_prochain_blockchain_cha...",
          "145_rlection_saluer_emmanuel",
          "244_rsa_conditionner_alloca...",
          "255_dcrypter_dcryptage_dcry...",
          "460_augusta_woods_tiger",
          "566_joe_biden_jinping",
          "261_tltravail_tlphrique_tlc...",
          "206_tv_tlvision_rtro",
          "326_audiovisuel_redevance_s...",
          "79_financier_finance_financer",
          "311_swift_bancaire_systme",
          "387_banque_postal_instantan",
          "248_gopolitique_graphique_l...",
          "342_march_marcher_climat",
          "334_passoire_passer_passeport",
          "506_alsace_poids_lourd",
          "446_taxe_taxer_foncier",
          "281_carbone_empreinte_oxfam",
          "522_carte_carton_vital",
          "45_twitter_musk_elon",
          "388_milliard_milliardaire_m...",
          "178_accord_evian_60",
          "322_iran_iranien_irano",
          "103_tchernobyl_centrale_rad...",
          "80_nuclaire_racteur_iode",
          "52_missile_hypersonique_core",
          "450_tirer_tire_voleur",
          "102_paralympique_bauchet_ar...",
          "75_ski_alpin_slalom",
          "493_station_spatial_interna...",
          "101_espace_tlescope_space",
          "77_mission_co2_mthane",
          "416_giec_rapport_climat",
          "85_climatique_rchauffement_...",
          "540_recharge_borne_mercede",
          "396_lectrique_honda_combi",
          "497_automobile_volkswagen_c...",
          "163_vente_vent_nft",
          "296_finlande_finlandais_ede...",
          "448_adhsion_rapide_otan",
          "370_gorgie_moldavie_intgrer",
          "514_union_europen_migratoire",
          "63_europen_europe_numrique",
          "295_ghosn_justice_carlos",
          "76_justice_tribunal_saisir",
          "91_mckinsey_affaire_pnf",
          "88_cabinet_conseil_mckinsey",
          "516_switch_nintendo_oled",
          "475_ps5_stock_playstation",
          "583_pc_gamer_cdiscount",
          "526_profiter_rduction_cdisc...",
          "476_huawei_gt_smartphone",
          "360_galaxy_samsung_s22",
          "354_redmi_xiaomi_red",
          "339_iphone_apple_ipad",
          "243_airpod_apple_ipad",
          "216_amazon_syndicat_cration",
          "442_prime_amazon_video",
          "57_lyon_lyonnais_arrondisse...",
          "214_bonsoir_lyon_jt",
          "300_invit_bonsoir_03",
          "321_homme_jour_yaroshuk",
          "65_homme_interpeller_salanque",
          "247_suicide_privilgier_coll...",
          "98_police_gendarmerie_munic...",
          "415_municipal_abattre_couteau",
          "414_automobiliste_sevran_po...",
          "48_mort_foule_pont",
          "521_montaigne_collaborateur...",
          "185_souponner_soupon_fictif",
          "441_acquitter_36_orfvre",
          "78_accuser_accus_sexuel",
          "62_violence_violent_conjugal",
          "250_polytechnique_sexuel_vi...",
          "490_vincer_placer_sexuel",
          "197_elimas_moral_nathalie",
          "574_albright_madeleine_secr...",
          "17_psg_real_mbapper",
          "331_psg_ligue_champion",
          "46_ligue_europa_confrenc",
          "470_coupe_frappart_finale",
          "215_qatar_coupe_monde",
          "94_coupe_tirage_monde",
          "350_barrage_portugal_coupe",
          "449_ecosse_cosser_murrayfield",
          "392_galle_xv_pays",
          "25_nation_tournoi_xv",
          "242_rugby_xv_cosser",
          "328_massacre_boutcher_boutcha",
          "304_massacre_boutcher_boutcha",
          "264_crime_accuser_boutcher",
          "341_crime_thiopie_enquter",
          "218_crime_human_watch",
          "564_humanit_contestation_cr...",
          "423_humanit_doyen_118",
          "134_zelensky_volodymyr_prsi...",
          "72_volodymyr_zelensky_congrs",
          "177_chef_diplomatie_fedorov",
          "59_chef_orchestre_top",
          "268_militaire_dpense_rensei...",
          "161_militaire_clausewitz_th...",
          "536_militaire_fantasme_surv...",
          "309_moscou_pkin_moscovite",
          "380_moscou_cesser_lokomotiv",
          "108_vacuation_marioupol_civil",
          "581_frappe_kharkiv_svrement",
          "186_mykolav_bombardement_bo...",
          "6_kiev_couvrir_kyiv",
          "473_ambassade_ambassadeur_k...",
          "117_lviv_ouest_109",
          "568_ville_portuaire_kherson",
          "84_ville_centre_capitale",
          "376_image_photo_photojourna...",
          "50_photo_image_photographe",
          "198_diffuser_bataclan_image",
          "66_abdeslam_salah_novembre",
          "562_abrini_mohamed_novembre",
          "41_journaliste_journal_bata...",
          "51_journaliste_sputnik_mdia",
          "69_invasion_situation_dbut",
          "406_invasion_31m_libert",
          "212_valrie_pcress_baba",
          "362_valrie_pcress_znith",
          "512_programme_prsentation_v...",
          "489_programme_tenue_monologue",
          "424_programme_indiffrenc_in...",
          "425_officiel_lection_avril",
          "291_campagne_dbomber_kessler",
          "227_impact_campagne_percute",
          "171_meeting_marseille_prvoir",
          "139_marseille_surfing_calan...",
          "191_face_menace_introduire",
          "93_face_sociologique_fourquet",
          "31_hidalgo_anne_socialiste",
          "164_prsident_hollande_ondim...",
          "81_politique_socialiste_ido...",
          "15_cologie_cologique_conomi...",
          "2_vido_video_guerr",
          "209_falloir_relire_fouetter",
          "156_faire_espre_coproprit",
          "20_paix_emploi_ressource",
          "113_enfant_couteau_discothque",
          "36_femme_fminin_sexisme",
          "228_fministe_fminisme_messe",
          "371_yannick_jadot_chasseur",
          "272_rousseau_sandrine_jadot",
          "588_pimpant_massenet_collab...",
          "353_immigration_tabou_reloc...",
          "346_militant_antifa_qg",
          "221_extrme_droite_droit",
          "447_krivine_alain_figure",
          "194_gauche_lefebvre_rmi",
          "150_lgislative_lfi_janez",
          "410_rugy_ministre_lire",
          "240_marchal_marion_ric",
          "71_eric_zemmour_ric",
          "347_assassin_scander_malent...",
          "44_retraite_rforme_65",
          "174_ge_65_retraite",
          "246_rsilience_plan_caste",
          "287_rsilience_conomique_plan",
          "154_franais_focalise_2022",
          "128_lettre_franais_candidat...",
          "33_franais_ukraine_rfugi",
          "12_franais_langue_balcon",
          "119_entreprise_franais_russie",
          "95_autonomie_darmanin_corse",
          "283_500_darmanin_000",
          "165_accueil_rfugi_france",
          "32_rfugi_ukrainien_accueil",
          "138_million_milliard_fuir",
          "30_euro_million_milliard",
          "122_fdj_jackpot_euromillion",
          "126_thtre_rond_shakespeare",
          "458_thtre_bombarder_marioupol",
          "39_marioupol_pdiatrique_assig",
          "43_marioupol_assig_martyre",
          "539_vacuer_marioupol_22m",
          "457_vacuer_immeuble_australie",
          "135_humanitaire_couloir_vac...",
          "294_humanitaire_couloir_con...",
          "158_bulletin_mto_19h55",
          "378_12h55_bulletin_mto",
          "361_18h_20h_franceinfo",
          "205_mars_marquant_vnement",
          "403_vnement_mars_inform",
          "168_journe_mars_retenir",
          "87_retenir_journe_avril",
          "306_coronavirus_bilan_mars",
          "207_coronavirus_bilan_avril",
          "144_payer_pays_paysage",
          "19_pays_financier_sanction",
          "47_pays_fuir_quitter",
          "24_ukraine_don_soutien",
          "5_ukraine_guerre_rfugi",
          "1_ukrain_guerre_algrie",
          "4_gaz_russie_ptrole",
          "9_russe_ukraine_russie",
          "11_ukrain_russie_russe",
          "86_russie_svr_gru",
          "13_poutine_vladimir_ukraine",
          "0_poutine_vladimir_biden",
          "131_emmanuel_macron_redfinir",
          "8_emmanuel_macron_quinquennat",
          "35_emmanuel_macron_2022",
          "3_2022_prsidentiel_valrie",
          "28_candidat_candidature_pro...",
          "112_candidat_prsidentielle_...",
          "464_duel_2017_brexit",
          "310_2017_sondage_pen",
          "58_pen_dbat_macron",
          "269_marine_cart_emmanuel",
          "114_marine_pen_emmanuel",
          "61_marine_pen_guadeloupe",
          "16_marine_pen_dtournement",
          "312_marine_gagner_bayrou",
          "143_mlenchon_sondage_presta...",
          "587_amnistier_luc_mussington",
          "201_luc_mlenchon_jean",
          "181_luc_mlenchon_second",
          "498_second_coude_tour",
          "547_second_flicite_reprsenter",
          "173_second_marine_tour",
          "55_second_tour_largement",
          "10_tour_second_dbat",
          "203_tour_lection_vote",
          "34_lection_lectoral_election",
          "70_lectoral_vote_election",
          "124_lection_lectoral_vote",
          "358_voter_appeler_emmanuel",
          "125_voter_rebsamen_appeler",
          "74_voter_vote_aller",
          "259_vote_utile_mlenchon"
         ],
         "tickvals": [
          -5,
          -15,
          -25,
          -35,
          -45,
          -55,
          -65,
          -75,
          -85,
          -95,
          -105,
          -115,
          -125,
          -135,
          -145,
          -155,
          -165,
          -175,
          -185,
          -195,
          -205,
          -215,
          -225,
          -235,
          -245,
          -255,
          -265,
          -275,
          -285,
          -295,
          -305,
          -315,
          -325,
          -335,
          -345,
          -355,
          -365,
          -375,
          -385,
          -395,
          -405,
          -415,
          -425,
          -435,
          -445,
          -455,
          -465,
          -475,
          -485,
          -495,
          -505,
          -515,
          -525,
          -535,
          -545,
          -555,
          -565,
          -575,
          -585,
          -595,
          -605,
          -615,
          -625,
          -635,
          -645,
          -655,
          -665,
          -675,
          -685,
          -695,
          -705,
          -715,
          -725,
          -735,
          -745,
          -755,
          -765,
          -775,
          -785,
          -795,
          -805,
          -815,
          -825,
          -835,
          -845,
          -855,
          -865,
          -875,
          -885,
          -895,
          -905,
          -915,
          -925,
          -935,
          -945,
          -955,
          -965,
          -975,
          -985,
          -995,
          -1005,
          -1015,
          -1025,
          -1035,
          -1045,
          -1055,
          -1065,
          -1075,
          -1085,
          -1095,
          -1105,
          -1115,
          -1125,
          -1135,
          -1145,
          -1155,
          -1165,
          -1175,
          -1185,
          -1195,
          -1205,
          -1215,
          -1225,
          -1235,
          -1245,
          -1255,
          -1265,
          -1275,
          -1285,
          -1295,
          -1305,
          -1315,
          -1325,
          -1335,
          -1345,
          -1355,
          -1365,
          -1375,
          -1385,
          -1395,
          -1405,
          -1415,
          -1425,
          -1435,
          -1445,
          -1455,
          -1465,
          -1475,
          -1485,
          -1495,
          -1505,
          -1515,
          -1525,
          -1535,
          -1545,
          -1555,
          -1565,
          -1575,
          -1585,
          -1595,
          -1605,
          -1615,
          -1625,
          -1635,
          -1645,
          -1655,
          -1665,
          -1675,
          -1685,
          -1695,
          -1705,
          -1715,
          -1725,
          -1735,
          -1745,
          -1755,
          -1765,
          -1775,
          -1785,
          -1795,
          -1805,
          -1815,
          -1825,
          -1835,
          -1845,
          -1855,
          -1865,
          -1875,
          -1885,
          -1895,
          -1905,
          -1915,
          -1925,
          -1935,
          -1945,
          -1955,
          -1965,
          -1975,
          -1985,
          -1995,
          -2005,
          -2015,
          -2025,
          -2035,
          -2045,
          -2055,
          -2065,
          -2075,
          -2085,
          -2095,
          -2105,
          -2115,
          -2125,
          -2135,
          -2145,
          -2155,
          -2165,
          -2175,
          -2185,
          -2195,
          -2205,
          -2215,
          -2225,
          -2235,
          -2245,
          -2255,
          -2265,
          -2275,
          -2285,
          -2295,
          -2305,
          -2315,
          -2325,
          -2335,
          -2345,
          -2355,
          -2365,
          -2375,
          -2385,
          -2395,
          -2405,
          -2415,
          -2425,
          -2435,
          -2445,
          -2455,
          -2465,
          -2475,
          -2485,
          -2495,
          -2505,
          -2515,
          -2525,
          -2535,
          -2545,
          -2555,
          -2565,
          -2575,
          -2585,
          -2595,
          -2605,
          -2615,
          -2625,
          -2635,
          -2645,
          -2655,
          -2665,
          -2675,
          -2685,
          -2695,
          -2705,
          -2715,
          -2725,
          -2735,
          -2745,
          -2755,
          -2765,
          -2775,
          -2785,
          -2795,
          -2805,
          -2815,
          -2825,
          -2835,
          -2845,
          -2855,
          -2865,
          -2875,
          -2885,
          -2895,
          -2905,
          -2915,
          -2925,
          -2935,
          -2945,
          -2955,
          -2965,
          -2975,
          -2985,
          -2995,
          -3005,
          -3015,
          -3025,
          -3035,
          -3045,
          -3055,
          -3065,
          -3075,
          -3085,
          -3095,
          -3105,
          -3115,
          -3125,
          -3135,
          -3145,
          -3155,
          -3165,
          -3175,
          -3185,
          -3195,
          -3205,
          -3215,
          -3225,
          -3235,
          -3245,
          -3255,
          -3265,
          -3275,
          -3285,
          -3295,
          -3305,
          -3315,
          -3325,
          -3335,
          -3345,
          -3355,
          -3365,
          -3375,
          -3385,
          -3395,
          -3405,
          -3415,
          -3425,
          -3435,
          -3445,
          -3455,
          -3465,
          -3475,
          -3485,
          -3495,
          -3505,
          -3515,
          -3525,
          -3535,
          -3545,
          -3555,
          -3565,
          -3575,
          -3585,
          -3595,
          -3605,
          -3615,
          -3625,
          -3635,
          -3645,
          -3655,
          -3665,
          -3675,
          -3685,
          -3695,
          -3705,
          -3715,
          -3725,
          -3735,
          -3745,
          -3755,
          -3765,
          -3775,
          -3785,
          -3795,
          -3805,
          -3815,
          -3825,
          -3835,
          -3845,
          -3855,
          -3865,
          -3875,
          -3885,
          -3895,
          -3905,
          -3915,
          -3925,
          -3935,
          -3945,
          -3955,
          -3965,
          -3975,
          -3985,
          -3995,
          -4005,
          -4015,
          -4025,
          -4035,
          -4045,
          -4055,
          -4065,
          -4075,
          -4085,
          -4095,
          -4105,
          -4115,
          -4125,
          -4135,
          -4145,
          -4155,
          -4165,
          -4175,
          -4185,
          -4195,
          -4205,
          -4215,
          -4225,
          -4235,
          -4245,
          -4255,
          -4265,
          -4275,
          -4285,
          -4295,
          -4305,
          -4315,
          -4325,
          -4335,
          -4345,
          -4355,
          -4365,
          -4375,
          -4385,
          -4395,
          -4405,
          -4415,
          -4425,
          -4435,
          -4445,
          -4455,
          -4465,
          -4475,
          -4485,
          -4495,
          -4505,
          -4515,
          -4525,
          -4535,
          -4545,
          -4555,
          -4565,
          -4575,
          -4585,
          -4595,
          -4605,
          -4615,
          -4625,
          -4635,
          -4645,
          -4655,
          -4665,
          -4675,
          -4685,
          -4695,
          -4705,
          -4715,
          -4725,
          -4735,
          -4745,
          -4755,
          -4765,
          -4775,
          -4785,
          -4795,
          -4805,
          -4815,
          -4825,
          -4835,
          -4845,
          -4855,
          -4865,
          -4875,
          -4885,
          -4895,
          -4905,
          -4915,
          -4925,
          -4935,
          -4945,
          -4955,
          -4965,
          -4975,
          -4985,
          -4995,
          -5005,
          -5015,
          -5025,
          -5035,
          -5045,
          -5055,
          -5065,
          -5075,
          -5085,
          -5095,
          -5105,
          -5115,
          -5125,
          -5135,
          -5145,
          -5155,
          -5165,
          -5175,
          -5185,
          -5195,
          -5205,
          -5215,
          -5225,
          -5235,
          -5245,
          -5255,
          -5265,
          -5275,
          -5285,
          -5295,
          -5305,
          -5315,
          -5325,
          -5335,
          -5345,
          -5355,
          -5365,
          -5375,
          -5385,
          -5395,
          -5405,
          -5415,
          -5425,
          -5435,
          -5445,
          -5455,
          -5465,
          -5475,
          -5485,
          -5495,
          -5505,
          -5515,
          -5525,
          -5535,
          -5545,
          -5555,
          -5565,
          -5575,
          -5585,
          -5595,
          -5605,
          -5615,
          -5625,
          -5635,
          -5645,
          -5655,
          -5665,
          -5675,
          -5685,
          -5695,
          -5705,
          -5715,
          -5725,
          -5735,
          -5745,
          -5755,
          -5765,
          -5775,
          -5785,
          -5795,
          -5805,
          -5815,
          -5825,
          -5835,
          -5845,
          -5855,
          -5865,
          -5875,
          -5885,
          -5895,
          -5905,
          -5915,
          -5925
         ],
         "type": "linear",
         "zeroline": false
        }
       }
      }
     },
     "metadata": {},
     "output_type": "display_data"
    }
   ],
   "source": [
    "topic_model.visualize_hierarchy(hierarchical_topics=hierarchical_topics)"
   ]
  },
  {
   "cell_type": "code",
   "execution_count": null,
   "metadata": {},
   "outputs": [],
   "source": [
    "#topics_to_merge = [[1, 2],\n",
    "#                   [3, 4]]\n",
    "#topic_model.merge_topics(doc, topics_to_merge)"
   ]
  },
  {
   "cell_type": "code",
   "execution_count": 29,
   "metadata": {},
   "outputs": [
    {
     "name": "stdout",
     "output_type": "stream",
     "text": [
      ".\n",
      "├─jt_13h_20h_8h_avril\n",
      "│    ├─dimanche_jt_13h15_20h30_20h\n",
      "│    │    ├─■──dimanche_13h15_20h30_jt_avril ── Topic: 288\n",
      "│    │    └─■──dimanche_jt_mars_20h_20 ── Topic: 432\n",
      "│    └─jt_13h_8h_20h_mars\n",
      "│         ├─jt_13h_20h_8h_avril\n",
      "│         │    ├─jt_samedi_mardi_13h_8h\n",
      "│         │    │    ├─samedi_jt_fvrier_13h_20h\n",
      "│         │    │    │    ├─■──fvrier_jt_26_20h_25 ── Topic: 324\n",
      "│         │    │    │    └─samedi_jt_12_13h_avril\n",
      "│         │    │    │         ├─■──samedi_jt_12_mars_26 ── Topic: 401\n",
      "│         │    │    │         └─■──samedi_jt_avril_16_23 ── Topic: 369\n",
      "│         │    │    └─jt_mardi_vendredi_8h_13h\n",
      "│         │    │         ├─vendredi_jt_8h_avril_13h\n",
      "│         │    │         │    ├─■──vendredi_jt_mars_17h_18 ── Topic: 453\n",
      "│         │    │         │    └─■──vendredi_jt_avril_8h_22 ── Topic: 379\n",
      "│         │    │         └─mardi_jt_8h_mars_13h\n",
      "│         │    │              ├─■──mardi_jt_avril_12_8h ── Topic: 472\n",
      "│         │    │              └─■──mardi_jt_mars_29_8h ── Topic: 307\n",
      "│         │    └─jt_lundi_mercredi_20h_avril\n",
      "│         │         ├─lundi_jt_20h_avril_13h\n",
      "│         │         │    ├─■──lundi_avril_jt_20h_18h ── Topic: 316\n",
      "│         │         │    └─■──lundi_jt_mars_21_28 ── Topic: 313\n",
      "│         │         └─mercredi_jt_20_8h_avril\n",
      "│         │              ├─■──mercredi_jt_mars_info_8h ── Topic: 325\n",
      "│         │              └─■──mercredi_avril_jt_20_17h ── Topic: 365\n",
      "│         └─jeudi_jt_31_mars_8h\n",
      "│              ├─■──jeudi_jt_31_mars_8h ── Topic: 266\n",
      "│              └─■──jeudi_jt_avril_21_14 ── Topic: 382\n",
      "└─poutine_guerre_ukrain_franais_ukraine\n",
      "     ├─prix_covid_mort_carburant_inflation\n",
      "     │    ├─aramburu_federico_rugbyman_martin_assassinat\n",
      "     │    │    ├─aramburu_federico_martin_rugbyman_assassinat\n",
      "     │    │    │    ├─aramburu_federico_rugbyman_assassinat_martin\n",
      "     │    │    │    │    ├─■──aramburu_suspect_assassinat_federico_lok ── Topic: 260\n",
      "     │    │    │    │    └─■──rugbyman_aramburu_federico_martin_assassinat ── Topic: 384\n",
      "     │    │    │    └─■──federico_aramburu_martin_meurtre_arambur ── Topic: 543\n",
      "     │    │    └─■──rugby_aramburu_argentin_rugbyman_federico ── Topic: 265\n",
      "     │    └─prix_covid_carburant_mort_inflation\n",
      "     │         ├─prix_covid_carburant_mort_inflation\n",
      "     │         │    ├─covid_19_vaccin_sanitaire_contamination\n",
      "     │         │    │    ├─port_masque_vaccinal_14_obligatoire\n",
      "     │         │    │    │    ├─port_masque_obligatoire_assouplir_recommandation\n",
      "     │         │    │    │    │    ├─■──port_masque_obligatoire_prmaturer_ffp2 ── Topic: 349\n",
      "     │         │    │    │    │    └─■──port_masque_obligatoire_jaug_covid ── Topic: 518\n",
      "     │         │    │    │    └─■──vaccinal_14_masque_pass_suspension ── Topic: 374\n",
      "     │         │    │    └─covid_vaccin_19_sanitaire_contamination\n",
      "     │         │    │         ├─sanitaire_restriction_protocole_leve_covid\n",
      "     │         │    │         │    ├─■──sanitaire_protocole_crise_blachier_contrle ── Topic: 230\n",
      "     │         │    │         │    └─■──restriction_sanitaire_leve_protocole_covid ── Topic: 167\n",
      "     │         │    │         └─covid_vaccin_19_contamination_dose\n",
      "     │         │    │              ├─covid_19_contamination_cas_nombre\n",
      "     │         │    │              │    ├─■──symptme_rinfection_frquent_lsion_covid ── Topic: 567\n",
      "     │         │    │              │    └─covid_19_contamination_cas_nombre\n",
      "     │         │    │              │         ├─■──covid_19_pidmie_rebond_ba ── Topic: 26\n",
      "     │         │    │              │         └─contamination_hospitalisation_cas_covid_19\n",
      "     │         │    │              │              ├─■──contamination_hospitalisation_nombre_patient_covid ── Topic: 82\n",
      "     │         │    │              │              └─■──cas_24_hpital_heure_19 ── Topic: 157\n",
      "     │         │    │              └─■──vaccin_dose_vaccination_sanofi_covid ── Topic: 27\n",
      "     │         │    └─prix_carburant_inflation_mort_pari\n",
      "     │         │         ├─prison_colonna_yvan_corse_agression\n",
      "     │         │         │    ├─colonna_yvan_corse_tension_nationaliste\n",
      "     │         │         │    │    ├─■──tension_colonna_corse_yvan_stress ── Topic: 196\n",
      "     │         │         │    │    └─yvan_colonna_corse_nationaliste_manifestation\n",
      "     │         │         │    │         ├─yvan_colonna_corse_manifestation_cargse\n",
      "     │         │         │    │         │    ├─■──assassinat_yvan_colonna_prfet_erignac ── Topic: 438\n",
      "     │         │         │    │         │    └─yvan_colonna_corse_manifestation_cargse\n",
      "     │         │         │    │         │         ├─■──yvan_colonna_corse_cargse_funraille ── Topic: 56\n",
      "     │         │         │    │         │         └─■──manifestation_colonna_yvan_soutien_bastia ── Topic: 256\n",
      "     │         │         │    │         └─■──nationaliste_nationalisme_corse_colonna_yvan ── Topic: 344\n",
      "     │         │         │    └─prison_sursis_condamner_signaler_particulirement\n",
      "     │         │         │         ├─■──prison_sursis_condamner_requrir_dtenu ── Topic: 18\n",
      "     │         │         │         └─■──signaler_particulirement_dtenir_statut_lever ── Topic: 437\n",
      "     │         │         └─prix_carburant_inflation_pari_festival\n",
      "     │         │              ├─prix_carburant_inflation_pari_festival\n",
      "     │         │              │    ├─prix_carburant_inflation_pari_festival\n",
      "     │         │              │    │    ├─chef_zelensky_volodymyr_militaire_gnocide\n",
      "     │         │              │    │    │    ├─chef_orchestre_diplomatie_valery_gergiev\n",
      "     │         │              │    │    │    │    ├─■──chef_orchestre_top_uvre_portrait ── Topic: 59\n",
      "     │         │              │    │    │    │    └─■──chef_diplomatie_fedorov_renseignement_clown ── Topic: 177\n",
      "     │         │              │    │    │    └─zelensky_volodymyr_militaire_gnocide_dpense\n",
      "     │         │              │    │    │         ├─zelensky_volodymyr_gnocide_prsident_blessant\n",
      "     │         │              │    │    │         │    ├─zelensky_volodymyr_prsident_serviteur_congrs\n",
      "     │         │              │    │    │         │    │    ├─■──zelensky_volodymyr_prsident_profondeur_volodymir ── Topic: 134\n",
      "     │         │              │    │    │         │    │    └─■──volodymyr_zelensky_congrs_serviteur_adresser ── Topic: 72\n",
      "     │         │              │    │    │         │    └─■──gnocide_blessant_constater_rohingya_zelensky ── Topic: 252\n",
      "     │         │              │    │    │         └─militaire_dpense_base_renseignement_opration\n",
      "     │         │              │    │    │              ├─■──militaire_fantasme_survivalist_grandissant_puissance ── Topic: 536\n",
      "     │         │              │    │    │              └─militaire_dpense_base_renseignement_thoricien\n",
      "     │         │              │    │    │                   ├─■──militaire_clausewitz_thoricien_carl_intervention ── Topic: 161\n",
      "     │         │              │    │    │                   └─■──militaire_dpense_renseignement_vidaud_quipement ── Topic: 268\n",
      "     │         │              │    │    └─prix_carburant_inflation_pari_festival\n",
      "     │         │              │    │         ├─prix_carburant_inflation_pari_festival\n",
      "     │         │              │    │         │    ├─carburant_inflation_prix_euro_hausse\n",
      "     │         │              │    │         │    │    ├─carburant_inflation_prix_hausse_litre\n",
      "     │         │              │    │         │    │    │    ├─rsilience_plan_conomique_gouvernement_caste\n",
      "     │         │              │    │         │    │    │    │    ├─■──rsilience_conomique_plan_famine_conomie ── Topic: 287\n",
      "     │         │              │    │         │    │    │    │    └─■──rsilience_plan_caste_gouvernement_pcheur ── Topic: 246\n",
      "     │         │              │    │         │    │    │    └─inflation_carburant_prix_hausse_litre\n",
      "     │         │              │    │         │    │    │         ├─carburant_prix_litre_centime_hausse\n",
      "     │         │              │    │         │    │    │         │    ├─carburant_prix_litre_centime_hausse\n",
      "     │         │              │    │         │    │    │         │    │    ├─carburant_prix_litre_centime_hausse\n",
      "     │         │              │    │         │    │    │         │    │    │    ├─■──carburant_prix_litre_centime_hausse ── Topic: 7\n",
      "     │         │              │    │         │    │    │         │    │    │    └─■──prix_flambe_flamber_hausse_essence ── Topic: 202\n",
      "     │         │              │    │         │    │    │         │    │    └─■──prix_aluminium_envoler_alimentaire_bl ── Topic: 336\n",
      "     │         │              │    │         │    │    │         │    └─augmentation_augmenter_smic_automatiquement_mai\n",
      "     │         │              │    │         │    │    │         │         ├─■──augmenter_augmentation_prix_envoler_billet ── Topic: 444\n",
      "     │         │              │    │         │    │    │         │         └─■──smic_augmentation_automatiquement_mai_augmenter ── Topic: 492\n",
      "     │         │              │    │         │    │    │         └─inflation_smic_inflationniste_taux_croissance\n",
      "     │         │              │    │         │    │    │              ├─■──inflation_smic_taux_inflationniste_indemnit ── Topic: 21\n",
      "     │         │              │    │         │    │    │              └─■──inflation_attentisme_augmente_fouet_concrtise ── Topic: 519\n",
      "     │         │              │    │         │    │    └─euro_million_fdj_milliard_jackpot\n",
      "     │         │              │    │         │    │         ├─euro_milliard_million_000_dollar\n",
      "     │         │              │    │         │    │         │    ├─■──milliard_milliardaire_magot_bollor_edf ── Topic: 388\n",
      "     │         │              │    │         │    │         │    └─euro_million_milliard_000_dollar\n",
      "     │         │              │    │         │    │         │         ├─■──million_milliard_fuir_dollar_euro ── Topic: 138\n",
      "     │         │              │    │         │    │         │         └─■──euro_million_milliard_000_dollar ── Topic: 30\n",
      "     │         │              │    │         │    │         └─■──fdj_jackpot_euromillion_loto_gagner ── Topic: 122\n",
      "     │         │              │    │         │    └─festival_pari_hidalgo_psg_podcast\n",
      "     │         │              │    │         │         ├─psg_ligue_coupe_real_madrid\n",
      "     │         │              │    │         │         │    ├─xv_nation_tournoi_galle_rugby\n",
      "     │         │              │    │         │         │    │    ├─■──rugby_xv_cosser_chelem_tournoi ── Topic: 242\n",
      "     │         │              │    │         │         │    │    └─nation_galle_xv_tournoi_angleterre\n",
      "     │         │              │    │         │         │    │         ├─nation_galle_xv_tournoi_angleterre\n",
      "     │         │              │    │         │         │    │         │    ├─■──galle_xv_pays_chelem_bleu ── Topic: 392\n",
      "     │         │              │    │         │         │    │         │    └─■──nation_tournoi_xv_angleterre_france ── Topic: 25\n",
      "     │         │              │    │         │         │    │         └─■──ecosse_cosser_murrayfield_moefana_bleu ── Topic: 449\n",
      "     │         │              │    │         │         │    └─psg_ligue_coupe_real_madrid\n",
      "     │         │              │    │         │         │         ├─coupe_qatar_monde_mondial_barrage\n",
      "     │         │              │    │         │         │         │    ├─wimbledon_exclusion_bilorusse_bannir_exclure\n",
      "     │         │              │    │         │         │         │    │    ├─■──wimbledon_joueur_bilorusse_atp_exclusion ── Topic: 517\n",
      "     │         │              │    │         │         │         │    │    └─■──comptition_bannir_athlte_exclure_exclusion ── Topic: 226\n",
      "     │         │              │    │         │         │         │    └─coupe_qatar_monde_barrage_tirage\n",
      "     │         │              │    │         │         │         │         ├─coupe_qatar_monde_barrage_tirage\n",
      "     │         │              │    │         │         │         │         │    ├─■──barrage_portugal_coupe_turquie_cameroun ── Topic: 350\n",
      "     │         │              │    │         │         │         │         │    └─coupe_qatar_monde_tirage_mondial\n",
      "     │         │              │    │         │         │         │         │         ├─■──coupe_tirage_monde_sort_mondial ── Topic: 94\n",
      "     │         │              │    │         │         │         │         │         └─■──qatar_coupe_monde_lgbt_qatarie ── Topic: 215\n",
      "     │         │              │    │         │         │         │         └─■──coupe_frappart_finale_arbitrer_nante ── Topic: 470\n",
      "     │         │              │    │         │         │         └─psg_ligue_real_madrid_mbapper\n",
      "     │         │              │    │         │         │              ├─ligue_europa_suivez_finale_manchester\n",
      "     │         │              │    │         │         │              │    ├─■──manchester_suivez_bayern_atltico_city ── Topic: 140\n",
      "     │         │              │    │         │         │              │    └─■──ligue_europa_confrenc_finale_om ── Topic: 46\n",
      "     │         │              │    │         │         │              └─psg_real_mbapper_mbapp_madrid\n",
      "     │         │              │    │         │         │                   ├─■──psg_ligue_champion_maillot_titre ── Topic: 331\n",
      "     │         │              │    │         │         │                   └─■──psg_real_mbapper_mbapp_madrid ── Topic: 17\n",
      "     │         │              │    │         │         └─festival_hidalgo_podcast_pari_procs\n",
      "     │         │              │    │         │              ├─festival_hidalgo_podcast_pari_procs\n",
      "     │         │              │    │         │              │    ├─festival_angoulme_canne_doucet_bd\n",
      "     │         │              │    │         │              │    │    ├─■──festival_canne_film_dardenn_officiel ── Topic: 480\n",
      "     │         │              │    │         │              │    │    └─■──festival_angoulme_canne_doucet_bd ── Topic: 22\n",
      "     │         │              │    │         │              │    └─hidalgo_podcast_procs_pari_agriculture\n",
      "     │         │              │    │         │              │         ├─hidalgo_podcast_agriculture_cinma_homme\n",
      "     │         │              │    │         │              │         │    ├─hidalgo_podcast_agriculture_cinma_homme\n",
      "     │         │              │    │         │              │         │    │    ├─amazon_iphone_grippe_apple_airpod\n",
      "     │         │              │    │         │              │         │    │    │    ├─grippe_aviaire_pidmie_volaille_propager\n",
      "     │         │              │    │         │              │         │    │    │    │    ├─■──grippe_pidmie_propager_presque_hexagone ── Topic: 474\n",
      "     │         │              │    │         │              │         │    │    │    │    └─■──aviaire_grippe_volaille_canard_foyer ── Topic: 340\n",
      "     │         │              │    │         │              │         │    │    │    └─amazon_iphone_apple_airpod_galaxy\n",
      "     │         │              │    │         │              │         │    │    │         ├─iphone_airpod_apple_galaxy_samsung\n",
      "     │         │              │    │         │              │         │    │    │         │    ├─ps5_switch_stock_nintendo_console\n",
      "     │         │              │    │         │              │         │    │    │         │    │    ├─■──switch_nintendo_oled_console_clbre ── Topic: 516\n",
      "     │         │              │    │         │              │         │    │    │         │    │    └─ps5_stock_cdiscount_pc_console\n",
      "     │         │              │    │         │              │         │    │    │         │    │         ├─■──ps5_stock_playstation_fnac_console ── Topic: 475\n",
      "     │         │              │    │         │              │         │    │    │         │    │         └─■──pc_gamer_cdiscount_portable_brand ── Topic: 583\n",
      "     │         │              │    │         │              │         │    │    │         │    └─iphone_airpod_apple_galaxy_samsung\n",
      "     │         │              │    │         │              │         │    │    │         │         ├─galaxy_samsung_redmi_xiaomi_red\n",
      "     │         │              │    │         │              │         │    │    │         │         │    ├─galaxy_samsung_s22_s21_huawei\n",
      "     │         │              │    │         │              │         │    │    │         │         │    │    ├─■──profiter_rduction_cdiscount_aspirateur_offert ── Topic: 526\n",
      "     │         │              │    │         │              │         │    │    │         │         │    │    └─galaxy_samsung_s22_s21_huawei\n",
      "     │         │              │    │         │              │         │    │    │         │         │    │         ├─■──huawei_gt_smartphone_connecte_montre ── Topic: 476\n",
      "     │         │              │    │         │              │         │    │    │         │         │    │         └─■──galaxy_samsung_s22_s21_offre ── Topic: 360\n",
      "     │         │              │    │         │              │         │    │    │         │         │    └─■──redmi_xiaomi_red_note_sfr ── Topic: 354\n",
      "     │         │              │    │         │              │         │    │    │         │         └─airpod_apple_iphone_ipad_pro\n",
      "     │         │              │    │         │              │         │    │    │         │              ├─■──iphone_apple_ipad_smartphone_profiter ── Topic: 339\n",
      "     │         │              │    │         │              │         │    │    │         │              └─■──airpod_apple_ipad_couteur_pro ── Topic: 243\n",
      "     │         │              │    │         │              │         │    │    │         └─amazon_prime_syndicat_cration_mgm\n",
      "     │         │              │    │         │              │         │    │    │              ├─■──amazon_syndicat_cration_mgm_amazonie ── Topic: 216\n",
      "     │         │              │    │         │              │         │    │    │              └─■──prime_amazon_video_plateforme_catalogue ── Topic: 442\n",
      "     │         │              │    │         │              │         │    │    └─hidalgo_podcast_agriculture_cinma_homme\n",
      "     │         │              │    │         │              │         │    │         ├─hidalgo_podcast_agriculture_cinma_twitter\n",
      "     │         │              │    │         │              │         │    │         │    ├─photo_image_photographe_photographie_photographier\n",
      "     │         │              │    │         │              │         │    │         │    │    ├─■──image_photo_photojournaliste_yaghobzadeh_audinet ── Topic: 376\n",
      "     │         │              │    │         │              │         │    │         │    │    └─■──photo_image_photographe_photographie_photographier ── Topic: 50\n",
      "     │         │              │    │         │              │         │    │         │    └─hidalgo_podcast_agriculture_cinma_twitter\n",
      "     │         │              │    │         │              │         │    │         │         ├─podcast_agriculture_cinma_twitter_oscar\n",
      "     │         │              │    │         │              │         │    │         │         │    ├─week_fashion_kinder_ferrero_chocolat\n",
      "     │         │              │    │         │              │         │    │         │         │    │    ├─kinder_ferrero_chocolat_salmonelle_2024\n",
      "     │         │              │    │         │              │         │    │         │         │    │    │    ├─kinder_ferrero_chocolat_salmonelle_salmonellose\n",
      "     │         │              │    │         │              │         │    │         │         │    │    │    │    ├─■──kinder_ferrero_salmonelle_salmonellose_chocolat ── Topic: 109\n",
      "     │         │              │    │         │              │         │    │         │         │    │    │    │    └─■──chocolat_pques_chocolatier_haricot_cookie ── Topic: 372\n",
      "     │         │              │    │         │              │         │    │         │         │    │    │    └─2024_basket_piscine_nba_jo\n",
      "     │         │              │    │         │              │         │    │         │         │    │    │         ├─2024_basket_nba_jo_laker\n",
      "     │         │              │    │         │              │         │    │         │         │    │    │         │    ├─■──basket_nba_2024_laker_gobert ── Topic: 188\n",
      "     │         │              │    │         │              │         │    │         │         │    │    │         │    └─■──2024_calendrier_fri_date_2023 ── Topic: 137\n",
      "     │         │              │    │         │              │         │    │         │         │    │    │         └─■──piscine_aubervillier_entranement_nageur_2024 ── Topic: 533\n",
      "     │         │              │    │         │              │         │    │         │         │    │    └─week_fashion_temprature_end_temps\n",
      "     │         │              │    │         │              │         │    │         │         │    │         ├─temprature_end_week_temps_mto\n",
      "     │         │              │    │         │              │         │    │         │         │    │         │    ├─■──temprature_temps_mto_antarctique_end ── Topic: 111\n",
      "     │         │              │    │         │              │         │    │         │         │    │         │    └─■──end_week_pques_disque_soleil ── Topic: 249\n",
      "     │         │              │    │         │              │         │    │         │         │    │         └─■──fashion_week_dfil_balenciaga_hiver ── Topic: 141\n",
      "     │         │              │    │         │              │         │    │         │         │    └─podcast_agriculture_cinma_twitter_oscar\n",
      "     │         │              │    │         │              │         │    │         │         │         ├─podcast_agriculture_cinma_twitter_oscar\n",
      "     │         │              │    │         │              │         │    │         │         │         │    ├─oscar_cinma_smith_will_film\n",
      "     │         │              │    │         │              │         │    │         │         │         │    │    ├─oscar_cinma_smith_will_film\n",
      "     │         │              │    │         │              │         │    │         │         │         │    │    │    ├─elizabeth_ii_prince_philip_reine\n",
      "     │         │              │    │         │              │         │    │         │         │         │    │    │    │    ├─■──prince_philip_windsor_hommage_harry ── Topic: 386\n",
      "     │         │              │    │         │              │         │    │         │         │         │    │    │    │    └─■──ii_elizabeth_reine_commonwealth_dlivre ── Topic: 477\n",
      "     │         │              │    │         │              │         │    │         │         │         │    │    │    └─oscar_cinma_smith_will_film\n",
      "     │         │              │    │         │              │         │    │         │         │         │    │    │         ├─cinma_film_willis_bruce_batman\n",
      "     │         │              │    │         │              │         │    │         │         │         │    │    │         │    ├─■──willis_bruce_aphasie_carrire_acteur ── Topic: 213\n",
      "     │         │              │    │         │              │         │    │         │         │         │    │    │         │    └─cinma_film_batman_salle_voir\n",
      "     │         │              │    │         │              │         │    │         │         │         │    │    │         │         ├─■──batman_pattinson_the_knight_robert ── Topic: 332\n",
      "     │         │              │    │         │              │         │    │         │         │         │    │    │         │         └─■──cinma_film_salle_voir_clef ── Topic: 14\n",
      "     │         │              │    │         │              │         │    │         │         │         │    │    │         └─oscar_smith_will_gifle_chris\n",
      "     │         │              │    │         │              │         │    │         │         │         │    │    │              ├─■──oscar_coda_blier_remake_crmonie ── Topic: 129\n",
      "     │         │              │    │         │              │         │    │         │         │         │    │    │              └─■──smith_will_gifle_oscar_chris ── Topic: 68\n",
      "     │         │              │    │         │              │         │    │         │         │         │    │    └─tennis_flop_top_saoudite_arabie\n",
      "     │         │              │    │         │              │         │    │         │         │         │    │         ├─tennis_flop_top_bordeaux_stade\n",
      "     │         │              │    │         │              │         │    │         │         │         │    │         │    ├─flop_top_bordeaux_stade_racing\n",
      "     │         │              │    │         │              │         │    │         │         │         │    │         │    │    ├─flop_top_stade_racing_cup\n",
      "     │         │              │    │         │              │         │    │         │         │         │    │         │    │    │    ├─■──toulon_toulous_ollivon_serin_biarritz ── Topic: 445\n",
      "     │         │              │    │         │              │         │    │         │         │         │    │         │    │    │    └─flop_top_stade_racing_cup\n",
      "     │         │              │    │         │              │         │    │         │         │         │    │         │    │    │         ├─■──flop_top_reims_asm_gibson ── Topic: 175\n",
      "     │         │              │    │         │              │         │    │         │         │         │    │         │    │    │         └─■──stade_racing_cup_92_rochelle ── Topic: 151\n",
      "     │         │              │    │         │              │         │    │         │         │         │    │         │    │    └─■──bordeaux_clermont_2019_vin_millsime ── Topic: 204\n",
      "     │         │              │    │         │              │         │    │         │         │         │    │         │    └─tennis_garros_roland_djokovic_wells\n",
      "     │         │              │    │         │              │         │    │         │         │         │    │         │         ├─■──carlo_monte_stefanos_davidovich_tsitsipa ── Topic: 504\n",
      "     │         │              │    │         │              │         │    │         │         │         │    │         │         └─tennis_garros_roland_djokovic_wells\n",
      "     │         │              │    │         │              │         │    │         │         │         │    │         │              ├─■──tennis_garros_roland_djokovic_tsonga ── Topic: 120\n",
      "     │         │              │    │         │              │         │    │         │         │         │    │         │              └─■──wells_indian_monfil_nadal_medvedev ── Topic: 532\n",
      "     │         │              │    │         │              │         │    │         │         │         │    │         └─arabie_saoudite_ferrari_verstappen_formule\n",
      "     │         │              │    │         │              │         │    │         │         │         │    │              ├─■──saoudite_arabie_arabe_khashoggi_emirat ── Topic: 236\n",
      "     │         │              │    │         │              │         │    │         │         │         │    │              └─■──ferrari_f1_verstappen_formule_max ── Topic: 132\n",
      "     │         │              │    │         │              │         │    │         │         │         │    └─podcast_agriculture_twitter_missile_musique\n",
      "     │         │              │    │         │              │         │    │         │         │         │         ├─twitter_missile_musk_elon_mali\n",
      "     │         │              │    │         │              │         │    │         │         │         │         │    ├─missile_mali_tchernobyl_nuclaire_autonomie\n",
      "     │         │              │    │         │              │         │    │         │         │         │         │    │    ├─autonomie_transformer_mdical_mdecin_dsert\n",
      "     │         │              │    │         │              │         │    │         │         │         │         │    │    │    ├─autonomie_darmanin_grald_corse_champ\n",
      "     │         │              │    │         │              │         │    │         │         │         │         │    │    │    │    ├─■──autonomie_darmanin_corse_grald_visite ── Topic: 95\n",
      "     │         │              │    │         │              │         │    │         │         │         │         │    │    │    │    └─■──champ_mezzo_discours_mars_vanetty ── Topic: 565\n",
      "     │         │              │    │         │              │         │    │         │         │         │         │    │    │    └─transformer_mdical_mdecin_dsert_assurance\n",
      "     │         │              │    │         │              │         │    │         │         │         │         │    │    │         ├─transformer_mdical_dsert_mdecin_assurance\n",
      "     │         │              │    │         │              │         │    │         │         │         │         │    │    │         │    ├─transformer_assurance_ple_vi_fort\n",
      "     │         │              │    │         │              │         │    │         │         │         │         │    │    │         │    │    ├─assurance_vi_fort_clause_bnficiaire\n",
      "     │         │              │    │         │              │         │    │         │         │         │         │    │    │         │    │    │    ├─■──fort_prcise_ninon_wintzer_bavure ── Topic: 549\n",
      "     │         │              │    │         │              │         │    │         │         │         │         │    │    │         │    │    │    └─■──assurance_vi_clause_bnficiaire_scpi ── Topic: 398\n",
      "     │         │              │    │         │              │         │    │         │         │         │         │    │    │         │    │    └─transformer_ple_savane_emploi_polestar\n",
      "     │         │              │    │         │              │         │    │         │         │         │         │    │    │         │    │         ├─■──ple_pole_tuil_soudure_verstappen ── Topic: 575\n",
      "     │         │              │    │         │              │         │    │         │         │         │         │    │    │         │    │         └─■──transformer_ple_savane_parking_transformation ── Topic: 257\n",
      "     │         │              │    │         │              │         │    │         │         │         │         │    │    │         │    └─mdical_dsert_mdecin_mdicament_patient\n",
      "     │         │              │    │         │              │         │    │         │         │         │         │    │    │         │         ├─■──mdecin_mdicament_mdical_patient_mdecine ── Topic: 83\n",
      "     │         │              │    │         │              │         │    │         │         │         │         │    │    │         │         └─■──dsert_mdical_mdecin_tlmdecine_gnraliste ── Topic: 409\n",
      "     │         │              │    │         │              │         │    │         │         │         │         │    │    │         └─ivg_allongement_dlai_contraception_pilule\n",
      "     │         │              │    │         │              │         │    │         │         │         │         │    │    │              ├─■──contraception_menstruel_pilule_sexagnaire_masculin ── Topic: 554\n",
      "     │         │              │    │         │              │         │    │         │         │         │         │    │    │              └─■──allongement_ivg_dlai_adopte_avortement ── Topic: 591\n",
      "     │         │              │    │         │              │         │    │         │         │         │         │    │    └─missile_mali_tchernobyl_nuclaire_accord\n",
      "     │         │              │    │         │              │         │    │         │         │         │         │    │         ├─missile_mali_tchernobyl_nuclaire_accord\n",
      "     │         │              │    │         │              │         │    │         │         │         │         │    │         │    ├─extradition_tltravail_assange_tat_uni\n",
      "     │         │              │    │         │              │         │    │         │         │         │         │    │         │    │    ├─extradition_assange_tat_uni_etat\n",
      "     │         │              │    │         │              │         │    │         │         │         │         │    │         │    │    │    ├─■──extradition_assange_julian_autorise_britannique ── Topic: 573\n",
      "     │         │              │    │         │              │         │    │         │         │         │         │    │         │    │    │    └─■──tat_unis_uni_etat_cuba ── Topic: 146\n",
      "     │         │              │    │         │              │         │    │         │         │         │         │    │         │    │    └─tltravail_joe_tlphrique_tlconsultation_biden\n",
      "     │         │              │    │         │              │         │    │         │         │         │         │    │         │    │         ├─■──joe_biden_jinping_xi_abominable ── Topic: 566\n",
      "     │         │              │    │         │              │         │    │         │         │         │         │    │         │    │         └─■──tltravail_tlphrique_tlconsultation_tlphonique_prennisation ── Topic: 261\n",
      "     │         │              │    │         │              │         │    │         │         │         │         │    │         │    └─missile_mali_tchernobyl_nuclaire_accord\n",
      "     │         │              │    │         │              │         │    │         │         │         │         │    │         │         ├─missile_tchernobyl_nuclaire_accord_swift\n",
      "     │         │              │    │         │              │         │    │         │         │         │         │    │         │         │    ├─missile_tchernobyl_nuclaire_hypersonique_centrale\n",
      "     │         │              │    │         │              │         │    │         │         │         │         │    │         │         │    │    ├─missile_hypersonique_core_intercontinental_tirer\n",
      "     │         │              │    │         │              │         │    │         │         │         │         │    │         │         │    │    │    ├─■──tirer_tire_voleur_foncer_carcan ── Topic: 450\n",
      "     │         │              │    │         │              │         │    │         │         │         │         │    │         │         │    │    │    └─■──missile_hypersonique_core_intercontinental_sarmat ── Topic: 52\n",
      "     │         │              │    │         │              │         │    │         │         │         │         │    │         │         │    │    └─tchernobyl_nuclaire_centrale_radioactivit_aieer\n",
      "     │         │              │    │         │              │         │    │         │         │         │         │    │         │         │    │         ├─■──nuclaire_racteur_iode_corrosion_core ── Topic: 80\n",
      "     │         │              │    │         │              │         │    │         │         │         │         │    │         │         │    │         └─■──tchernobyl_centrale_radioactivit_aieer_nuclaire ── Topic: 103\n",
      "     │         │              │    │         │              │         │    │         │         │         │         │    │         │         │    └─accord_swift_evian_iran_diplomate\n",
      "     │         │              │    │         │              │         │    │         │         │         │         │    │         │         │         ├─accord_evian_iran_60_iranien\n",
      "     │         │              │    │         │              │         │    │         │         │         │         │    │         │         │         │    ├─■──accord_evian_60_algrie_harki ── Topic: 178\n",
      "     │         │              │    │         │              │         │    │         │         │         │         │    │         │         │         │    └─■──iran_iranien_irano_accord_nuclaire ── Topic: 322\n",
      "     │         │              │    │         │              │         │    │         │         │         │         │    │         │         │         └─swift_diplomate_banque_expulser_expulsion\n",
      "     │         │              │    │         │              │         │    │         │         │         │         │    │         │         │              ├─swift_banque_bancaire_postal_systme\n",
      "     │         │              │    │         │              │         │    │         │         │         │         │    │         │         │              │    ├─■──swift_bancaire_systme_exclure_dconnexion ── Topic: 311\n",
      "     │         │              │    │         │              │         │    │         │         │         │         │    │         │         │              │    └─■──banque_postal_instantan_virement_pel ── Topic: 387\n",
      "     │         │              │    │         │              │         │    │         │         │         │         │    │         │         │              └─■──diplomate_expulsion_expulser_expulse_espion ── Topic: 333\n",
      "     │         │              │    │         │              │         │    │         │         │         │         │    │         │         └─mali_dubois_mourer_mercenaire_olivier\n",
      "     │         │              │    │         │              │         │    │         │         │         │         │    │         │              ├─■──mali_mourer_mercenaire_rfi_wagner ── Topic: 99\n",
      "     │         │              │    │         │              │         │    │         │         │         │         │    │         │              └─■──dubois_olivier_otage_mali_journaliste ── Topic: 413\n",
      "     │         │              │    │         │              │         │    │         │         │         │         │    │         └─donbass_inondation_envoy_toucher_philippine\n",
      "     │         │              │    │         │              │         │    │         │         │         │         │    │              ├─inondation_toucher_philippine_afrique_sud\n",
      "     │         │              │    │         │              │         │    │         │         │         │         │    │              │    ├─■──inondation_philippine_afrique_sud_megi ── Topic: 297\n",
      "     │         │              │    │         │              │         │    │         │         │         │         │    │              │    └─toucher_frappe_kharkiv_teo_thomson\n",
      "     │         │              │    │         │              │         │    │         │         │         │         │    │              │         ├─■──frappe_kharkiv_svrement_mort_srie ── Topic: 581\n",
      "     │         │              │    │         │              │         │    │         │         │         │         │    │              │         └─■──toucher_thomson_robotisation_ultramarine_teo ── Topic: 427\n",
      "     │         │              │    │         │              │         │    │         │         │         │         │    │              └─donbass_envoy_figaro_rcit_spcial\n",
      "     │         │              │    │         │              │         │    │         │         │         │         │    │                   ├─■──donbass_offensive_bataille_dbuter_referme ── Topic: 356\n",
      "     │         │              │    │         │              │         │    │         │         │         │         │    │                   └─■──envoy_figaro_rcit_spcial_lymany ── Topic: 482\n",
      "     │         │              │    │         │              │         │    │         │         │         │         │    └─twitter_musk_elon_climatique_rlection\n",
      "     │         │              │    │         │              │         │    │         │         │         │         │         ├─climatique_rchauffement_mission_giec_rousseau\n",
      "     │         │              │    │         │              │         │    │         │         │         │         │         │    ├─climatique_rchauffement_mission_giec_co2\n",
      "     │         │              │    │         │              │         │    │         │         │         │         │         │    │    ├─climatique_rchauffement_giec_rapport_changement\n",
      "     │         │              │    │         │              │         │    │         │         │         │         │         │    │    │    ├─■──climatique_rchauffement_giec_changement_limiter ── Topic: 85\n",
      "     │         │              │    │         │              │         │    │         │         │         │         │         │    │    │    └─■──giec_rapport_climat_solution_agit ── Topic: 416\n",
      "     │         │              │    │         │              │         │    │         │         │         │         │         │    │    └─■──mission_co2_mthane_serre_faible ── Topic: 77\n",
      "     │         │              │    │         │              │         │    │         │         │         │         │         │    └─rousseau_sandrine_yannick_jadot_exclure\n",
      "     │         │              │    │         │              │         │    │         │         │         │         │         │         ├─■──yannick_jadot_chasseur_inviter_congrs ── Topic: 371\n",
      "     │         │              │    │         │              │         │    │         │         │         │         │         │         └─■──rousseau_sandrine_jadot_yannick_exclure ── Topic: 272\n",
      "     │         │              │    │         │              │         │    │         │         │         │         │         └─twitter_musk_elon_rlection_fraude\n",
      "     │         │              │    │         │              │         │    │         │         │         │         │              ├─femme_fministe_fminin_cole_sexisme\n",
      "     │         │              │    │         │              │         │    │         │         │         │         │              │    ├─droite_extrme_militant_antifa_libert\n",
      "     │         │              │    │         │              │         │    │         │         │         │         │              │    │    ├─extrme_militant_droite_antifa_droit\n",
      "     │         │              │    │         │              │         │    │         │         │         │         │              │    │    │    ├─■──militant_antifa_qg_agresser_intrusion ── Topic: 346\n",
      "     │         │              │    │         │              │         │    │         │         │         │         │              │    │    │    └─■──extrme_droite_droit_amre_ngation ── Topic: 221\n",
      "     │         │              │    │         │              │         │    │         │         │         │         │              │    │    └─libert_expression_haine_symbole_libertad\n",
      "     │         │              │    │         │              │         │    │         │         │         │         │              │    │         ├─■──libert_expression_symbole_zad_libertad ── Topic: 496\n",
      "     │         │              │    │         │              │         │    │         │         │         │         │              │    │         └─■──haine_torrent_rigault_campagne_crpuscule ── Topic: 571\n",
      "     │         │              │    │         │              │         │    │         │         │         │         │              │    └─femme_fministe_fminin_cole_sexisme\n",
      "     │         │              │    │         │              │         │    │         │         │         │         │              │         ├─cole_rsistance_rsister_metaverse_rsiste\n",
      "     │         │              │    │         │              │         │    │         │         │         │         │              │         │    ├─■──cole_metaverse_ecole_insatisfait_college ── Topic: 176\n",
      "     │         │              │    │         │              │         │    │         │         │         │         │              │         │    └─■──rsistance_rsister_rsiste_olener_interculturel ── Topic: 357\n",
      "     │         │              │    │         │              │         │    │         │         │         │         │              │         └─femme_fministe_fminin_sexisme_fminisme\n",
      "     │         │              │    │         │              │         │    │         │         │         │         │              │              ├─■──femme_fminin_sexisme_galit_egalit ── Topic: 36\n",
      "     │         │              │    │         │              │         │    │         │         │         │         │              │              └─■──fministe_fminisme_messe_inclusive_diocse ── Topic: 228\n",
      "     │         │              │    │         │              │         │    │         │         │         │         │              └─twitter_musk_elon_rlection_fraude\n",
      "     │         │              │    │         │              │         │    │         │         │         │         │                   ├─rlection_fraude_rsa_fiscal_social\n",
      "     │         │              │    │         │              │         │    │         │         │         │         │                   │    ├─rlection_rsa_social_prochain_conditionner\n",
      "     │         │              │    │         │              │         │    │         │         │         │         │                   │    │    ├─rlection_rsa_conditionner_allocataire_contrepartie\n",
      "     │         │              │    │         │              │         │    │         │         │         │         │                   │    │    │    ├─■──rsa_conditionner_allocataire_activit_rforme ── Topic: 244\n",
      "     │         │              │    │         │              │         │    │         │         │         │         │                   │    │    │    └─■──rlection_saluer_emmanuel_enrler_ouf ── Topic: 145\n",
      "     │         │              │    │         │              │         │    │         │         │         │         │                   │    │    └─social_prochain_rseau_quinquennat_blockchain\n",
      "     │         │              │    │         │              │         │    │         │         │         │         │                   │    │         ├─■──prochain_blockchain_chainalysis_quinquennat_denormandie ── Topic: 352\n",
      "     │         │              │    │         │              │         │    │         │         │         │         │                   │    │         └─■──social_rseau_individualisme_truth_colre ── Topic: 115\n",
      "     │         │              │    │         │              │         │    │         │         │         │         │                   │    └─fraude_fiscal_fiscalit_corruption_frauduleux\n",
      "     │         │              │    │         │              │         │    │         │         │         │         │                   │         ├─■──fraude_fiscal_corruption_frauduleux_seillire ── Topic: 106\n",
      "     │         │              │    │         │              │         │    │         │         │         │         │                   │         └─■──fiscalit_fiscal_avantage_impt_arrangement ── Topic: 238\n",
      "     │         │              │    │         │              │         │    │         │         │         │         │                   └─twitter_musk_elon_instagram_facebook\n",
      "     │         │              │    │         │              │         │    │         │         │         │         │                        ├─audiovisuel_redevance_financier_finance_financer\n",
      "     │         │              │    │         │              │         │    │         │         │         │         │                        │    ├─■──audiovisuel_redevance_suppression_public_supprimer ── Topic: 326\n",
      "     │         │              │    │         │              │         │    │         │         │         │         │                        │    └─■──financier_finance_financer_financement_placement ── Topic: 79\n",
      "     │         │              │    │         │              │         │    │         │         │         │         │                        └─twitter_musk_elon_instagram_facebook\n",
      "     │         │              │    │         │              │         │    │         │         │         │         │                             ├─■──twitter_musk_elon_racheter_rachat ── Topic: 45\n",
      "     │         │              │    │         │              │         │    │         │         │         │         │                             └─■──instagram_facebook_blocage_mdia_accs ── Topic: 133\n",
      "     │         │              │    │         │              │         │    │         │         │         │         └─podcast_agriculture_musique_histoire_ski\n",
      "     │         │              │    │         │              │         │    │         │         │         │              ├─fillon_maillet_biathlon_quentin_globe\n",
      "     │         │              │    │         │              │         │    │         │         │         │              │    ├─■──fillon_franois_dmissionne_mandat_russophile ── Topic: 454\n",
      "     │         │              │    │         │              │         │    │         │         │         │              │    └─■──maillet_biathlon_quentin_fillon_globe ── Topic: 220\n",
      "     │         │              │    │         │              │         │    │         │         │         │              └─podcast_agriculture_musique_histoire_ski\n",
      "     │         │              │    │         │              │         │    │         │         │         │                   ├─podcast_agriculture_musique_ski_histoire\n",
      "     │         │              │    │         │              │         │    │         │         │         │                   │    ├─agriculture_salon_orange_lectricit_espace\n",
      "     │         │              │    │         │              │         │    │         │         │         │                   │    │    ├─cyberattaque_internet_tech_vente_amp\n",
      "     │         │              │    │         │              │         │    │         │         │         │                   │    │    │    ├─vente_automobile_lectrique_vent_recharge\n",
      "     │         │              │    │         │              │         │    │         │         │         │                   │    │    │    │    ├─■──recharge_borne_mercede_recharger_prototype ── Topic: 540\n",
      "     │         │              │    │         │              │         │    │         │         │         │                   │    │    │    │    └─vente_automobile_vent_lectrique_honda\n",
      "     │         │              │    │         │              │         │    │         │         │         │                   │    │    │    │         ├─automobile_lectrique_honda_volkswagen_suv\n",
      "     │         │              │    │         │              │         │    │         │         │         │                   │    │    │    │         │    ├─■──lectrique_honda_combi_bmw_hybride ── Topic: 396\n",
      "     │         │              │    │         │              │         │    │         │         │         │                   │    │    │    │         │    └─■──automobile_volkswagen_cruchot_oldsmobile_3008 ── Topic: 497\n",
      "     │         │              │    │         │              │         │    │         │         │         │                   │    │    │    │         └─■──vente_vent_nft_automobile_vhicule ── Topic: 163\n",
      "     │         │              │    │         │              │         │    │         │         │         │                   │    │    │    └─cyberattaque_internet_tech_amp_cyberscurit\n",
      "     │         │              │    │         │              │         │    │         │         │         │                   │    │    │         ├─■──cyberattaque_internet_cyberscurit_cloud_vpn ── Topic: 53\n",
      "     │         │              │    │         │              │         │    │         │         │         │                   │    │    │         └─tech_amp_co_french_partie\n",
      "     │         │              │    │         │              │         │    │         │         │         │                   │    │    │              ├─■──amp_co_tech_partie_03 ── Topic: 284\n",
      "     │         │              │    │         │              │         │    │         │         │         │                   │    │    │              └─■──french_tech_industrie_dispose_stock ── Topic: 301\n",
      "     │         │              │    │         │              │         │    │         │         │         │                   │    │    └─agriculture_salon_orange_lectricit_espace\n",
      "     │         │              │    │         │              │         │    │         │         │         │                   │    │         ├─agriculture_salon_orange_extinction_vigilance\n",
      "     │         │              │    │         │              │         │    │         │         │         │                   │    │         │    ├─agriculture_salon_extinction_textile_rebellion\n",
      "     │         │              │    │         │              │         │    │         │         │         │                   │    │         │    │    ├─textile_huile_tournesol_industriel_industrie\n",
      "     │         │              │    │         │              │         │    │         │         │         │                   │    │         │    │    │    ├─■──huile_tournesol_pnurie_colza_huil ── Topic: 471\n",
      "     │         │              │    │         │              │         │    │         │         │         │                   │    │         │    │    │    └─textile_industriel_industrie_recyclage_fibre\n",
      "     │         │              │    │         │              │         │    │         │         │         │                   │    │         │    │    │         ├─■──industriel_industrie_asystom_maillon_dsi ── Topic: 551\n",
      "     │         │              │    │         │              │         │    │         │         │         │                   │    │         │    │    │         └─■──textile_recyclage_fibre_recycler_filature ── Topic: 305\n",
      "     │         │              │    │         │              │         │    │         │         │         │                   │    │         │    │    └─agriculture_salon_extinction_rebellion_rbellion\n",
      "     │         │              │    │         │              │         │    │         │         │         │                   │    │         │    │         ├─■──agriculture_salon_vache_paysan_visiteur ── Topic: 29\n",
      "     │         │              │    │         │              │         │    │         │         │         │                   │    │         │    │         └─■──extinction_rebellion_rbellion_boulevard_fnsea ── Topic: 319\n",
      "     │         │              │    │         │              │         │    │         │         │         │                   │    │         │    └─orange_vigilance_pollen_dpartement_allergie\n",
      "     │         │              │    │         │              │         │    │         │         │         │                   │    │         │         ├─■──pollen_allergie_bouleau_nez_pollinarium ── Topic: 404\n",
      "     │         │              │    │         │              │         │    │         │         │         │                   │    │         │         └─orange_vigilance_dpartement_verglas_alerte\n",
      "     │         │              │    │         │              │         │    │         │         │         │                   │    │         │              ├─■──alerte_alarme_scheresse_dpartement_observer ── Topic: 278\n",
      "     │         │              │    │         │              │         │    │         │         │         │                   │    │         │              └─■──orange_vigilance_verglas_dpartement_scopelec ── Topic: 96\n",
      "     │         │              │    │         │              │         │    │         │         │         │                   │    │         └─lectricit_espace_froid_gel_rmunration\n",
      "     │         │              │    │         │              │         │    │         │         │         │                   │    │              ├─espace_tlescope_spatial_station_space\n",
      "     │         │              │    │         │              │         │    │         │         │         │                   │    │              │    ├─■──espace_tlescope_space_webb_lune ── Topic: 101\n",
      "     │         │              │    │         │              │         │    │         │         │         │                   │    │              │    └─■──station_spatial_international_fonctionnalit_distant ── Topic: 493\n",
      "     │         │              │    │         │              │         │    │         │         │         │                   │    │              └─lectricit_froid_gel_rmunration_coup\n",
      "     │         │              │    │         │              │         │    │         │         │         │                   │    │                   ├─rmunration_record_cac_duplantis_perche\n",
      "     │         │              │    │         │              │         │    │         │         │         │                   │    │                   │    ├─■──record_cac_duplantis_perche_armand ── Topic: 170\n",
      "     │         │              │    │         │              │         │    │         │         │         │                   │    │                   │    └─rmunration_patron_stellantis_tavare_carlos\n",
      "     │         │              │    │         │              │         │    │         │         │         │                   │    │                   │         ├─■──patron_salaire_profitabilit_valueraient_vince ── Topic: 584\n",
      "     │         │              │    │         │              │         │    │         │         │         │                   │    │                   │         └─■──rmunration_stellantis_tavare_carlos_patron ── Topic: 375\n",
      "     │         │              │    │         │              │         │    │         │         │         │                   │    │                   └─lectricit_gel_froid_coup_vague\n",
      "     │         │              │    │         │              │         │    │         │         │         │                   │    │                        ├─gel_arboriculteur_froid_vague_agriculteur\n",
      "     │         │              │    │         │              │         │    │         │         │         │                   │    │                        │    ├─■──revalorisation_salari_index_fonctionnaire_comit ── Topic: 317\n",
      "     │         │              │    │         │              │         │    │         │         │         │                   │    │                        │    └─■──gel_arboriculteur_froid_vague_agriculteur ── Topic: 199\n",
      "     │         │              │    │         │              │         │    │         │         │         │                   │    │                        └─lectricit_coup_consommation_froid_coupure\n",
      "     │         │              │    │         │              │         │    │         │         │         │                   │    │                             ├─■──lectricit_consommation_rte_modrer_gestionnaire ── Topic: 127\n",
      "     │         │              │    │         │              │         │    │         │         │         │                   │    │                             └─■──coup_coupable_coupure_froid_filet ── Topic: 130\n",
      "     │         │              │    │         │              │         │    │         │         │         │                   │    └─podcast_musique_ski_histoire_troupe\n",
      "     │         │              │    │         │              │         │    │         │         │         │                   │         ├─podcast_musique_ski_histoire_troupe\n",
      "     │         │              │    │         │              │         │    │         │         │         │                   │         │    ├─musique_ski_pernaut_coli_pizza\n",
      "     │         │              │    │         │              │         │    │         │         │         │                   │         │    │    ├─ski_paralympique_alpin_cyclisme_basque\n",
      "     │         │              │    │         │              │         │    │         │         │         │                   │         │    │    │    ├─ski_paralympique_alpin_marathon_sport\n",
      "     │         │              │    │         │              │         │    │         │         │         │                   │         │    │    │    │    ├─ski_paralympique_alpin_bauchet_slalom\n",
      "     │         │              │    │         │              │         │    │         │         │         │                   │         │    │    │    │    │    ├─■──ski_alpin_slalom_globe_station ── Topic: 75\n",
      "     │         │              │    │         │              │         │    │         │         │         │                   │         │    │    │    │    │    └─■──paralympique_bauchet_arthur_mdaille_pkin ── Topic: 102\n",
      "     │         │              │    │         │              │         │    │         │         │         │                   │         │    │    │    │    └─marathon_sport_sportif_deso_boston\n",
      "     │         │              │    │         │              │         │    │         │         │         │                   │         │    │    │    │         ├─■──sport_sportif_valeur_hiver_fertilit ── Topic: 160\n",
      "     │         │              │    │         │              │         │    │         │         │         │                   │         │    │    │    │         └─■──marathon_boston_gelmiser_deso_ethiopien ── Topic: 348\n",
      "     │         │              │    │         │              │         │    │         │         │         │                   │         │    │    │    └─cyclisme_basque_tape_tirreno_adriatico\n",
      "     │         │              │    │         │              │         │    │         │         │         │                   │         │    │    │         ├─podium_dylan_monument_baarle_van\n",
      "     │         │              │    │         │              │         │    │         │         │         │                   │         │    │    │         │    ├─■──monument_historique_oradour_classer_glane ── Topic: 486\n",
      "     │         │              │    │         │              │         │    │         │         │         │                   │         │    │    │         │    └─podium_dylan_baarle_van_roubaix\n",
      "     │         │              │    │         │              │         │    │         │         │         │                   │         │    │    │         │         ├─■──dylan_baarle_roubaix_van_solitaire ── Topic: 580\n",
      "     │         │              │    │         │              │         │    │         │         │         │                   │         │    │    │         │         └─■──podium_teun_madoua_wallon_valentin ── Topic: 433\n",
      "     │         │              │    │         │              │         │    │         │         │         │                   │         │    │    │         └─basque_cyclisme_tape_adriatico_tirreno\n",
      "     │         │              │    │         │              │         │    │         │         │         │                   │         │    │    │              ├─■──cyclisme_tirreno_adriatico_tape_pogacar ── Topic: 152\n",
      "     │         │              │    │         │              │         │    │         │         │         │                   │         │    │    │              └─■──basque_pays_tape_alaphilipp_julian ── Topic: 345\n",
      "     │         │              │    │         │              │         │    │         │         │         │                   │         │    │    └─musique_pernaut_coli_pizza_isral\n",
      "     │         │              │    │         │              │         │    │         │         │         │                   │         │    │         ├─musique_pernaut_coli_pizza_isral\n",
      "     │         │              │    │         │              │         │    │         │         │         │                   │         │    │         │    ├─isral_muse_art_provence_adolescent\n",
      "     │         │              │    │         │              │         │    │         │         │         │                   │         │    │         │    │    ├─isral_adolescent_dame_rhne_cathdrale\n",
      "     │         │              │    │         │              │         │    │         │         │         │                   │         │    │         │    │    │    ├─isral_dame_cathdrale_jrusalem_palestinien\n",
      "     │         │              │    │         │              │         │    │         │         │         │                   │         │    │         │    │    │    │    ├─dame_cathdrale_strasbourg_sarcophage_incendie\n",
      "     │         │              │    │         │              │         │    │         │         │         │                   │         │    │         │    │    │    │    │    ├─■──strasbourg_rayon_vert_cathdrale_ceinture ── Topic: 285\n",
      "     │         │              │    │         │              │         │    │         │         │         │                   │         │    │         │    │    │    │    │    └─■──dame_cathdrale_sarcophage_incendie_chantier ── Topic: 90\n",
      "     │         │              │    │         │              │         │    │         │         │         │                   │         │    │         │    │    │    │    └─isral_jrusalem_palestinien_isralien_opra\n",
      "     │         │              │    │         │              │         │    │         │         │         │                   │         │    │         │    │    │    │         ├─isral_jrusalem_palestinien_isralien_orthodoxe\n",
      "     │         │              │    │         │              │         │    │         │         │         │                   │         │    │         │    │    │    │         │    ├─■──orthodoxe_glise_incendie_ravager_eglise ── Topic: 363\n",
      "     │         │              │    │         │              │         │    │         │         │         │                   │         │    │         │    │    │    │         │    └─■──isral_jrusalem_palestinien_isralien_aviv ── Topic: 49\n",
      "     │         │              │    │         │              │         │    │         │         │         │                   │         │    │         │    │    │    │         └─opra_entrepreneur_coin_petit_entrepreneuriat\n",
      "     │         │              │    │         │              │         │    │         │         │         │                   │         │    │         │    │    │    │              ├─opra_entrepreneur_entrepreneuriat_cosi_blnd\n",
      "     │         │              │    │         │              │         │    │         │         │         │                   │         │    │         │    │    │    │              │    ├─■──opra_cosi_blnd_bastill_tutte ── Topic: 338\n",
      "     │         │              │    │         │              │         │    │         │         │         │                   │         │    │         │    │    │    │              │    └─■──entrepreneur_entrepreneuriat_work_individuel_hamz ── Topic: 400\n",
      "     │         │              │    │         │              │         │    │         │         │         │                   │         │    │         │    │    │    │              └─coin_petit_boui_poucet_vache\n",
      "     │         │              │    │         │              │         │    │         │         │         │                   │         │    │         │    │    │    │                   ├─■──petit_poucet_vache_plaisir_bon ── Topic: 211\n",
      "     │         │              │    │         │              │         │    │         │         │         │                   │         │    │         │    │    │    │                   └─■──coin_boui_coincer_kateb_hron ── Topic: 544\n",
      "     │         │              │    │         │              │         │    │         │         │         │                   │         │    │         │    │    │    └─adolescent_rhne_animal_cannabis_tlphone\n",
      "     │         │              │    │         │              │         │    │         │         │         │                   │         │    │         │    │    │         ├─adolescent_rhne_animal_cannabis_parent\n",
      "     │         │              │    │         │              │         │    │         │         │         │                   │         │    │         │    │    │         │    ├─adolescent_rhne_animal_cannabis_cocane\n",
      "     │         │              │    │         │              │         │    │         │         │         │                   │         │    │         │    │    │         │    │    ├─rhne_animal_cannabis_cocane_bouche\n",
      "     │         │              │    │         │              │         │    │         │         │         │                   │         │    │         │    │    │         │    │    │    ├─■──animal_zoo_animalist_lphant_hologramme ── Topic: 162\n",
      "     │         │              │    │         │              │         │    │         │         │         │                   │         │    │         │    │    │         │    │    │    └─rhne_cannabis_cocane_bouche_addiction\n",
      "     │         │              │    │         │              │         │    │         │         │         │                   │         │    │         │    │    │         │    │    │         ├─■──rhne_bouche_mridional_paintball_osmotique ── Topic: 217\n",
      "     │         │              │    │         │              │         │    │         │         │         │                   │         │    │         │    │    │         │    │    │         └─■──cannabis_cocane_addiction_kilogramme_lgalisation ── Topic: 169\n",
      "     │         │              │    │         │              │         │    │         │         │         │                   │         │    │         │    │    │         │    │    └─adolescent_autisme_autiste_tmoin_14\n",
      "     │         │              │    │         │              │         │    │         │         │         │                   │         │    │         │    │    │         │    │         ├─■──adolescent_14_forain_adolescence_16 ── Topic: 172\n",
      "     │         │              │    │         │              │         │    │         │         │         │                   │         │    │         │    │    │         │    │         └─■──autisme_autiste_tmoin_spcialiser_disparition ── Topic: 491\n",
      "     │         │              │    │         │              │         │    │         │         │         │                   │         │    │         │    │    │         │    └─parent_maddie_parental_crche_paternit\n",
      "     │         │              │    │         │              │         │    │         │         │         │                   │         │    │         │    │    │         │         ├─■──parent_parental_crche_paternit_familial ── Topic: 210\n",
      "     │         │              │    │         │              │         │    │         │         │         │                   │         │    │         │    │    │         │         └─■──maddie_mccann_suspect_examen_affaire ── Topic: 545\n",
      "     │         │              │    │         │              │         │    │         │         │         │                   │         │    │         │    │    │         └─jubillar_tlphone_tlcommunication_delphine_cdric\n",
      "     │         │              │    │         │              │         │    │         │         │         │                   │         │    │         │    │    │              ├─■──jubillar_delphine_cdric_juger_blatter ── Topic: 270\n",
      "     │         │              │    │         │              │         │    │         │         │         │                   │         │    │         │    │    │              └─■──tlphone_tlcommunication_jubillar_volant_telecom ── Topic: 180\n",
      "     │         │              │    │         │              │         │    │         │         │         │                   │         │    │         │    │    └─muse_provence_art_ehpad_handicap\n",
      "     │         │              │    │         │              │         │    │         │         │         │                   │         │    │         │    │         ├─muse_provence_art_handicap_exposition\n",
      "     │         │              │    │         │              │         │    │         │         │         │                   │         │    │         │    │         │    ├─handicap_maths_mathmatique_lyce_allocation\n",
      "     │         │              │    │         │              │         │    │         │         │         │                   │         │    │         │    │         │    │    ├─cycliste_mtorite_nord_cassel_wavrin\n",
      "     │         │              │    │         │              │         │    │         │         │         │                   │         │    │         │    │         │    │    │    ├─■──cycliste_nord_cassel_wavrin_haubourdin ── Topic: 258\n",
      "     │         │              │    │         │              │         │    │         │         │         │                   │         │    │         │    │         │    │    │    └─■──mtorite_mtorologique_patouillet_comte_mtore ── Topic: 577\n",
      "     │         │              │    │         │              │         │    │         │         │         │                   │         │    │         │    │         │    │    └─handicap_maths_mathmatique_lyce_allocation\n",
      "     │         │              │    │         │              │         │    │         │         │         │                   │         │    │         │    │         │    │         ├─maths_mathmatique_lyce_lycen_tronc\n",
      "     │         │              │    │         │              │         │    │         │         │         │                   │         │    │         │    │         │    │         │    ├─■──lycen_lyce_parcoursup_vu_valbonne ── Topic: 435\n",
      "     │         │              │    │         │              │         │    │         │         │         │                   │         │    │         │    │         │    │         │    └─■──maths_mathmatique_tronc_lyce_commun ── Topic: 303\n",
      "     │         │              │    │         │              │         │    │         │         │         │                   │         │    │         │    │         │    │         └─handicap_allocation_mental_adulte_pdopsychiatre\n",
      "     │         │              │    │         │              │         │    │         │         │         │                   │         │    │         │    │         │    │              ├─■──handicap_allocation_adulte_handicaper_bouger ── Topic: 219\n",
      "     │         │              │    │         │              │         │    │         │         │         │                   │         │    │         │    │         │    │              └─■──mental_pdopsychiatre_psychologue_signalement_psychiatrie ── Topic: 232\n",
      "     │         │              │    │         │              │         │    │         │         │         │                   │         │    │         │    │         │    └─muse_provence_art_exposition_alpes\n",
      "     │         │              │    │         │              │         │    │         │         │         │                   │         │    │         │    │         │         ├─adapter_jardin_culture_marketing_bureau\n",
      "     │         │              │    │         │              │         │    │         │         │         │                   │         │    │         │    │         │         │    ├─marketing_bureau_cher_job_immoral\n",
      "     │         │              │    │         │              │         │    │         │         │         │                   │         │    │         │    │         │         │    │    ├─■──bureau_argot_branding_sourcing_ja ── Topic: 550\n",
      "     │         │              │    │         │              │         │    │         │         │         │                   │         │    │         │    │         │         │    │    └─marketing_cher_job_immoral_mle\n",
      "     │         │              │    │         │              │         │    │         │         │         │                   │         │    │         │    │         │         │    │         ├─■──cher_htro_tagre_consomme_convoiter ── Topic: 559\n",
      "     │         │              │    │         │              │         │    │         │         │         │                   │         │    │         │    │         │         │    │         └─■──marketing_job_immoral_lait_fabricant ── Topic: 552\n",
      "     │         │              │    │         │              │         │    │         │         │         │                   │         │    │         │    │         │         │    └─adapter_jardin_culture_environnement_cacher\n",
      "     │         │              │    │         │              │         │    │         │         │         │                   │         │    │         │    │         │         │         ├─jardin_environnement_cacher_cache_environnemental\n",
      "     │         │              │    │         │              │         │    │         │         │         │                   │         │    │         │    │         │         │         │    ├─■──jardin_cacher_cache_achromatique_delacroix ── Topic: 279\n",
      "     │         │              │    │         │              │         │    │         │         │         │                   │         │    │         │    │         │         │         │    └─■──environnement_environnemental_urbanisme_construction_trimouss ── Topic: 541\n",
      "     │         │              │    │         │              │         │    │         │         │         │                   │         │    │         │    │         │         │         └─adapter_culture_culturel_data_tradition\n",
      "     │         │              │    │         │              │         │    │         │         │         │                   │         │    │         │    │         │         │              ├─■──adapter_ux_merveilleusement_handitoit_montespan ── Topic: 525\n",
      "     │         │              │    │         │              │         │    │         │         │         │                   │         │    │         │    │         │         │              └─■──culture_culturel_tradition_xinxiang_noirlac ── Topic: 330\n",
      "     │         │              │    │         │              │         │    │         │         │         │                   │         │    │         │    │         │         └─muse_provence_art_exposition_alpes\n",
      "     │         │              │    │         │              │         │    │         │         │         │                   │         │    │         │    │         │              ├─provence_alpes_haut_humour_aix\n",
      "     │         │              │    │         │              │         │    │         │         │         │                   │         │    │         │    │         │              │    ├─■──provence_alpes_haut_aix_rochette ── Topic: 184\n",
      "     │         │              │    │         │              │         │    │         │         │         │                   │         │    │         │    │         │              │    └─■──humour_coquette_trio_tromp_incisif ── Topic: 582\n",
      "     │         │              │    │         │              │         │    │         │         │         │                   │         │    │         │    │         │              └─muse_art_exposition_morozov_collection\n",
      "     │         │              │    │         │              │         │    │         │         │         │                   │         │    │         │    │         │                   ├─■──muse_art_exposition_biennale_venise ── Topic: 23\n",
      "     │         │              │    │         │              │         │    │         │         │         │                   │         │    │         │    │         │                   └─■──morozov_collection_tableau_rapatriement_vuitton ── Topic: 402\n",
      "     │         │              │    │         │              │         │    │         │         │         │                   │         │    │         │    │         └─ehpad_orpea_scandale_pension_charger\n",
      "     │         │              │    │         │              │         │    │         │         │         │                   │         │    │         │    │              ├─pension_charger_fossile_gopolitique_march\n",
      "     │         │              │    │         │              │         │    │         │         │         │                   │         │    │         │    │              │    ├─gopolitique_march_marcher_graphique_laguiole\n",
      "     │         │              │    │         │              │         │    │         │         │         │                   │         │    │         │    │              │    │    ├─■──gopolitique_graphique_laguiole_gographe_indication ── Topic: 248\n",
      "     │         │              │    │         │              │         │    │         │         │         │                   │         │    │         │    │              │    │    └─march_marcher_passoire_climat_passer\n",
      "     │         │              │    │         │              │         │    │         │         │         │                   │         │    │         │    │              │    │         ├─■──march_marcher_climat_marche_millier ── Topic: 342\n",
      "     │         │              │    │         │              │         │    │         │         │         │                   │         │    │         │    │              │    │         └─■──passoire_passer_passeport_thermique_colmar ── Topic: 334\n",
      "     │         │              │    │         │              │         │    │         │         │         │                   │         │    │         │    │              │    └─pension_charger_fossile_charge_pensionnat\n",
      "     │         │              │    │         │              │         │    │         │         │         │                   │         │    │         │    │              │         ├─■──fossile_nergie_dpendance_addiction_hydrocarbure ── Topic: 529\n",
      "     │         │              │    │         │              │         │    │         │         │         │                   │         │    │         │    │              │         └─pension_charger_charge_pensionnat_divorcer\n",
      "     │         │              │    │         │              │         │    │         │         │         │                   │         │    │         │    │              │              ├─■──pension_pensionnat_divorcer_alimentaire_autochtone ── Topic: 254\n",
      "     │         │              │    │         │              │         │    │         │         │         │                   │         │    │         │    │              │              └─■──charger_charge_prise_chargeur_planification ── Topic: 293\n",
      "     │         │              │    │         │              │         │    │         │         │         │                   │         │    │         │    │              └─ehpad_orpea_scandale_cash_investigation\n",
      "     │         │              │    │         │              │         │    │         │         │         │                   │         │    │         │    │                   ├─ehpad_orpea_scandale_cash_investigation\n",
      "     │         │              │    │         │              │         │    │         │         │         │                   │         │    │         │    │                   │    ├─■──cash_investigation_mcdonald_korian_ehpad ── Topic: 466\n",
      "     │         │              │    │         │              │         │    │         │         │         │                   │         │    │         │    │                   │    └─■──ehpad_orpea_scandale_rsident_orpeer ── Topic: 121\n",
      "     │         │              │    │         │              │         │    │         │         │         │                   │         │    │         │    │                   └─mtal_manga_nickel_metal_london\n",
      "     │         │              │    │         │              │         │    │         │         │         │                   │         │    │         │    │                        ├─■──mtal_nickel_metal_london_exchange ── Topic: 576\n",
      "     │         │              │    │         │              │         │    │         │         │         │                   │         │    │         │    │                        └─■──manga_anime_piece_one_dessin ── Topic: 535\n",
      "     │         │              │    │         │              │         │    │         │         │         │                   │         │    │         │    └─musique_pernaut_coli_pizza_netflix\n",
      "     │         │              │    │         │              │         │    │         │         │         │                   │         │    │         │         ├─pernaut_loire_pollution_pierre_marne\n",
      "     │         │              │    │         │              │         │    │         │         │         │                   │         │    │         │         │    ├─loire_pollution_marne_robot_drone\n",
      "     │         │              │    │         │              │         │    │         │         │         │                   │         │    │         │         │    │    ├─loire_pollution_marne_robot_drone\n",
      "     │         │              │    │         │              │         │    │         │         │         │                   │         │    │         │         │    │    │    ├─robot_drone_suprme_noir_yacht\n",
      "     │         │              │    │         │              │         │    │         │         │         │                   │         │    │         │         │    │    │    │    ├─carbone_empreinte_oxfam_neutralit_carte\n",
      "     │         │              │    │         │              │         │    │         │         │         │                   │         │    │         │         │    │    │    │    │    ├─■──carte_carton_vital_chitose_sacai ── Topic: 522\n",
      "     │         │              │    │         │              │         │    │         │         │         │                   │         │    │         │         │    │    │    │    │    └─■──carbone_empreinte_oxfam_neutralit_taxe ── Topic: 281\n",
      "     │         │              │    │         │              │         │    │         │         │         │                   │         │    │         │         │    │    │    │    └─robot_drone_suprme_noir_yacht\n",
      "     │         │              │    │         │              │         │    │         │         │         │                   │         │    │         │         │    │    │    │         ├─suprme_noir_ketanji_jackson_brown\n",
      "     │         │              │    │         │              │         │    │         │         │         │                   │         │    │         │         │    │    │    │         │    ├─taxe_alsace_taxer_foncier_poids\n",
      "     │         │              │    │         │              │         │    │         │         │         │                   │         │    │         │         │    │    │    │         │    │    ├─■──taxe_taxer_foncier_taxation_riche ── Topic: 446\n",
      "     │         │              │    │         │              │         │    │         │         │         │                   │         │    │         │         │    │    │    │         │    │    └─■──alsace_poids_lourd_2025_taxe ── Topic: 506\n",
      "     │         │              │    │         │              │         │    │         │         │         │                   │         │    │         │         │    │    │    │         │    └─suprme_noir_ketanji_jackson_brown\n",
      "     │         │              │    │         │              │         │    │         │         │         │                   │         │    │         │         │    │    │    │         │         ├─■──noir_blanc_trou_brurier_falcke ── Topic: 166\n",
      "     │         │              │    │         │              │         │    │         │         │         │                   │         │    │         │         │    │    │    │         │         └─■──suprme_ketanji_jackson_brown_cour ── Topic: 192\n",
      "     │         │              │    │         │              │         │    │         │         │         │                   │         │    │         │         │    │    │    │         └─robot_drone_yacht_tunisie_tunisien\n",
      "     │         │              │    │         │              │         │    │         │         │         │                   │         │    │         │         │    │    │    │              ├─yacht_tunisie_tunisien_saed_oligarque\n",
      "     │         │              │    │         │              │         │    │         │         │         │                   │         │    │         │         │    │    │    │              │    ├─■──tunisie_tunisien_saed_parlement_kas ── Topic: 223\n",
      "     │         │              │    │         │              │         │    │         │         │         │                   │         │    │         │         │    │    │    │              │    └─■──yacht_oligarque_ciotat_immobiliser_milliardaire ── Topic: 277\n",
      "     │         │              │    │         │              │         │    │         │         │         │                   │         │    │         │         │    │    │    │              └─robot_drone_aspirateur_irobot_serveur\n",
      "     │         │              │    │         │              │         │    │         │         │         │                   │         │    │         │         │    │    │    │                   ├─■──robot_aspirateur_irobot_serveur_ocean ── Topic: 229\n",
      "     │         │              │    │         │              │         │    │         │         │         │                   │         │    │         │         │    │    │    │                   └─■──drone_tb2_kamikaze_switchblade_atout ── Topic: 231\n",
      "     │         │              │    │         │              │         │    │         │         │         │                   │         │    │         │         │    │    │    └─loire_pollution_marne_rnovation_val\n",
      "     │         │              │    │         │              │         │    │         │         │         │                   │         │    │         │         │    │    │         ├─rnovation_africain_terrain_immersion_dmocratie\n",
      "     │         │              │    │         │              │         │    │         │         │         │                   │         │    │         │         │    │    │         │    ├─terrain_immersion_dmocratie_dmocratique_libral\n",
      "     │         │              │    │         │              │         │    │         │         │         │                   │         │    │         │         │    │    │         │    │    ├─dmocratie_dmocratique_libral_fascisme_libralisme\n",
      "     │         │              │    │         │              │         │    │         │         │         │                   │         │    │         │         │    │    │         │    │    │    ├─■──dmocratie_dmocratique_ruecratie_dmagogie_chouraqui ── Topic: 351\n",
      "     │         │              │    │         │              │         │    │         │         │         │                   │         │    │         │         │    │    │         │    │    │    └─■──libral_fascisme_libralisme_antilibral_anar ── Topic: 589\n",
      "     │         │              │    │         │              │         │    │         │         │         │                   │         │    │         │         │    │    │         │    │    └─terrain_immersion_immersif_wiim_constructible\n",
      "     │         │              │    │         │              │         │    │         │         │         │                   │         │    │         │         │    │    │         │    │         ├─■──immersion_immersif_jocond_hypernuit_altspace ── Topic: 561\n",
      "     │         │              │    │         │              │         │    │         │         │         │                   │         │    │         │         │    │    │         │    │         └─■──terrain_wiim_constructible_btir_miner ── Topic: 373\n",
      "     │         │              │    │         │              │         │    │         │         │         │                   │         │    │         │         │    │    │         │    └─rnovation_africain_logistique_nergtique_logement\n",
      "     │         │              │    │         │              │         │    │         │         │         │                   │         │    │         │         │    │    │         │         ├─■──rnovation_nergtique_dibdo_pritzker_kr ── Topic: 282\n",
      "     │         │              │    │         │              │         │    │         │         │         │                   │         │    │         │         │    │    │         │         └─africain_logistique_kenya_msc_armateur\n",
      "     │         │              │    │         │              │         │    │         │         │         │                   │         │    │         │         │    │    │         │              ├─■──africain_kenya_wevelgem_gand_girmay ── Topic: 308\n",
      "     │         │              │    │         │              │         │    │         │         │         │                   │         │    │         │         │    │    │         │              └─■──logistique_msc_armateur_logement_bollor ── Topic: 505\n",
      "     │         │              │    │         │              │         │    │         │         │         │                   │         │    │         │         │    │    │         └─loire_pollution_marne_val_circulation\n",
      "     │         │              │    │         │              │         │    │         │         │         │                   │         │    │         │         │    │    │              ├─radio_fracture_radar_fixeur_inter\n",
      "     │         │              │    │         │              │         │    │         │         │         │                   │         │    │         │         │    │    │              │    ├─■──radio_radar_fixeur_frquence_inter ── Topic: 337\n",
      "     │         │              │    │         │              │         │    │         │         │         │                   │         │    │         │         │    │    │              │    └─■──fracture_ngligence_maurin_rsidente_coquerel ── Topic: 523\n",
      "     │         │              │    │         │              │         │    │         │         │         │                   │         │    │         │         │    │    │              └─loire_pollution_marne_val_circulation\n",
      "     │         │              │    │         │              │         │    │         │         │         │                   │         │    │         │         │    │    │                   ├─marne_val_seine_conglateur_implantation\n",
      "     │         │              │    │         │              │         │    │         │         │         │                   │         │    │         │         │    │    │                   │    ├─■──implantation_implanter_implant_lenteur_bpifrance ── Topic: 570\n",
      "     │         │              │    │         │              │         │    │         │         │         │                   │         │    │         │         │    │    │                   │    └─■──marne_val_seine_conglateur_natre ── Topic: 155\n",
      "     │         │              │    │         │              │         │    │         │         │         │                   │         │    │         │         │    │    │                   └─loire_pollution_circulation_diffrenci_loiret\n",
      "     │         │              │    │         │              │         │    │         │         │         │                   │         │    │         │         │    │    │                        ├─■──loire_loiret_atlantique_sane_maine ── Topic: 123\n",
      "     │         │              │    │         │              │         │    │         │         │         │                   │         │    │         │         │    │    │                        └─■──pollution_circulation_diffrenci_plastique_particule ── Topic: 136\n",
      "     │         │              │    │         │              │         │    │         │         │         │                   │         │    │         │         │    │    └─augusta_dcrypter_woods_tiger_master\n",
      "     │         │              │    │         │              │         │    │         │         │         │                   │         │    │         │         │    │         ├─■──dcrypter_dcryptage_dcrypte_perce_rhtorique ── Topic: 255\n",
      "     │         │              │    │         │              │         │    │         │         │         │                   │         │    │         │         │    │         └─■──augusta_woods_tiger_master_golf ── Topic: 460\n",
      "     │         │              │    │         │              │         │    │         │         │         │                   │         │    │         │         │    └─pernaut_pierre_antismitisme_jean_mmoire\n",
      "     │         │              │    │         │              │         │    │         │         │         │                   │         │    │         │         │         ├─potter_harry_critique_bref_livre\n",
      "     │         │              │    │         │              │         │    │         │         │         │                   │         │    │         │         │         │    ├─critique_bref_livre_manquer_hlne\n",
      "     │         │              │    │         │              │         │    │         │         │         │                   │         │    │         │         │         │    │    ├─■──hlne_cixou_nastia_stacy_crpe ── Topic: 515\n",
      "     │         │              │    │         │              │         │    │         │         │         │                   │         │    │         │         │         │    │    └─critique_bref_livre_manquer_robert\n",
      "     │         │              │    │         │              │         │    │         │         │         │                   │         │    │         │         │         │    │         ├─■──manquer_robert_caune_paul_jakubowicz ── Topic: 116\n",
      "     │         │              │    │         │              │         │    │         │         │         │                   │         │    │         │         │         │    │         └─■──critique_bref_livre_naulleau_philosophe ── Topic: 314\n",
      "     │         │              │    │         │              │         │    │         │         │         │                   │         │    │         │         │         │    └─potter_harry_radcliffe_secret_daniel\n",
      "     │         │              │    │         │              │         │    │         │         │         │                   │         │    │         │         │         │         ├─■──secret_alessandri_ferrandi_galds_rotenberg ── Topic: 555\n",
      "     │         │              │    │         │              │         │    │         │         │         │                   │         │    │         │         │         │         └─■──potter_harry_radcliffe_daniel_saga ── Topic: 430\n",
      "     │         │              │    │         │              │         │    │         │         │         │                   │         │    │         │         │         └─pernaut_pierre_antismitisme_mmoire_tf1\n",
      "     │         │              │    │         │              │         │    │         │         │         │                   │         │    │         │         │              ├─pernaut_pierre_tf1_jean_hommage\n",
      "     │         │              │    │         │              │         │    │         │         │         │                   │         │    │         │         │              │    ├─■──pernaut_pierre_tf1_jean_hommage ── Topic: 60\n",
      "     │         │              │    │         │              │         │    │         │         │         │                   │         │    │         │         │              │    └─■──montauban_merah_hommage_toulouse_victime ── Topic: 528\n",
      "     │         │              │    │         │              │         │    │         │         │         │                   │         │    │         │         │              └─antismitisme_mmoire_algrie_juif_antisionisme\n",
      "     │         │              │    │         │              │         │    │         │         │         │                   │         │    │         │         │                   ├─■──antismitisme_antisionisme_juif_clame_antifministe ── Topic: 452\n",
      "     │         │              │    │         │              │         │    │         │         │         │                   │         │    │         │         │                   └─■──mmoire_algrie_apaiser_billonne_maroun ── Topic: 420\n",
      "     │         │              │    │         │              │         │    │         │         │         │                   │         │    │         │         └─musique_coli_pizza_netflix_buitoni\n",
      "     │         │              │    │         │              │         │    │         │         │         │                   │         │    │         │              ├─coli_pizza_buitoni_bactrie_cancer\n",
      "     │         │              │    │         │              │         │    │         │         │         │                   │         │    │         │              │    ├─coli_pizza_buitoni_bactrie_cancer\n",
      "     │         │              │    │         │              │         │    │         │         │         │                   │         │    │         │              │    │    ├─cancer_pesticide_endomtriose_magnitude_alzheimer\n",
      "     │         │              │    │         │              │         │    │         │         │         │                   │         │    │         │              │    │    │    ├─magnitude_sisme_dangereux_japon_tsunami\n",
      "     │         │              │    │         │              │         │    │         │         │         │                   │         │    │         │              │    │    │    │    ├─■──magnitude_sisme_japon_tsunami_enregistrer ── Topic: 467\n",
      "     │         │              │    │         │              │         │    │         │         │         │                   │         │    │         │              │    │    │    │    └─■──dangereux_danger_liaison_quantit_redevient ── Topic: 456\n",
      "     │         │              │    │         │              │         │    │         │         │         │                   │         │    │         │              │    │    │    └─cancer_pesticide_endomtriose_alzheimer_maladie\n",
      "     │         │              │    │         │              │         │    │         │         │         │                   │         │    │         │              │    │    │         ├─cancer_pesticide_poumon_traitement_dulcorant\n",
      "     │         │              │    │         │              │         │    │         │         │         │                   │         │    │         │              │    │    │         │    ├─■──pesticide_lgume_pistache_fruit_insecticide ── Topic: 329\n",
      "     │         │              │    │         │              │         │    │         │         │         │                   │         │    │         │              │    │    │         │    └─■──cancer_poumon_traitement_dulcorant_nitrate ── Topic: 253\n",
      "     │         │              │    │         │              │         │    │         │         │         │                   │         │    │         │              │    │    │         └─endomtriose_alzheimer_maladie_symptme_parkinson\n",
      "     │         │              │    │         │              │         │    │         │         │         │                   │         │    │         │              │    │    │              ├─■──endomtriose_silencieux_patient_symptme_douleur ── Topic: 465\n",
      "     │         │              │    │         │              │         │    │         │         │         │                   │         │    │         │              │    │    │              └─■──alzheimer_maladie_parkinson_gntique_pathologie ── Topic: 394\n",
      "     │         │              │    │         │              │         │    │         │         │         │                   │         │    │         │              │    │    └─coli_pizza_buitoni_bactrie_hpatite\n",
      "     │         │              │    │         │              │         │    │         │         │         │                   │         │    │         │              │    │         ├─■──coli_pizza_buitoni_bactrie_colis ── Topic: 54\n",
      "     │         │              │    │         │              │         │    │         │         │         │                   │         │    │         │              │    │         └─■──hpatite_inconnu_dtecter_origine_infantile ── Topic: 426\n",
      "     │         │              │    │         │              │         │    │         │         │         │                   │         │    │         │              │    └─poisson_listeria_fromage_listriose_rappeler\n",
      "     │         │              │    │         │              │         │    │         │         │         │                   │         │    │         │              │         ├─■──listeria_fromage_listriose_rappeler_haddock ── Topic: 440\n",
      "     │         │              │    │         │              │         │    │         │         │         │                   │         │    │         │              │         └─■──poisson_zfarm_aquaponiqu_transgnique_hlice ── Topic: 488\n",
      "     │         │              │    │         │              │         │    │         │         │         │                   │         │    │         │              └─musique_netflix_sahara_eurovision_csar\n",
      "     │         │              │    │         │              │         │    │         │         │         │                   │         │    │         │                   ├─sahara_csar_sable_depp_dentiste\n",
      "     │         │              │    │         │              │         │    │         │         │         │                   │         │    │         │                   │    ├─sahara_csar_sable_depp_dentiste\n",
      "     │         │              │    │         │              │         │    │         │         │         │                   │         │    │         │                   │    │    ├─sahara_sable_depp_amber_dentiste\n",
      "     │         │              │    │         │              │         │    │         │         │         │                   │         │    │         │                   │    │    │    ├─depp_dentiste_amber_fil_heard\n",
      "     │         │              │    │         │              │         │    │         │         │         │                   │         │    │         │                   │    │    │    │    ├─motogp_quartararo_fabio_zarco_johann\n",
      "     │         │              │    │         │              │         │    │         │         │         │                   │         │    │         │                   │    │    │    │    │    ├─■──motogp_quartararo_fabio_zarco_johann ── Topic: 418\n",
      "     │         │              │    │         │              │         │    │         │         │         │                   │         │    │         │                   │    │    │    │    │    └─■──saison_youcef_atal_ogc_bridgerton ── Topic: 527\n",
      "     │         │              │    │         │              │         │    │         │         │         │                   │         │    │         │                   │    │    │    │    └─depp_dentiste_amber_fil_heard\n",
      "     │         │              │    │         │              │         │    │         │         │         │                   │         │    │         │                   │    │    │    │         ├─depp_amber_heard_johnny_ramadan\n",
      "     │         │              │    │         │              │         │    │         │         │         │                   │         │    │         │                   │    │    │    │         │    ├─ramadan_vatican_barrire_cocktail_ymen\n",
      "     │         │              │    │         │              │         │    │         │         │         │                   │         │    │         │                   │    │    │    │         │    │    ├─vatican_barrire_cocktail_barbecue_corail\n",
      "     │         │              │    │         │              │         │    │         │         │         │                   │         │    │         │                   │    │    │    │         │    │    │    ├─cocktail_barbecue_molotov_allumer_intoxiquer\n",
      "     │         │              │    │         │              │         │    │         │         │         │                   │         │    │         │                   │    │    │    │         │    │    │    │    ├─■──barbecue_allumer_intoxiquer_grille_zfe ── Topic: 443\n",
      "     │         │              │    │         │              │         │    │         │         │         │                   │         │    │         │                   │    │    │    │         │    │    │    │    └─■──cocktail_molotov_dnipro_phromone_mixologie ── Topic: 503\n",
      "     │         │              │    │         │              │         │    │         │         │         │                   │         │    │         │                   │    │    │    │         │    │    │    └─vatican_barrire_corail_blanchissement_australie\n",
      "     │         │              │    │         │              │         │    │         │         │         │                   │         │    │         │                   │    │    │    │         │    │    │         ├─■──vatican_unesco_curie_ciase_pape ── Topic: 383\n",
      "     │         │              │    │         │              │         │    │         │         │         │                   │         │    │         │                   │    │    │    │         │    │    │         └─■──barrire_corail_blanchissement_australie_vaste ── Topic: 461\n",
      "     │         │              │    │         │              │         │    │         │         │         │                   │         │    │         │                   │    │    │    │         │    │    └─ramadan_ymen_trve_belligrant_jener\n",
      "     │         │              │    │         │              │         │    │         │         │         │                   │         │    │         │                   │    │    │    │         │    │         ├─■──ymen_trve_belligrant_ymnite_diaporama ── Topic: 531\n",
      "     │         │              │    │         │              │         │    │         │         │         │                   │         │    │         │                   │    │    │    │         │    │         └─■──ramadan_jener_tariq_prire_ramatuell ── Topic: 393\n",
      "     │         │              │    │         │              │         │    │         │         │         │                   │         │    │         │                   │    │    │    │         │    └─depp_amber_heard_johnny_berry\n",
      "     │         │              │    │         │              │         │    │         │         │         │                   │         │    │         │                   │    │    │    │         │         ├─depp_amber_heard_johnny_berry\n",
      "     │         │              │    │         │              │         │    │         │         │         │                   │         │    │         │                   │    │    │    │         │         │    ├─■──depp_amber_heard_johnny_tribunal ── Topic: 290\n",
      "     │         │              │    │         │              │         │    │         │         │         │                   │         │    │         │                   │    │    │    │         │         │    └─■──berry_diffamation_richard_coline_manson ── Topic: 510\n",
      "     │         │              │    │         │              │         │    │         │         │         │                   │         │    │         │                   │    │    │    │         │         └─■──gaston_lagaffe_franquin_gag_dupuis ── Topic: 546\n",
      "     │         │              │    │         │              │         │    │         │         │         │                   │         │    │         │                   │    │    │    │         └─dentiste_fil_britney_spears_star\n",
      "     │         │              │    │         │              │         │    │         │         │         │                   │         │    │         │                   │    │    │    │              ├─dentiste_mutilation_astuce_dent_guedj\n",
      "     │         │              │    │         │              │         │    │         │         │         │                   │         │    │         │                   │    │    │    │              │    ├─■──dentiste_mutilation_dent_guedj_dentaire ── Topic: 179\n",
      "     │         │              │    │         │              │         │    │         │         │         │                   │         │    │         │                   │    │    │    │              │    └─■──astuce_kondo_optimiser_multitche_troller ── Topic: 509\n",
      "     │         │              │    │         │              │         │    │         │         │         │                   │         │    │         │                   │    │    │    │              └─fil_spears_britney_star_jennifer\n",
      "     │         │              │    │         │              │         │    │         │         │         │                   │         │    │         │                   │    │    │    │                   ├─■──fil_britney_spears_star_jennifer ── Topic: 73\n",
      "     │         │              │    │         │              │         │    │         │         │         │                   │         │    │         │                   │    │    │    │                   └─■──closet_fayard_sophie_charlotte_quitte ── Topic: 368\n",
      "     │         │              │    │         │              │         │    │         │         │         │                   │         │    │         │                   │    │    │    └─sahara_sable_motion_pakistan_statue\n",
      "     │         │              │    │         │              │         │    │         │         │         │                   │         │    │         │                   │    │    │         ├─motion_pakistan_imran_khan_sharif\n",
      "     │         │              │    │         │              │         │    │         │         │         │                   │         │    │         │                   │    │    │         │    ├─■──pakistan_imran_khan_sharif_shehbaz ── Topic: 429\n",
      "     │         │              │    │         │              │         │    │         │         │         │                   │         │    │         │                   │    │    │         │    └─■──motion_vif_pablo_burn_longorier ── Topic: 315\n",
      "     │         │              │    │         │              │         │    │         │         │         │                   │         │    │         │                   │    │    │         └─sahara_sable_statue_olonne_nuage\n",
      "     │         │              │    │         │              │         │    │         │         │         │                   │         │    │         │                   │    │    │              ├─■──statue_olonne_vierge_sable_votation ── Topic: 485\n",
      "     │         │              │    │         │              │         │    │         │         │         │                   │         │    │         │                   │    │    │              └─■──sahara_sable_nuage_poussire_espagne ── Topic: 159\n",
      "     │         │              │    │         │              │         │    │         │         │         │                   │         │    │         │                   │    │    └─csar_bouquet_illusion_perrin_honneur\n",
      "     │         │              │    │         │              │         │    │         │         │         │                   │         │    │         │                   │    │         ├─csar_bouquet_illusion_perrin_honneur\n",
      "     │         │              │    │         │              │         │    │         │         │         │                   │         │    │         │                   │    │         │    ├─csar_illusion_honneur_lgion_crmonie\n",
      "     │         │              │    │         │              │         │    │         │         │         │                   │         │    │         │                   │    │         │    │    ├─■──honneur_lgion_coste_dcorer_74 ── Topic: 327\n",
      "     │         │              │    │         │              │         │    │         │         │         │                   │         │    │         │                   │    │         │    │    └─■──csar_illusion_crmonie_giannoli_perdre ── Topic: 153\n",
      "     │         │              │    │         │              │         │    │         │         │         │                   │         │    │         │                   │    │         │    └─bouquet_perrin_michel_jacques_comdien\n",
      "     │         │              │    │         │              │         │    │         │         │         │                   │         │    │         │                   │    │         │         ├─■──bouquet_michel_comdien_invalide_hommage ── Topic: 274\n",
      "     │         │              │    │         │              │         │    │         │         │         │                   │         │    │         │                   │    │         │         └─■──perrin_jacques_acteur_ralisateur_papadiamandi ── Topic: 355\n",
      "     │         │              │    │         │              │         │    │         │         │         │                   │         │    │         │                   │    │         └─boycott_foo_batteur_taylor_hawkins\n",
      "     │         │              │    │         │              │         │    │         │         │         │                   │         │    │         │                   │    │              ├─■──boycott_artiste_davydova_gadot_datte ── Topic: 469\n",
      "     │         │              │    │         │              │         │    │         │         │         │                   │         │    │         │                   │    │              └─■──foo_batteur_hawkins_fighter_taylor ── Topic: 563\n",
      "     │         │              │    │         │              │         │    │         │         │         │                   │         │    │         │                   │    └─artificiel_intelligence_chanteur_fake_ed\n",
      "     │         │              │    │         │              │         │    │         │         │         │                   │         │    │         │                   │         ├─chanteur_ed_sheeran_arno_euthanasie\n",
      "     │         │              │    │         │              │         │    │         │         │         │                   │         │    │         │                   │         │    ├─chanteur_ed_sheeran_arno_plagiat\n",
      "     │         │              │    │         │              │         │    │         │         │         │                   │         │    │         │                   │         │    │    ├─■──sheeran_ed_plagiat_shape_you ── Topic: 494\n",
      "     │         │              │    │         │              │         │    │         │         │         │                   │         │    │         │                   │         │    │    └─■──chanteur_arno_belge_72_wanted ── Topic: 299\n",
      "     │         │              │    │         │              │         │    │         │         │         │                   │         │    │         │                   │         │    └─■──euthanasie_guay_sdation_morhedec_palliatif ── Topic: 558\n",
      "     │         │              │    │         │              │         │    │         │         │         │                   │         │    │         │                   │         └─artificiel_intelligence_fake_vrai_humili\n",
      "     │         │              │    │         │              │         │    │         │         │         │                   │         │    │         │                   │              ├─■──fake_vrai_humili_waronfakes_checking ── Topic: 463\n",
      "     │         │              │    │         │              │         │    │         │         │         │                   │         │    │         │                   │              └─■──artificiel_intelligence_machine_fantun_sophistiquer ── Topic: 439\n",
      "     │         │              │    │         │              │         │    │         │         │         │                   │         │    │         │                   └─musique_netflix_eurovision_michelin_album\n",
      "     │         │              │    │         │              │         │    │         │         │         │                   │         │    │         │                        ├─musique_netflix_michelin_album_restaurant\n",
      "     │         │              │    │         │              │         │    │         │         │         │                   │         │    │         │                        │    ├─musique_netflix_michelin_album_restaurant\n",
      "     │         │              │    │         │              │         │    │         │         │         │                   │         │    │         │                        │    │    ├─musique_netflix_album_cryptomonnaie_disney\n",
      "     │         │              │    │         │              │         │    │         │         │         │                   │         │    │         │                        │    │    │    ├─cryptomonnaie_bitcoin_crypto_nfl_minage\n",
      "     │         │              │    │         │              │         │    │         │         │         │                   │         │    │         │                        │    │    │    │    ├─■──nfl_brady_football_footballeur_tom ── Topic: 481\n",
      "     │         │              │    │         │              │         │    │         │         │         │                   │         │    │         │                        │    │    │    │    └─■──cryptomonnaie_bitcoin_crypto_minage_texa ── Topic: 142\n",
      "     │         │              │    │         │              │         │    │         │         │         │                   │         │    │         │                        │    │    │    └─musique_netflix_album_disney_disneyland\n",
      "     │         │              │    │         │              │         │    │         │         │         │                   │         │    │         │                        │    │    │         ├─netflix_disney_disneyland_abonn_floride\n",
      "     │         │              │    │         │              │         │    │         │         │         │                   │         │    │         │                        │    │    │         │    ├─■──disneyland_disney_floride_magie_30 ── Topic: 182\n",
      "     │         │              │    │         │              │         │    │         │         │         │                   │         │    │         │                        │    │    │         │    └─■──netflix_abonn_to_perdre_srie ── Topic: 100\n",
      "     │         │              │    │         │              │         │    │         │         │         │                   │         │    │         │                        │    │    │         └─musique_album_concert_jazz_classique\n",
      "     │         │              │    │         │              │         │    │         │         │         │                   │         │    │         │                        │    │    │              ├─musique_album_jazz_classique_instrument\n",
      "     │         │              │    │         │              │         │    │         │         │         │                   │         │    │         │                        │    │    │              │    ├─■──album_soundgarden_sortir_presley_nirvana ── Topic: 222\n",
      "     │         │              │    │         │              │         │    │         │         │         │                   │         │    │         │                        │    │    │              │    └─■──musique_jazz_classique_instrument_piano ── Topic: 40\n",
      "     │         │              │    │         │              │         │    │         │         │         │                   │         │    │         │                        │    │    │              └─■──concert_rolling_stone_stromae_date ── Topic: 289\n",
      "     │         │              │    │         │              │         │    │         │         │         │                   │         │    │         │                        │    │    └─michelin_restaurant_guide_cuisine_caf\n",
      "     │         │              │    │         │              │         │    │         │         │         │                   │         │    │         │                        │    │         ├─■──restaurant_cuisine_caf_bar_bistrot ── Topic: 105\n",
      "     │         │              │    │         │              │         │    │         │         │         │                   │         │    │         │                        │    │         └─■──michelin_guide_toile_donckele_toil ── Topic: 224\n",
      "     │         │              │    │         │              │         │    │         │         │         │                   │         │    │         │                        │    └─ditorial_socit_biodiversit_bio_humain\n",
      "     │         │              │    │         │              │         │    │         │         │         │                   │         │    │         │                        │         ├─biodiversit_bio_humain_microplastique_mutation\n",
      "     │         │              │    │         │              │         │    │         │         │         │                   │         │    │         │                        │         │    ├─■──mutation_gnome_dfectueux_crispr_xb7 ── Topic: 592\n",
      "     │         │              │    │         │              │         │    │         │         │         │                   │         │    │         │                        │         │    └─■──biodiversit_bio_microplastique_embryon_microplastiqu ── Topic: 225\n",
      "     │         │              │    │         │              │         │    │         │         │         │                   │         │    │         │                        │         └─socit_ditorial_aro_auditeur_trastour\n",
      "     │         │              │    │         │              │         │    │         │         │         │                   │         │    │         │                        │              ├─■──ditorial_auditeur_vitement_gronde_ncessiter ── Topic: 579\n",
      "     │         │              │    │         │              │         │    │         │         │         │                   │         │    │         │                        │              └─■──socit_aro_quarrissage_rgisseur_mahu ── Topic: 421\n",
      "     │         │              │    │         │              │         │    │         │         │         │                   │         │    │         │                        └─eurovision_breton_aroport_htel_racisme\n",
      "     │         │              │    │         │              │         │    │         │         │         │                   │         │    │         │                             ├─aroport_htel_racisme_air_franchise\n",
      "     │         │              │    │         │              │         │    │         │         │         │                   │         │    │         │                             │    ├─aroport_racisme_air_raciste_discrimination\n",
      "     │         │              │    │         │              │         │    │         │         │         │                   │         │    │         │                             │    │    ├─aroport_air_boeing_132_crash\n",
      "     │         │              │    │         │              │         │    │         │         │         │                   │         │    │         │                             │    │    │    ├─■──boeing_132_crash_737_occupant ── Topic: 553\n",
      "     │         │              │    │         │              │         │    │         │         │         │                   │         │    │         │                             │    │    │    └─■──aroport_air_franc_klm_aviation ── Topic: 104\n",
      "     │         │              │    │         │              │         │    │         │         │         │                   │         │    │         │                             │    │    └─racisme_raciste_discrimination_sngal_airbnb\n",
      "     │         │              │    │         │              │         │    │         │         │         │                   │         │    │         │                             │    │         ├─racisme_raciste_discrimination_sngal_racial\n",
      "     │         │              │    │         │              │         │    │         │         │         │                   │         │    │         │                             │    │         │    ├─■──sngal_faso_burkina_nappe_sankara ── Topic: 407\n",
      "     │         │              │    │         │              │         │    │         │         │         │                   │         │    │         │                             │    │         │    └─■──racisme_raciste_discrimination_racial_so ── Topic: 148\n",
      "     │         │              │    │         │              │         │    │         │         │         │                   │         │    │         │                             │    │         └─airbnb_population_rapace_soudan_location\n",
      "     │         │              │    │         │              │         │    │         │         │         │                   │         │    │         │                             │    │              ├─■──airbnb_location_temporaire_hte_symboliquement ── Topic: 537\n",
      "     │         │              │    │         │              │         │    │         │         │         │                   │         │    │         │                             │    │              └─■──population_rapace_soudan_bora_plomb ── Topic: 451\n",
      "     │         │              │    │         │              │         │    │         │         │         │                   │         │    │         │                             │    └─htel_franchise_yves_voice_avis\n",
      "     │         │              │    │         │              │         │    │         │         │         │                   │         │    │         │                             │         ├─franchise_publireportage_caisse_chat_ticket\n",
      "     │         │              │    │         │              │         │    │         │         │         │                   │         │    │         │                             │         │    ├─franchise_publireportage_restaurateur_restaurer_etsy\n",
      "     │         │              │    │         │              │         │    │         │         │         │                   │         │    │         │                             │         │    │    ├─■──publireportage_cadeau_westfield_rodamco_therapy ── Topic: 548\n",
      "     │         │              │    │         │              │         │    │         │         │         │                   │         │    │         │                             │         │    │    └─franchise_restaurateur_restaurer_1kubator_mature\n",
      "     │         │              │    │         │              │         │    │         │         │         │                   │         │    │         │                             │         │    │         ├─■──restaurateur_restaurer_intimiste_doublement_castellano ── Topic: 513\n",
      "     │         │              │    │         │              │         │    │         │         │         │                   │         │    │         │                             │         │    │         └─■──franchise_1kubator_mature_franchiser_boutiqu ── Topic: 359\n",
      "     │         │              │    │         │              │         │    │         │         │         │                   │         │    │         │                             │         │    └─caisse_chat_ticket_association_consommateur\n",
      "     │         │              │    │         │              │         │    │         │         │         │                   │         │    │         │                             │         │         ├─■──caisse_ticket_association_consommateur_imprimer ── Topic: 520\n",
      "     │         │              │    │         │              │         │    │         │         │         │                   │         │    │         │                             │         │         └─■──chat_joann_sfar_rabbin_choisir ── Topic: 530\n",
      "     │         │              │    │         │              │         │    │         │         │         │                   │         │    │         │                             │         └─htel_yves_voice_avis_spectacle\n",
      "     │         │              │    │         │              │         │    │         │         │         │                   │         │    │         │                             │              ├─htel_voice_avis_expert_fusion\n",
      "     │         │              │    │         │              │         │    │         │         │         │                   │         │    │         │                             │              │    ├─voice_fusion_m6_vocal_the\n",
      "     │         │              │    │         │              │         │    │         │         │         │                   │         │    │         │                             │              │    │    ├─■──voice_vocal_the_assistant_battle ── Topic: 462\n",
      "     │         │              │    │         │              │         │    │         │         │         │                   │         │    │         │                             │              │    │    └─■──fusion_m6_altice_6ter_tf1 ── Topic: 335\n",
      "     │         │              │    │         │              │         │    │         │         │         │                   │         │    │         │                             │              │    └─■──htel_avis_expert_figaro_htellerie ── Topic: 263\n",
      "     │         │              │    │         │              │         │    │         │         │         │                   │         │    │         │                             │              └─yves_spectacle_drian_visionnaire_veyrier\n",
      "     │         │              │    │         │              │         │    │         │         │         │                   │         │    │         │                             │                   ├─■──yves_drian_veyrier_khatia_coppens ── Topic: 484\n",
      "     │         │              │    │         │              │         │    │         │         │         │                   │         │    │         │                             │                   └─■──spectacle_visionnaire_billion_ophtalmologiste_geneva ── Topic: 395\n",
      "     │         │              │    │         │              │         │    │         │         │         │                   │         │    │         │                             └─eurovision_breton_alvan_reprsenter_ahez\n",
      "     │         │              │    │         │              │         │    │         │         │         │                   │         │    │         │                                  ├─■──eurovision_alvan_reprsenter_ahez_kalush ── Topic: 234\n",
      "     │         │              │    │         │              │         │    │         │         │         │                   │         │    │         │                                  └─■──breton_ahez_thierry_le_agroalimentaire ── Topic: 302\n",
      "     │         │              │    │         │              │         │    │         │         │         │                   │         │    │         └─sorbonne_science_capitalisme_po_islamophobie\n",
      "     │         │              │    │         │              │         │    │         │         │         │                   │         │    │              ├─capitalisme_monde_chul_han_byung\n",
      "     │         │              │    │         │              │         │    │         │         │         │                   │         │    │              │    ├─■──monde_gurand_highlineur_dteste_sandbox ── Topic: 241\n",
      "     │         │              │    │         │              │         │    │         │         │         │                   │         │    │              │    └─■──capitalisme_wok_moralisateur_guigner_fodal ── Topic: 569\n",
      "     │         │              │    │         │              │         │    │         │         │         │                   │         │    │              └─sorbonne_science_po_islamophobie_islamisme\n",
      "     │         │              │    │         │              │         │    │         │         │         │                   │         │    │                   ├─■──sorbonne_occupation_universit_rectorat_tudiant ── Topic: 422\n",
      "     │         │              │    │         │              │         │    │         │         │         │                   │         │    │                   └─science_islamophobie_islamisme_po_islam\n",
      "     │         │              │    │         │              │         │    │         │         │         │                   │         │    │                        ├─■──science_po_mosquiri_gourmaud_jamy ── Topic: 534\n",
      "     │         │              │    │         │              │         │    │         │         │         │                   │         │    │                        └─■──islamophobie_islamisme_islam_islamiste_terrorisme ── Topic: 286\n",
      "     │         │              │    │         │              │         │    │         │         │         │                   │         │    └─podcast_troupe_histoire_tourisme_accident\n",
      "     │         │              │    │         │              │         │    │         │         │         │                   │         │         ├─troupe_migrant_johnson_boris_rwanda\n",
      "     │         │              │    │         │              │         │    │         │         │         │                   │         │         │    ├─adhsion_finlande_finlandais_branagh_kenneth\n",
      "     │         │              │    │         │              │         │    │         │         │         │                   │         │         │    │    ├─kenneth_branagh_opinion_belfast_enfance\n",
      "     │         │              │    │         │              │         │    │         │         │         │                   │         │         │    │    │    ├─■──branagh_kenneth_belfast_enfance_enfanc ── Topic: 578\n",
      "     │         │              │    │         │              │         │    │         │         │         │                   │         │         │    │    │    └─■──opinion_sentiment_civilisation_malaise_dpossession ── Topic: 419\n",
      "     │         │              │    │         │              │         │    │         │         │         │                   │         │         │    │    └─adhsion_finlande_finlandais_otan_edelfelt\n",
      "     │         │              │    │         │              │         │    │         │         │         │                   │         │         │    │         ├─■──adhsion_rapide_otan_ue_finlandais ── Topic: 448\n",
      "     │         │              │    │         │              │         │    │         │         │         │                   │         │         │    │         └─■──finlande_finlandais_edelfelt_epr_uvre ── Topic: 296\n",
      "     │         │              │    │         │              │         │    │         │         │         │                   │         │         │    └─troupe_migrant_johnson_boris_rwanda\n",
      "     │         │              │    │         │              │         │    │         │         │         │                   │         │         │         ├─troupe_ballet_chtelet_city_kiev\n",
      "     │         │              │    │         │              │         │    │         │         │         │                   │         │         │         │    ├─■──ballet_chtelet_city_thtre_refuge ── Topic: 389\n",
      "     │         │              │    │         │              │         │    │         │         │         │                   │         │         │         │    └─■──troupe_avance_russe_retrait_kadyrovtsy ── Topic: 89\n",
      "     │         │              │    │         │              │         │    │         │         │         │                   │         │         │         └─migrant_johnson_boris_rwanda_partygat\n",
      "     │         │              │    │         │              │         │    │         │         │         │                   │         │         │              ├─■──johnson_boris_partygat_amende_partygate ── Topic: 208\n",
      "     │         │              │    │         │              │         │    │         │         │         │                   │         │         │              └─migrant_rwanda_asile_demandeur_manche\n",
      "     │         │              │    │         │              │         │    │         │         │         │                   │         │         │                   ├─■──rwanda_asile_demandeur_migrant_envoyer ── Topic: 343\n",
      "     │         │              │    │         │              │         │    │         │         │         │                   │         │         │                   └─■──migrant_manche_secourir_traverser_calai ── Topic: 149\n",
      "     │         │              │    │         │              │         │    │         │         │         │                   │         │         └─podcast_histoire_tourisme_accident_maison\n",
      "     │         │              │    │         │              │         │    │         │         │         │                   │         │              ├─podcast_histoire_tourisme_accident_maison\n",
      "     │         │              │    │         │              │         │    │         │         │         │                   │         │              │    ├─podcast_histoire_tourisme_maison_gastronomie\n",
      "     │         │              │    │         │              │         │    │         │         │         │                   │         │              │    │    ├─podcast_histoire_maison_amour_amoureux\n",
      "     │         │              │    │         │              │         │    │         │         │         │                   │         │              │    │    │    ├─podcast_histoire_amour_amoureux_express\n",
      "     │         │              │    │         │              │         │    │         │         │         │                   │         │              │    │    │    │    ├─■──podcast_express_explique_spotify_comptoir ── Topic: 42\n",
      "     │         │              │    │         │              │         │    │         │         │         │                   │         │              │    │    │    │    └─histoire_amour_amoureux_passion_raconter\n",
      "     │         │              │    │         │              │         │    │         │         │         │                   │         │              │    │    │    │         ├─■──amour_amoureux_passion_capulet_montaigu ── Topic: 200\n",
      "     │         │              │    │         │              │         │    │         │         │         │                   │         │              │    │    │    │         └─■──histoire_raconter_fiasco_ternel_lanvin ── Topic: 37\n",
      "     │         │              │    │         │              │         │    │         │         │         │                   │         │              │    │    │    └─maison_toit_prine_tatillon_vendre\n",
      "     │         │              │    │         │              │         │    │         │         │         │                   │         │              │    │    │         ├─■──tatillon_cvenol_brin_grand_naturiste ── Topic: 187\n",
      "     │         │              │    │         │              │         │    │         │         │         │                   │         │              │    │    │         └─■──maison_vendre_entraide_squatter_villa ── Topic: 147\n",
      "     │         │              │    │         │              │         │    │         │         │         │                   │         │              │    │    └─tourisme_gastronomie_voyage_touriste_destination\n",
      "     │         │              │    │         │              │         │    │         │         │         │                   │         │              │    │         ├─gastronomie_gastronomique_folie_dcouverte_olien\n",
      "     │         │              │    │         │              │         │    │         │         │         │                   │         │              │    │         │    ├─■──folie_olien_mditerrane_flottant_stylo ── Topic: 508\n",
      "     │         │              │    │         │              │         │    │         │         │         │                   │         │              │    │         │    └─■──gastronomie_gastronomique_dcouverte_plat_asperge ── Topic: 276\n",
      "     │         │              │    │         │              │         │    │         │         │         │                   │         │              │    │         └─tourisme_voyage_touriste_destination_vacance\n",
      "     │         │              │    │         │              │         │    │         │         │         │                   │         │              │    │              ├─■──tourisme_touriste_vacance_vacancier_touristique ── Topic: 64\n",
      "     │         │              │    │         │              │         │    │         │         │         │                   │         │              │    │              └─■──voyage_destination_jordanie_huysman_cythre ── Topic: 318\n",
      "     │         │              │    │         │              │         │    │         │         │         │                   │         │              │    └─accident_train_route_transport_sncf\n",
      "     │         │              │    │         │              │         │    │         │         │         │                   │         │              │         ├─accident_route_bus_feuille_gypte\n",
      "     │         │              │    │         │              │         │    │         │         │         │                   │         │              │         │    ├─■──route_feuille_rhum_gabart_autoroute ── Topic: 233\n",
      "     │         │              │    │         │              │         │    │         │         │         │                   │         │              │         │    └─■──accident_bus_gypte_mortel_chauffeur ── Topic: 110\n",
      "     │         │              │    │         │              │         │    │         │         │         │                   │         │              │         └─train_transport_sncf_gratuit_billet\n",
      "     │         │              │    │         │              │         │    │         │         │         │                   │         │              │              ├─■──train_sncf_billet_ouigo_maghrbin ── Topic: 195\n",
      "     │         │              │    │         │              │         │    │         │         │         │                   │         │              │              └─■──transport_gratuit_mtropole_ferroutage_sada ── Topic: 298\n",
      "     │         │              │    │         │              │         │    │         │         │         │                   │         │              └─tendance_rgion_priode_portugal_partir\n",
      "     │         │              │    │         │              │         │    │         │         │         │                   │         │                   ├─■──rgion_priode_portugal_partir_mto ── Topic: 275\n",
      "     │         │              │    │         │              │         │    │         │         │         │                   │         │                   └─■──tendance_immobilier_conseil_savoir_rgion ── Topic: 251\n",
      "     │         │              │    │         │              │         │    │         │         │         │                   │         └─afghanistan_maritime_alpe_taliban_mosque\n",
      "     │         │              │    │         │              │         │    │         │         │         │                   │              ├─afghanistan_maritime_alpe_taliban_mosque\n",
      "     │         │              │    │         │              │         │    │         │         │         │                   │              │    ├─handball_printemps_supporter_monaco_physique\n",
      "     │         │              │    │         │              │         │    │         │         │         │                   │              │    │    ├─printemps_piqre_bourge_bote_bziers\n",
      "     │         │              │    │         │              │         │    │         │         │         │                   │              │    │    │    ├─■──printemps_bourge_festivalier_piqre_dutronc ── Topic: 235\n",
      "     │         │              │    │         │              │         │    │         │         │         │                   │              │    │    │    └─■──piqre_bote_nuit_bziers_dordogne ── Topic: 586\n",
      "     │         │              │    │         │              │         │    │         │         │         │                   │              │    │    └─handball_supporter_monaco_physique_montpellier\n",
      "     │         │              │    │         │              │         │    │         │         │         │                   │              │    │         ├─supporter_monaco_sampaoli_euroligue_om\n",
      "     │         │              │    │         │              │         │    │         │         │         │                   │              │    │         │    ├─■──monaco_euroligue_olympiako_braga_2001 ── Topic: 364\n",
      "     │         │              │    │         │              │         │    │         │         │         │                   │              │    │         │    └─■──supporter_sampaoli_om_marseillais_heurt ── Topic: 273\n",
      "     │         │              │    │         │              │         │    │         │         │         │                   │              │    │         └─handball_physique_montpellier_eriksen_papadaki\n",
      "     │         │              │    │         │              │         │    │         │         │         │                   │              │    │              ├─handball_physique_eriksen_cardiaque_foot\n",
      "     │         │              │    │         │              │         │    │         │         │         │                   │              │    │              │    ├─handball_eriksen_cardiaque_rejouer_danois\n",
      "     │         │              │    │         │              │         │    │         │         │         │                   │              │    │              │    │    ├─■──handball_bulleux_mikkel_hansen_chlo ── Topic: 391\n",
      "     │         │              │    │         │              │         │    │         │         │         │                   │              │    │              │    │    └─■──eriksen_cardiaque_danois_rejouer_christian ── Topic: 507\n",
      "     │         │              │    │         │              │         │    │         │         │         │                   │              │    │              │    └─physique_foot_club_physiquement_amateur\n",
      "     │         │              │    │         │              │         │    │         │         │         │                   │              │    │              │         ├─■──foot_club_amateur_asics_illia ── Topic: 524\n",
      "     │         │              │    │         │              │         │    │         │         │         │                   │              │    │              │         └─■──physique_physiquement_woodward_surgical_hosoi ── Topic: 501\n",
      "     │         │              │    │         │              │         │    │         │         │         │                   │              │    │              └─cizeron_papadaki_montpellier_artistique_patinage\n",
      "     │         │              │    │         │              │         │    │         │         │         │                   │              │    │                   ├─■──montpellier_sage_patinage_bernadett_dant ── Topic: 487\n",
      "     │         │              │    │         │              │         │    │         │         │         │                   │              │    │                   └─■──cizeron_papadaki_gabriella_artistique_patinage ── Topic: 502\n",
      "     │         │              │    │         │              │         │    │         │         │         │                   │              │    └─afghanistan_maritime_alpe_taliban_mosque\n",
      "     │         │              │    │         │              │         │    │         │         │         │                   │              │         ├─maritime_alpe_ferry_organiser_scheress\n",
      "     │         │              │    │         │              │         │    │         │         │         │                   │              │         │    ├─■──ferry_compagnie_corsica_disposition_800 ── Topic: 557\n",
      "     │         │              │    │         │              │         │    │         │         │         │                   │              │         │    └─maritime_alpe_organiser_scheress_restriction\n",
      "     │         │              │    │         │              │         │    │         │         │         │                   │              │         │         ├─■──maritime_alpe_scheress_restriction_a8 ── Topic: 183\n",
      "     │         │              │    │         │              │         │    │         │         │         │                   │              │         │         └─■──organiser_organise_matricide_entraygue_slasheur ── Topic: 417\n",
      "     │         │              │    │         │              │         │    │         │         │         │                   │              │         └─afghanistan_taliban_mosque_explosion_crack\n",
      "     │         │              │    │         │              │         │    │         │         │         │                   │              │              ├─afghanistan_taliban_explosion_afghan_kaboul\n",
      "     │         │              │    │         │              │         │    │         │         │         │                   │              │              │    ├─■──explosion_moskver_endommager_gravement_aubervillier ── Topic: 495\n",
      "     │         │              │    │         │              │         │    │         │         │         │                   │              │              │    └─■──afghanistan_taliban_afghan_kaboul_explosion ── Topic: 107\n",
      "     │         │              │    │         │              │         │    │         │         │         │                   │              │              └─mosque_crack_store_dark_villette\n",
      "     │         │              │    │         │              │         │    │         │         │         │                   │              │                   ├─mosque_pessac_fermer_ferm_gironde\n",
      "     │         │              │    │         │              │         │    │         │         │         │                   │              │                   │    ├─■──mosque_pessac_gironde_fermer_mirail ── Topic: 367\n",
      "     │         │              │    │         │              │         │    │         │         │         │                   │              │                   │    └─■──ferme_fermer_adista_ttraplgique_montsouris ── Topic: 538\n",
      "     │         │              │    │         │              │         │    │         │         │         │                   │              │                   └─crack_store_dark_villette_seller\n",
      "     │         │              │    │         │              │         │    │         │         │         │                   │              │                        ├─■──crack_villette_ratp_dfonce_station ── Topic: 478\n",
      "     │         │              │    │         │              │         │    │         │         │         │                   │              │                        └─■──store_dark_seller_best_mairie ── Topic: 377\n",
      "     │         │              │    │         │              │         │    │         │         │         │                   │              └─camra_surveillance_blink_360_vigie\n",
      "     │         │              │    │         │              │         │    │         │         │         │                   │                   ├─■──camra_surveillance_blink_360_appareil ── Topic: 459\n",
      "     │         │              │    │         │              │         │    │         │         │         │                   │                   └─■──surveillance_vigie_pnitentiaire_rafale_pandmier ── Topic: 556\n",
      "     │         │              │    │         │              │         │    │         │         │         │                   └─west_ham_ivoire_ronaldo_cte\n",
      "     │         │              │    │         │              │         │    │         │         │         │                        ├─west_ham_ivoire_ronaldo_cte\n",
      "     │         │              │    │         │              │         │    │         │         │         │                        │    ├─west_ham_ivoire_cte_grammy\n",
      "     │         │              │    │         │              │         │    │         │         │         │                        │    │    ├─ivoire_cte_volley_equipe_nkunku\n",
      "     │         │              │    │         │              │         │    │         │         │         │                        │    │    │    ├─ivoire_cte_equipe_nkunku_giroud\n",
      "     │         │              │    │         │              │         │    │         │         │         │                        │    │    │    │    ├─■──equipe_clauss_nkunku_jonathan_giroud ── Topic: 323\n",
      "     │         │              │    │         │              │         │    │         │         │         │                        │    │    │    │    └─■──ivoire_cte_ivoir_giroud_nkunku ── Topic: 245\n",
      "     │         │              │    │         │              │         │    │         │         │         │                        │    │    │    └─■──volley_slectionneur_narbonn_bernardinho_giani ── Topic: 499\n",
      "     │         │              │    │         │              │         │    │         │         │         │                        │    │    └─west_ham_grammy_awards_ol\n",
      "     │         │              │    │         │              │         │    │         │         │         │                        │    │         ├─■──grammy_awards_jon_batist_rodrigo ── Topic: 431\n",
      "     │         │              │    │         │              │         │    │         │         │         │                        │    │         └─■──ham_west_ol_hammer_europa ── Topic: 292\n",
      "     │         │              │    │         │              │         │    │         │         │         │                        │    └─ronaldo_mercato_cristiano_journal_manchester\n",
      "     │         │              │    │         │              │         │    │         │         │         │                        │         ├─■──rsum_liga_portugais_league_j27 ── Topic: 542\n",
      "     │         │              │    │         │              │         │    │         │         │         │                        │         └─ronaldo_mercato_cristiano_journal_manchester\n",
      "     │         │              │    │         │              │         │    │         │         │         │                        │              ├─■──ronaldo_cristiano_liverpool_vibrant_fils ── Topic: 385\n",
      "     │         │              │    │         │              │         │    │         │         │         │                        │              └─■──mercato_journal_haaland_bara_manchester ── Topic: 366\n",
      "     │         │              │    │         │              │         │    │         │         │         │                        └─roman_abramovitch_chelsea_abramovich_rome\n",
      "     │         │              │    │         │              │         │    │         │         │         │                             ├─■──abramovitch_roman_chelsea_abramovich_club ── Topic: 280\n",
      "     │         │              │    │         │              │         │    │         │         │         │                             └─■──rome_roman_latin_feuille_prtre ── Topic: 397\n",
      "     │         │              │    │         │              │         │    │         │         │         └─novembre_abdeslam_salah_procs_13\n",
      "     │         │              │    │         │              │         │    │         │         │              ├─novembre_abdeslam_salah_procs_13\n",
      "     │         │              │    │         │              │         │    │         │         │              │    ├─zepeda_narumi_kurosaki_avocat_nicolas\n",
      "     │         │              │    │         │              │         │    │         │         │              │    │    ├─■──zepeda_narumi_kurosaki_nicolas_rclusion ── Topic: 405\n",
      "     │         │              │    │         │              │         │    │         │         │              │    │    └─■──avocat_diable_plaignante_ey_pierrat ── Topic: 390\n",
      "     │         │              │    │         │              │         │    │         │         │              │    └─novembre_abdeslam_salah_13_procs\n",
      "     │         │              │    │         │              │         │    │         │         │              │         ├─abdeslam_novembre_salah_13_procs\n",
      "     │         │              │    │         │              │         │    │         │         │              │         │    ├─■──abrini_mohamed_novembre_13_procs ── Topic: 562\n",
      "     │         │              │    │         │              │         │    │         │         │              │         │    └─■──abdeslam_salah_novembre_13_procs ── Topic: 66\n",
      "     │         │              │    │         │              │         │    │         │         │              │         └─■──terroriste_terrorisme_haram_boko_palestiniennes ── Topic: 436\n",
      "     │         │              │    │         │              │         │    │         │         │              └─diffuser_tv_deliveroo_plateforme_tlvision\n",
      "     │         │              │    │         │              │         │    │         │         │                   ├─diffuser_tv_tlvision_rtro_bataclan\n",
      "     │         │              │    │         │              │         │    │         │         │                   │    ├─■──tv_tlvision_rtro_gayet_il ── Topic: 206\n",
      "     │         │              │    │         │              │         │    │         │         │                   │    └─■──diffuser_bataclan_image_arte_novembre ── Topic: 198\n",
      "     │         │              │    │         │              │         │    │         │         │                   └─deliveroo_plateforme_dissimuler_ubrisation_livreur\n",
      "     │         │              │    │         │              │         │    │         │         │                        ├─■──plateforme_deliveroo_plate_livreur_parcoursup ── Topic: 468\n",
      "     │         │              │    │         │              │         │    │         │         │                        └─■──deliveroo_dissimuler_ubrisation_travail_livreur ── Topic: 411\n",
      "     │         │              │    │         │              │         │    │         │         └─hidalgo_lgislative_anne_orban_viktor\n",
      "     │         │              │    │         │              │         │    │         │              ├─lgislative_orban_viktor_hongrie_gauche\n",
      "     │         │              │    │         │              │         │    │         │              │    ├─gauche_krivine_christiane_taubira_alain\n",
      "     │         │              │    │         │              │         │    │         │              │    │    ├─■──christiane_taubira_taureau_parrainage_faute ── Topic: 408\n",
      "     │         │              │    │         │              │         │    │         │              │    │    └─gauche_krivine_alain_figure_rvolutionnaire\n",
      "     │         │              │    │         │              │         │    │         │              │    │         ├─■──krivine_alain_figure_rvolutionnaire_communiste ── Topic: 447\n",
      "     │         │              │    │         │              │         │    │         │              │    │         └─■──gauche_lefebvre_rmi_ultra_lgislatif ── Topic: 194\n",
      "     │         │              │    │         │              │         │    │         │              │    └─lgislative_orban_viktor_hongrie_rugy\n",
      "     │         │              │    │         │              │         │    │         │              │         ├─lgislative_rugy_ministre_lire_lfi\n",
      "     │         │              │    │         │              │         │    │         │              │         │    ├─■──rugy_ministre_lire_demande_lgislative ── Topic: 410\n",
      "     │         │              │    │         │              │         │    │         │              │         │    └─■──lgislative_lfi_janez_janser_lr ── Topic: 150\n",
      "     │         │              │    │         │              │         │    │         │              │         └─■──orban_viktor_hongrie_orbn_hongrois ── Topic: 190\n",
      "     │         │              │    │         │              │         │    │         │              └─hidalgo_anne_politique_immigration_socialiste\n",
      "     │         │              │    │         │              │         │    │         │                   ├─hidalgo_anne_politique_socialiste_ps\n",
      "     │         │              │    │         │              │         │    │         │                   │    ├─politique_socialiste_prsident_hollande_idologie\n",
      "     │         │              │    │         │              │         │    │         │                   │    │    ├─■──politique_socialiste_idologie_ory_populisme ── Topic: 81\n",
      "     │         │              │    │         │              │         │    │         │                   │    │    └─■──prsident_hollande_ondimber_hondurer_correa ── Topic: 164\n",
      "     │         │              │    │         │              │         │    │         │                   │    └─■──hidalgo_anne_socialiste_ps_jadot ── Topic: 31\n",
      "     │         │              │    │         │              │         │    │         │                   └─immigration_tabou_relocalisatier_brochand_ekrame\n",
      "     │         │              │    │         │              │         │    │         │                        ├─■──immigration_tabou_relocalisatier_ultrasensible_brochand ── Topic: 353\n",
      "     │         │              │    │         │              │         │    │         │                        └─■──pimpant_massenet_collaborer_poussif_cendrillon ── Topic: 588\n",
      "     │         │              │    │         │              │         │    │         └─mckinsey_violence_homme_cohen_cabinet\n",
      "     │         │              │    │         │              │         │    │              ├─mckinsey_violence_cohen_cabinet_denis\n",
      "     │         │              │    │         │              │         │    │              │    ├─mckinsey_cabinet_justice_conseil_tribunal\n",
      "     │         │              │    │         │              │         │    │              │    │    ├─mckinsey_cabinet_conseil_affaire_polmique\n",
      "     │         │              │    │         │              │         │    │              │    │    │    ├─■──cabinet_conseil_mckinsey_recours_polmique ── Topic: 88\n",
      "     │         │              │    │         │              │         │    │              │    │    │    └─■──mckinsey_affaire_pnf_consultant_polmique ── Topic: 91\n",
      "     │         │              │    │         │              │         │    │              │    │    └─justice_tribunal_ghosn_court_carlos\n",
      "     │         │              │    │         │              │         │    │              │    │         ├─■──justice_tribunal_saisir_scopelec_litige ── Topic: 76\n",
      "     │         │              │    │         │              │         │    │              │    │         └─■──ghosn_justice_carlos_mandat_arrt ── Topic: 295\n",
      "     │         │              │    │         │              │         │    │              │    └─violence_cohen_denis_police_saint\n",
      "     │         │              │    │         │              │         │    │              │         ├─violence_accuser_sexuel_polytechnique_viol\n",
      "     │         │              │    │         │              │         │    │              │         │    ├─accuser_viol_acquitter_accus_36\n",
      "     │         │              │    │         │              │         │    │              │         │    │    ├─■──acquitter_36_orfvre_viol_quai ── Topic: 441\n",
      "     │         │              │    │         │              │         │    │              │         │    │    └─■──accuser_accus_sexuel_inappropri_accusation ── Topic: 78\n",
      "     │         │              │    │         │              │         │    │              │         │    └─violence_sexuel_polytechnique_violent_conjugal\n",
      "     │         │              │    │         │              │         │    │              │         │         ├─■──polytechnique_sexuel_violence_signalement_sexiste ── Topic: 250\n",
      "     │         │              │    │         │              │         │    │              │         │         └─■──violence_violent_conjugal_corse_policier ── Topic: 62\n",
      "     │         │              │    │         │              │         │    │              │         └─cohen_denis_police_saint_mtro\n",
      "     │         │              │    │         │              │         │    │              │              ├─secrtaire_elimas_harclement_moral_nathalie\n",
      "     │         │              │    │         │              │         │    │              │              │    ├─secrtaire_elimas_moral_nathalie_harclement\n",
      "     │         │              │    │         │              │         │    │              │              │    │    ├─■──albright_madeleine_secrtaire_etat_amricain ── Topic: 574\n",
      "     │         │              │    │         │              │         │    │              │              │    │    └─■──elimas_moral_nathalie_harclement_secrtaire ── Topic: 197\n",
      "     │         │              │    │         │              │         │    │              │              │    └─■──vincer_placer_sexuel_agression_secrtaire ── Topic: 490\n",
      "     │         │              │    │         │              │         │    │              │              └─cohen_denis_police_saint_mtro\n",
      "     │         │              │    │         │              │         │    │              │                   ├─cohen_denis_police_saint_mtro\n",
      "     │         │              │    │         │              │         │    │              │                   │    ├─denis_saint_seine_etienne_policier\n",
      "     │         │              │    │         │              │         │    │              │                   │    │    ├─■──etienne_rouvray_saint_extirpe_asse ── Topic: 434\n",
      "     │         │              │    │         │              │         │    │              │                   │    │    └─denis_seine_saint_policier_boueur\n",
      "     │         │              │    │         │              │         │    │              │                   │    │         ├─■──saint_martin_barthlemy_baie_avold ── Topic: 320\n",
      "     │         │              │    │         │              │         │    │              │                   │    │         └─■──denis_seine_saint_policier_boueur ── Topic: 92\n",
      "     │         │              │    │         │              │         │    │              │                   │    └─cohen_police_mtro_new_york\n",
      "     │         │              │    │         │              │         │    │              │                   │         ├─cohen_police_mtro_new_york\n",
      "     │         │              │    │         │              │         │    │              │                   │         │    ├─cohen_jrmy_tramway_jrmie_bus\n",
      "     │         │              │    │         │              │         │    │              │                   │         │    │    ├─■──tramway_bus_ratp_normal_bobigny ── Topic: 271\n",
      "     │         │              │    │         │              │         │    │              │                   │         │    │    └─■──cohen_jrmie_jrmy_jeremie_mort ── Topic: 97\n",
      "     │         │              │    │         │              │         │    │              │                   │         │    └─police_new_mtro_york_suicide\n",
      "     │         │              │    │         │              │         │    │              │                   │         │         ├─new_mtro_york_fusillade_dtention\n",
      "     │         │              │    │         │              │         │    │              │                   │         │         │    ├─■──dtention_provisoire_placer_salanque_conjoint ── Topic: 511\n",
      "     │         │              │    │         │              │         │    │              │                   │         │         │    └─■──new_mtro_york_fusillade_yorkais ── Topic: 118\n",
      "     │         │              │    │         │              │         │    │              │                   │         │         └─police_suicide_municipal_gendarmerie_privilgier\n",
      "     │         │              │    │         │              │         │    │              │                   │         │              ├─police_municipal_gendarmerie_abattre_bercy\n",
      "     │         │              │    │         │              │         │    │              │                   │         │              │    ├─■──municipal_abattre_couteau_policier_marseill ── Topic: 415\n",
      "     │         │              │    │         │              │         │    │              │                   │         │              │    └─■──police_gendarmerie_municipal_francisco_poutou ── Topic: 98\n",
      "     │         │              │    │         │              │         │    │              │                   │         │              └─■──suicide_privilgier_collectif_montreux_suicider ── Topic: 247\n",
      "     │         │              │    │         │              │         │    │              │                   │         └─souponner_montaigne_collaborateur_soupon_droguer\n",
      "     │         │              │    │         │              │         │    │              │                   │              ├─■──souponner_soupon_fictif_roussel_emploi ── Topic: 185\n",
      "     │         │              │    │         │              │         │    │              │                   │              └─■──montaigne_collaborateur_droguer_institut_directeur ── Topic: 521\n",
      "     │         │              │    │         │              │         │    │              │                   └─ducation_paty_samuel_assassinat_education\n",
      "     │         │              │    │         │              │         │    │              │                        ├─■──paty_samuel_assassinat_plainte_examen ── Topic: 428\n",
      "     │         │              │    │         │              │         │    │              │                        └─■──ducation_education_ducatif_orientation_concret ── Topic: 239\n",
      "     │         │              │    │         │              │         │    │              └─homme_mort_sevran_policier_automobiliste\n",
      "     │         │              │    │         │              │         │    │                   ├─mort_sevran_automobiliste_policier_foule\n",
      "     │         │              │    │         │              │         │    │                   │    ├─■──automobiliste_sevran_policier_examen_tuer ── Topic: 414\n",
      "     │         │              │    │         │              │         │    │                   │    └─■──mort_foule_pont_retrouver_angle ── Topic: 48\n",
      "     │         │              │    │         │              │         │    │                   └─homme_interpeller_salanque_balle_arm\n",
      "     │         │              │    │         │              │         │    │                        ├─■──homme_interpeller_salanque_balle_arm ── Topic: 65\n",
      "     │         │              │    │         │              │         │    │                        └─■──homme_jour_yaroshuk_ovide_nudit ── Topic: 321\n",
      "     │         │              │    │         │              │         │    └─lille_arfer_indice_gourvennec_ben\n",
      "     │         │              │    │         │              │         │         ├─lille_arfer_gourvennec_ben_chelsea\n",
      "     │         │              │    │         │              │         │         │    ├─■──chelsea_lille_pulisic_losc_dogue ── Topic: 483\n",
      "     │         │              │    │         │              │         │         │    └─■──lille_arfer_gourvennec_ben_pcf ── Topic: 67\n",
      "     │         │              │    │         │              │         │         └─indice_point_fonctionnaire_dgel_fonction\n",
      "     │         │              │    │         │              │         │              ├─■──indice_fonctionnaire_dgel_point_fonction ── Topic: 381\n",
      "     │         │              │    │         │              │         │              └─■──point_situation_mi_vnement_21 ── Topic: 590\n",
      "     │         │              │    │         │              │         └─journaliste_lviv_chine_shanghai_confinement\n",
      "     │         │              │    │         │              │              ├─lviv_chine_shanghai_confinement_ville\n",
      "     │         │              │    │         │              │              │    ├─lviv_chine_shanghai_confinement_ville\n",
      "     │         │              │    │         │              │              │    │    ├─1973_ptrole_ptrolier_choc_comparable\n",
      "     │         │              │    │         │              │              │    │    │    ├─1973_ptrolier_choc_comparable_ptrole\n",
      "     │         │              │    │         │              │              │    │    │    │    ├─■──1973_ptrolier_choc_comparable_ptrole ── Topic: 500\n",
      "     │         │              │    │         │              │              │    │    │    │    └─■──panique_financier_ptrole_profiteur_dsescalade ── Topic: 560\n",
      "     │         │              │    │         │              │              │    │    │    └─■──ptrole_puiser_dollar_baril_rserve ── Topic: 585\n",
      "     │         │              │    │         │              │              │    │    └─lviv_chine_shanghai_confinement_ville\n",
      "     │         │              │    │         │              │              │    │         ├─face_europen_dfense_gorgie_europe\n",
      "     │         │              │    │         │              │              │    │         │    ├─face_europen_dfense_gorgie_europe\n",
      "     │         │              │    │         │              │              │    │         │    │    ├─europen_dfense_gorgie_europe_union\n",
      "     │         │              │    │         │              │              │    │         │    │    │    ├─■──gorgie_moldavie_intgrer_union_2008 ── Topic: 370\n",
      "     │         │              │    │         │              │              │    │         │    │    │    └─europen_dfense_europe_union_numrique\n",
      "     │         │              │    │         │              │              │    │         │    │    │         ├─europen_europe_union_numrique_souverainisme\n",
      "     │         │              │    │         │              │              │    │         │    │    │         │    ├─■──union_europen_migratoire_mohican_dsunion ── Topic: 514\n",
      "     │         │              │    │         │              │              │    │         │    │    │         │    └─■──europen_europe_numrique_souverainisme_coorpacademy ── Topic: 63\n",
      "     │         │              │    │         │              │              │    │         │    │    │         └─■──dfense_corbire_alexis_europe_europen ── Topic: 267\n",
      "     │         │              │    │         │              │              │    │         │    │    └─face_sociologique_menace_parlement_introduire\n",
      "     │         │              │    │         │              │              │    │         │    │         ├─■──face_menace_introduire_parlement_urgence ── Topic: 191\n",
      "     │         │              │    │         │              │              │    │         │    │         └─■──face_sociologique_fourquet_dgainer_climatique ── Topic: 93\n",
      "     │         │              │    │         │              │              │    │         │    └─faire_falloir_enfant_enfance_savoir\n",
      "     │         │              │    │         │              │              │    │         │         ├─enfant_enfance_couteau_discothque_paix\n",
      "     │         │              │    │         │              │              │    │         │         │    ├─■──enfant_couteau_discothque_enfance_pre ── Topic: 113\n",
      "     │         │              │    │         │              │              │    │         │         │    └─■──paix_emploi_ressource_miou_plein ── Topic: 20\n",
      "     │         │              │    │         │              │              │    │         │         └─faire_falloir_relire_fouetter_savoir\n",
      "     │         │              │    │         │              │              │    │         │              ├─■──faire_espre_coproprit_taire_mentir ── Topic: 156\n",
      "     │         │              │    │         │              │              │    │         │              └─■──falloir_relire_fouetter_fleur_boire ── Topic: 209\n",
      "     │         │              │    │         │              │              │    │         └─lviv_chine_shanghai_confinement_ville\n",
      "     │         │              │    │         │              │              │    │              ├─chine_shanghai_confinement_confiner_chinois\n",
      "     │         │              │    │         │              │              │    │              │    ├─■──shanghai_confinement_chine_confiner_shangha ── Topic: 38\n",
      "     │         │              │    │         │              │              │    │              │    └─■──chine_chinois_buon_morice_erwan ── Topic: 189\n",
      "     │         │              │    │         │              │              │    │              └─lviv_ville_ambassade_centre_ambassadeur\n",
      "     │         │              │    │         │              │              │    │                   ├─ville_centre_capitale_vendme_ctier\n",
      "     │         │              │    │         │              │              │    │                   │    ├─■──ville_centre_capitale_vendme_ctier ── Topic: 84\n",
      "     │         │              │    │         │              │              │    │                   │    └─■──ville_portuaire_kherson_odesser_scrute ── Topic: 568\n",
      "     │         │              │    │         │              │              │    │                   └─lviv_ambassade_ambassadeur_ouest_ville\n",
      "     │         │              │    │         │              │              │    │                        ├─■──lviv_ouest_109_ville_bombardement ── Topic: 117\n",
      "     │         │              │    │         │              │              │    │                        └─■──ambassade_ambassadeur_kiev_retourner_clique ── Topic: 473\n",
      "     │         │              │    │         │              │              │    └─moscou_pkin_moscovite_sanction_washington\n",
      "     │         │              │    │         │              │              │         ├─■──moscou_pkin_moscovite_axe_conakry ── Topic: 309\n",
      "     │         │              │    │         │              │              │         └─■──moscou_cesser_lokomotiv_nergticien_local ── Topic: 380\n",
      "     │         │              │    │         │              │              └─journaliste_mdia_sputnik_journal_rt\n",
      "     │         │              │    │         │              │                   ├─■──journaliste_sputnik_mdia_rt_tlvision ── Topic: 51\n",
      "     │         │              │    │         │              │                   └─■──journaliste_journal_bataclan_mdia_otage ── Topic: 41\n",
      "     │         │              │    │         │              └─renault_activit_suspendre_mgane_meo\n",
      "     │         │              │    │         │                   ├─■──renault_activit_suspendre_suspension_toyota ── Topic: 193\n",
      "     │         │              │    │         │                   └─■──renault_mgane_scinder_meo_nissan ── Topic: 412\n",
      "     │         │              │    │         └─retraite_65_marseille_rforme_dclaration\n",
      "     │         │              │    │              ├─marseille_meeting_zemmour_eric_assassin\n",
      "     │         │              │    │              │    ├─campagne_officiel_lection_prsident_impact\n",
      "     │         │              │    │              │    │    ├─■──officiel_lection_avril_prsident_conviction ── Topic: 425\n",
      "     │         │              │    │              │    │    └─campagne_impact_prsidentiel_percute_lectoral\n",
      "     │         │              │    │              │    │         ├─■──campagne_dbomber_kessler_ausi_pia ── Topic: 291\n",
      "     │         │              │    │              │    │         └─■──impact_campagne_percute_lectoral_lection ── Topic: 227\n",
      "     │         │              │    │              │    └─marseille_zemmour_meeting_eric_assassin\n",
      "     │         │              │    │              │         ├─zemmour_eric_assassin_marchal_marion\n",
      "     │         │              │    │              │         │    ├─eric_marchal_marion_zemmour_ric\n",
      "     │         │              │    │              │         │    │    ├─■──marchal_marion_ric_ralliement_zemmour ── Topic: 240\n",
      "     │         │              │    │              │         │    │    └─■──eric_zemmour_ric_clip_contrefaon ── Topic: 71\n",
      "     │         │              │    │              │         │    └─■──assassin_scander_malentender_zemmour_meeting ── Topic: 347\n",
      "     │         │              │    │              │         └─marseille_meeting_surfing_calanque_prvoir\n",
      "     │         │              │    │              │              ├─■──meeting_marseille_prvoir_luxembourgeois_emmanuel ── Topic: 171\n",
      "     │         │              │    │              │              └─■──marseille_surfing_calanque_naturiste_estanguet ── Topic: 139\n",
      "     │         │              │    │              └─retraite_65_rforme_dclaration_ge\n",
      "     │         │              │    │                   ├─retraite_65_rforme_ge_programme\n",
      "     │         │              │    │                   │    ├─retraite_65_rforme_ge_dpart\n",
      "     │         │              │    │                   │    │    ├─■──ge_65_retraite_repousser_dpart ── Topic: 174\n",
      "     │         │              │    │                   │    │    └─■──retraite_rforme_65_49_an ── Topic: 44\n",
      "     │         │              │    │                   │    └─programme_prsentation_indiffrenc_inexistant_dpressif\n",
      "     │         │              │    │                   │         ├─programme_prsentation_emmanuel_value_tenue\n",
      "     │         │              │    │                   │         │    ├─■──programme_prsentation_value_sav_opposition ── Topic: 512\n",
      "     │         │              │    │                   │         │    └─■──programme_tenue_monologue_rtif_vrifier ── Topic: 489\n",
      "     │         │              │    │                   │         └─■──programme_indiffrenc_inexistant_dpressif_quasi ── Topic: 424\n",
      "     │         │              │    │                   └─dclaration_impt_revenu_date_ligne\n",
      "     │         │              │    │                        ├─■──dclaration_revenu_ligne_impt_suspendre ── Topic: 399\n",
      "     │         │              │    │                        └─■──dclaration_impt_revenu_date_limite ── Topic: 237\n",
      "     │         │              │    └─crdit_taux_immobilier_participation_emprunteur\n",
      "     │         │              │         ├─crdit_immobilier_taux_emprunteur_credit\n",
      "     │         │              │         │    ├─■──crdit_immobilier_credit_emprunteur_suisse ── Topic: 262\n",
      "     │         │              │         │    └─■──taux_crdit_immobilier_usure_rengociation ── Topic: 455\n",
      "     │         │              │         └─taux_participation_fed_12h_17h\n",
      "     │         │              │              ├─■──taux_fed_ir_positivit_majorer ── Topic: 572\n",
      "     │         │              │              └─■──participation_taux_12h_17h_68 ── Topic: 479\n",
      "     │         │              └─crime_massacre_humanit_boutcher_boutcha\n",
      "     │         │                   ├─humanit_doyen_118_andr_contestation\n",
      "     │         │                   │    ├─■──humanit_doyen_118_andr_sur ── Topic: 423\n",
      "     │         │                   │    └─■──humanit_contestation_crime_homophobie_kramatorsk ── Topic: 564\n",
      "     │         │                   └─crime_massacre_boutcher_boutcha_human\n",
      "     │         │                        ├─crime_enquter_human_commettre_boutcher\n",
      "     │         │                        │    ├─crime_human_international_cour_watch\n",
      "     │         │                        │    │    ├─■──crime_human_watch_rights_cour ── Topic: 218\n",
      "     │         │                        │    │    └─■──crime_thiopie_enquter_boutcha_totalnergie ── Topic: 341\n",
      "     │         │                        │    └─■──crime_accuser_boutcher_accusation_phosphore ── Topic: 264\n",
      "     │         │                        └─massacre_boutcher_boutcha_crime_gnocide\n",
      "     │         │                             ├─■──massacre_boutcher_boutcha_crime_massacr ── Topic: 304\n",
      "     │         │                             └─■──massacre_boutcher_boutcha_rights_human ── Topic: 328\n",
      "     │         └─lyon_coronavirus_bulletin_mars_bonsoir\n",
      "     │              ├─lyon_bulletin_bonsoir_mars_mto\n",
      "     │              │    ├─lyon_bonsoir_invit_03_lyonnais\n",
      "     │              │    │    ├─bonsoir_invit_lyon_03_jt\n",
      "     │              │    │    │    ├─■──invit_bonsoir_03_caf_lyon ── Topic: 300\n",
      "     │              │    │    │    └─■──bonsoir_lyon_jt_04_03 ── Topic: 214\n",
      "     │              │    │    └─■──lyon_lyonnais_arrondissement_guillotire_rhn ── Topic: 57\n",
      "     │              │    └─bulletin_mars_mto_journe_retenir\n",
      "     │              │         ├─mars_journe_retenir_vnement_falloir\n",
      "     │              │         │    ├─journe_retenir_falloir_mars_avril\n",
      "     │              │         │    │    ├─■──retenir_journe_avril_falloir_kyrgio ── Topic: 87\n",
      "     │              │         │    │    └─■──journe_mars_retenir_falloir_lundi ── Topic: 168\n",
      "     │              │         │    └─mars_vnement_18h_marquant_principal\n",
      "     │              │         │         ├─vnement_mars_marquant_principal_mercredi\n",
      "     │              │         │         │    ├─■──vnement_mars_inform_mercredi_essentiel ── Topic: 403\n",
      "     │              │         │         │    └─■──mars_marquant_vnement_principal_1972 ── Topic: 205\n",
      "     │              │         │         └─■──18h_20h_franceinfo_mars_vendredi ── Topic: 361\n",
      "     │              │         └─bulletin_mto_12h55_19h55_avril\n",
      "     │              │              ├─■──12h55_bulletin_mto_mars_13h44 ── Topic: 378\n",
      "     │              │              └─■──bulletin_mto_19h55_avril_12h55 ── Topic: 158\n",
      "     │              └─coronavirus_bilan_mars_avril_france\n",
      "     │                   ├─■──coronavirus_bilan_mars_mercredi_france ── Topic: 306\n",
      "     │                   └─■──coronavirus_bilan_avril_pruvien_varga ── Topic: 207\n",
      "     └─poutine_vladimir_marioupol_kiev_guerre\n",
      "          ├─poutine_vladimir_marioupol_kiev_guerre\n",
      "          │    ├─marioupol_kiev_pays_humanitaire_franais\n",
      "          │    │    ├─humanitaire_couloir_vacuer_convoi_civil\n",
      "          │    │    │    ├─vacuer_marioupol_immeuble_australie_civil\n",
      "          │    │    │    │    ├─■──vacuer_marioupol_22m_civil_000 ── Topic: 539\n",
      "          │    │    │    │    └─■──vacuer_immeuble_australie_millier_inondation ── Topic: 457\n",
      "          │    │    │    └─humanitaire_couloir_vacuer_convoi_civil\n",
      "          │    │    │         ├─■──humanitaire_couloir_vacuer_civil_convoi ── Topic: 135\n",
      "          │    │    │         └─■──humanitaire_couloir_convoi_ethiopie_pesquet ── Topic: 294\n",
      "          │    │    └─kiev_marioupol_pays_vacuation_franais\n",
      "          │    │         ├─kiev_marioupol_vacuation_thtre_bombardement\n",
      "          │    │         │    ├─thtre_rond_shakespeare_bombarder_marioupol\n",
      "          │    │         │    │    ├─■──thtre_rond_shakespeare_schulz_sncal ── Topic: 126\n",
      "          │    │         │    │    └─■──thtre_bombarder_marioupol_dcombre_130 ── Topic: 458\n",
      "          │    │         │    └─kiev_marioupol_vacuation_bombardement_civil\n",
      "          │    │         │         ├─marioupol_vacuation_assig_civil_ville\n",
      "          │    │         │         │    ├─■──vacuation_marioupol_civil_impossible_procder ── Topic: 108\n",
      "          │    │         │         │    └─marioupol_assig_martyre_ville_bombardement\n",
      "          │    │         │         │         ├─■──marioupol_assig_martyre_ville_enceint ── Topic: 43\n",
      "          │    │         │         │         └─■──marioupol_pdiatrique_assig_bombarder_ruine ── Topic: 39\n",
      "          │    │         │         └─kiev_bombardement_couvrir_klitschko_kyiv\n",
      "          │    │         │              ├─■──mykolav_bombardement_bombe_civil_irpin ── Topic: 186\n",
      "          │    │         │              └─■──kiev_couvrir_kyiv_capitale_klitschko ── Topic: 6\n",
      "          │    │         └─pays_franais_invasion_rfugi_ukrainien\n",
      "          │    │              ├─pays_franais_rfugi_ukrainien_accueil\n",
      "          │    │              │    ├─franais_rfugi_ukrainien_accueil_accueillir\n",
      "          │    │              │    │    ├─rfugi_ukrainien_accueil_accueillir_solidarit\n",
      "          │    │              │    │    │    ├─■──500_darmanin_000_grald_rfugi ── Topic: 283\n",
      "          │    │              │    │    │    └─rfugi_ukrainien_accueil_accueillir_solidarit\n",
      "          │    │              │    │    │         ├─■──accueil_rfugi_france_ukrainien_accueillir ── Topic: 165\n",
      "          │    │              │    │    │         └─■──rfugi_ukrainien_accueil_accueillir_solidarit ── Topic: 32\n",
      "          │    │              │    │    └─franais_entreprise_langue_balcon_montreux\n",
      "          │    │              │    │         ├─franais_langue_balcon_montreux_rfugi\n",
      "          │    │              │    │         │    ├─■──franais_ukraine_rfugi_impacter_combattre ── Topic: 33\n",
      "          │    │              │    │         │    └─■──franais_langue_balcon_montreux_start ── Topic: 12\n",
      "          │    │              │    │         └─■──entreprise_franais_russie_renault_auchan ── Topic: 119\n",
      "          │    │              │    └─pays_payer_financier_fuir_sanction\n",
      "          │    │              │         ├─pays_financier_fuir_sanction_quitter\n",
      "          │    │              │         │    ├─■──pays_fuir_quitter_lviv_ukraine ── Topic: 47\n",
      "          │    │              │         │    └─■──pays_financier_sanction_conomique_rouble ── Topic: 19\n",
      "          │    │              │         └─■──payer_pays_paysage_payant_paxlovid ── Topic: 144\n",
      "          │    │              └─invasion_russe_situation_dbut_jour\n",
      "          │    │                   ├─■──invasion_situation_dbut_russe_ukraine ── Topic: 69\n",
      "          │    │                   └─■──invasion_31m_libert_cauchemar_palomro ── Topic: 406\n",
      "          │    └─poutine_vladimir_guerre_ukrain_russie\n",
      "          │         ├─guerre_russie_ukrain_russe_gaz\n",
      "          │         │    ├─guerre_ukrain_ukraine_conflit_algrie\n",
      "          │         │    │    ├─■──ukraine_don_soutien_obsolte_gpa ── Topic: 24\n",
      "          │         │    │    └─guerre_ukrain_algrie_ukraine_rfugi\n",
      "          │         │    │         ├─■──ukraine_guerre_rfugi_conflit_accueillir ── Topic: 5\n",
      "          │         │    │         └─■──ukrain_guerre_algrie_ukrainien_conflit ── Topic: 1\n",
      "          │         │    └─russie_russe_gaz_sanction_ukrain\n",
      "          │         │         ├─russie_russe_gaz_sanction_ukrain\n",
      "          │         │         │    ├─■──gaz_russie_ptrole_russe_sanction ── Topic: 4\n",
      "          │         │         │    └─russie_russe_guerre_ukrain_offensive\n",
      "          │         │         │         ├─■──russe_ukraine_russie_guerre_offensive ── Topic: 9\n",
      "          │         │         │         └─■──ukrain_russie_russe_guerre_offensive ── Topic: 11\n",
      "          │         │         └─■──russie_svr_gru_avance_engrai ── Topic: 86\n",
      "          │         └─poutine_vladimir_biden_lavrov_occident\n",
      "          │              ├─■──poutine_vladimir_ukraine_biden_guerre ── Topic: 13\n",
      "          │              └─■──poutine_vladimir_biden_lavrov_occident ── Topic: 0\n",
      "          └─prsidentiel_vido_video_emmanuel_tour\n",
      "               ├─vido_video_prsidentiel_candidat_emmanuel\n",
      "               │    ├─vido_video_candidat_emmanuel_prsidentiel\n",
      "               │    │    ├─valrie_pcress_2022_prsidentiel_candidat\n",
      "               │    │    │    ├─valrie_pcress_asperger_poudre_znith\n",
      "               │    │    │    │    ├─■──valrie_pcress_baba_crash_radioscopie ── Topic: 212\n",
      "               │    │    │    │    └─■──valrie_pcress_znith_poudre_asperger ── Topic: 362\n",
      "               │    │    │    └─■──2022_prsidentiel_valrie_candidat_pcress ── Topic: 3\n",
      "               │    │    └─vido_video_emmanuel_marine_pen\n",
      "               │    │         ├─vido_video_emmanuel_candidat_macron\n",
      "               │    │         │    ├─emmanuel_macron_rlire_quinquennat_prsident\n",
      "               │    │         │    │    ├─emmanuel_macron_rlire_quinquennat_prsident\n",
      "               │    │         │    │    │    ├─■──emmanuel_macron_2022_prsidentiel_rlire ── Topic: 35\n",
      "               │    │         │    │    │    └─■──emmanuel_macron_quinquennat_rlire_prsident ── Topic: 8\n",
      "               │    │         │    │    └─■──emmanuel_macron_redfinir_caesar_diplomatique ── Topic: 131\n",
      "               │    │         │    └─vido_video_candidat_guerr_cologie\n",
      "               │    │         │         ├─candidat_lettre_candidature_franais_prsidentielle\n",
      "               │    │         │         │    ├─candidat_prsidentielle_candidature_coter_patrimoine\n",
      "               │    │         │         │    │    ├─■──candidat_prsidentielle_patrimoine_manipuler_coter ── Topic: 112\n",
      "               │    │         │         │    │    └─■──candidat_candidature_programme_oral_dcentralisation ── Topic: 28\n",
      "               │    │         │         │    └─lettre_franais_candidature_emmanuel_prsidentiel\n",
      "               │    │         │         │         ├─■──lettre_franais_candidature_document_gaulle ── Topic: 128\n",
      "               │    │         │         │         └─■──franais_focalise_2022_billetterie_prsidentiel ── Topic: 154\n",
      "               │    │         │         └─vido_video_guerr_cologie_cologique\n",
      "               │    │         │              ├─■──cologie_cologique_conomique_cologiste_conomie ── Topic: 15\n",
      "               │    │         │              └─■──vido_video_guerr_jeu_youtube ── Topic: 2\n",
      "               │    │         └─marine_pen_voile_duel_dbat\n",
      "               │    │              ├─pen_duel_dbat_2017_macron\n",
      "               │    │              │    ├─■──duel_2017_brexit_programme_macronleak ── Topic: 464\n",
      "               │    │              │    └─pen_dbat_macron_cart_sondage\n",
      "               │    │              │         ├─■──2017_sondage_pen_44_coude ── Topic: 310\n",
      "               │    │              │         └─■──pen_dbat_macron_cart_montabon ── Topic: 58\n",
      "               │    │              └─marine_pen_voile_prsidentiel_emmanuel\n",
      "               │    │                   ├─marine_pen_voile_prsidentiel_emmanuel\n",
      "               │    │                   │    ├─marine_pen_emmanuel_macron_cart\n",
      "               │    │                   │    │    ├─■──marine_cart_emmanuel_pen_agressif ── Topic: 269\n",
      "               │    │                   │    │    └─■──marine_pen_emmanuel_cribl_2022 ── Topic: 114\n",
      "               │    │                   │    └─marine_pen_voile_guadeloupe_dtournement\n",
      "               │    │                   │         ├─■──marine_pen_guadeloupe_2022_prsidentiel ── Topic: 61\n",
      "               │    │                   │         └─■──marine_pen_dtournement_voile_fourrer ── Topic: 16\n",
      "               │    │                   └─■──marine_gagner_bayrou_pen_brid ── Topic: 312\n",
      "               │    └─lection_voter_vote_lectoral_mlenchon\n",
      "               │         ├─mlenchon_luc_jean_second_sondage\n",
      "               │         │    ├─luc_mlenchon_jean_second_tour\n",
      "               │         │    │    ├─■──luc_mlenchon_second_tour_jean ── Topic: 181\n",
      "               │         │    │    └─luc_mlenchon_jean_amnistier_feuilleton\n",
      "               │         │    │         ├─■──luc_mlenchon_jean_feuilleton_lucratif ── Topic: 201\n",
      "               │         │    │         └─■──amnistier_luc_mussington_haussier_pratiquement ── Topic: 587\n",
      "               │         │    └─mlenchon_vote_sondage_utile_prestataire\n",
      "               │         │         ├─■──mlenchon_sondage_prestataire_mlenchoniste_cart ── Topic: 143\n",
      "               │         │         └─■──vote_utile_mlenchon_gauche_intention ── Topic: 259\n",
      "               │         └─lection_voter_lectoral_vote_election\n",
      "               │              ├─voter_vote_appeler_rebsamen_aller\n",
      "               │              │    ├─voter_appeler_rebsamen_emmanuel_macron\n",
      "               │              │    │    ├─■──voter_appeler_emmanuel_institution_bertrand ── Topic: 358\n",
      "               │              │    │    └─■──voter_rebsamen_appeler_emmanuel_macron ── Topic: 125\n",
      "               │              │    └─■──voter_vote_aller_lecteur_utile ── Topic: 74\n",
      "               │              └─lection_lectoral_election_vote_voter\n",
      "               │                   ├─lection_lectoral_election_vote_liste\n",
      "               │                   │    ├─lection_lectoral_election_liste_vote\n",
      "               │                   │    │    ├─■──lection_lectoral_election_liste_nomination ── Topic: 34\n",
      "               │                   │    │    └─■──lectoral_vote_election_lection_2022 ── Topic: 70\n",
      "               │                   │    └─■──lection_lectoral_vote_voter_franais ── Topic: 124\n",
      "               │                   └─■──tour_lection_vote_second_voter ── Topic: 203\n",
      "               └─tour_second_rsultat_dbat_abstention\n",
      "                    ├─tour_second_rsultat_dbat_abstention\n",
      "                    │    ├─tour_second_rsultat_dbat_abstention\n",
      "                    │    │    ├─■──tour_second_dbat_abstention_rsultat ── Topic: 10\n",
      "                    │    │    └─■──second_tour_largement_rsultat_emmanuel ── Topic: 55\n",
      "                    │    └─■──second_marine_tour_pen_rsultat ── Topic: 173\n",
      "                    └─second_tour_pen_coude_flicite\n",
      "                         ├─■──second_flicite_reprsenter_auspice_marine ── Topic: 547\n",
      "                         └─■──second_coude_tour_inflexion_cologi ── Topic: 498\n",
      "\n"
     ]
    }
   ],
   "source": [
    "tree = topic_model.get_topic_tree(hierarchical_topics)\n",
    "print(tree)"
   ]
  },
  {
   "cell_type": "code",
   "execution_count": null,
   "metadata": {},
   "outputs": [],
   "source": [
    "# seed topic list to define\n",
    "\n",
    "seed_topic_list = [[\"ex1\", \"ex2\", \"ex3\", \"ex4\"],\n",
    "                   [\"su1\", \"su2\", \"su3\", \"su4\"],\n",
    "                   [\"to1\", \"to2\", \"to3\", \"to4\"]]\n",
    "\n",
    "topic_model = BERTopic(seed_topic_list=seed_topic_list)\n",
    "topics, probs = topic_model.fit_transform(data['token_lemma'])"
   ]
  }
 ],
 "metadata": {
  "kernelspec": {
   "display_name": "Python 3.9.8 64-bit (windows store)",
   "language": "python",
   "name": "python3"
  },
  "language_info": {
   "codemirror_mode": {
    "name": "ipython",
    "version": 3
   },
   "file_extension": ".py",
   "mimetype": "text/x-python",
   "name": "python",
   "nbconvert_exporter": "python",
   "pygments_lexer": "ipython3",
   "version": "3.9.13"
  },
  "orig_nbformat": 4,
  "vscode": {
   "interpreter": {
    "hash": "ca585fe95be477a0c29b6da1540b202df0c520c5083081cb336e969485254a81"
   }
  }
 },
 "nbformat": 4,
 "nbformat_minor": 2
}
